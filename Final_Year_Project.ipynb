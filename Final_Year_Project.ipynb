{
  "nbformat": 4,
  "nbformat_minor": 0,
  "metadata": {
    "accelerator": "GPU",
    "colab": {
      "name": "Final Year Project.ipynb",
      "provenance": [],
      "collapsed_sections": []
    },
    "kernelspec": {
      "display_name": "Python 3",
      "name": "python3"
    }
  },
  "cells": [
    {
      "cell_type": "code",
      "metadata": {
        "colab": {
          "base_uri": "https://localhost:8080/"
        },
        "id": "ICJkDdE1i3ov",
        "outputId": "2f1d4e12-d337-464d-b3d0-cb7c87ce9acc"
      },
      "source": [
        "from google.colab import drive\n",
        "drive.mount('/content/drive')"
      ],
      "execution_count": 574,
      "outputs": [
        {
          "output_type": "stream",
          "text": [
            "Drive already mounted at /content/drive; to attempt to forcibly remount, call drive.mount(\"/content/drive\", force_remount=True).\n"
          ],
          "name": "stdout"
        }
      ]
    },
    {
      "cell_type": "markdown",
      "metadata": {
        "id": "M9wTxIaoB_0T"
      },
      "source": [
        "#### Loading Datasets"
      ]
    },
    {
      "cell_type": "code",
      "metadata": {
        "id": "HQvVNpcHjKkT"
      },
      "source": [
        "import datetime, warnings, scipy \n",
        "import pandas as pd\n",
        "import numpy as np\n",
        "import seaborn as sns\n",
        "import matplotlib.pyplot as plt"
      ],
      "execution_count": 575,
      "outputs": []
    },
    {
      "cell_type": "code",
      "metadata": {
        "colab": {
          "base_uri": "https://localhost:8080/",
          "height": 422
        },
        "id": "zL5I-UXqjWHa",
        "outputId": "8f279f7b-b72c-41cd-8476-908d77c2b8d6"
      },
      "source": [
        "flightsinfo = pd.read_csv(\"drive/My Drive/flights.csv\",nrows=50000)\n",
        "airport = pd.read_csv('drive/My Drive/airports.csv')\n",
        "airlines = pd.read_csv('drive/My Drive/airlines.csv')\n",
        "flightsinfo"
      ],
      "execution_count": 576,
      "outputs": [
        {
          "output_type": "execute_result",
          "data": {
            "text/html": [
              "<div>\n",
              "<style scoped>\n",
              "    .dataframe tbody tr th:only-of-type {\n",
              "        vertical-align: middle;\n",
              "    }\n",
              "\n",
              "    .dataframe tbody tr th {\n",
              "        vertical-align: top;\n",
              "    }\n",
              "\n",
              "    .dataframe thead th {\n",
              "        text-align: right;\n",
              "    }\n",
              "</style>\n",
              "<table border=\"1\" class=\"dataframe\">\n",
              "  <thead>\n",
              "    <tr style=\"text-align: right;\">\n",
              "      <th></th>\n",
              "      <th>YEAR</th>\n",
              "      <th>MONTH</th>\n",
              "      <th>DAY</th>\n",
              "      <th>DAY_OF_WEEK</th>\n",
              "      <th>AIRLINE</th>\n",
              "      <th>FLIGHT_NUMBER</th>\n",
              "      <th>TAIL_NUMBER</th>\n",
              "      <th>ORIGIN_AIRPORT</th>\n",
              "      <th>DESTINATION_AIRPORT</th>\n",
              "      <th>SCHEDULED_DEPARTURE</th>\n",
              "      <th>DEPARTURE_TIME</th>\n",
              "      <th>DEPARTURE_DELAY</th>\n",
              "      <th>TAXI_OUT</th>\n",
              "      <th>WHEELS_OFF</th>\n",
              "      <th>SCHEDULED_TIME</th>\n",
              "      <th>ELAPSED_TIME</th>\n",
              "      <th>AIR_TIME</th>\n",
              "      <th>DISTANCE</th>\n",
              "      <th>WHEELS_ON</th>\n",
              "      <th>TAXI_IN</th>\n",
              "      <th>SCHEDULED_ARRIVAL</th>\n",
              "      <th>ARRIVAL_TIME</th>\n",
              "      <th>ARRIVAL_DELAY</th>\n",
              "      <th>DIVERTED</th>\n",
              "      <th>CANCELLED</th>\n",
              "      <th>CANCELLATION_REASON</th>\n",
              "      <th>AIR_SYSTEM_DELAY</th>\n",
              "      <th>SECURITY_DELAY</th>\n",
              "      <th>AIRLINE_DELAY</th>\n",
              "      <th>LATE_AIRCRAFT_DELAY</th>\n",
              "      <th>WEATHER_DELAY</th>\n",
              "    </tr>\n",
              "  </thead>\n",
              "  <tbody>\n",
              "    <tr>\n",
              "      <th>0</th>\n",
              "      <td>2015</td>\n",
              "      <td>1</td>\n",
              "      <td>1</td>\n",
              "      <td>4</td>\n",
              "      <td>AS</td>\n",
              "      <td>98</td>\n",
              "      <td>N407AS</td>\n",
              "      <td>ANC</td>\n",
              "      <td>SEA</td>\n",
              "      <td>5</td>\n",
              "      <td>2354.0</td>\n",
              "      <td>-11.0</td>\n",
              "      <td>21.0</td>\n",
              "      <td>15.0</td>\n",
              "      <td>205</td>\n",
              "      <td>194.0</td>\n",
              "      <td>169.0</td>\n",
              "      <td>1448</td>\n",
              "      <td>404.0</td>\n",
              "      <td>4.0</td>\n",
              "      <td>430</td>\n",
              "      <td>408.0</td>\n",
              "      <td>-22.0</td>\n",
              "      <td>0</td>\n",
              "      <td>0</td>\n",
              "      <td>NaN</td>\n",
              "      <td>NaN</td>\n",
              "      <td>NaN</td>\n",
              "      <td>NaN</td>\n",
              "      <td>NaN</td>\n",
              "      <td>NaN</td>\n",
              "    </tr>\n",
              "    <tr>\n",
              "      <th>1</th>\n",
              "      <td>2015</td>\n",
              "      <td>1</td>\n",
              "      <td>1</td>\n",
              "      <td>4</td>\n",
              "      <td>AA</td>\n",
              "      <td>2336</td>\n",
              "      <td>N3KUAA</td>\n",
              "      <td>LAX</td>\n",
              "      <td>PBI</td>\n",
              "      <td>10</td>\n",
              "      <td>2.0</td>\n",
              "      <td>-8.0</td>\n",
              "      <td>12.0</td>\n",
              "      <td>14.0</td>\n",
              "      <td>280</td>\n",
              "      <td>279.0</td>\n",
              "      <td>263.0</td>\n",
              "      <td>2330</td>\n",
              "      <td>737.0</td>\n",
              "      <td>4.0</td>\n",
              "      <td>750</td>\n",
              "      <td>741.0</td>\n",
              "      <td>-9.0</td>\n",
              "      <td>0</td>\n",
              "      <td>0</td>\n",
              "      <td>NaN</td>\n",
              "      <td>NaN</td>\n",
              "      <td>NaN</td>\n",
              "      <td>NaN</td>\n",
              "      <td>NaN</td>\n",
              "      <td>NaN</td>\n",
              "    </tr>\n",
              "    <tr>\n",
              "      <th>2</th>\n",
              "      <td>2015</td>\n",
              "      <td>1</td>\n",
              "      <td>1</td>\n",
              "      <td>4</td>\n",
              "      <td>US</td>\n",
              "      <td>840</td>\n",
              "      <td>N171US</td>\n",
              "      <td>SFO</td>\n",
              "      <td>CLT</td>\n",
              "      <td>20</td>\n",
              "      <td>18.0</td>\n",
              "      <td>-2.0</td>\n",
              "      <td>16.0</td>\n",
              "      <td>34.0</td>\n",
              "      <td>286</td>\n",
              "      <td>293.0</td>\n",
              "      <td>266.0</td>\n",
              "      <td>2296</td>\n",
              "      <td>800.0</td>\n",
              "      <td>11.0</td>\n",
              "      <td>806</td>\n",
              "      <td>811.0</td>\n",
              "      <td>5.0</td>\n",
              "      <td>0</td>\n",
              "      <td>0</td>\n",
              "      <td>NaN</td>\n",
              "      <td>NaN</td>\n",
              "      <td>NaN</td>\n",
              "      <td>NaN</td>\n",
              "      <td>NaN</td>\n",
              "      <td>NaN</td>\n",
              "    </tr>\n",
              "    <tr>\n",
              "      <th>3</th>\n",
              "      <td>2015</td>\n",
              "      <td>1</td>\n",
              "      <td>1</td>\n",
              "      <td>4</td>\n",
              "      <td>AA</td>\n",
              "      <td>258</td>\n",
              "      <td>N3HYAA</td>\n",
              "      <td>LAX</td>\n",
              "      <td>MIA</td>\n",
              "      <td>20</td>\n",
              "      <td>15.0</td>\n",
              "      <td>-5.0</td>\n",
              "      <td>15.0</td>\n",
              "      <td>30.0</td>\n",
              "      <td>285</td>\n",
              "      <td>281.0</td>\n",
              "      <td>258.0</td>\n",
              "      <td>2342</td>\n",
              "      <td>748.0</td>\n",
              "      <td>8.0</td>\n",
              "      <td>805</td>\n",
              "      <td>756.0</td>\n",
              "      <td>-9.0</td>\n",
              "      <td>0</td>\n",
              "      <td>0</td>\n",
              "      <td>NaN</td>\n",
              "      <td>NaN</td>\n",
              "      <td>NaN</td>\n",
              "      <td>NaN</td>\n",
              "      <td>NaN</td>\n",
              "      <td>NaN</td>\n",
              "    </tr>\n",
              "    <tr>\n",
              "      <th>4</th>\n",
              "      <td>2015</td>\n",
              "      <td>1</td>\n",
              "      <td>1</td>\n",
              "      <td>4</td>\n",
              "      <td>AS</td>\n",
              "      <td>135</td>\n",
              "      <td>N527AS</td>\n",
              "      <td>SEA</td>\n",
              "      <td>ANC</td>\n",
              "      <td>25</td>\n",
              "      <td>24.0</td>\n",
              "      <td>-1.0</td>\n",
              "      <td>11.0</td>\n",
              "      <td>35.0</td>\n",
              "      <td>235</td>\n",
              "      <td>215.0</td>\n",
              "      <td>199.0</td>\n",
              "      <td>1448</td>\n",
              "      <td>254.0</td>\n",
              "      <td>5.0</td>\n",
              "      <td>320</td>\n",
              "      <td>259.0</td>\n",
              "      <td>-21.0</td>\n",
              "      <td>0</td>\n",
              "      <td>0</td>\n",
              "      <td>NaN</td>\n",
              "      <td>NaN</td>\n",
              "      <td>NaN</td>\n",
              "      <td>NaN</td>\n",
              "      <td>NaN</td>\n",
              "      <td>NaN</td>\n",
              "    </tr>\n",
              "    <tr>\n",
              "      <th>...</th>\n",
              "      <td>...</td>\n",
              "      <td>...</td>\n",
              "      <td>...</td>\n",
              "      <td>...</td>\n",
              "      <td>...</td>\n",
              "      <td>...</td>\n",
              "      <td>...</td>\n",
              "      <td>...</td>\n",
              "      <td>...</td>\n",
              "      <td>...</td>\n",
              "      <td>...</td>\n",
              "      <td>...</td>\n",
              "      <td>...</td>\n",
              "      <td>...</td>\n",
              "      <td>...</td>\n",
              "      <td>...</td>\n",
              "      <td>...</td>\n",
              "      <td>...</td>\n",
              "      <td>...</td>\n",
              "      <td>...</td>\n",
              "      <td>...</td>\n",
              "      <td>...</td>\n",
              "      <td>...</td>\n",
              "      <td>...</td>\n",
              "      <td>...</td>\n",
              "      <td>...</td>\n",
              "      <td>...</td>\n",
              "      <td>...</td>\n",
              "      <td>...</td>\n",
              "      <td>...</td>\n",
              "      <td>...</td>\n",
              "    </tr>\n",
              "    <tr>\n",
              "      <th>49995</th>\n",
              "      <td>2015</td>\n",
              "      <td>1</td>\n",
              "      <td>4</td>\n",
              "      <td>7</td>\n",
              "      <td>AA</td>\n",
              "      <td>1524</td>\n",
              "      <td>N499AA</td>\n",
              "      <td>DFW</td>\n",
              "      <td>LAS</td>\n",
              "      <td>915</td>\n",
              "      <td>910.0</td>\n",
              "      <td>-5.0</td>\n",
              "      <td>24.0</td>\n",
              "      <td>934.0</td>\n",
              "      <td>175</td>\n",
              "      <td>180.0</td>\n",
              "      <td>150.0</td>\n",
              "      <td>1055</td>\n",
              "      <td>1004.0</td>\n",
              "      <td>6.0</td>\n",
              "      <td>1010</td>\n",
              "      <td>1010.0</td>\n",
              "      <td>0.0</td>\n",
              "      <td>0</td>\n",
              "      <td>0</td>\n",
              "      <td>NaN</td>\n",
              "      <td>NaN</td>\n",
              "      <td>NaN</td>\n",
              "      <td>NaN</td>\n",
              "      <td>NaN</td>\n",
              "      <td>NaN</td>\n",
              "    </tr>\n",
              "    <tr>\n",
              "      <th>49996</th>\n",
              "      <td>2015</td>\n",
              "      <td>1</td>\n",
              "      <td>4</td>\n",
              "      <td>7</td>\n",
              "      <td>AA</td>\n",
              "      <td>2316</td>\n",
              "      <td>N3FNAA</td>\n",
              "      <td>STX</td>\n",
              "      <td>MIA</td>\n",
              "      <td>915</td>\n",
              "      <td>915.0</td>\n",
              "      <td>0.0</td>\n",
              "      <td>20.0</td>\n",
              "      <td>935.0</td>\n",
              "      <td>187</td>\n",
              "      <td>191.0</td>\n",
              "      <td>155.0</td>\n",
              "      <td>1139</td>\n",
              "      <td>1110.0</td>\n",
              "      <td>16.0</td>\n",
              "      <td>1122</td>\n",
              "      <td>1126.0</td>\n",
              "      <td>4.0</td>\n",
              "      <td>0</td>\n",
              "      <td>0</td>\n",
              "      <td>NaN</td>\n",
              "      <td>NaN</td>\n",
              "      <td>NaN</td>\n",
              "      <td>NaN</td>\n",
              "      <td>NaN</td>\n",
              "      <td>NaN</td>\n",
              "    </tr>\n",
              "    <tr>\n",
              "      <th>49997</th>\n",
              "      <td>2015</td>\n",
              "      <td>1</td>\n",
              "      <td>4</td>\n",
              "      <td>7</td>\n",
              "      <td>AS</td>\n",
              "      <td>5</td>\n",
              "      <td>N566AS</td>\n",
              "      <td>DCA</td>\n",
              "      <td>LAX</td>\n",
              "      <td>915</td>\n",
              "      <td>952.0</td>\n",
              "      <td>37.0</td>\n",
              "      <td>13.0</td>\n",
              "      <td>1005.0</td>\n",
              "      <td>355</td>\n",
              "      <td>355.0</td>\n",
              "      <td>329.0</td>\n",
              "      <td>2311</td>\n",
              "      <td>1234.0</td>\n",
              "      <td>13.0</td>\n",
              "      <td>1210</td>\n",
              "      <td>1247.0</td>\n",
              "      <td>37.0</td>\n",
              "      <td>0</td>\n",
              "      <td>0</td>\n",
              "      <td>NaN</td>\n",
              "      <td>37.0</td>\n",
              "      <td>0.0</td>\n",
              "      <td>0.0</td>\n",
              "      <td>0.0</td>\n",
              "      <td>0.0</td>\n",
              "    </tr>\n",
              "    <tr>\n",
              "      <th>49998</th>\n",
              "      <td>2015</td>\n",
              "      <td>1</td>\n",
              "      <td>4</td>\n",
              "      <td>7</td>\n",
              "      <td>DL</td>\n",
              "      <td>688</td>\n",
              "      <td>N893AT</td>\n",
              "      <td>ATL</td>\n",
              "      <td>ICT</td>\n",
              "      <td>915</td>\n",
              "      <td>922.0</td>\n",
              "      <td>7.0</td>\n",
              "      <td>13.0</td>\n",
              "      <td>935.0</td>\n",
              "      <td>145</td>\n",
              "      <td>135.0</td>\n",
              "      <td>115.0</td>\n",
              "      <td>782</td>\n",
              "      <td>1030.0</td>\n",
              "      <td>7.0</td>\n",
              "      <td>1040</td>\n",
              "      <td>1037.0</td>\n",
              "      <td>-3.0</td>\n",
              "      <td>0</td>\n",
              "      <td>0</td>\n",
              "      <td>NaN</td>\n",
              "      <td>NaN</td>\n",
              "      <td>NaN</td>\n",
              "      <td>NaN</td>\n",
              "      <td>NaN</td>\n",
              "      <td>NaN</td>\n",
              "    </tr>\n",
              "    <tr>\n",
              "      <th>49999</th>\n",
              "      <td>2015</td>\n",
              "      <td>1</td>\n",
              "      <td>4</td>\n",
              "      <td>7</td>\n",
              "      <td>DL</td>\n",
              "      <td>972</td>\n",
              "      <td>N130DL</td>\n",
              "      <td>MSP</td>\n",
              "      <td>LAX</td>\n",
              "      <td>915</td>\n",
              "      <td>1000.0</td>\n",
              "      <td>45.0</td>\n",
              "      <td>13.0</td>\n",
              "      <td>1013.0</td>\n",
              "      <td>250</td>\n",
              "      <td>215.0</td>\n",
              "      <td>196.0</td>\n",
              "      <td>1535</td>\n",
              "      <td>1129.0</td>\n",
              "      <td>6.0</td>\n",
              "      <td>1125</td>\n",
              "      <td>1135.0</td>\n",
              "      <td>10.0</td>\n",
              "      <td>0</td>\n",
              "      <td>0</td>\n",
              "      <td>NaN</td>\n",
              "      <td>NaN</td>\n",
              "      <td>NaN</td>\n",
              "      <td>NaN</td>\n",
              "      <td>NaN</td>\n",
              "      <td>NaN</td>\n",
              "    </tr>\n",
              "  </tbody>\n",
              "</table>\n",
              "<p>50000 rows × 31 columns</p>\n",
              "</div>"
            ],
            "text/plain": [
              "       YEAR  MONTH  DAY  ...  AIRLINE_DELAY LATE_AIRCRAFT_DELAY  WEATHER_DELAY\n",
              "0      2015      1    1  ...            NaN                 NaN            NaN\n",
              "1      2015      1    1  ...            NaN                 NaN            NaN\n",
              "2      2015      1    1  ...            NaN                 NaN            NaN\n",
              "3      2015      1    1  ...            NaN                 NaN            NaN\n",
              "4      2015      1    1  ...            NaN                 NaN            NaN\n",
              "...     ...    ...  ...  ...            ...                 ...            ...\n",
              "49995  2015      1    4  ...            NaN                 NaN            NaN\n",
              "49996  2015      1    4  ...            NaN                 NaN            NaN\n",
              "49997  2015      1    4  ...            0.0                 0.0            0.0\n",
              "49998  2015      1    4  ...            NaN                 NaN            NaN\n",
              "49999  2015      1    4  ...            NaN                 NaN            NaN\n",
              "\n",
              "[50000 rows x 31 columns]"
            ]
          },
          "metadata": {
            "tags": []
          },
          "execution_count": 576
        }
      ]
    },
    {
      "cell_type": "markdown",
      "metadata": {
        "id": "pRtD8a-uCSTj"
      },
      "source": [
        "#### Exploring and Analyzing Dataset\n",
        "We are displaying data type of every feature in flights dataset. This will help in understadning of data and further analysis."
      ]
    },
    {
      "cell_type": "code",
      "metadata": {
        "colab": {
          "base_uri": "https://localhost:8080/"
        },
        "id": "kuxa_p1hCZDt",
        "outputId": "51c61e02-b6ff-4fbb-9b19-78b0ec0e8b67"
      },
      "source": [
        "flightsinfo.dtypes"
      ],
      "execution_count": 577,
      "outputs": [
        {
          "output_type": "execute_result",
          "data": {
            "text/plain": [
              "YEAR                     int64\n",
              "MONTH                    int64\n",
              "DAY                      int64\n",
              "DAY_OF_WEEK              int64\n",
              "AIRLINE                 object\n",
              "FLIGHT_NUMBER            int64\n",
              "TAIL_NUMBER             object\n",
              "ORIGIN_AIRPORT          object\n",
              "DESTINATION_AIRPORT     object\n",
              "SCHEDULED_DEPARTURE      int64\n",
              "DEPARTURE_TIME         float64\n",
              "DEPARTURE_DELAY        float64\n",
              "TAXI_OUT               float64\n",
              "WHEELS_OFF             float64\n",
              "SCHEDULED_TIME           int64\n",
              "ELAPSED_TIME           float64\n",
              "AIR_TIME               float64\n",
              "DISTANCE                 int64\n",
              "WHEELS_ON              float64\n",
              "TAXI_IN                float64\n",
              "SCHEDULED_ARRIVAL        int64\n",
              "ARRIVAL_TIME           float64\n",
              "ARRIVAL_DELAY          float64\n",
              "DIVERTED                 int64\n",
              "CANCELLED                int64\n",
              "CANCELLATION_REASON     object\n",
              "AIR_SYSTEM_DELAY       float64\n",
              "SECURITY_DELAY         float64\n",
              "AIRLINE_DELAY          float64\n",
              "LATE_AIRCRAFT_DELAY    float64\n",
              "WEATHER_DELAY          float64\n",
              "dtype: object"
            ]
          },
          "metadata": {
            "tags": []
          },
          "execution_count": 577
        }
      ]
    },
    {
      "cell_type": "code",
      "metadata": {
        "colab": {
          "base_uri": "https://localhost:8080/"
        },
        "id": "uWGQ9A7gjZNR",
        "outputId": "6559b160-1cda-4791-df25-c00271e2769e"
      },
      "source": [
        "list(flightsinfo.columns) "
      ],
      "execution_count": 578,
      "outputs": [
        {
          "output_type": "execute_result",
          "data": {
            "text/plain": [
              "['YEAR',\n",
              " 'MONTH',\n",
              " 'DAY',\n",
              " 'DAY_OF_WEEK',\n",
              " 'AIRLINE',\n",
              " 'FLIGHT_NUMBER',\n",
              " 'TAIL_NUMBER',\n",
              " 'ORIGIN_AIRPORT',\n",
              " 'DESTINATION_AIRPORT',\n",
              " 'SCHEDULED_DEPARTURE',\n",
              " 'DEPARTURE_TIME',\n",
              " 'DEPARTURE_DELAY',\n",
              " 'TAXI_OUT',\n",
              " 'WHEELS_OFF',\n",
              " 'SCHEDULED_TIME',\n",
              " 'ELAPSED_TIME',\n",
              " 'AIR_TIME',\n",
              " 'DISTANCE',\n",
              " 'WHEELS_ON',\n",
              " 'TAXI_IN',\n",
              " 'SCHEDULED_ARRIVAL',\n",
              " 'ARRIVAL_TIME',\n",
              " 'ARRIVAL_DELAY',\n",
              " 'DIVERTED',\n",
              " 'CANCELLED',\n",
              " 'CANCELLATION_REASON',\n",
              " 'AIR_SYSTEM_DELAY',\n",
              " 'SECURITY_DELAY',\n",
              " 'AIRLINE_DELAY',\n",
              " 'LATE_AIRCRAFT_DELAY',\n",
              " 'WEATHER_DELAY']"
            ]
          },
          "metadata": {
            "tags": []
          },
          "execution_count": 578
        }
      ]
    },
    {
      "cell_type": "code",
      "metadata": {
        "colab": {
          "base_uri": "https://localhost:8080/",
          "height": 215
        },
        "id": "sHZvsYHKjbmT",
        "outputId": "8fb1aff6-692d-4bc0-d628-dbd3471965cc"
      },
      "source": [
        "flightsinfo.head()"
      ],
      "execution_count": 579,
      "outputs": [
        {
          "output_type": "execute_result",
          "data": {
            "text/html": [
              "<div>\n",
              "<style scoped>\n",
              "    .dataframe tbody tr th:only-of-type {\n",
              "        vertical-align: middle;\n",
              "    }\n",
              "\n",
              "    .dataframe tbody tr th {\n",
              "        vertical-align: top;\n",
              "    }\n",
              "\n",
              "    .dataframe thead th {\n",
              "        text-align: right;\n",
              "    }\n",
              "</style>\n",
              "<table border=\"1\" class=\"dataframe\">\n",
              "  <thead>\n",
              "    <tr style=\"text-align: right;\">\n",
              "      <th></th>\n",
              "      <th>YEAR</th>\n",
              "      <th>MONTH</th>\n",
              "      <th>DAY</th>\n",
              "      <th>DAY_OF_WEEK</th>\n",
              "      <th>AIRLINE</th>\n",
              "      <th>FLIGHT_NUMBER</th>\n",
              "      <th>TAIL_NUMBER</th>\n",
              "      <th>ORIGIN_AIRPORT</th>\n",
              "      <th>DESTINATION_AIRPORT</th>\n",
              "      <th>SCHEDULED_DEPARTURE</th>\n",
              "      <th>DEPARTURE_TIME</th>\n",
              "      <th>DEPARTURE_DELAY</th>\n",
              "      <th>TAXI_OUT</th>\n",
              "      <th>WHEELS_OFF</th>\n",
              "      <th>SCHEDULED_TIME</th>\n",
              "      <th>ELAPSED_TIME</th>\n",
              "      <th>AIR_TIME</th>\n",
              "      <th>DISTANCE</th>\n",
              "      <th>WHEELS_ON</th>\n",
              "      <th>TAXI_IN</th>\n",
              "      <th>SCHEDULED_ARRIVAL</th>\n",
              "      <th>ARRIVAL_TIME</th>\n",
              "      <th>ARRIVAL_DELAY</th>\n",
              "      <th>DIVERTED</th>\n",
              "      <th>CANCELLED</th>\n",
              "      <th>CANCELLATION_REASON</th>\n",
              "      <th>AIR_SYSTEM_DELAY</th>\n",
              "      <th>SECURITY_DELAY</th>\n",
              "      <th>AIRLINE_DELAY</th>\n",
              "      <th>LATE_AIRCRAFT_DELAY</th>\n",
              "      <th>WEATHER_DELAY</th>\n",
              "    </tr>\n",
              "  </thead>\n",
              "  <tbody>\n",
              "    <tr>\n",
              "      <th>0</th>\n",
              "      <td>2015</td>\n",
              "      <td>1</td>\n",
              "      <td>1</td>\n",
              "      <td>4</td>\n",
              "      <td>AS</td>\n",
              "      <td>98</td>\n",
              "      <td>N407AS</td>\n",
              "      <td>ANC</td>\n",
              "      <td>SEA</td>\n",
              "      <td>5</td>\n",
              "      <td>2354.0</td>\n",
              "      <td>-11.0</td>\n",
              "      <td>21.0</td>\n",
              "      <td>15.0</td>\n",
              "      <td>205</td>\n",
              "      <td>194.0</td>\n",
              "      <td>169.0</td>\n",
              "      <td>1448</td>\n",
              "      <td>404.0</td>\n",
              "      <td>4.0</td>\n",
              "      <td>430</td>\n",
              "      <td>408.0</td>\n",
              "      <td>-22.0</td>\n",
              "      <td>0</td>\n",
              "      <td>0</td>\n",
              "      <td>NaN</td>\n",
              "      <td>NaN</td>\n",
              "      <td>NaN</td>\n",
              "      <td>NaN</td>\n",
              "      <td>NaN</td>\n",
              "      <td>NaN</td>\n",
              "    </tr>\n",
              "    <tr>\n",
              "      <th>1</th>\n",
              "      <td>2015</td>\n",
              "      <td>1</td>\n",
              "      <td>1</td>\n",
              "      <td>4</td>\n",
              "      <td>AA</td>\n",
              "      <td>2336</td>\n",
              "      <td>N3KUAA</td>\n",
              "      <td>LAX</td>\n",
              "      <td>PBI</td>\n",
              "      <td>10</td>\n",
              "      <td>2.0</td>\n",
              "      <td>-8.0</td>\n",
              "      <td>12.0</td>\n",
              "      <td>14.0</td>\n",
              "      <td>280</td>\n",
              "      <td>279.0</td>\n",
              "      <td>263.0</td>\n",
              "      <td>2330</td>\n",
              "      <td>737.0</td>\n",
              "      <td>4.0</td>\n",
              "      <td>750</td>\n",
              "      <td>741.0</td>\n",
              "      <td>-9.0</td>\n",
              "      <td>0</td>\n",
              "      <td>0</td>\n",
              "      <td>NaN</td>\n",
              "      <td>NaN</td>\n",
              "      <td>NaN</td>\n",
              "      <td>NaN</td>\n",
              "      <td>NaN</td>\n",
              "      <td>NaN</td>\n",
              "    </tr>\n",
              "    <tr>\n",
              "      <th>2</th>\n",
              "      <td>2015</td>\n",
              "      <td>1</td>\n",
              "      <td>1</td>\n",
              "      <td>4</td>\n",
              "      <td>US</td>\n",
              "      <td>840</td>\n",
              "      <td>N171US</td>\n",
              "      <td>SFO</td>\n",
              "      <td>CLT</td>\n",
              "      <td>20</td>\n",
              "      <td>18.0</td>\n",
              "      <td>-2.0</td>\n",
              "      <td>16.0</td>\n",
              "      <td>34.0</td>\n",
              "      <td>286</td>\n",
              "      <td>293.0</td>\n",
              "      <td>266.0</td>\n",
              "      <td>2296</td>\n",
              "      <td>800.0</td>\n",
              "      <td>11.0</td>\n",
              "      <td>806</td>\n",
              "      <td>811.0</td>\n",
              "      <td>5.0</td>\n",
              "      <td>0</td>\n",
              "      <td>0</td>\n",
              "      <td>NaN</td>\n",
              "      <td>NaN</td>\n",
              "      <td>NaN</td>\n",
              "      <td>NaN</td>\n",
              "      <td>NaN</td>\n",
              "      <td>NaN</td>\n",
              "    </tr>\n",
              "    <tr>\n",
              "      <th>3</th>\n",
              "      <td>2015</td>\n",
              "      <td>1</td>\n",
              "      <td>1</td>\n",
              "      <td>4</td>\n",
              "      <td>AA</td>\n",
              "      <td>258</td>\n",
              "      <td>N3HYAA</td>\n",
              "      <td>LAX</td>\n",
              "      <td>MIA</td>\n",
              "      <td>20</td>\n",
              "      <td>15.0</td>\n",
              "      <td>-5.0</td>\n",
              "      <td>15.0</td>\n",
              "      <td>30.0</td>\n",
              "      <td>285</td>\n",
              "      <td>281.0</td>\n",
              "      <td>258.0</td>\n",
              "      <td>2342</td>\n",
              "      <td>748.0</td>\n",
              "      <td>8.0</td>\n",
              "      <td>805</td>\n",
              "      <td>756.0</td>\n",
              "      <td>-9.0</td>\n",
              "      <td>0</td>\n",
              "      <td>0</td>\n",
              "      <td>NaN</td>\n",
              "      <td>NaN</td>\n",
              "      <td>NaN</td>\n",
              "      <td>NaN</td>\n",
              "      <td>NaN</td>\n",
              "      <td>NaN</td>\n",
              "    </tr>\n",
              "    <tr>\n",
              "      <th>4</th>\n",
              "      <td>2015</td>\n",
              "      <td>1</td>\n",
              "      <td>1</td>\n",
              "      <td>4</td>\n",
              "      <td>AS</td>\n",
              "      <td>135</td>\n",
              "      <td>N527AS</td>\n",
              "      <td>SEA</td>\n",
              "      <td>ANC</td>\n",
              "      <td>25</td>\n",
              "      <td>24.0</td>\n",
              "      <td>-1.0</td>\n",
              "      <td>11.0</td>\n",
              "      <td>35.0</td>\n",
              "      <td>235</td>\n",
              "      <td>215.0</td>\n",
              "      <td>199.0</td>\n",
              "      <td>1448</td>\n",
              "      <td>254.0</td>\n",
              "      <td>5.0</td>\n",
              "      <td>320</td>\n",
              "      <td>259.0</td>\n",
              "      <td>-21.0</td>\n",
              "      <td>0</td>\n",
              "      <td>0</td>\n",
              "      <td>NaN</td>\n",
              "      <td>NaN</td>\n",
              "      <td>NaN</td>\n",
              "      <td>NaN</td>\n",
              "      <td>NaN</td>\n",
              "      <td>NaN</td>\n",
              "    </tr>\n",
              "  </tbody>\n",
              "</table>\n",
              "</div>"
            ],
            "text/plain": [
              "   YEAR  MONTH  DAY  ...  AIRLINE_DELAY LATE_AIRCRAFT_DELAY  WEATHER_DELAY\n",
              "0  2015      1    1  ...            NaN                 NaN            NaN\n",
              "1  2015      1    1  ...            NaN                 NaN            NaN\n",
              "2  2015      1    1  ...            NaN                 NaN            NaN\n",
              "3  2015      1    1  ...            NaN                 NaN            NaN\n",
              "4  2015      1    1  ...            NaN                 NaN            NaN\n",
              "\n",
              "[5 rows x 31 columns]"
            ]
          },
          "metadata": {
            "tags": []
          },
          "execution_count": 579
        }
      ]
    },
    {
      "cell_type": "code",
      "metadata": {
        "colab": {
          "base_uri": "https://localhost:8080/",
          "height": 304
        },
        "id": "RbT2Mwuzjh5E",
        "outputId": "db594733-cfad-4141-daea-aca526c34f85"
      },
      "source": [
        "flightsinfo.describe()"
      ],
      "execution_count": 580,
      "outputs": [
        {
          "output_type": "execute_result",
          "data": {
            "text/html": [
              "<div>\n",
              "<style scoped>\n",
              "    .dataframe tbody tr th:only-of-type {\n",
              "        vertical-align: middle;\n",
              "    }\n",
              "\n",
              "    .dataframe tbody tr th {\n",
              "        vertical-align: top;\n",
              "    }\n",
              "\n",
              "    .dataframe thead th {\n",
              "        text-align: right;\n",
              "    }\n",
              "</style>\n",
              "<table border=\"1\" class=\"dataframe\">\n",
              "  <thead>\n",
              "    <tr style=\"text-align: right;\">\n",
              "      <th></th>\n",
              "      <th>YEAR</th>\n",
              "      <th>MONTH</th>\n",
              "      <th>DAY</th>\n",
              "      <th>DAY_OF_WEEK</th>\n",
              "      <th>FLIGHT_NUMBER</th>\n",
              "      <th>SCHEDULED_DEPARTURE</th>\n",
              "      <th>DEPARTURE_TIME</th>\n",
              "      <th>DEPARTURE_DELAY</th>\n",
              "      <th>TAXI_OUT</th>\n",
              "      <th>WHEELS_OFF</th>\n",
              "      <th>SCHEDULED_TIME</th>\n",
              "      <th>ELAPSED_TIME</th>\n",
              "      <th>AIR_TIME</th>\n",
              "      <th>DISTANCE</th>\n",
              "      <th>WHEELS_ON</th>\n",
              "      <th>TAXI_IN</th>\n",
              "      <th>SCHEDULED_ARRIVAL</th>\n",
              "      <th>ARRIVAL_TIME</th>\n",
              "      <th>ARRIVAL_DELAY</th>\n",
              "      <th>DIVERTED</th>\n",
              "      <th>CANCELLED</th>\n",
              "      <th>AIR_SYSTEM_DELAY</th>\n",
              "      <th>SECURITY_DELAY</th>\n",
              "      <th>AIRLINE_DELAY</th>\n",
              "      <th>LATE_AIRCRAFT_DELAY</th>\n",
              "      <th>WEATHER_DELAY</th>\n",
              "    </tr>\n",
              "  </thead>\n",
              "  <tbody>\n",
              "    <tr>\n",
              "      <th>count</th>\n",
              "      <td>50000.0</td>\n",
              "      <td>50000.0</td>\n",
              "      <td>50000.000000</td>\n",
              "      <td>50000.000000</td>\n",
              "      <td>50000.000000</td>\n",
              "      <td>50000.000000</td>\n",
              "      <td>48896.000000</td>\n",
              "      <td>48896.000000</td>\n",
              "      <td>48873.000000</td>\n",
              "      <td>48873.000000</td>\n",
              "      <td>50000.000000</td>\n",
              "      <td>48753.000000</td>\n",
              "      <td>48753.000000</td>\n",
              "      <td>50000.00000</td>\n",
              "      <td>48839.000000</td>\n",
              "      <td>48839.000000</td>\n",
              "      <td>50000.000000</td>\n",
              "      <td>48839.000000</td>\n",
              "      <td>48753.000000</td>\n",
              "      <td>50000.00000</td>\n",
              "      <td>50000.000000</td>\n",
              "      <td>15408.000000</td>\n",
              "      <td>15408.000000</td>\n",
              "      <td>15408.000000</td>\n",
              "      <td>15408.000000</td>\n",
              "      <td>15408.000000</td>\n",
              "    </tr>\n",
              "    <tr>\n",
              "      <th>mean</th>\n",
              "      <td>2015.0</td>\n",
              "      <td>1.0</td>\n",
              "      <td>2.184680</td>\n",
              "      <td>5.184680</td>\n",
              "      <td>2235.149800</td>\n",
              "      <td>1295.894840</td>\n",
              "      <td>1310.849456</td>\n",
              "      <td>15.596020</td>\n",
              "      <td>16.594827</td>\n",
              "      <td>1333.144824</td>\n",
              "      <td>145.339160</td>\n",
              "      <td>144.290505</td>\n",
              "      <td>119.769737</td>\n",
              "      <td>851.14946</td>\n",
              "      <td>1444.159422</td>\n",
              "      <td>7.933844</td>\n",
              "      <td>1469.676400</td>\n",
              "      <td>1447.643543</td>\n",
              "      <td>13.596579</td>\n",
              "      <td>0.00218</td>\n",
              "      <td>0.022760</td>\n",
              "      <td>12.036020</td>\n",
              "      <td>0.100078</td>\n",
              "      <td>18.305945</td>\n",
              "      <td>22.047832</td>\n",
              "      <td>1.937046</td>\n",
              "    </tr>\n",
              "    <tr>\n",
              "      <th>std</th>\n",
              "      <td>0.0</td>\n",
              "      <td>0.0</td>\n",
              "      <td>0.929296</td>\n",
              "      <td>0.929296</td>\n",
              "      <td>1818.758779</td>\n",
              "      <td>491.267911</td>\n",
              "      <td>508.775569</td>\n",
              "      <td>40.758942</td>\n",
              "      <td>9.553458</td>\n",
              "      <td>509.260635</td>\n",
              "      <td>77.073412</td>\n",
              "      <td>77.140845</td>\n",
              "      <td>75.103894</td>\n",
              "      <td>616.67447</td>\n",
              "      <td>533.735425</td>\n",
              "      <td>6.339113</td>\n",
              "      <td>505.892758</td>\n",
              "      <td>538.514420</td>\n",
              "      <td>43.375000</td>\n",
              "      <td>0.04664</td>\n",
              "      <td>0.149139</td>\n",
              "      <td>21.476128</td>\n",
              "      <td>2.033530</td>\n",
              "      <td>43.343044</td>\n",
              "      <td>39.313475</td>\n",
              "      <td>12.939070</td>\n",
              "    </tr>\n",
              "    <tr>\n",
              "      <th>min</th>\n",
              "      <td>2015.0</td>\n",
              "      <td>1.0</td>\n",
              "      <td>1.000000</td>\n",
              "      <td>4.000000</td>\n",
              "      <td>1.000000</td>\n",
              "      <td>5.000000</td>\n",
              "      <td>1.000000</td>\n",
              "      <td>-39.000000</td>\n",
              "      <td>1.000000</td>\n",
              "      <td>1.000000</td>\n",
              "      <td>23.000000</td>\n",
              "      <td>18.000000</td>\n",
              "      <td>11.000000</td>\n",
              "      <td>31.00000</td>\n",
              "      <td>1.000000</td>\n",
              "      <td>1.000000</td>\n",
              "      <td>1.000000</td>\n",
              "      <td>1.000000</td>\n",
              "      <td>-54.000000</td>\n",
              "      <td>0.00000</td>\n",
              "      <td>0.000000</td>\n",
              "      <td>0.000000</td>\n",
              "      <td>0.000000</td>\n",
              "      <td>0.000000</td>\n",
              "      <td>0.000000</td>\n",
              "      <td>0.000000</td>\n",
              "    </tr>\n",
              "    <tr>\n",
              "      <th>25%</th>\n",
              "      <td>2015.0</td>\n",
              "      <td>1.0</td>\n",
              "      <td>1.000000</td>\n",
              "      <td>4.000000</td>\n",
              "      <td>770.000000</td>\n",
              "      <td>845.000000</td>\n",
              "      <td>852.000000</td>\n",
              "      <td>-3.000000</td>\n",
              "      <td>11.000000</td>\n",
              "      <td>908.000000</td>\n",
              "      <td>88.000000</td>\n",
              "      <td>86.000000</td>\n",
              "      <td>63.000000</td>\n",
              "      <td>396.00000</td>\n",
              "      <td>1032.000000</td>\n",
              "      <td>4.000000</td>\n",
              "      <td>1045.000000</td>\n",
              "      <td>1037.000000</td>\n",
              "      <td>-9.000000</td>\n",
              "      <td>0.00000</td>\n",
              "      <td>0.000000</td>\n",
              "      <td>0.000000</td>\n",
              "      <td>0.000000</td>\n",
              "      <td>0.000000</td>\n",
              "      <td>0.000000</td>\n",
              "      <td>0.000000</td>\n",
              "    </tr>\n",
              "    <tr>\n",
              "      <th>50%</th>\n",
              "      <td>2015.0</td>\n",
              "      <td>1.0</td>\n",
              "      <td>2.000000</td>\n",
              "      <td>5.000000</td>\n",
              "      <td>1677.500000</td>\n",
              "      <td>1256.000000</td>\n",
              "      <td>1308.000000</td>\n",
              "      <td>1.000000</td>\n",
              "      <td>14.000000</td>\n",
              "      <td>1320.000000</td>\n",
              "      <td>127.000000</td>\n",
              "      <td>127.000000</td>\n",
              "      <td>101.000000</td>\n",
              "      <td>689.00000</td>\n",
              "      <td>1442.000000</td>\n",
              "      <td>6.000000</td>\n",
              "      <td>1451.000000</td>\n",
              "      <td>1445.000000</td>\n",
              "      <td>2.000000</td>\n",
              "      <td>0.00000</td>\n",
              "      <td>0.000000</td>\n",
              "      <td>4.000000</td>\n",
              "      <td>0.000000</td>\n",
              "      <td>5.000000</td>\n",
              "      <td>7.000000</td>\n",
              "      <td>0.000000</td>\n",
              "    </tr>\n",
              "    <tr>\n",
              "      <th>75%</th>\n",
              "      <td>2015.0</td>\n",
              "      <td>1.0</td>\n",
              "      <td>3.000000</td>\n",
              "      <td>6.000000</td>\n",
              "      <td>3341.000000</td>\n",
              "      <td>1715.000000</td>\n",
              "      <td>1733.000000</td>\n",
              "      <td>19.000000</td>\n",
              "      <td>19.000000</td>\n",
              "      <td>1746.000000</td>\n",
              "      <td>179.000000</td>\n",
              "      <td>179.000000</td>\n",
              "      <td>153.000000</td>\n",
              "      <td>1090.00000</td>\n",
              "      <td>1902.000000</td>\n",
              "      <td>9.000000</td>\n",
              "      <td>1905.000000</td>\n",
              "      <td>1906.000000</td>\n",
              "      <td>22.000000</td>\n",
              "      <td>0.00000</td>\n",
              "      <td>0.000000</td>\n",
              "      <td>18.000000</td>\n",
              "      <td>0.000000</td>\n",
              "      <td>20.000000</td>\n",
              "      <td>29.000000</td>\n",
              "      <td>0.000000</td>\n",
              "    </tr>\n",
              "    <tr>\n",
              "      <th>max</th>\n",
              "      <td>2015.0</td>\n",
              "      <td>1.0</td>\n",
              "      <td>4.000000</td>\n",
              "      <td>7.000000</td>\n",
              "      <td>7438.000000</td>\n",
              "      <td>2359.000000</td>\n",
              "      <td>2400.000000</td>\n",
              "      <td>1380.000000</td>\n",
              "      <td>176.000000</td>\n",
              "      <td>2400.000000</td>\n",
              "      <td>718.000000</td>\n",
              "      <td>712.000000</td>\n",
              "      <td>676.000000</td>\n",
              "      <td>4983.00000</td>\n",
              "      <td>2400.000000</td>\n",
              "      <td>111.000000</td>\n",
              "      <td>2359.000000</td>\n",
              "      <td>2400.000000</td>\n",
              "      <td>1384.000000</td>\n",
              "      <td>1.00000</td>\n",
              "      <td>1.000000</td>\n",
              "      <td>570.000000</td>\n",
              "      <td>107.000000</td>\n",
              "      <td>1380.000000</td>\n",
              "      <td>891.000000</td>\n",
              "      <td>453.000000</td>\n",
              "    </tr>\n",
              "  </tbody>\n",
              "</table>\n",
              "</div>"
            ],
            "text/plain": [
              "          YEAR    MONTH  ...  LATE_AIRCRAFT_DELAY  WEATHER_DELAY\n",
              "count  50000.0  50000.0  ...         15408.000000   15408.000000\n",
              "mean    2015.0      1.0  ...            22.047832       1.937046\n",
              "std        0.0      0.0  ...            39.313475      12.939070\n",
              "min     2015.0      1.0  ...             0.000000       0.000000\n",
              "25%     2015.0      1.0  ...             0.000000       0.000000\n",
              "50%     2015.0      1.0  ...             7.000000       0.000000\n",
              "75%     2015.0      1.0  ...            29.000000       0.000000\n",
              "max     2015.0      1.0  ...           891.000000     453.000000\n",
              "\n",
              "[8 rows x 26 columns]"
            ]
          },
          "metadata": {
            "tags": []
          },
          "execution_count": 580
        }
      ]
    },
    {
      "cell_type": "code",
      "metadata": {
        "id": "xU7VT4XXjmi0"
      },
      "source": [
        "airlinecompanies = airlines.set_index('IATA_CODE')['AIRLINE'].to_dict()"
      ],
      "execution_count": 581,
      "outputs": []
    },
    {
      "cell_type": "code",
      "metadata": {
        "colab": {
          "base_uri": "https://localhost:8080/"
        },
        "id": "mqR4MKgpkIOC",
        "outputId": "c24df44f-f0d0-47a2-f3df-e7383645318f"
      },
      "source": [
        "airlinecompanies"
      ],
      "execution_count": 582,
      "outputs": [
        {
          "output_type": "execute_result",
          "data": {
            "text/plain": [
              "{'AA': 'American Airlines Inc.',\n",
              " 'AS': 'Alaska Airlines Inc.',\n",
              " 'B6': 'JetBlue Airways',\n",
              " 'DL': 'Delta Air Lines Inc.',\n",
              " 'EV': 'Atlantic Southeast Airlines',\n",
              " 'F9': 'Frontier Airlines Inc.',\n",
              " 'HA': 'Hawaiian Airlines Inc.',\n",
              " 'MQ': 'American Eagle Airlines Inc.',\n",
              " 'NK': 'Spirit Air Lines',\n",
              " 'OO': 'Skywest Airlines Inc.',\n",
              " 'UA': 'United Air Lines Inc.',\n",
              " 'US': 'US Airways Inc.',\n",
              " 'VX': 'Virgin America',\n",
              " 'WN': 'Southwest Airlines Co.'}"
            ]
          },
          "metadata": {
            "tags": []
          },
          "execution_count": 582
        }
      ]
    },
    {
      "cell_type": "code",
      "metadata": {
        "colab": {
          "base_uri": "https://localhost:8080/"
        },
        "id": "7gxKOv8nkKuA",
        "outputId": "7289f37d-2108-4b6c-9172-aa9638d5f35c"
      },
      "source": [
        "airport.isnull().sum()"
      ],
      "execution_count": 583,
      "outputs": [
        {
          "output_type": "execute_result",
          "data": {
            "text/plain": [
              "IATA_CODE    0\n",
              "AIRPORT      0\n",
              "CITY         0\n",
              "STATE        0\n",
              "COUNTRY      0\n",
              "LATITUDE     3\n",
              "LONGITUDE    3\n",
              "dtype: int64"
            ]
          },
          "metadata": {
            "tags": []
          },
          "execution_count": 583
        }
      ]
    },
    {
      "cell_type": "code",
      "metadata": {
        "id": "YveTw6hlkRFP"
      },
      "source": [
        "airport = airport.dropna(subset = ['LATITUDE','LONGITUDE']) #dropping na values of Latitude and Longitude"
      ],
      "execution_count": 584,
      "outputs": []
    },
    {
      "cell_type": "code",
      "metadata": {
        "colab": {
          "base_uri": "https://localhost:8080/"
        },
        "id": "G1WiMnm9kVkw",
        "outputId": "382a7363-cab9-4cdc-ccf1-02131a0fcfff"
      },
      "source": [
        "airport.isnull().sum()"
      ],
      "execution_count": 585,
      "outputs": [
        {
          "output_type": "execute_result",
          "data": {
            "text/plain": [
              "IATA_CODE    0\n",
              "AIRPORT      0\n",
              "CITY         0\n",
              "STATE        0\n",
              "COUNTRY      0\n",
              "LATITUDE     0\n",
              "LONGITUDE    0\n",
              "dtype: int64"
            ]
          },
          "metadata": {
            "tags": []
          },
          "execution_count": 585
        }
      ]
    },
    {
      "cell_type": "code",
      "metadata": {
        "colab": {
          "base_uri": "https://localhost:8080/",
          "height": 343
        },
        "id": "GXXxJgeWkWqC",
        "outputId": "bef7e6e2-8b79-479c-a2aa-edddbedce0be"
      },
      "source": [
        "airport.head(10)"
      ],
      "execution_count": 586,
      "outputs": [
        {
          "output_type": "execute_result",
          "data": {
            "text/html": [
              "<div>\n",
              "<style scoped>\n",
              "    .dataframe tbody tr th:only-of-type {\n",
              "        vertical-align: middle;\n",
              "    }\n",
              "\n",
              "    .dataframe tbody tr th {\n",
              "        vertical-align: top;\n",
              "    }\n",
              "\n",
              "    .dataframe thead th {\n",
              "        text-align: right;\n",
              "    }\n",
              "</style>\n",
              "<table border=\"1\" class=\"dataframe\">\n",
              "  <thead>\n",
              "    <tr style=\"text-align: right;\">\n",
              "      <th></th>\n",
              "      <th>IATA_CODE</th>\n",
              "      <th>AIRPORT</th>\n",
              "      <th>CITY</th>\n",
              "      <th>STATE</th>\n",
              "      <th>COUNTRY</th>\n",
              "      <th>LATITUDE</th>\n",
              "      <th>LONGITUDE</th>\n",
              "    </tr>\n",
              "  </thead>\n",
              "  <tbody>\n",
              "    <tr>\n",
              "      <th>0</th>\n",
              "      <td>ABE</td>\n",
              "      <td>Lehigh Valley International Airport</td>\n",
              "      <td>Allentown</td>\n",
              "      <td>PA</td>\n",
              "      <td>USA</td>\n",
              "      <td>40.65236</td>\n",
              "      <td>-75.44040</td>\n",
              "    </tr>\n",
              "    <tr>\n",
              "      <th>1</th>\n",
              "      <td>ABI</td>\n",
              "      <td>Abilene Regional Airport</td>\n",
              "      <td>Abilene</td>\n",
              "      <td>TX</td>\n",
              "      <td>USA</td>\n",
              "      <td>32.41132</td>\n",
              "      <td>-99.68190</td>\n",
              "    </tr>\n",
              "    <tr>\n",
              "      <th>2</th>\n",
              "      <td>ABQ</td>\n",
              "      <td>Albuquerque International Sunport</td>\n",
              "      <td>Albuquerque</td>\n",
              "      <td>NM</td>\n",
              "      <td>USA</td>\n",
              "      <td>35.04022</td>\n",
              "      <td>-106.60919</td>\n",
              "    </tr>\n",
              "    <tr>\n",
              "      <th>3</th>\n",
              "      <td>ABR</td>\n",
              "      <td>Aberdeen Regional Airport</td>\n",
              "      <td>Aberdeen</td>\n",
              "      <td>SD</td>\n",
              "      <td>USA</td>\n",
              "      <td>45.44906</td>\n",
              "      <td>-98.42183</td>\n",
              "    </tr>\n",
              "    <tr>\n",
              "      <th>4</th>\n",
              "      <td>ABY</td>\n",
              "      <td>Southwest Georgia Regional Airport</td>\n",
              "      <td>Albany</td>\n",
              "      <td>GA</td>\n",
              "      <td>USA</td>\n",
              "      <td>31.53552</td>\n",
              "      <td>-84.19447</td>\n",
              "    </tr>\n",
              "    <tr>\n",
              "      <th>5</th>\n",
              "      <td>ACK</td>\n",
              "      <td>Nantucket Memorial Airport</td>\n",
              "      <td>Nantucket</td>\n",
              "      <td>MA</td>\n",
              "      <td>USA</td>\n",
              "      <td>41.25305</td>\n",
              "      <td>-70.06018</td>\n",
              "    </tr>\n",
              "    <tr>\n",
              "      <th>6</th>\n",
              "      <td>ACT</td>\n",
              "      <td>Waco Regional Airport</td>\n",
              "      <td>Waco</td>\n",
              "      <td>TX</td>\n",
              "      <td>USA</td>\n",
              "      <td>31.61129</td>\n",
              "      <td>-97.23052</td>\n",
              "    </tr>\n",
              "    <tr>\n",
              "      <th>7</th>\n",
              "      <td>ACV</td>\n",
              "      <td>Arcata Airport</td>\n",
              "      <td>Arcata/Eureka</td>\n",
              "      <td>CA</td>\n",
              "      <td>USA</td>\n",
              "      <td>40.97812</td>\n",
              "      <td>-124.10862</td>\n",
              "    </tr>\n",
              "    <tr>\n",
              "      <th>8</th>\n",
              "      <td>ACY</td>\n",
              "      <td>Atlantic City International Airport</td>\n",
              "      <td>Atlantic City</td>\n",
              "      <td>NJ</td>\n",
              "      <td>USA</td>\n",
              "      <td>39.45758</td>\n",
              "      <td>-74.57717</td>\n",
              "    </tr>\n",
              "    <tr>\n",
              "      <th>9</th>\n",
              "      <td>ADK</td>\n",
              "      <td>Adak Airport</td>\n",
              "      <td>Adak</td>\n",
              "      <td>AK</td>\n",
              "      <td>USA</td>\n",
              "      <td>51.87796</td>\n",
              "      <td>-176.64603</td>\n",
              "    </tr>\n",
              "  </tbody>\n",
              "</table>\n",
              "</div>"
            ],
            "text/plain": [
              "  IATA_CODE                              AIRPORT  ...  LATITUDE  LONGITUDE\n",
              "0       ABE  Lehigh Valley International Airport  ...  40.65236  -75.44040\n",
              "1       ABI             Abilene Regional Airport  ...  32.41132  -99.68190\n",
              "2       ABQ    Albuquerque International Sunport  ...  35.04022 -106.60919\n",
              "3       ABR            Aberdeen Regional Airport  ...  45.44906  -98.42183\n",
              "4       ABY   Southwest Georgia Regional Airport  ...  31.53552  -84.19447\n",
              "5       ACK           Nantucket Memorial Airport  ...  41.25305  -70.06018\n",
              "6       ACT                Waco Regional Airport  ...  31.61129  -97.23052\n",
              "7       ACV                       Arcata Airport  ...  40.97812 -124.10862\n",
              "8       ACY  Atlantic City International Airport  ...  39.45758  -74.57717\n",
              "9       ADK                         Adak Airport  ...  51.87796 -176.64603\n",
              "\n",
              "[10 rows x 7 columns]"
            ]
          },
          "metadata": {
            "tags": []
          },
          "execution_count": 586
        }
      ]
    },
    {
      "cell_type": "code",
      "metadata": {
        "colab": {
          "base_uri": "https://localhost:8080/",
          "height": 462
        },
        "id": "0YKwVzQokYZ1",
        "outputId": "8a7a44b7-3ded-476f-9e18-08fbbd1d96a4"
      },
      "source": [
        "airlines"
      ],
      "execution_count": 587,
      "outputs": [
        {
          "output_type": "execute_result",
          "data": {
            "text/html": [
              "<div>\n",
              "<style scoped>\n",
              "    .dataframe tbody tr th:only-of-type {\n",
              "        vertical-align: middle;\n",
              "    }\n",
              "\n",
              "    .dataframe tbody tr th {\n",
              "        vertical-align: top;\n",
              "    }\n",
              "\n",
              "    .dataframe thead th {\n",
              "        text-align: right;\n",
              "    }\n",
              "</style>\n",
              "<table border=\"1\" class=\"dataframe\">\n",
              "  <thead>\n",
              "    <tr style=\"text-align: right;\">\n",
              "      <th></th>\n",
              "      <th>IATA_CODE</th>\n",
              "      <th>AIRLINE</th>\n",
              "    </tr>\n",
              "  </thead>\n",
              "  <tbody>\n",
              "    <tr>\n",
              "      <th>0</th>\n",
              "      <td>UA</td>\n",
              "      <td>United Air Lines Inc.</td>\n",
              "    </tr>\n",
              "    <tr>\n",
              "      <th>1</th>\n",
              "      <td>AA</td>\n",
              "      <td>American Airlines Inc.</td>\n",
              "    </tr>\n",
              "    <tr>\n",
              "      <th>2</th>\n",
              "      <td>US</td>\n",
              "      <td>US Airways Inc.</td>\n",
              "    </tr>\n",
              "    <tr>\n",
              "      <th>3</th>\n",
              "      <td>F9</td>\n",
              "      <td>Frontier Airlines Inc.</td>\n",
              "    </tr>\n",
              "    <tr>\n",
              "      <th>4</th>\n",
              "      <td>B6</td>\n",
              "      <td>JetBlue Airways</td>\n",
              "    </tr>\n",
              "    <tr>\n",
              "      <th>5</th>\n",
              "      <td>OO</td>\n",
              "      <td>Skywest Airlines Inc.</td>\n",
              "    </tr>\n",
              "    <tr>\n",
              "      <th>6</th>\n",
              "      <td>AS</td>\n",
              "      <td>Alaska Airlines Inc.</td>\n",
              "    </tr>\n",
              "    <tr>\n",
              "      <th>7</th>\n",
              "      <td>NK</td>\n",
              "      <td>Spirit Air Lines</td>\n",
              "    </tr>\n",
              "    <tr>\n",
              "      <th>8</th>\n",
              "      <td>WN</td>\n",
              "      <td>Southwest Airlines Co.</td>\n",
              "    </tr>\n",
              "    <tr>\n",
              "      <th>9</th>\n",
              "      <td>DL</td>\n",
              "      <td>Delta Air Lines Inc.</td>\n",
              "    </tr>\n",
              "    <tr>\n",
              "      <th>10</th>\n",
              "      <td>EV</td>\n",
              "      <td>Atlantic Southeast Airlines</td>\n",
              "    </tr>\n",
              "    <tr>\n",
              "      <th>11</th>\n",
              "      <td>HA</td>\n",
              "      <td>Hawaiian Airlines Inc.</td>\n",
              "    </tr>\n",
              "    <tr>\n",
              "      <th>12</th>\n",
              "      <td>MQ</td>\n",
              "      <td>American Eagle Airlines Inc.</td>\n",
              "    </tr>\n",
              "    <tr>\n",
              "      <th>13</th>\n",
              "      <td>VX</td>\n",
              "      <td>Virgin America</td>\n",
              "    </tr>\n",
              "  </tbody>\n",
              "</table>\n",
              "</div>"
            ],
            "text/plain": [
              "   IATA_CODE                       AIRLINE\n",
              "0         UA         United Air Lines Inc.\n",
              "1         AA        American Airlines Inc.\n",
              "2         US               US Airways Inc.\n",
              "3         F9        Frontier Airlines Inc.\n",
              "4         B6               JetBlue Airways\n",
              "5         OO         Skywest Airlines Inc.\n",
              "6         AS          Alaska Airlines Inc.\n",
              "7         NK              Spirit Air Lines\n",
              "8         WN        Southwest Airlines Co.\n",
              "9         DL          Delta Air Lines Inc.\n",
              "10        EV   Atlantic Southeast Airlines\n",
              "11        HA        Hawaiian Airlines Inc.\n",
              "12        MQ  American Eagle Airlines Inc.\n",
              "13        VX                Virgin America"
            ]
          },
          "metadata": {
            "tags": []
          },
          "execution_count": 587
        }
      ]
    },
    {
      "cell_type": "code",
      "metadata": {
        "colab": {
          "base_uri": "https://localhost:8080/"
        },
        "id": "-svNiT1EkZ32",
        "outputId": "3dc37df1-97a1-4905-d61b-0ab1727fb805"
      },
      "source": [
        "flightsinfo.isnull().sum()"
      ],
      "execution_count": 588,
      "outputs": [
        {
          "output_type": "execute_result",
          "data": {
            "text/plain": [
              "YEAR                       0\n",
              "MONTH                      0\n",
              "DAY                        0\n",
              "DAY_OF_WEEK                0\n",
              "AIRLINE                    0\n",
              "FLIGHT_NUMBER              0\n",
              "TAIL_NUMBER               59\n",
              "ORIGIN_AIRPORT             0\n",
              "DESTINATION_AIRPORT        0\n",
              "SCHEDULED_DEPARTURE        0\n",
              "DEPARTURE_TIME          1104\n",
              "DEPARTURE_DELAY         1104\n",
              "TAXI_OUT                1127\n",
              "WHEELS_OFF              1127\n",
              "SCHEDULED_TIME             0\n",
              "ELAPSED_TIME            1247\n",
              "AIR_TIME                1247\n",
              "DISTANCE                   0\n",
              "WHEELS_ON               1161\n",
              "TAXI_IN                 1161\n",
              "SCHEDULED_ARRIVAL          0\n",
              "ARRIVAL_TIME            1161\n",
              "ARRIVAL_DELAY           1247\n",
              "DIVERTED                   0\n",
              "CANCELLED                  0\n",
              "CANCELLATION_REASON    48862\n",
              "AIR_SYSTEM_DELAY       34592\n",
              "SECURITY_DELAY         34592\n",
              "AIRLINE_DELAY          34592\n",
              "LATE_AIRCRAFT_DELAY    34592\n",
              "WEATHER_DELAY          34592\n",
              "dtype: int64"
            ]
          },
          "metadata": {
            "tags": []
          },
          "execution_count": 588
        }
      ]
    },
    {
      "cell_type": "markdown",
      "metadata": {
        "id": "1wu48ZWFkx3-"
      },
      "source": [
        "## Data Cleaning"
      ]
    },
    {
      "cell_type": "code",
      "metadata": {
        "id": "LX061Xnakm8c"
      },
      "source": [
        "flightsinfo1 = flightsinfo.dropna(subset = [\"TAIL_NUMBER\",'DEPARTURE_TIME','DEPARTURE_DELAY','TAXI_OUT','WHEELS_OFF','SCHEDULED_TIME',\n",
        "'ELAPSED_TIME','AIR_TIME','WHEELS_ON','TAXI_IN','ARRIVAL_TIME','ARRIVAL_DELAY'])  #dropping missing values in the dataset"
      ],
      "execution_count": 589,
      "outputs": []
    },
    {
      "cell_type": "code",
      "metadata": {
        "colab": {
          "base_uri": "https://localhost:8080/"
        },
        "id": "DRTw09xAk2-q",
        "outputId": "5f6cc0f8-3eb3-43fc-bf10-f9e56ffc6348"
      },
      "source": [
        "flightsinfo1.shape"
      ],
      "execution_count": 590,
      "outputs": [
        {
          "output_type": "execute_result",
          "data": {
            "text/plain": [
              "(48753, 31)"
            ]
          },
          "metadata": {
            "tags": []
          },
          "execution_count": 590
        }
      ]
    },
    {
      "cell_type": "code",
      "metadata": {
        "colab": {
          "base_uri": "https://localhost:8080/"
        },
        "id": "hLB-pYV6lVDx",
        "outputId": "7a83ecab-9293-42d6-c48b-58de90947ec1"
      },
      "source": [
        "flightsinfo1.isnull().sum()"
      ],
      "execution_count": 591,
      "outputs": [
        {
          "output_type": "execute_result",
          "data": {
            "text/plain": [
              "YEAR                       0\n",
              "MONTH                      0\n",
              "DAY                        0\n",
              "DAY_OF_WEEK                0\n",
              "AIRLINE                    0\n",
              "FLIGHT_NUMBER              0\n",
              "TAIL_NUMBER                0\n",
              "ORIGIN_AIRPORT             0\n",
              "DESTINATION_AIRPORT        0\n",
              "SCHEDULED_DEPARTURE        0\n",
              "DEPARTURE_TIME             0\n",
              "DEPARTURE_DELAY            0\n",
              "TAXI_OUT                   0\n",
              "WHEELS_OFF                 0\n",
              "SCHEDULED_TIME             0\n",
              "ELAPSED_TIME               0\n",
              "AIR_TIME                   0\n",
              "DISTANCE                   0\n",
              "WHEELS_ON                  0\n",
              "TAXI_IN                    0\n",
              "SCHEDULED_ARRIVAL          0\n",
              "ARRIVAL_TIME               0\n",
              "ARRIVAL_DELAY              0\n",
              "DIVERTED                   0\n",
              "CANCELLED                  0\n",
              "CANCELLATION_REASON    48753\n",
              "AIR_SYSTEM_DELAY       33345\n",
              "SECURITY_DELAY         33345\n",
              "AIRLINE_DELAY          33345\n",
              "LATE_AIRCRAFT_DELAY    33345\n",
              "WEATHER_DELAY          33345\n",
              "dtype: int64"
            ]
          },
          "metadata": {
            "tags": []
          },
          "execution_count": 591
        }
      ]
    },
    {
      "cell_type": "code",
      "metadata": {
        "id": "n9eZGjWvlWu8"
      },
      "source": [
        "flightsinfo_modified = flightsinfo1.dropna(subset = ['AIR_SYSTEM_DELAY','SECURITY_DELAY','AIRLINE_DELAY','LATE_AIRCRAFT_DELAY','WEATHER_DELAY'])\n",
        "flightsinfo_modified = flightsinfo_modified.drop(['YEAR','MONTH','DAY','DAY_OF_WEEK','TAIL_NUMBER','SCHEDULED_DEPARTURE','DEPARTURE_TIME','SCHEDULED_TIME',\n",
        "                     'SCHEDULED_ARRIVAL','ARRIVAL_TIME','DIVERTED','CANCELLED','CANCELLATION_REASON','FLIGHT_NUMBER','WHEELS_OFF',\n",
        "                     'WHEELS_ON','AIR_TIME'],axis = 1)"
      ],
      "execution_count": 592,
      "outputs": []
    },
    {
      "cell_type": "code",
      "metadata": {
        "colab": {
          "base_uri": "https://localhost:8080/"
        },
        "id": "X-KrZKAvle2p",
        "outputId": "0b8765d1-2302-459d-a9c4-87d6a8d18610"
      },
      "source": [
        "flightsinfo_modified.info()"
      ],
      "execution_count": 593,
      "outputs": [
        {
          "output_type": "stream",
          "text": [
            "<class 'pandas.core.frame.DataFrame'>\n",
            "Int64Index: 15408 entries, 27 to 49997\n",
            "Data columns (total 14 columns):\n",
            " #   Column               Non-Null Count  Dtype  \n",
            "---  ------               --------------  -----  \n",
            " 0   AIRLINE              15408 non-null  object \n",
            " 1   ORIGIN_AIRPORT       15408 non-null  object \n",
            " 2   DESTINATION_AIRPORT  15408 non-null  object \n",
            " 3   DEPARTURE_DELAY      15408 non-null  float64\n",
            " 4   TAXI_OUT             15408 non-null  float64\n",
            " 5   ELAPSED_TIME         15408 non-null  float64\n",
            " 6   DISTANCE             15408 non-null  int64  \n",
            " 7   TAXI_IN              15408 non-null  float64\n",
            " 8   ARRIVAL_DELAY        15408 non-null  float64\n",
            " 9   AIR_SYSTEM_DELAY     15408 non-null  float64\n",
            " 10  SECURITY_DELAY       15408 non-null  float64\n",
            " 11  AIRLINE_DELAY        15408 non-null  float64\n",
            " 12  LATE_AIRCRAFT_DELAY  15408 non-null  float64\n",
            " 13  WEATHER_DELAY        15408 non-null  float64\n",
            "dtypes: float64(10), int64(1), object(3)\n",
            "memory usage: 1.8+ MB\n"
          ],
          "name": "stdout"
        }
      ]
    },
    {
      "cell_type": "code",
      "metadata": {
        "id": "kckuAoPBl5WG"
      },
      "source": [
        "Flight_Delays = flightsinfo_modified"
      ],
      "execution_count": 594,
      "outputs": []
    },
    {
      "cell_type": "code",
      "metadata": {
        "id": "bXDWQ1V6mh7v"
      },
      "source": [
        "flightsinfo2 = flightsinfo1.drop(['CANCELLATION_REASON','AIR_SYSTEM_DELAY','SECURITY_DELAY','AIRLINE_DELAY',\n",
        "                    'LATE_AIRCRAFT_DELAY','WEATHER_DELAY'],axis = 1)"
      ],
      "execution_count": 595,
      "outputs": []
    },
    {
      "cell_type": "code",
      "metadata": {
        "colab": {
          "base_uri": "https://localhost:8080/"
        },
        "id": "yaUEDwiqmqqy",
        "outputId": "257f4891-fada-4037-9a03-3d743bea7c16"
      },
      "source": [
        "flightsinfo2.isnull().sum()"
      ],
      "execution_count": 596,
      "outputs": [
        {
          "output_type": "execute_result",
          "data": {
            "text/plain": [
              "YEAR                   0\n",
              "MONTH                  0\n",
              "DAY                    0\n",
              "DAY_OF_WEEK            0\n",
              "AIRLINE                0\n",
              "FLIGHT_NUMBER          0\n",
              "TAIL_NUMBER            0\n",
              "ORIGIN_AIRPORT         0\n",
              "DESTINATION_AIRPORT    0\n",
              "SCHEDULED_DEPARTURE    0\n",
              "DEPARTURE_TIME         0\n",
              "DEPARTURE_DELAY        0\n",
              "TAXI_OUT               0\n",
              "WHEELS_OFF             0\n",
              "SCHEDULED_TIME         0\n",
              "ELAPSED_TIME           0\n",
              "AIR_TIME               0\n",
              "DISTANCE               0\n",
              "WHEELS_ON              0\n",
              "TAXI_IN                0\n",
              "SCHEDULED_ARRIVAL      0\n",
              "ARRIVAL_TIME           0\n",
              "ARRIVAL_DELAY          0\n",
              "DIVERTED               0\n",
              "CANCELLED              0\n",
              "dtype: int64"
            ]
          },
          "metadata": {
            "tags": []
          },
          "execution_count": 596
        }
      ]
    },
    {
      "cell_type": "code",
      "metadata": {
        "colab": {
          "base_uri": "https://localhost:8080/"
        },
        "id": "Z8M0OEmImsIN",
        "outputId": "02704124-ff99-4734-c3dd-aa303a769817"
      },
      "source": [
        "flightsinfo2.shape"
      ],
      "execution_count": 597,
      "outputs": [
        {
          "output_type": "execute_result",
          "data": {
            "text/plain": [
              "(48753, 25)"
            ]
          },
          "metadata": {
            "tags": []
          },
          "execution_count": 597
        }
      ]
    },
    {
      "cell_type": "code",
      "metadata": {
        "colab": {
          "base_uri": "https://localhost:8080/"
        },
        "id": "7WtdE-NGmtvh",
        "outputId": "abb91db5-8e4c-4cf8-8c4e-4a46d3f00204"
      },
      "source": [
        "flightsinfo2.info()"
      ],
      "execution_count": 598,
      "outputs": [
        {
          "output_type": "stream",
          "text": [
            "<class 'pandas.core.frame.DataFrame'>\n",
            "Int64Index: 48753 entries, 0 to 49999\n",
            "Data columns (total 25 columns):\n",
            " #   Column               Non-Null Count  Dtype  \n",
            "---  ------               --------------  -----  \n",
            " 0   YEAR                 48753 non-null  int64  \n",
            " 1   MONTH                48753 non-null  int64  \n",
            " 2   DAY                  48753 non-null  int64  \n",
            " 3   DAY_OF_WEEK          48753 non-null  int64  \n",
            " 4   AIRLINE              48753 non-null  object \n",
            " 5   FLIGHT_NUMBER        48753 non-null  int64  \n",
            " 6   TAIL_NUMBER          48753 non-null  object \n",
            " 7   ORIGIN_AIRPORT       48753 non-null  object \n",
            " 8   DESTINATION_AIRPORT  48753 non-null  object \n",
            " 9   SCHEDULED_DEPARTURE  48753 non-null  int64  \n",
            " 10  DEPARTURE_TIME       48753 non-null  float64\n",
            " 11  DEPARTURE_DELAY      48753 non-null  float64\n",
            " 12  TAXI_OUT             48753 non-null  float64\n",
            " 13  WHEELS_OFF           48753 non-null  float64\n",
            " 14  SCHEDULED_TIME       48753 non-null  int64  \n",
            " 15  ELAPSED_TIME         48753 non-null  float64\n",
            " 16  AIR_TIME             48753 non-null  float64\n",
            " 17  DISTANCE             48753 non-null  int64  \n",
            " 18  WHEELS_ON            48753 non-null  float64\n",
            " 19  TAXI_IN              48753 non-null  float64\n",
            " 20  SCHEDULED_ARRIVAL    48753 non-null  int64  \n",
            " 21  ARRIVAL_TIME         48753 non-null  float64\n",
            " 22  ARRIVAL_DELAY        48753 non-null  float64\n",
            " 23  DIVERTED             48753 non-null  int64  \n",
            " 24  CANCELLED            48753 non-null  int64  \n",
            "dtypes: float64(10), int64(11), object(4)\n",
            "memory usage: 9.7+ MB\n"
          ],
          "name": "stdout"
        }
      ]
    },
    {
      "cell_type": "code",
      "metadata": {
        "colab": {
          "base_uri": "https://localhost:8080/"
        },
        "id": "NEJ4xK0Omuxc",
        "outputId": "5776923f-3163-429e-bd8d-93e5815b64fe"
      },
      "source": [
        "flightsinfo2.DEPARTURE_TIME.dtype"
      ],
      "execution_count": 599,
      "outputs": [
        {
          "output_type": "execute_result",
          "data": {
            "text/plain": [
              "dtype('float64')"
            ]
          },
          "metadata": {
            "tags": []
          },
          "execution_count": 599
        }
      ]
    },
    {
      "cell_type": "code",
      "metadata": {
        "colab": {
          "base_uri": "https://localhost:8080/"
        },
        "id": "WbBfalECmwlL",
        "outputId": "69eaaff9-bd73-4150-f90d-c46d95a53b33"
      },
      "source": [
        "flightsinfo2.DEPARTURE_TIME"
      ],
      "execution_count": 600,
      "outputs": [
        {
          "output_type": "execute_result",
          "data": {
            "text/plain": [
              "0        2354.0\n",
              "1           2.0\n",
              "2          18.0\n",
              "3          15.0\n",
              "4          24.0\n",
              "          ...  \n",
              "49995     910.0\n",
              "49996     915.0\n",
              "49997     952.0\n",
              "49998     922.0\n",
              "49999    1000.0\n",
              "Name: DEPARTURE_TIME, Length: 48753, dtype: float64"
            ]
          },
          "metadata": {
            "tags": []
          },
          "execution_count": 600
        }
      ]
    },
    {
      "cell_type": "markdown",
      "metadata": {
        "id": "pACMUJl6m1NQ"
      },
      "source": [
        "The times are not in the correct format so i will transform them into HH:MM format\n"
      ]
    },
    {
      "cell_type": "code",
      "metadata": {
        "id": "NbumLfA-myAd"
      },
      "source": [
        "def CreateTimeFormatted(hours):\n",
        "        if hours == 2400:\n",
        "            hours = 0\n",
        "        else:\n",
        "            hours = \"{0:04d}\".format(int(hours))\n",
        "            Hourmin = datetime.time(int(hours[0:2]), int(hours[2:4]))\n",
        "            return Hourmin"
      ],
      "execution_count": 601,
      "outputs": []
    },
    {
      "cell_type": "code",
      "metadata": {
        "id": "_leijBdsm3s1"
      },
      "source": [
        "flightsinfo2['Actual_Departure'] =flightsinfo1['DEPARTURE_TIME'].apply(CreateTimeFormatted)\n",
        "flightsinfo2['Scheduled_Arrival'] =flightsinfo1['SCHEDULED_ARRIVAL'].apply(CreateTimeFormatted)\n",
        "flightsinfo2['Scheduled_Departure'] =flightsinfo1['SCHEDULED_DEPARTURE'].apply(CreateTimeFormatted)\n",
        "flightsinfo2['Actual_Arrival'] =flightsinfo2['ARRIVAL_TIME'].apply(CreateTimeFormatted)"
      ],
      "execution_count": 602,
      "outputs": []
    },
    {
      "cell_type": "code",
      "metadata": {
        "colab": {
          "base_uri": "https://localhost:8080/"
        },
        "id": "tZy6G6-Gm-Kp",
        "outputId": "6ad12e2a-555f-4f89-8622-01dd0cab533f"
      },
      "source": [
        "flightsinfo2.columns"
      ],
      "execution_count": 603,
      "outputs": [
        {
          "output_type": "execute_result",
          "data": {
            "text/plain": [
              "Index(['YEAR', 'MONTH', 'DAY', 'DAY_OF_WEEK', 'AIRLINE', 'FLIGHT_NUMBER',\n",
              "       'TAIL_NUMBER', 'ORIGIN_AIRPORT', 'DESTINATION_AIRPORT',\n",
              "       'SCHEDULED_DEPARTURE', 'DEPARTURE_TIME', 'DEPARTURE_DELAY', 'TAXI_OUT',\n",
              "       'WHEELS_OFF', 'SCHEDULED_TIME', 'ELAPSED_TIME', 'AIR_TIME', 'DISTANCE',\n",
              "       'WHEELS_ON', 'TAXI_IN', 'SCHEDULED_ARRIVAL', 'ARRIVAL_TIME',\n",
              "       'ARRIVAL_DELAY', 'DIVERTED', 'CANCELLED', 'Actual_Departure',\n",
              "       'Scheduled_Arrival', 'Scheduled_Departure', 'Actual_Arrival'],\n",
              "      dtype='object')"
            ]
          },
          "metadata": {
            "tags": []
          },
          "execution_count": 603
        }
      ]
    },
    {
      "cell_type": "code",
      "metadata": {
        "id": "Is-axERPnBDN"
      },
      "source": [
        "flightsinfo2 = flightsinfo2.merge(airlines, left_on='AIRLINE', right_on='IATA_CODE', how='inner')"
      ],
      "execution_count": 604,
      "outputs": []
    },
    {
      "cell_type": "code",
      "metadata": {
        "colab": {
          "base_uri": "https://localhost:8080/"
        },
        "id": "GTryBnaZoZhB",
        "outputId": "8220361f-3b89-4bdf-b1f6-464842c3bed1"
      },
      "source": [
        "flightsinfo2.columns"
      ],
      "execution_count": 605,
      "outputs": [
        {
          "output_type": "execute_result",
          "data": {
            "text/plain": [
              "Index(['YEAR', 'MONTH', 'DAY', 'DAY_OF_WEEK', 'AIRLINE_x', 'FLIGHT_NUMBER',\n",
              "       'TAIL_NUMBER', 'ORIGIN_AIRPORT', 'DESTINATION_AIRPORT',\n",
              "       'SCHEDULED_DEPARTURE', 'DEPARTURE_TIME', 'DEPARTURE_DELAY', 'TAXI_OUT',\n",
              "       'WHEELS_OFF', 'SCHEDULED_TIME', 'ELAPSED_TIME', 'AIR_TIME', 'DISTANCE',\n",
              "       'WHEELS_ON', 'TAXI_IN', 'SCHEDULED_ARRIVAL', 'ARRIVAL_TIME',\n",
              "       'ARRIVAL_DELAY', 'DIVERTED', 'CANCELLED', 'Actual_Departure',\n",
              "       'Scheduled_Arrival', 'Scheduled_Departure', 'Actual_Arrival',\n",
              "       'IATA_CODE', 'AIRLINE_y'],\n",
              "      dtype='object')"
            ]
          },
          "metadata": {
            "tags": []
          },
          "execution_count": 605
        }
      ]
    },
    {
      "cell_type": "code",
      "metadata": {
        "id": "tH2lcSaEnmC-"
      },
      "source": [
        "flightsinfo2 = flightsinfo2.drop(['AIRLINE_x','IATA_CODE'], axis=1)"
      ],
      "execution_count": 606,
      "outputs": []
    },
    {
      "cell_type": "code",
      "metadata": {
        "id": "kt9tunsPoXWS"
      },
      "source": [
        "flightsinfo2 = flightsinfo2.rename(columns={\"AIRLINE_y\":\"AIRLINE\"})"
      ],
      "execution_count": 607,
      "outputs": []
    },
    {
      "cell_type": "code",
      "metadata": {
        "colab": {
          "base_uri": "https://localhost:8080/"
        },
        "id": "0otc2oTTonnn",
        "outputId": "3b6de59f-3a56-4bac-9211-f129b40f800c"
      },
      "source": [
        "flightsinfo2.columns"
      ],
      "execution_count": 608,
      "outputs": [
        {
          "output_type": "execute_result",
          "data": {
            "text/plain": [
              "Index(['YEAR', 'MONTH', 'DAY', 'DAY_OF_WEEK', 'FLIGHT_NUMBER', 'TAIL_NUMBER',\n",
              "       'ORIGIN_AIRPORT', 'DESTINATION_AIRPORT', 'SCHEDULED_DEPARTURE',\n",
              "       'DEPARTURE_TIME', 'DEPARTURE_DELAY', 'TAXI_OUT', 'WHEELS_OFF',\n",
              "       'SCHEDULED_TIME', 'ELAPSED_TIME', 'AIR_TIME', 'DISTANCE', 'WHEELS_ON',\n",
              "       'TAXI_IN', 'SCHEDULED_ARRIVAL', 'ARRIVAL_TIME', 'ARRIVAL_DELAY',\n",
              "       'DIVERTED', 'CANCELLED', 'Actual_Departure', 'Scheduled_Arrival',\n",
              "       'Scheduled_Departure', 'Actual_Arrival', 'AIRLINE'],\n",
              "      dtype='object')"
            ]
          },
          "metadata": {
            "tags": []
          },
          "execution_count": 608
        }
      ]
    },
    {
      "cell_type": "code",
      "metadata": {
        "id": "ycX4GxwsooxC"
      },
      "source": [
        "flightsinfo2 = flightsinfo2.merge(airport, left_on='ORIGIN_AIRPORT', right_on='IATA_CODE', how='inner')\n",
        "flightsinfo2 = flightsinfo2.merge(airport, left_on='DESTINATION_AIRPORT', right_on='IATA_CODE', how='inner')"
      ],
      "execution_count": 609,
      "outputs": []
    },
    {
      "cell_type": "code",
      "metadata": {
        "colab": {
          "base_uri": "https://localhost:8080/"
        },
        "id": "NP3Fpv36orVC",
        "outputId": "b49b0941-a514-41e8-fa08-ae74d6961577"
      },
      "source": [
        "flightsinfo2.columns"
      ],
      "execution_count": 610,
      "outputs": [
        {
          "output_type": "execute_result",
          "data": {
            "text/plain": [
              "Index(['YEAR', 'MONTH', 'DAY', 'DAY_OF_WEEK', 'FLIGHT_NUMBER', 'TAIL_NUMBER',\n",
              "       'ORIGIN_AIRPORT', 'DESTINATION_AIRPORT', 'SCHEDULED_DEPARTURE',\n",
              "       'DEPARTURE_TIME', 'DEPARTURE_DELAY', 'TAXI_OUT', 'WHEELS_OFF',\n",
              "       'SCHEDULED_TIME', 'ELAPSED_TIME', 'AIR_TIME', 'DISTANCE', 'WHEELS_ON',\n",
              "       'TAXI_IN', 'SCHEDULED_ARRIVAL', 'ARRIVAL_TIME', 'ARRIVAL_DELAY',\n",
              "       'DIVERTED', 'CANCELLED', 'Actual_Departure', 'Scheduled_Arrival',\n",
              "       'Scheduled_Departure', 'Actual_Arrival', 'AIRLINE', 'IATA_CODE_x',\n",
              "       'AIRPORT_x', 'CITY_x', 'STATE_x', 'COUNTRY_x', 'LATITUDE_x',\n",
              "       'LONGITUDE_x', 'IATA_CODE_y', 'AIRPORT_y', 'CITY_y', 'STATE_y',\n",
              "       'COUNTRY_y', 'LATITUDE_y', 'LONGITUDE_y'],\n",
              "      dtype='object')"
            ]
          },
          "metadata": {
            "tags": []
          },
          "execution_count": 610
        }
      ]
    },
    {
      "cell_type": "code",
      "metadata": {
        "id": "-BemOXhPosKK"
      },
      "source": [
        "flightsinfo2 = flightsinfo2.rename(columns={'IATA_CODE_x':'Org_Airport_Code','AIRPORT_x':'Org_Airport_Name','CITY_x':'Origin_city',\n",
        "                             'IATA_CODE_y':'Dest_Airport_Code','AIRPORT_y':'Dest_Airport_Name','CITY_y':'Destination_city'})"
      ],
      "execution_count": 611,
      "outputs": []
    },
    {
      "cell_type": "code",
      "metadata": {
        "colab": {
          "base_uri": "https://localhost:8080/",
          "height": 758
        },
        "id": "X6SpzOO7owEO",
        "outputId": "1c447e9d-a162-435a-f86b-645cf75c9615"
      },
      "source": [
        "flightsinfo2"
      ],
      "execution_count": 612,
      "outputs": [
        {
          "output_type": "execute_result",
          "data": {
            "text/html": [
              "<div>\n",
              "<style scoped>\n",
              "    .dataframe tbody tr th:only-of-type {\n",
              "        vertical-align: middle;\n",
              "    }\n",
              "\n",
              "    .dataframe tbody tr th {\n",
              "        vertical-align: top;\n",
              "    }\n",
              "\n",
              "    .dataframe thead th {\n",
              "        text-align: right;\n",
              "    }\n",
              "</style>\n",
              "<table border=\"1\" class=\"dataframe\">\n",
              "  <thead>\n",
              "    <tr style=\"text-align: right;\">\n",
              "      <th></th>\n",
              "      <th>YEAR</th>\n",
              "      <th>MONTH</th>\n",
              "      <th>DAY</th>\n",
              "      <th>DAY_OF_WEEK</th>\n",
              "      <th>FLIGHT_NUMBER</th>\n",
              "      <th>TAIL_NUMBER</th>\n",
              "      <th>ORIGIN_AIRPORT</th>\n",
              "      <th>DESTINATION_AIRPORT</th>\n",
              "      <th>SCHEDULED_DEPARTURE</th>\n",
              "      <th>DEPARTURE_TIME</th>\n",
              "      <th>DEPARTURE_DELAY</th>\n",
              "      <th>TAXI_OUT</th>\n",
              "      <th>WHEELS_OFF</th>\n",
              "      <th>SCHEDULED_TIME</th>\n",
              "      <th>ELAPSED_TIME</th>\n",
              "      <th>AIR_TIME</th>\n",
              "      <th>DISTANCE</th>\n",
              "      <th>WHEELS_ON</th>\n",
              "      <th>TAXI_IN</th>\n",
              "      <th>SCHEDULED_ARRIVAL</th>\n",
              "      <th>ARRIVAL_TIME</th>\n",
              "      <th>ARRIVAL_DELAY</th>\n",
              "      <th>DIVERTED</th>\n",
              "      <th>CANCELLED</th>\n",
              "      <th>Actual_Departure</th>\n",
              "      <th>Scheduled_Arrival</th>\n",
              "      <th>Scheduled_Departure</th>\n",
              "      <th>Actual_Arrival</th>\n",
              "      <th>AIRLINE</th>\n",
              "      <th>Org_Airport_Code</th>\n",
              "      <th>Org_Airport_Name</th>\n",
              "      <th>Origin_city</th>\n",
              "      <th>STATE_x</th>\n",
              "      <th>COUNTRY_x</th>\n",
              "      <th>LATITUDE_x</th>\n",
              "      <th>LONGITUDE_x</th>\n",
              "      <th>Dest_Airport_Code</th>\n",
              "      <th>Dest_Airport_Name</th>\n",
              "      <th>Destination_city</th>\n",
              "      <th>STATE_y</th>\n",
              "      <th>COUNTRY_y</th>\n",
              "      <th>LATITUDE_y</th>\n",
              "      <th>LONGITUDE_y</th>\n",
              "    </tr>\n",
              "  </thead>\n",
              "  <tbody>\n",
              "    <tr>\n",
              "      <th>0</th>\n",
              "      <td>2015</td>\n",
              "      <td>1</td>\n",
              "      <td>1</td>\n",
              "      <td>4</td>\n",
              "      <td>98</td>\n",
              "      <td>N407AS</td>\n",
              "      <td>ANC</td>\n",
              "      <td>SEA</td>\n",
              "      <td>5</td>\n",
              "      <td>2354.0</td>\n",
              "      <td>-11.0</td>\n",
              "      <td>21.0</td>\n",
              "      <td>15.0</td>\n",
              "      <td>205</td>\n",
              "      <td>194.0</td>\n",
              "      <td>169.0</td>\n",
              "      <td>1448</td>\n",
              "      <td>404.0</td>\n",
              "      <td>4.0</td>\n",
              "      <td>430</td>\n",
              "      <td>408.0</td>\n",
              "      <td>-22.0</td>\n",
              "      <td>0</td>\n",
              "      <td>0</td>\n",
              "      <td>23:54:00</td>\n",
              "      <td>04:30:00</td>\n",
              "      <td>00:05:00</td>\n",
              "      <td>04:08:00</td>\n",
              "      <td>Alaska Airlines Inc.</td>\n",
              "      <td>ANC</td>\n",
              "      <td>Ted Stevens Anchorage International Airport</td>\n",
              "      <td>Anchorage</td>\n",
              "      <td>AK</td>\n",
              "      <td>USA</td>\n",
              "      <td>61.17432</td>\n",
              "      <td>-149.99619</td>\n",
              "      <td>SEA</td>\n",
              "      <td>Seattle-Tacoma International Airport</td>\n",
              "      <td>Seattle</td>\n",
              "      <td>WA</td>\n",
              "      <td>USA</td>\n",
              "      <td>47.44898</td>\n",
              "      <td>-122.30931</td>\n",
              "    </tr>\n",
              "    <tr>\n",
              "      <th>1</th>\n",
              "      <td>2015</td>\n",
              "      <td>1</td>\n",
              "      <td>1</td>\n",
              "      <td>4</td>\n",
              "      <td>108</td>\n",
              "      <td>N309AS</td>\n",
              "      <td>ANC</td>\n",
              "      <td>SEA</td>\n",
              "      <td>45</td>\n",
              "      <td>41.0</td>\n",
              "      <td>-4.0</td>\n",
              "      <td>17.0</td>\n",
              "      <td>58.0</td>\n",
              "      <td>204</td>\n",
              "      <td>194.0</td>\n",
              "      <td>173.0</td>\n",
              "      <td>1448</td>\n",
              "      <td>451.0</td>\n",
              "      <td>4.0</td>\n",
              "      <td>509</td>\n",
              "      <td>455.0</td>\n",
              "      <td>-14.0</td>\n",
              "      <td>0</td>\n",
              "      <td>0</td>\n",
              "      <td>00:41:00</td>\n",
              "      <td>05:09:00</td>\n",
              "      <td>00:45:00</td>\n",
              "      <td>04:55:00</td>\n",
              "      <td>Alaska Airlines Inc.</td>\n",
              "      <td>ANC</td>\n",
              "      <td>Ted Stevens Anchorage International Airport</td>\n",
              "      <td>Anchorage</td>\n",
              "      <td>AK</td>\n",
              "      <td>USA</td>\n",
              "      <td>61.17432</td>\n",
              "      <td>-149.99619</td>\n",
              "      <td>SEA</td>\n",
              "      <td>Seattle-Tacoma International Airport</td>\n",
              "      <td>Seattle</td>\n",
              "      <td>WA</td>\n",
              "      <td>USA</td>\n",
              "      <td>47.44898</td>\n",
              "      <td>-122.30931</td>\n",
              "    </tr>\n",
              "    <tr>\n",
              "      <th>2</th>\n",
              "      <td>2015</td>\n",
              "      <td>1</td>\n",
              "      <td>1</td>\n",
              "      <td>4</td>\n",
              "      <td>134</td>\n",
              "      <td>N464AS</td>\n",
              "      <td>ANC</td>\n",
              "      <td>SEA</td>\n",
              "      <td>155</td>\n",
              "      <td>140.0</td>\n",
              "      <td>-15.0</td>\n",
              "      <td>17.0</td>\n",
              "      <td>157.0</td>\n",
              "      <td>218</td>\n",
              "      <td>198.0</td>\n",
              "      <td>170.0</td>\n",
              "      <td>1448</td>\n",
              "      <td>547.0</td>\n",
              "      <td>11.0</td>\n",
              "      <td>633</td>\n",
              "      <td>558.0</td>\n",
              "      <td>-35.0</td>\n",
              "      <td>0</td>\n",
              "      <td>0</td>\n",
              "      <td>01:40:00</td>\n",
              "      <td>06:33:00</td>\n",
              "      <td>01:55:00</td>\n",
              "      <td>05:58:00</td>\n",
              "      <td>Alaska Airlines Inc.</td>\n",
              "      <td>ANC</td>\n",
              "      <td>Ted Stevens Anchorage International Airport</td>\n",
              "      <td>Anchorage</td>\n",
              "      <td>AK</td>\n",
              "      <td>USA</td>\n",
              "      <td>61.17432</td>\n",
              "      <td>-149.99619</td>\n",
              "      <td>SEA</td>\n",
              "      <td>Seattle-Tacoma International Airport</td>\n",
              "      <td>Seattle</td>\n",
              "      <td>WA</td>\n",
              "      <td>USA</td>\n",
              "      <td>47.44898</td>\n",
              "      <td>-122.30931</td>\n",
              "    </tr>\n",
              "    <tr>\n",
              "      <th>3</th>\n",
              "      <td>2015</td>\n",
              "      <td>1</td>\n",
              "      <td>1</td>\n",
              "      <td>4</td>\n",
              "      <td>114</td>\n",
              "      <td>N303AS</td>\n",
              "      <td>ANC</td>\n",
              "      <td>SEA</td>\n",
              "      <td>220</td>\n",
              "      <td>209.0</td>\n",
              "      <td>-11.0</td>\n",
              "      <td>15.0</td>\n",
              "      <td>224.0</td>\n",
              "      <td>200</td>\n",
              "      <td>199.0</td>\n",
              "      <td>176.0</td>\n",
              "      <td>1448</td>\n",
              "      <td>620.0</td>\n",
              "      <td>8.0</td>\n",
              "      <td>640</td>\n",
              "      <td>628.0</td>\n",
              "      <td>-12.0</td>\n",
              "      <td>0</td>\n",
              "      <td>0</td>\n",
              "      <td>02:09:00</td>\n",
              "      <td>06:40:00</td>\n",
              "      <td>02:20:00</td>\n",
              "      <td>06:28:00</td>\n",
              "      <td>Alaska Airlines Inc.</td>\n",
              "      <td>ANC</td>\n",
              "      <td>Ted Stevens Anchorage International Airport</td>\n",
              "      <td>Anchorage</td>\n",
              "      <td>AK</td>\n",
              "      <td>USA</td>\n",
              "      <td>61.17432</td>\n",
              "      <td>-149.99619</td>\n",
              "      <td>SEA</td>\n",
              "      <td>Seattle-Tacoma International Airport</td>\n",
              "      <td>Seattle</td>\n",
              "      <td>WA</td>\n",
              "      <td>USA</td>\n",
              "      <td>47.44898</td>\n",
              "      <td>-122.30931</td>\n",
              "    </tr>\n",
              "    <tr>\n",
              "      <th>4</th>\n",
              "      <td>2015</td>\n",
              "      <td>1</td>\n",
              "      <td>1</td>\n",
              "      <td>4</td>\n",
              "      <td>730</td>\n",
              "      <td>N423AS</td>\n",
              "      <td>ANC</td>\n",
              "      <td>SEA</td>\n",
              "      <td>505</td>\n",
              "      <td>457.0</td>\n",
              "      <td>-8.0</td>\n",
              "      <td>16.0</td>\n",
              "      <td>513.0</td>\n",
              "      <td>205</td>\n",
              "      <td>199.0</td>\n",
              "      <td>179.0</td>\n",
              "      <td>1448</td>\n",
              "      <td>912.0</td>\n",
              "      <td>4.0</td>\n",
              "      <td>930</td>\n",
              "      <td>916.0</td>\n",
              "      <td>-14.0</td>\n",
              "      <td>0</td>\n",
              "      <td>0</td>\n",
              "      <td>04:57:00</td>\n",
              "      <td>09:30:00</td>\n",
              "      <td>05:05:00</td>\n",
              "      <td>09:16:00</td>\n",
              "      <td>Alaska Airlines Inc.</td>\n",
              "      <td>ANC</td>\n",
              "      <td>Ted Stevens Anchorage International Airport</td>\n",
              "      <td>Anchorage</td>\n",
              "      <td>AK</td>\n",
              "      <td>USA</td>\n",
              "      <td>61.17432</td>\n",
              "      <td>-149.99619</td>\n",
              "      <td>SEA</td>\n",
              "      <td>Seattle-Tacoma International Airport</td>\n",
              "      <td>Seattle</td>\n",
              "      <td>WA</td>\n",
              "      <td>USA</td>\n",
              "      <td>47.44898</td>\n",
              "      <td>-122.30931</td>\n",
              "    </tr>\n",
              "    <tr>\n",
              "      <th>...</th>\n",
              "      <td>...</td>\n",
              "      <td>...</td>\n",
              "      <td>...</td>\n",
              "      <td>...</td>\n",
              "      <td>...</td>\n",
              "      <td>...</td>\n",
              "      <td>...</td>\n",
              "      <td>...</td>\n",
              "      <td>...</td>\n",
              "      <td>...</td>\n",
              "      <td>...</td>\n",
              "      <td>...</td>\n",
              "      <td>...</td>\n",
              "      <td>...</td>\n",
              "      <td>...</td>\n",
              "      <td>...</td>\n",
              "      <td>...</td>\n",
              "      <td>...</td>\n",
              "      <td>...</td>\n",
              "      <td>...</td>\n",
              "      <td>...</td>\n",
              "      <td>...</td>\n",
              "      <td>...</td>\n",
              "      <td>...</td>\n",
              "      <td>...</td>\n",
              "      <td>...</td>\n",
              "      <td>...</td>\n",
              "      <td>...</td>\n",
              "      <td>...</td>\n",
              "      <td>...</td>\n",
              "      <td>...</td>\n",
              "      <td>...</td>\n",
              "      <td>...</td>\n",
              "      <td>...</td>\n",
              "      <td>...</td>\n",
              "      <td>...</td>\n",
              "      <td>...</td>\n",
              "      <td>...</td>\n",
              "      <td>...</td>\n",
              "      <td>...</td>\n",
              "      <td>...</td>\n",
              "      <td>...</td>\n",
              "      <td>...</td>\n",
              "    </tr>\n",
              "    <tr>\n",
              "      <th>48688</th>\n",
              "      <td>2015</td>\n",
              "      <td>1</td>\n",
              "      <td>1</td>\n",
              "      <td>4</td>\n",
              "      <td>2570</td>\n",
              "      <td>N876AS</td>\n",
              "      <td>MEI</td>\n",
              "      <td>PIB</td>\n",
              "      <td>1440</td>\n",
              "      <td>1447.0</td>\n",
              "      <td>7.0</td>\n",
              "      <td>11.0</td>\n",
              "      <td>1458.0</td>\n",
              "      <td>35</td>\n",
              "      <td>38.0</td>\n",
              "      <td>24.0</td>\n",
              "      <td>69</td>\n",
              "      <td>1522.0</td>\n",
              "      <td>3.0</td>\n",
              "      <td>1515</td>\n",
              "      <td>1525.0</td>\n",
              "      <td>10.0</td>\n",
              "      <td>0</td>\n",
              "      <td>0</td>\n",
              "      <td>14:47:00</td>\n",
              "      <td>15:15:00</td>\n",
              "      <td>14:40:00</td>\n",
              "      <td>15:25:00</td>\n",
              "      <td>Atlantic Southeast Airlines</td>\n",
              "      <td>MEI</td>\n",
              "      <td>Meridian Regional Airport</td>\n",
              "      <td>Meridian</td>\n",
              "      <td>MS</td>\n",
              "      <td>USA</td>\n",
              "      <td>32.33313</td>\n",
              "      <td>-88.75121</td>\n",
              "      <td>PIB</td>\n",
              "      <td>Hattiesburg-Laurel Regional Airport</td>\n",
              "      <td>Hattiesburg-Laurel</td>\n",
              "      <td>MS</td>\n",
              "      <td>USA</td>\n",
              "      <td>31.46715</td>\n",
              "      <td>-89.33706</td>\n",
              "    </tr>\n",
              "    <tr>\n",
              "      <th>48689</th>\n",
              "      <td>2015</td>\n",
              "      <td>1</td>\n",
              "      <td>1</td>\n",
              "      <td>4</td>\n",
              "      <td>2571</td>\n",
              "      <td>N879AS</td>\n",
              "      <td>MEI</td>\n",
              "      <td>PIB</td>\n",
              "      <td>2055</td>\n",
              "      <td>2051.0</td>\n",
              "      <td>-4.0</td>\n",
              "      <td>5.0</td>\n",
              "      <td>2056.0</td>\n",
              "      <td>35</td>\n",
              "      <td>29.0</td>\n",
              "      <td>21.0</td>\n",
              "      <td>69</td>\n",
              "      <td>2117.0</td>\n",
              "      <td>3.0</td>\n",
              "      <td>2130</td>\n",
              "      <td>2120.0</td>\n",
              "      <td>-10.0</td>\n",
              "      <td>0</td>\n",
              "      <td>0</td>\n",
              "      <td>20:51:00</td>\n",
              "      <td>21:30:00</td>\n",
              "      <td>20:55:00</td>\n",
              "      <td>21:20:00</td>\n",
              "      <td>Atlantic Southeast Airlines</td>\n",
              "      <td>MEI</td>\n",
              "      <td>Meridian Regional Airport</td>\n",
              "      <td>Meridian</td>\n",
              "      <td>MS</td>\n",
              "      <td>USA</td>\n",
              "      <td>32.33313</td>\n",
              "      <td>-88.75121</td>\n",
              "      <td>PIB</td>\n",
              "      <td>Hattiesburg-Laurel Regional Airport</td>\n",
              "      <td>Hattiesburg-Laurel</td>\n",
              "      <td>MS</td>\n",
              "      <td>USA</td>\n",
              "      <td>31.46715</td>\n",
              "      <td>-89.33706</td>\n",
              "    </tr>\n",
              "    <tr>\n",
              "      <th>48690</th>\n",
              "      <td>2015</td>\n",
              "      <td>1</td>\n",
              "      <td>2</td>\n",
              "      <td>5</td>\n",
              "      <td>2570</td>\n",
              "      <td>N830AS</td>\n",
              "      <td>MEI</td>\n",
              "      <td>PIB</td>\n",
              "      <td>1440</td>\n",
              "      <td>1537.0</td>\n",
              "      <td>57.0</td>\n",
              "      <td>8.0</td>\n",
              "      <td>1545.0</td>\n",
              "      <td>35</td>\n",
              "      <td>29.0</td>\n",
              "      <td>17.0</td>\n",
              "      <td>69</td>\n",
              "      <td>1602.0</td>\n",
              "      <td>4.0</td>\n",
              "      <td>1515</td>\n",
              "      <td>1606.0</td>\n",
              "      <td>51.0</td>\n",
              "      <td>0</td>\n",
              "      <td>0</td>\n",
              "      <td>15:37:00</td>\n",
              "      <td>15:15:00</td>\n",
              "      <td>14:40:00</td>\n",
              "      <td>16:06:00</td>\n",
              "      <td>Atlantic Southeast Airlines</td>\n",
              "      <td>MEI</td>\n",
              "      <td>Meridian Regional Airport</td>\n",
              "      <td>Meridian</td>\n",
              "      <td>MS</td>\n",
              "      <td>USA</td>\n",
              "      <td>32.33313</td>\n",
              "      <td>-88.75121</td>\n",
              "      <td>PIB</td>\n",
              "      <td>Hattiesburg-Laurel Regional Airport</td>\n",
              "      <td>Hattiesburg-Laurel</td>\n",
              "      <td>MS</td>\n",
              "      <td>USA</td>\n",
              "      <td>31.46715</td>\n",
              "      <td>-89.33706</td>\n",
              "    </tr>\n",
              "    <tr>\n",
              "      <th>48691</th>\n",
              "      <td>2015</td>\n",
              "      <td>1</td>\n",
              "      <td>2</td>\n",
              "      <td>5</td>\n",
              "      <td>2571</td>\n",
              "      <td>N877AS</td>\n",
              "      <td>MEI</td>\n",
              "      <td>PIB</td>\n",
              "      <td>2055</td>\n",
              "      <td>2351.0</td>\n",
              "      <td>176.0</td>\n",
              "      <td>9.0</td>\n",
              "      <td>2400.0</td>\n",
              "      <td>35</td>\n",
              "      <td>34.0</td>\n",
              "      <td>21.0</td>\n",
              "      <td>69</td>\n",
              "      <td>21.0</td>\n",
              "      <td>4.0</td>\n",
              "      <td>2130</td>\n",
              "      <td>25.0</td>\n",
              "      <td>175.0</td>\n",
              "      <td>0</td>\n",
              "      <td>0</td>\n",
              "      <td>23:51:00</td>\n",
              "      <td>21:30:00</td>\n",
              "      <td>20:55:00</td>\n",
              "      <td>00:25:00</td>\n",
              "      <td>Atlantic Southeast Airlines</td>\n",
              "      <td>MEI</td>\n",
              "      <td>Meridian Regional Airport</td>\n",
              "      <td>Meridian</td>\n",
              "      <td>MS</td>\n",
              "      <td>USA</td>\n",
              "      <td>32.33313</td>\n",
              "      <td>-88.75121</td>\n",
              "      <td>PIB</td>\n",
              "      <td>Hattiesburg-Laurel Regional Airport</td>\n",
              "      <td>Hattiesburg-Laurel</td>\n",
              "      <td>MS</td>\n",
              "      <td>USA</td>\n",
              "      <td>31.46715</td>\n",
              "      <td>-89.33706</td>\n",
              "    </tr>\n",
              "    <tr>\n",
              "      <th>48692</th>\n",
              "      <td>2015</td>\n",
              "      <td>1</td>\n",
              "      <td>3</td>\n",
              "      <td>6</td>\n",
              "      <td>2571</td>\n",
              "      <td>N902EV</td>\n",
              "      <td>MEI</td>\n",
              "      <td>PIB</td>\n",
              "      <td>2055</td>\n",
              "      <td>2125.0</td>\n",
              "      <td>30.0</td>\n",
              "      <td>8.0</td>\n",
              "      <td>2133.0</td>\n",
              "      <td>35</td>\n",
              "      <td>32.0</td>\n",
              "      <td>15.0</td>\n",
              "      <td>69</td>\n",
              "      <td>2148.0</td>\n",
              "      <td>9.0</td>\n",
              "      <td>2130</td>\n",
              "      <td>2157.0</td>\n",
              "      <td>27.0</td>\n",
              "      <td>0</td>\n",
              "      <td>0</td>\n",
              "      <td>21:25:00</td>\n",
              "      <td>21:30:00</td>\n",
              "      <td>20:55:00</td>\n",
              "      <td>21:57:00</td>\n",
              "      <td>Atlantic Southeast Airlines</td>\n",
              "      <td>MEI</td>\n",
              "      <td>Meridian Regional Airport</td>\n",
              "      <td>Meridian</td>\n",
              "      <td>MS</td>\n",
              "      <td>USA</td>\n",
              "      <td>32.33313</td>\n",
              "      <td>-88.75121</td>\n",
              "      <td>PIB</td>\n",
              "      <td>Hattiesburg-Laurel Regional Airport</td>\n",
              "      <td>Hattiesburg-Laurel</td>\n",
              "      <td>MS</td>\n",
              "      <td>USA</td>\n",
              "      <td>31.46715</td>\n",
              "      <td>-89.33706</td>\n",
              "    </tr>\n",
              "  </tbody>\n",
              "</table>\n",
              "<p>48693 rows × 43 columns</p>\n",
              "</div>"
            ],
            "text/plain": [
              "       YEAR  MONTH  DAY  DAY_OF_WEEK  ...  STATE_y COUNTRY_y LATITUDE_y LONGITUDE_y\n",
              "0      2015      1    1            4  ...       WA       USA   47.44898  -122.30931\n",
              "1      2015      1    1            4  ...       WA       USA   47.44898  -122.30931\n",
              "2      2015      1    1            4  ...       WA       USA   47.44898  -122.30931\n",
              "3      2015      1    1            4  ...       WA       USA   47.44898  -122.30931\n",
              "4      2015      1    1            4  ...       WA       USA   47.44898  -122.30931\n",
              "...     ...    ...  ...          ...  ...      ...       ...        ...         ...\n",
              "48688  2015      1    1            4  ...       MS       USA   31.46715   -89.33706\n",
              "48689  2015      1    1            4  ...       MS       USA   31.46715   -89.33706\n",
              "48690  2015      1    2            5  ...       MS       USA   31.46715   -89.33706\n",
              "48691  2015      1    2            5  ...       MS       USA   31.46715   -89.33706\n",
              "48692  2015      1    3            6  ...       MS       USA   31.46715   -89.33706\n",
              "\n",
              "[48693 rows x 43 columns]"
            ]
          },
          "metadata": {
            "tags": []
          },
          "execution_count": 612
        }
      ]
    },
    {
      "cell_type": "code",
      "metadata": {
        "id": "qNIF5-EOow1G"
      },
      "source": [
        "data_vizual = pd.DataFrame(flightsinfo2[['AIRLINE','Org_Airport_Name','Origin_city',\n",
        "                               'Dest_Airport_Name','Destination_city','ORIGIN_AIRPORT',\n",
        "                               'DESTINATION_AIRPORT','DISTANCE','Actual_Departure',\n",
        "                               'Scheduled_Departure','DEPARTURE_DELAY','Actual_Arrival','Scheduled_Arrival','ARRIVAL_DELAY',\n",
        "                              'SCHEDULED_TIME','ELAPSED_TIME','AIR_TIME','TAXI_IN','TAXI_OUT','DIVERTED',]])"
      ],
      "execution_count": 613,
      "outputs": []
    },
    {
      "cell_type": "code",
      "metadata": {
        "colab": {
          "base_uri": "https://localhost:8080/"
        },
        "id": "-yAOiLsrpJOL",
        "outputId": "ad517c7b-49ef-4a7e-9dd5-8e0de99a35ea"
      },
      "source": [
        "flightsinfo2.DEPARTURE_TIME.dtype"
      ],
      "execution_count": 614,
      "outputs": [
        {
          "output_type": "execute_result",
          "data": {
            "text/plain": [
              "dtype('float64')"
            ]
          },
          "metadata": {
            "tags": []
          },
          "execution_count": 614
        }
      ]
    },
    {
      "cell_type": "code",
      "metadata": {
        "id": "AE1tCa28pN0O"
      },
      "source": [
        "data_vizual = data_vizual.dropna(subset = ['Actual_Departure','Actual_Arrival'])"
      ],
      "execution_count": 615,
      "outputs": []
    },
    {
      "cell_type": "code",
      "metadata": {
        "colab": {
          "base_uri": "https://localhost:8080/"
        },
        "id": "Dse2NSECpPeF",
        "outputId": "0014ba57-e54c-481a-d93e-a9a2a4944b51"
      },
      "source": [
        "data_vizual.info()"
      ],
      "execution_count": 616,
      "outputs": [
        {
          "output_type": "stream",
          "text": [
            "<class 'pandas.core.frame.DataFrame'>\n",
            "Int64Index: 48672 entries, 0 to 48692\n",
            "Data columns (total 20 columns):\n",
            " #   Column               Non-Null Count  Dtype  \n",
            "---  ------               --------------  -----  \n",
            " 0   AIRLINE              48672 non-null  object \n",
            " 1   Org_Airport_Name     48672 non-null  object \n",
            " 2   Origin_city          48672 non-null  object \n",
            " 3   Dest_Airport_Name    48672 non-null  object \n",
            " 4   Destination_city     48672 non-null  object \n",
            " 5   ORIGIN_AIRPORT       48672 non-null  object \n",
            " 6   DESTINATION_AIRPORT  48672 non-null  object \n",
            " 7   DISTANCE             48672 non-null  int64  \n",
            " 8   Actual_Departure     48672 non-null  object \n",
            " 9   Scheduled_Departure  48672 non-null  object \n",
            " 10  DEPARTURE_DELAY      48672 non-null  float64\n",
            " 11  Actual_Arrival       48672 non-null  object \n",
            " 12  Scheduled_Arrival    48672 non-null  object \n",
            " 13  ARRIVAL_DELAY        48672 non-null  float64\n",
            " 14  SCHEDULED_TIME       48672 non-null  int64  \n",
            " 15  ELAPSED_TIME         48672 non-null  float64\n",
            " 16  AIR_TIME             48672 non-null  float64\n",
            " 17  TAXI_IN              48672 non-null  float64\n",
            " 18  TAXI_OUT             48672 non-null  float64\n",
            " 19  DIVERTED             48672 non-null  int64  \n",
            "dtypes: float64(6), int64(3), object(11)\n",
            "memory usage: 7.8+ MB\n"
          ],
          "name": "stdout"
        }
      ]
    },
    {
      "cell_type": "code",
      "metadata": {
        "colab": {
          "base_uri": "https://localhost:8080/",
          "height": 758
        },
        "id": "p1PBpY2apRIr",
        "outputId": "3405f5dd-6dd4-4945-a5b2-54374f3919d3"
      },
      "source": [
        "Flights = data_vizual\n",
        "Flights"
      ],
      "execution_count": 617,
      "outputs": [
        {
          "output_type": "execute_result",
          "data": {
            "text/html": [
              "<div>\n",
              "<style scoped>\n",
              "    .dataframe tbody tr th:only-of-type {\n",
              "        vertical-align: middle;\n",
              "    }\n",
              "\n",
              "    .dataframe tbody tr th {\n",
              "        vertical-align: top;\n",
              "    }\n",
              "\n",
              "    .dataframe thead th {\n",
              "        text-align: right;\n",
              "    }\n",
              "</style>\n",
              "<table border=\"1\" class=\"dataframe\">\n",
              "  <thead>\n",
              "    <tr style=\"text-align: right;\">\n",
              "      <th></th>\n",
              "      <th>AIRLINE</th>\n",
              "      <th>Org_Airport_Name</th>\n",
              "      <th>Origin_city</th>\n",
              "      <th>Dest_Airport_Name</th>\n",
              "      <th>Destination_city</th>\n",
              "      <th>ORIGIN_AIRPORT</th>\n",
              "      <th>DESTINATION_AIRPORT</th>\n",
              "      <th>DISTANCE</th>\n",
              "      <th>Actual_Departure</th>\n",
              "      <th>Scheduled_Departure</th>\n",
              "      <th>DEPARTURE_DELAY</th>\n",
              "      <th>Actual_Arrival</th>\n",
              "      <th>Scheduled_Arrival</th>\n",
              "      <th>ARRIVAL_DELAY</th>\n",
              "      <th>SCHEDULED_TIME</th>\n",
              "      <th>ELAPSED_TIME</th>\n",
              "      <th>AIR_TIME</th>\n",
              "      <th>TAXI_IN</th>\n",
              "      <th>TAXI_OUT</th>\n",
              "      <th>DIVERTED</th>\n",
              "    </tr>\n",
              "  </thead>\n",
              "  <tbody>\n",
              "    <tr>\n",
              "      <th>0</th>\n",
              "      <td>Alaska Airlines Inc.</td>\n",
              "      <td>Ted Stevens Anchorage International Airport</td>\n",
              "      <td>Anchorage</td>\n",
              "      <td>Seattle-Tacoma International Airport</td>\n",
              "      <td>Seattle</td>\n",
              "      <td>ANC</td>\n",
              "      <td>SEA</td>\n",
              "      <td>1448</td>\n",
              "      <td>23:54:00</td>\n",
              "      <td>00:05:00</td>\n",
              "      <td>-11.0</td>\n",
              "      <td>04:08:00</td>\n",
              "      <td>04:30:00</td>\n",
              "      <td>-22.0</td>\n",
              "      <td>205</td>\n",
              "      <td>194.0</td>\n",
              "      <td>169.0</td>\n",
              "      <td>4.0</td>\n",
              "      <td>21.0</td>\n",
              "      <td>0</td>\n",
              "    </tr>\n",
              "    <tr>\n",
              "      <th>1</th>\n",
              "      <td>Alaska Airlines Inc.</td>\n",
              "      <td>Ted Stevens Anchorage International Airport</td>\n",
              "      <td>Anchorage</td>\n",
              "      <td>Seattle-Tacoma International Airport</td>\n",
              "      <td>Seattle</td>\n",
              "      <td>ANC</td>\n",
              "      <td>SEA</td>\n",
              "      <td>1448</td>\n",
              "      <td>00:41:00</td>\n",
              "      <td>00:45:00</td>\n",
              "      <td>-4.0</td>\n",
              "      <td>04:55:00</td>\n",
              "      <td>05:09:00</td>\n",
              "      <td>-14.0</td>\n",
              "      <td>204</td>\n",
              "      <td>194.0</td>\n",
              "      <td>173.0</td>\n",
              "      <td>4.0</td>\n",
              "      <td>17.0</td>\n",
              "      <td>0</td>\n",
              "    </tr>\n",
              "    <tr>\n",
              "      <th>2</th>\n",
              "      <td>Alaska Airlines Inc.</td>\n",
              "      <td>Ted Stevens Anchorage International Airport</td>\n",
              "      <td>Anchorage</td>\n",
              "      <td>Seattle-Tacoma International Airport</td>\n",
              "      <td>Seattle</td>\n",
              "      <td>ANC</td>\n",
              "      <td>SEA</td>\n",
              "      <td>1448</td>\n",
              "      <td>01:40:00</td>\n",
              "      <td>01:55:00</td>\n",
              "      <td>-15.0</td>\n",
              "      <td>05:58:00</td>\n",
              "      <td>06:33:00</td>\n",
              "      <td>-35.0</td>\n",
              "      <td>218</td>\n",
              "      <td>198.0</td>\n",
              "      <td>170.0</td>\n",
              "      <td>11.0</td>\n",
              "      <td>17.0</td>\n",
              "      <td>0</td>\n",
              "    </tr>\n",
              "    <tr>\n",
              "      <th>3</th>\n",
              "      <td>Alaska Airlines Inc.</td>\n",
              "      <td>Ted Stevens Anchorage International Airport</td>\n",
              "      <td>Anchorage</td>\n",
              "      <td>Seattle-Tacoma International Airport</td>\n",
              "      <td>Seattle</td>\n",
              "      <td>ANC</td>\n",
              "      <td>SEA</td>\n",
              "      <td>1448</td>\n",
              "      <td>02:09:00</td>\n",
              "      <td>02:20:00</td>\n",
              "      <td>-11.0</td>\n",
              "      <td>06:28:00</td>\n",
              "      <td>06:40:00</td>\n",
              "      <td>-12.0</td>\n",
              "      <td>200</td>\n",
              "      <td>199.0</td>\n",
              "      <td>176.0</td>\n",
              "      <td>8.0</td>\n",
              "      <td>15.0</td>\n",
              "      <td>0</td>\n",
              "    </tr>\n",
              "    <tr>\n",
              "      <th>4</th>\n",
              "      <td>Alaska Airlines Inc.</td>\n",
              "      <td>Ted Stevens Anchorage International Airport</td>\n",
              "      <td>Anchorage</td>\n",
              "      <td>Seattle-Tacoma International Airport</td>\n",
              "      <td>Seattle</td>\n",
              "      <td>ANC</td>\n",
              "      <td>SEA</td>\n",
              "      <td>1448</td>\n",
              "      <td>04:57:00</td>\n",
              "      <td>05:05:00</td>\n",
              "      <td>-8.0</td>\n",
              "      <td>09:16:00</td>\n",
              "      <td>09:30:00</td>\n",
              "      <td>-14.0</td>\n",
              "      <td>205</td>\n",
              "      <td>199.0</td>\n",
              "      <td>179.0</td>\n",
              "      <td>4.0</td>\n",
              "      <td>16.0</td>\n",
              "      <td>0</td>\n",
              "    </tr>\n",
              "    <tr>\n",
              "      <th>...</th>\n",
              "      <td>...</td>\n",
              "      <td>...</td>\n",
              "      <td>...</td>\n",
              "      <td>...</td>\n",
              "      <td>...</td>\n",
              "      <td>...</td>\n",
              "      <td>...</td>\n",
              "      <td>...</td>\n",
              "      <td>...</td>\n",
              "      <td>...</td>\n",
              "      <td>...</td>\n",
              "      <td>...</td>\n",
              "      <td>...</td>\n",
              "      <td>...</td>\n",
              "      <td>...</td>\n",
              "      <td>...</td>\n",
              "      <td>...</td>\n",
              "      <td>...</td>\n",
              "      <td>...</td>\n",
              "      <td>...</td>\n",
              "    </tr>\n",
              "    <tr>\n",
              "      <th>48688</th>\n",
              "      <td>Atlantic Southeast Airlines</td>\n",
              "      <td>Meridian Regional Airport</td>\n",
              "      <td>Meridian</td>\n",
              "      <td>Hattiesburg-Laurel Regional Airport</td>\n",
              "      <td>Hattiesburg-Laurel</td>\n",
              "      <td>MEI</td>\n",
              "      <td>PIB</td>\n",
              "      <td>69</td>\n",
              "      <td>14:47:00</td>\n",
              "      <td>14:40:00</td>\n",
              "      <td>7.0</td>\n",
              "      <td>15:25:00</td>\n",
              "      <td>15:15:00</td>\n",
              "      <td>10.0</td>\n",
              "      <td>35</td>\n",
              "      <td>38.0</td>\n",
              "      <td>24.0</td>\n",
              "      <td>3.0</td>\n",
              "      <td>11.0</td>\n",
              "      <td>0</td>\n",
              "    </tr>\n",
              "    <tr>\n",
              "      <th>48689</th>\n",
              "      <td>Atlantic Southeast Airlines</td>\n",
              "      <td>Meridian Regional Airport</td>\n",
              "      <td>Meridian</td>\n",
              "      <td>Hattiesburg-Laurel Regional Airport</td>\n",
              "      <td>Hattiesburg-Laurel</td>\n",
              "      <td>MEI</td>\n",
              "      <td>PIB</td>\n",
              "      <td>69</td>\n",
              "      <td>20:51:00</td>\n",
              "      <td>20:55:00</td>\n",
              "      <td>-4.0</td>\n",
              "      <td>21:20:00</td>\n",
              "      <td>21:30:00</td>\n",
              "      <td>-10.0</td>\n",
              "      <td>35</td>\n",
              "      <td>29.0</td>\n",
              "      <td>21.0</td>\n",
              "      <td>3.0</td>\n",
              "      <td>5.0</td>\n",
              "      <td>0</td>\n",
              "    </tr>\n",
              "    <tr>\n",
              "      <th>48690</th>\n",
              "      <td>Atlantic Southeast Airlines</td>\n",
              "      <td>Meridian Regional Airport</td>\n",
              "      <td>Meridian</td>\n",
              "      <td>Hattiesburg-Laurel Regional Airport</td>\n",
              "      <td>Hattiesburg-Laurel</td>\n",
              "      <td>MEI</td>\n",
              "      <td>PIB</td>\n",
              "      <td>69</td>\n",
              "      <td>15:37:00</td>\n",
              "      <td>14:40:00</td>\n",
              "      <td>57.0</td>\n",
              "      <td>16:06:00</td>\n",
              "      <td>15:15:00</td>\n",
              "      <td>51.0</td>\n",
              "      <td>35</td>\n",
              "      <td>29.0</td>\n",
              "      <td>17.0</td>\n",
              "      <td>4.0</td>\n",
              "      <td>8.0</td>\n",
              "      <td>0</td>\n",
              "    </tr>\n",
              "    <tr>\n",
              "      <th>48691</th>\n",
              "      <td>Atlantic Southeast Airlines</td>\n",
              "      <td>Meridian Regional Airport</td>\n",
              "      <td>Meridian</td>\n",
              "      <td>Hattiesburg-Laurel Regional Airport</td>\n",
              "      <td>Hattiesburg-Laurel</td>\n",
              "      <td>MEI</td>\n",
              "      <td>PIB</td>\n",
              "      <td>69</td>\n",
              "      <td>23:51:00</td>\n",
              "      <td>20:55:00</td>\n",
              "      <td>176.0</td>\n",
              "      <td>00:25:00</td>\n",
              "      <td>21:30:00</td>\n",
              "      <td>175.0</td>\n",
              "      <td>35</td>\n",
              "      <td>34.0</td>\n",
              "      <td>21.0</td>\n",
              "      <td>4.0</td>\n",
              "      <td>9.0</td>\n",
              "      <td>0</td>\n",
              "    </tr>\n",
              "    <tr>\n",
              "      <th>48692</th>\n",
              "      <td>Atlantic Southeast Airlines</td>\n",
              "      <td>Meridian Regional Airport</td>\n",
              "      <td>Meridian</td>\n",
              "      <td>Hattiesburg-Laurel Regional Airport</td>\n",
              "      <td>Hattiesburg-Laurel</td>\n",
              "      <td>MEI</td>\n",
              "      <td>PIB</td>\n",
              "      <td>69</td>\n",
              "      <td>21:25:00</td>\n",
              "      <td>20:55:00</td>\n",
              "      <td>30.0</td>\n",
              "      <td>21:57:00</td>\n",
              "      <td>21:30:00</td>\n",
              "      <td>27.0</td>\n",
              "      <td>35</td>\n",
              "      <td>32.0</td>\n",
              "      <td>15.0</td>\n",
              "      <td>9.0</td>\n",
              "      <td>8.0</td>\n",
              "      <td>0</td>\n",
              "    </tr>\n",
              "  </tbody>\n",
              "</table>\n",
              "<p>48672 rows × 20 columns</p>\n",
              "</div>"
            ],
            "text/plain": [
              "                           AIRLINE  ... DIVERTED\n",
              "0             Alaska Airlines Inc.  ...        0\n",
              "1             Alaska Airlines Inc.  ...        0\n",
              "2             Alaska Airlines Inc.  ...        0\n",
              "3             Alaska Airlines Inc.  ...        0\n",
              "4             Alaska Airlines Inc.  ...        0\n",
              "...                            ...  ...      ...\n",
              "48688  Atlantic Southeast Airlines  ...        0\n",
              "48689  Atlantic Southeast Airlines  ...        0\n",
              "48690  Atlantic Southeast Airlines  ...        0\n",
              "48691  Atlantic Southeast Airlines  ...        0\n",
              "48692  Atlantic Southeast Airlines  ...        0\n",
              "\n",
              "[48672 rows x 20 columns]"
            ]
          },
          "metadata": {
            "tags": []
          },
          "execution_count": 617
        }
      ]
    },
    {
      "cell_type": "markdown",
      "metadata": {
        "id": "30JG-ijrEBkl"
      },
      "source": [
        "### Data Visualization"
      ]
    },
    {
      "cell_type": "code",
      "metadata": {
        "colab": {
          "base_uri": "https://localhost:8080/",
          "height": 729
        },
        "id": "_2nvMztZpS8i",
        "outputId": "cb0e1bce-93de-4129-a0cc-ae92db3583ef"
      },
      "source": [
        "plt.figure(figsize=(10, 10))\n",
        "axis = sns.countplot(y=Flights['Origin_city'], data = Flights,\n",
        "              order=Flights['Origin_city'].value_counts().iloc[:20].index,palette=\"Set2\")\n",
        "axis.set_yticklabels(axis.get_yticklabels())\n",
        "plt.tight_layout()\n",
        "plt.show()"
      ],
      "execution_count": 618,
      "outputs": [
        {
          "output_type": "display_data",
          "data": {
            "image/png": "[encoded data removed]",
            "text/plain": [
              "<Figure size 720x720 with 1 Axes>"
            ]
          },
          "metadata": {
            "tags": [],
            "needs_background": "light"
          }
        }
      ]
    },
    {
      "cell_type": "code",
      "metadata": {
        "colab": {
          "base_uri": "https://localhost:8080/",
          "height": 606
        },
        "id": "FcTnp6-tpUrC",
        "outputId": "f254aa30-87f3-4637-d24c-bf707e182d77"
      },
      "source": [
        "axis = plt.subplots(figsize=(10,10))\n",
        "sns.despine(bottom=True, left=True)\n",
        "sns.stripplot(x=\"ARRIVAL_DELAY\", y=\"AIRLINE\",data = Flights, dodge=True, jitter=True,palette=\"Set1\")\n",
        "plt.show()"
      ],
      "execution_count": 619,
      "outputs": [
        {
          "output_type": "display_data",
          "data": {
            "image/png": "[encoded data removed]",
            "text/plain": [
              "<Figure size 720x720 with 1 Axes>"
            ]
          },
          "metadata": {
            "tags": [],
            "needs_background": "light"
          }
        }
      ]
    },
    {
      "cell_type": "code",
      "metadata": {
        "colab": {
          "base_uri": "https://localhost:8080/",
          "height": 705
        },
        "id": "jtoFyhL2pV-o",
        "outputId": "1fc71746-bfd9-4c17-a833-0052419ac76e"
      },
      "source": [
        "axis = plt.subplots(figsize=(18,12))\n",
        "\n",
        "Flightscorr=pd.DataFrame(Flights[['DISTANCE','DEPARTURE_DELAY','SCHEDULED_TIME','AIR_TIME','TAXI_IN','TAXI_OUT']])\n",
        "Flightscorr['Is_Delayed'] = np.where(Flights['ARRIVAL_DELAY']<=0, 0,1)\n",
        "sns.heatmap(Flightscorr.corr(),annot = True,cmap=\"YlGnBu\")\n",
        "\n",
        "b, t = plt.ylim() # discover the values for bottom and top\n",
        "#b += 0.5 # Add 0.5 to the bottom\n",
        "t -= 0.5 # Subtract 0.5 from the top\n",
        "plt.ylim(b, t) # update the ylim(bottom, top) values\n",
        "plt.show()"
      ],
      "execution_count": 620,
      "outputs": [
        {
          "output_type": "display_data",
          "data": {
            "image/png": "[encoded data removed]",
            "text/plain": [
              "<Figure size 1296x864 with 2 Axes>"
            ]
          },
          "metadata": {
            "tags": [],
            "needs_background": "light"
          }
        }
      ]
    },
    {
      "cell_type": "code",
      "metadata": {
        "colab": {
          "base_uri": "https://localhost:8080/",
          "height": 729
        },
        "id": "0JLB6z1RptDK",
        "outputId": "53488c76-e2cf-4a09-9d0f-50e5254824f0"
      },
      "source": [
        "plt.figure(figsize=(10, 10))\n",
        "axis = sns.countplot(x=Flights['ORIGIN_AIRPORT'], data =Flights,\n",
        "              order=Flights['ORIGIN_AIRPORT'].value_counts().iloc[:20].index)\n",
        "axis.set_xticklabels(axis.get_xticklabels(), rotation=90, ha=\"right\")\n",
        "plt.tight_layout()\n",
        "plt.show()"
      ],
      "execution_count": 621,
      "outputs": [
        {
          "output_type": "display_data",
          "data": {
            "image/png": "[encoded data removed]",
            "text/plain": [
              "<Figure size 720x720 with 1 Axes>"
            ]
          },
          "metadata": {
            "tags": [],
            "needs_background": "light"
          }
        }
      ]
    },
    {
      "cell_type": "code",
      "metadata": {
        "colab": {
          "base_uri": "https://localhost:8080/",
          "height": 589
        },
        "id": "x2qb5A3tpw9F",
        "outputId": "887742ca-844c-4723-fcff-4f9ad280ffa0"
      },
      "source": [
        "axis = plt.subplots(figsize=(10,14))\n",
        "Name = Flights[\"AIRLINE\"].unique()\n",
        "size = Flights[\"AIRLINE\"].value_counts()\n",
        "plt.pie(size,labels=Name,autopct='%5.0f%%')\n",
        "plt.show()"
      ],
      "execution_count": 622,
      "outputs": [
        {
          "output_type": "display_data",
          "data": {
            "image/png": "[encoded data removed]",
            "text/plain": [
              "<Figure size 720x1008 with 1 Axes>"
            ]
          },
          "metadata": {
            "tags": []
          }
        }
      ]
    },
    {
      "cell_type": "code",
      "metadata": {
        "colab": {
          "base_uri": "https://localhost:8080/",
          "height": 431
        },
        "id": "bVyBUC_lDerq",
        "outputId": "bc99b495-9686-415c-f594-01459a7fcadd"
      },
      "source": [
        "delay_type = lambda x:((0,1)[x > 5],2)[x > 45]\n",
        "flightsinfo['DELAY_LEVEL'] = flightsinfo['DEPARTURE_DELAY'].apply(delay_type)\n",
        "\n",
        "fig = plt.figure(1, figsize=(10,7))\n",
        "ax = sns.countplot(x=\"AIRLINE\", hue='DELAY_LEVEL', data=flightsinfo, palette= [\"#00FF00\",\"#FFA500\",\"#FF0000\"])\n",
        "\n",
        "labels = ax.get_xticklabels()\n",
        "ax.set_xticklabels(labels)\n",
        "plt.setp(ax.get_yticklabels(), fontsize=12, weight = 'normal', rotation = 0);\n",
        "plt.setp(ax.get_xticklabels(), fontsize=12, weight = 'normal', rotation = 0);\n",
        "ax.xaxis.label.set_visible(False)\n",
        "plt.ylabel('No. of Flights', fontsize=16, weight = 'bold', labelpad=10)\n",
        "\n",
        "L = plt.legend()\n",
        "L.get_texts()[0].set_text('on time (t < 5 min)')\n",
        "L.get_texts()[1].set_text('small delay (5 < t < 45 min)')\n",
        "L.get_texts()[2].set_text('large delay (t > 45 min)')\n",
        "plt.show()"
      ],
      "execution_count": 623,
      "outputs": [
        {
          "output_type": "display_data",
          "data": {
            "image/png": "[encoded data removed]",
            "text/plain": [
              "<Figure size 720x504 with 1 Axes>"
            ]
          },
          "metadata": {
            "tags": [],
            "needs_background": "light"
          }
        }
      ]
    },
    {
      "cell_type": "code",
      "metadata": {
        "id": "YtG1V1tVr-2G"
      },
      "source": [
        "Flights1 = Flights.drop(['Org_Airport_Name','Origin_city','Dest_Airport_Name','Destination_city'],axis = 1)"
      ],
      "execution_count": 624,
      "outputs": []
    },
    {
      "cell_type": "code",
      "metadata": {
        "colab": {
          "base_uri": "https://localhost:8080/"
        },
        "id": "0Cq9JuawsBWE",
        "outputId": "a278e839-6467-4ac2-ab46-3b8cf33932b4"
      },
      "source": [
        "Flights1.columns"
      ],
      "execution_count": 625,
      "outputs": [
        {
          "output_type": "execute_result",
          "data": {
            "text/plain": [
              "Index(['AIRLINE', 'ORIGIN_AIRPORT', 'DESTINATION_AIRPORT', 'DISTANCE',\n",
              "       'Actual_Departure', 'Scheduled_Departure', 'DEPARTURE_DELAY',\n",
              "       'Actual_Arrival', 'Scheduled_Arrival', 'ARRIVAL_DELAY',\n",
              "       'SCHEDULED_TIME', 'ELAPSED_TIME', 'AIR_TIME', 'TAXI_IN', 'TAXI_OUT',\n",
              "       'DIVERTED'],\n",
              "      dtype='object')"
            ]
          },
          "metadata": {
            "tags": []
          },
          "execution_count": 625
        }
      ]
    },
    {
      "cell_type": "markdown",
      "metadata": {
        "id": "UJ4oBc5ZrSBW"
      },
      "source": [
        "## Predicting whether the flight is Delayed or Not"
      ]
    },
    {
      "cell_type": "code",
      "metadata": {
        "id": "Ppb877qArz7Q"
      },
      "source": [
        "from sklearn.preprocessing import StandardScaler\n",
        "from sklearn.model_selection import train_test_split\n",
        "from sklearn.preprocessing import LabelEncoder"
      ],
      "execution_count": 626,
      "outputs": []
    },
    {
      "cell_type": "code",
      "metadata": {
        "id": "Q1iFKSpbr0zh"
      },
      "source": [
        "le = LabelEncoder()"
      ],
      "execution_count": 627,
      "outputs": []
    },
    {
      "cell_type": "markdown",
      "metadata": {
        "id": "Y0CNz8pbr2Yy"
      },
      "source": [
        "Applying Label encoder to convert text values to numbers"
      ]
    },
    {
      "cell_type": "code",
      "metadata": {
        "colab": {
          "base_uri": "https://localhost:8080/"
        },
        "id": "hk0N4l_zrflK",
        "outputId": "36b56bb3-5d5c-40d8-e044-5ec03c33e82b"
      },
      "source": [
        "Flights1['AIRLINE']= le.fit_transform(Flights1['AIRLINE'])\n",
        "\n",
        "Flights1['ORIGIN_AIRPORT'] = le.fit_transform(Flights1['ORIGIN_AIRPORT'])\n",
        "\n",
        "Flights1['DESTINATION_AIRPORT'] = le.fit_transform(Flights1['DESTINATION_AIRPORT'])\n",
        "mapping = dict(zip(le.classes_, range(len(le.classes_))))\n",
        "mapping\n",
        "mapping"
      ],
      "execution_count": 628,
      "outputs": [
        {
          "output_type": "execute_result",
          "data": {
            "text/plain": [
              "{'ABE': 0,\n",
              " 'ABI': 1,\n",
              " 'ABQ': 2,\n",
              " 'ABR': 3,\n",
              " 'ABY': 4,\n",
              " 'ACT': 5,\n",
              " 'ACV': 6,\n",
              " 'ACY': 7,\n",
              " 'ADK': 8,\n",
              " 'ADQ': 9,\n",
              " 'AEX': 10,\n",
              " 'AGS': 11,\n",
              " 'ALB': 12,\n",
              " 'ALO': 13,\n",
              " 'AMA': 14,\n",
              " 'ANC': 15,\n",
              " 'APN': 16,\n",
              " 'ASE': 17,\n",
              " 'ATL': 18,\n",
              " 'ATW': 19,\n",
              " 'AUS': 20,\n",
              " 'AVL': 21,\n",
              " 'AVP': 22,\n",
              " 'AZO': 23,\n",
              " 'BDL': 24,\n",
              " 'BET': 25,\n",
              " 'BFL': 26,\n",
              " 'BHM': 27,\n",
              " 'BIL': 28,\n",
              " 'BIS': 29,\n",
              " 'BJI': 30,\n",
              " 'BLI': 31,\n",
              " 'BMI': 32,\n",
              " 'BNA': 33,\n",
              " 'BOI': 34,\n",
              " 'BOS': 35,\n",
              " 'BPT': 36,\n",
              " 'BQK': 37,\n",
              " 'BQN': 38,\n",
              " 'BRD': 39,\n",
              " 'BRO': 40,\n",
              " 'BRW': 41,\n",
              " 'BTM': 42,\n",
              " 'BTR': 43,\n",
              " 'BTV': 44,\n",
              " 'BUF': 45,\n",
              " 'BUR': 46,\n",
              " 'BWI': 47,\n",
              " 'BZN': 48,\n",
              " 'CAE': 49,\n",
              " 'CAK': 50,\n",
              " 'CDC': 51,\n",
              " 'CDV': 52,\n",
              " 'CEC': 53,\n",
              " 'CHA': 54,\n",
              " 'CHO': 55,\n",
              " 'CHS': 56,\n",
              " 'CID': 57,\n",
              " 'CIU': 58,\n",
              " 'CLD': 59,\n",
              " 'CLE': 60,\n",
              " 'CLL': 61,\n",
              " 'CLT': 62,\n",
              " 'CMH': 63,\n",
              " 'CMI': 64,\n",
              " 'CMX': 65,\n",
              " 'CNY': 66,\n",
              " 'COD': 67,\n",
              " 'COS': 68,\n",
              " 'COU': 69,\n",
              " 'CPR': 70,\n",
              " 'CRP': 71,\n",
              " 'CRW': 72,\n",
              " 'CSG': 73,\n",
              " 'CVG': 74,\n",
              " 'CWA': 75,\n",
              " 'DAB': 76,\n",
              " 'DAL': 77,\n",
              " 'DAY': 78,\n",
              " 'DBQ': 79,\n",
              " 'DCA': 80,\n",
              " 'DEN': 81,\n",
              " 'DFW': 82,\n",
              " 'DHN': 83,\n",
              " 'DIK': 84,\n",
              " 'DLH': 85,\n",
              " 'DRO': 86,\n",
              " 'DSM': 87,\n",
              " 'DTW': 88,\n",
              " 'DVL': 89,\n",
              " 'EAU': 90,\n",
              " 'EGE': 91,\n",
              " 'EKO': 92,\n",
              " 'ELM': 93,\n",
              " 'ELP': 94,\n",
              " 'ERI': 95,\n",
              " 'ESC': 96,\n",
              " 'EUG': 97,\n",
              " 'EVV': 98,\n",
              " 'EWN': 99,\n",
              " 'EWR': 100,\n",
              " 'EYW': 101,\n",
              " 'FAI': 102,\n",
              " 'FAR': 103,\n",
              " 'FAT': 104,\n",
              " 'FAY': 105,\n",
              " 'FCA': 106,\n",
              " 'FLG': 107,\n",
              " 'FLL': 108,\n",
              " 'FNT': 109,\n",
              " 'FSD': 110,\n",
              " 'FSM': 111,\n",
              " 'FWA': 112,\n",
              " 'GCC': 113,\n",
              " 'GCK': 114,\n",
              " 'GEG': 115,\n",
              " 'GGG': 116,\n",
              " 'GJT': 117,\n",
              " 'GNV': 118,\n",
              " 'GPT': 119,\n",
              " 'GRB': 120,\n",
              " 'GRI': 121,\n",
              " 'GRK': 122,\n",
              " 'GRR': 123,\n",
              " 'GSO': 124,\n",
              " 'GSP': 125,\n",
              " 'GTF': 126,\n",
              " 'GTR': 127,\n",
              " 'GUC': 128,\n",
              " 'GUM': 129,\n",
              " 'HDN': 130,\n",
              " 'HIB': 131,\n",
              " 'HLN': 132,\n",
              " 'HNL': 133,\n",
              " 'HOB': 134,\n",
              " 'HOU': 135,\n",
              " 'HPN': 136,\n",
              " 'HRL': 137,\n",
              " 'HSV': 138,\n",
              " 'HYS': 139,\n",
              " 'IAD': 140,\n",
              " 'IAG': 141,\n",
              " 'IAH': 142,\n",
              " 'ICT': 143,\n",
              " 'IDA': 144,\n",
              " 'ILG': 145,\n",
              " 'ILM': 146,\n",
              " 'IMT': 147,\n",
              " 'IND': 148,\n",
              " 'INL': 149,\n",
              " 'ISN': 150,\n",
              " 'ISP': 151,\n",
              " 'ITO': 152,\n",
              " 'JAC': 153,\n",
              " 'JAN': 154,\n",
              " 'JAX': 155,\n",
              " 'JFK': 156,\n",
              " 'JLN': 157,\n",
              " 'JMS': 158,\n",
              " 'JNU': 159,\n",
              " 'KOA': 160,\n",
              " 'KTN': 161,\n",
              " 'LAN': 162,\n",
              " 'LAR': 163,\n",
              " 'LAS': 164,\n",
              " 'LAW': 165,\n",
              " 'LAX': 166,\n",
              " 'LBB': 167,\n",
              " 'LBE': 168,\n",
              " 'LCH': 169,\n",
              " 'LEX': 170,\n",
              " 'LFT': 171,\n",
              " 'LGA': 172,\n",
              " 'LGB': 173,\n",
              " 'LIH': 174,\n",
              " 'LIT': 175,\n",
              " 'LNK': 176,\n",
              " 'LRD': 177,\n",
              " 'LSE': 178,\n",
              " 'LWS': 179,\n",
              " 'MAF': 180,\n",
              " 'MBS': 181,\n",
              " 'MCI': 182,\n",
              " 'MCO': 183,\n",
              " 'MDT': 184,\n",
              " 'MDW': 185,\n",
              " 'MEI': 186,\n",
              " 'MEM': 187,\n",
              " 'MFE': 188,\n",
              " 'MFR': 189,\n",
              " 'MGM': 190,\n",
              " 'MHK': 191,\n",
              " 'MHT': 192,\n",
              " 'MIA': 193,\n",
              " 'MKE': 194,\n",
              " 'MKG': 195,\n",
              " 'MLB': 196,\n",
              " 'MLI': 197,\n",
              " 'MLU': 198,\n",
              " 'MMH': 199,\n",
              " 'MOB': 200,\n",
              " 'MOT': 201,\n",
              " 'MQT': 202,\n",
              " 'MRY': 203,\n",
              " 'MSN': 204,\n",
              " 'MSO': 205,\n",
              " 'MSP': 206,\n",
              " 'MSY': 207,\n",
              " 'MTJ': 208,\n",
              " 'MYR': 209,\n",
              " 'OAJ': 210,\n",
              " 'OAK': 211,\n",
              " 'OGG': 212,\n",
              " 'OKC': 213,\n",
              " 'OMA': 214,\n",
              " 'OME': 215,\n",
              " 'ONT': 216,\n",
              " 'ORD': 217,\n",
              " 'ORF': 218,\n",
              " 'ORH': 219,\n",
              " 'OTH': 220,\n",
              " 'OTZ': 221,\n",
              " 'PAH': 222,\n",
              " 'PBI': 223,\n",
              " 'PDX': 224,\n",
              " 'PHF': 225,\n",
              " 'PHL': 226,\n",
              " 'PHX': 227,\n",
              " 'PIA': 228,\n",
              " 'PIB': 229,\n",
              " 'PIH': 230,\n",
              " 'PIT': 231,\n",
              " 'PLN': 232,\n",
              " 'PNS': 233,\n",
              " 'PPG': 234,\n",
              " 'PSC': 235,\n",
              " 'PSE': 236,\n",
              " 'PSG': 237,\n",
              " 'PSP': 238,\n",
              " 'PUB': 239,\n",
              " 'PVD': 240,\n",
              " 'PWM': 241,\n",
              " 'RAP': 242,\n",
              " 'RDD': 243,\n",
              " 'RDM': 244,\n",
              " 'RDU': 245,\n",
              " 'RHI': 246,\n",
              " 'RIC': 247,\n",
              " 'RKS': 248,\n",
              " 'RNO': 249,\n",
              " 'ROA': 250,\n",
              " 'ROC': 251,\n",
              " 'ROW': 252,\n",
              " 'RST': 253,\n",
              " 'RSW': 254,\n",
              " 'SAF': 255,\n",
              " 'SAN': 256,\n",
              " 'SAT': 257,\n",
              " 'SAV': 258,\n",
              " 'SBA': 259,\n",
              " 'SBN': 260,\n",
              " 'SBP': 261,\n",
              " 'SCC': 262,\n",
              " 'SCE': 263,\n",
              " 'SDF': 264,\n",
              " 'SEA': 265,\n",
              " 'SFO': 266,\n",
              " 'SGF': 267,\n",
              " 'SGU': 268,\n",
              " 'SHV': 269,\n",
              " 'SIT': 270,\n",
              " 'SJC': 271,\n",
              " 'SJT': 272,\n",
              " 'SJU': 273,\n",
              " 'SLC': 274,\n",
              " 'SMF': 275,\n",
              " 'SMX': 276,\n",
              " 'SNA': 277,\n",
              " 'SPI': 278,\n",
              " 'SPS': 279,\n",
              " 'SRQ': 280,\n",
              " 'STC': 281,\n",
              " 'STL': 282,\n",
              " 'STT': 283,\n",
              " 'STX': 284,\n",
              " 'SUN': 285,\n",
              " 'SUX': 286,\n",
              " 'SWF': 287,\n",
              " 'SYR': 288,\n",
              " 'TLH': 289,\n",
              " 'TOL': 290,\n",
              " 'TPA': 291,\n",
              " 'TRI': 292,\n",
              " 'TTN': 293,\n",
              " 'TUL': 294,\n",
              " 'TUS': 295,\n",
              " 'TVC': 296,\n",
              " 'TWF': 297,\n",
              " 'TXK': 298,\n",
              " 'TYR': 299,\n",
              " 'TYS': 300,\n",
              " 'VEL': 301,\n",
              " 'VLD': 302,\n",
              " 'VPS': 303,\n",
              " 'WRG': 304,\n",
              " 'XNA': 305,\n",
              " 'YAK': 306,\n",
              " 'YUM': 307}"
            ]
          },
          "metadata": {
            "tags": []
          },
          "execution_count": 628
        }
      ]
    },
    {
      "cell_type": "code",
      "metadata": {
        "id": "UYmj5EqYrn9y"
      },
      "source": [
        "Flights1 = Flights1.drop(['Scheduled_Departure','Scheduled_Arrival','Actual_Arrival','Actual_Departure','ELAPSED_TIME','DIVERTED','TAXI_IN'], axis = 1)"
      ],
      "execution_count": 629,
      "outputs": []
    },
    {
      "cell_type": "markdown",
      "metadata": {
        "id": "cQVMRmR4xPM4"
      },
      "source": [
        "Creating a new feature which has value only as 0 or 1 depending on it it is delayed or not"
      ]
    },
    {
      "cell_type": "code",
      "metadata": {
        "id": "M6Y9urBUswtU"
      },
      "source": [
        "Flights1['Is_Delayed'] = np.where(Flights1['ARRIVAL_DELAY']<=0, 0,1)"
      ],
      "execution_count": 630,
      "outputs": []
    },
    {
      "cell_type": "code",
      "metadata": {
        "colab": {
          "base_uri": "https://localhost:8080/",
          "height": 402
        },
        "id": "8kMsWqFxs1Qs",
        "outputId": "40ced4e7-c087-4b94-e75f-cf7dfcc6d979"
      },
      "source": [
        "Flights1"
      ],
      "execution_count": 631,
      "outputs": [
        {
          "output_type": "execute_result",
          "data": {
            "text/html": [
              "<div>\n",
              "<style scoped>\n",
              "    .dataframe tbody tr th:only-of-type {\n",
              "        vertical-align: middle;\n",
              "    }\n",
              "\n",
              "    .dataframe tbody tr th {\n",
              "        vertical-align: top;\n",
              "    }\n",
              "\n",
              "    .dataframe thead th {\n",
              "        text-align: right;\n",
              "    }\n",
              "</style>\n",
              "<table border=\"1\" class=\"dataframe\">\n",
              "  <thead>\n",
              "    <tr style=\"text-align: right;\">\n",
              "      <th></th>\n",
              "      <th>AIRLINE</th>\n",
              "      <th>ORIGIN_AIRPORT</th>\n",
              "      <th>DESTINATION_AIRPORT</th>\n",
              "      <th>DISTANCE</th>\n",
              "      <th>DEPARTURE_DELAY</th>\n",
              "      <th>ARRIVAL_DELAY</th>\n",
              "      <th>SCHEDULED_TIME</th>\n",
              "      <th>AIR_TIME</th>\n",
              "      <th>TAXI_OUT</th>\n",
              "      <th>Is_Delayed</th>\n",
              "    </tr>\n",
              "  </thead>\n",
              "  <tbody>\n",
              "    <tr>\n",
              "      <th>0</th>\n",
              "      <td>0</td>\n",
              "      <td>15</td>\n",
              "      <td>265</td>\n",
              "      <td>1448</td>\n",
              "      <td>-11.0</td>\n",
              "      <td>-22.0</td>\n",
              "      <td>205</td>\n",
              "      <td>169.0</td>\n",
              "      <td>21.0</td>\n",
              "      <td>0</td>\n",
              "    </tr>\n",
              "    <tr>\n",
              "      <th>1</th>\n",
              "      <td>0</td>\n",
              "      <td>15</td>\n",
              "      <td>265</td>\n",
              "      <td>1448</td>\n",
              "      <td>-4.0</td>\n",
              "      <td>-14.0</td>\n",
              "      <td>204</td>\n",
              "      <td>173.0</td>\n",
              "      <td>17.0</td>\n",
              "      <td>0</td>\n",
              "    </tr>\n",
              "    <tr>\n",
              "      <th>2</th>\n",
              "      <td>0</td>\n",
              "      <td>15</td>\n",
              "      <td>265</td>\n",
              "      <td>1448</td>\n",
              "      <td>-15.0</td>\n",
              "      <td>-35.0</td>\n",
              "      <td>218</td>\n",
              "      <td>170.0</td>\n",
              "      <td>17.0</td>\n",
              "      <td>0</td>\n",
              "    </tr>\n",
              "    <tr>\n",
              "      <th>3</th>\n",
              "      <td>0</td>\n",
              "      <td>15</td>\n",
              "      <td>265</td>\n",
              "      <td>1448</td>\n",
              "      <td>-11.0</td>\n",
              "      <td>-12.0</td>\n",
              "      <td>200</td>\n",
              "      <td>176.0</td>\n",
              "      <td>15.0</td>\n",
              "      <td>0</td>\n",
              "    </tr>\n",
              "    <tr>\n",
              "      <th>4</th>\n",
              "      <td>0</td>\n",
              "      <td>15</td>\n",
              "      <td>265</td>\n",
              "      <td>1448</td>\n",
              "      <td>-8.0</td>\n",
              "      <td>-14.0</td>\n",
              "      <td>205</td>\n",
              "      <td>179.0</td>\n",
              "      <td>16.0</td>\n",
              "      <td>0</td>\n",
              "    </tr>\n",
              "    <tr>\n",
              "      <th>...</th>\n",
              "      <td>...</td>\n",
              "      <td>...</td>\n",
              "      <td>...</td>\n",
              "      <td>...</td>\n",
              "      <td>...</td>\n",
              "      <td>...</td>\n",
              "      <td>...</td>\n",
              "      <td>...</td>\n",
              "      <td>...</td>\n",
              "      <td>...</td>\n",
              "    </tr>\n",
              "    <tr>\n",
              "      <th>48688</th>\n",
              "      <td>3</td>\n",
              "      <td>187</td>\n",
              "      <td>229</td>\n",
              "      <td>69</td>\n",
              "      <td>7.0</td>\n",
              "      <td>10.0</td>\n",
              "      <td>35</td>\n",
              "      <td>24.0</td>\n",
              "      <td>11.0</td>\n",
              "      <td>1</td>\n",
              "    </tr>\n",
              "    <tr>\n",
              "      <th>48689</th>\n",
              "      <td>3</td>\n",
              "      <td>187</td>\n",
              "      <td>229</td>\n",
              "      <td>69</td>\n",
              "      <td>-4.0</td>\n",
              "      <td>-10.0</td>\n",
              "      <td>35</td>\n",
              "      <td>21.0</td>\n",
              "      <td>5.0</td>\n",
              "      <td>0</td>\n",
              "    </tr>\n",
              "    <tr>\n",
              "      <th>48690</th>\n",
              "      <td>3</td>\n",
              "      <td>187</td>\n",
              "      <td>229</td>\n",
              "      <td>69</td>\n",
              "      <td>57.0</td>\n",
              "      <td>51.0</td>\n",
              "      <td>35</td>\n",
              "      <td>17.0</td>\n",
              "      <td>8.0</td>\n",
              "      <td>1</td>\n",
              "    </tr>\n",
              "    <tr>\n",
              "      <th>48691</th>\n",
              "      <td>3</td>\n",
              "      <td>187</td>\n",
              "      <td>229</td>\n",
              "      <td>69</td>\n",
              "      <td>176.0</td>\n",
              "      <td>175.0</td>\n",
              "      <td>35</td>\n",
              "      <td>21.0</td>\n",
              "      <td>9.0</td>\n",
              "      <td>1</td>\n",
              "    </tr>\n",
              "    <tr>\n",
              "      <th>48692</th>\n",
              "      <td>3</td>\n",
              "      <td>187</td>\n",
              "      <td>229</td>\n",
              "      <td>69</td>\n",
              "      <td>30.0</td>\n",
              "      <td>27.0</td>\n",
              "      <td>35</td>\n",
              "      <td>15.0</td>\n",
              "      <td>8.0</td>\n",
              "      <td>1</td>\n",
              "    </tr>\n",
              "  </tbody>\n",
              "</table>\n",
              "<p>48672 rows × 10 columns</p>\n",
              "</div>"
            ],
            "text/plain": [
              "       AIRLINE  ORIGIN_AIRPORT  ...  TAXI_OUT  Is_Delayed\n",
              "0            0              15  ...      21.0           0\n",
              "1            0              15  ...      17.0           0\n",
              "2            0              15  ...      17.0           0\n",
              "3            0              15  ...      15.0           0\n",
              "4            0              15  ...      16.0           0\n",
              "...        ...             ...  ...       ...         ...\n",
              "48688        3             187  ...      11.0           1\n",
              "48689        3             187  ...       5.0           0\n",
              "48690        3             187  ...       8.0           1\n",
              "48691        3             187  ...       9.0           1\n",
              "48692        3             187  ...       8.0           1\n",
              "\n",
              "[48672 rows x 10 columns]"
            ]
          },
          "metadata": {
            "tags": []
          },
          "execution_count": 631
        }
      ]
    },
    {
      "cell_type": "code",
      "metadata": {
        "colab": {
          "base_uri": "https://localhost:8080/"
        },
        "id": "lo9miQlRs20B",
        "outputId": "65d2ee5b-f597-44c4-c62d-10f29d05bc52"
      },
      "source": [
        "X = Flights1.drop(['ARRIVAL_DELAY','Is_Delayed'],axis = 1)\n",
        "X.shape\n",
        "y = Flights1['Is_Delayed']\n",
        "y.head()"
      ],
      "execution_count": 632,
      "outputs": [
        {
          "output_type": "execute_result",
          "data": {
            "text/plain": [
              "0    0\n",
              "1    0\n",
              "2    0\n",
              "3    0\n",
              "4    0\n",
              "Name: Is_Delayed, dtype: int64"
            ]
          },
          "metadata": {
            "tags": []
          },
          "execution_count": 632
        }
      ]
    },
    {
      "cell_type": "code",
      "metadata": {
        "colab": {
          "base_uri": "https://localhost:8080/",
          "height": 402
        },
        "id": "_XIOENx5tBQs",
        "outputId": "99f8d2ca-8ac0-454a-ea04-b99b53d1f509"
      },
      "source": [
        "X"
      ],
      "execution_count": 633,
      "outputs": [
        {
          "output_type": "execute_result",
          "data": {
            "text/html": [
              "<div>\n",
              "<style scoped>\n",
              "    .dataframe tbody tr th:only-of-type {\n",
              "        vertical-align: middle;\n",
              "    }\n",
              "\n",
              "    .dataframe tbody tr th {\n",
              "        vertical-align: top;\n",
              "    }\n",
              "\n",
              "    .dataframe thead th {\n",
              "        text-align: right;\n",
              "    }\n",
              "</style>\n",
              "<table border=\"1\" class=\"dataframe\">\n",
              "  <thead>\n",
              "    <tr style=\"text-align: right;\">\n",
              "      <th></th>\n",
              "      <th>AIRLINE</th>\n",
              "      <th>ORIGIN_AIRPORT</th>\n",
              "      <th>DESTINATION_AIRPORT</th>\n",
              "      <th>DISTANCE</th>\n",
              "      <th>DEPARTURE_DELAY</th>\n",
              "      <th>SCHEDULED_TIME</th>\n",
              "      <th>AIR_TIME</th>\n",
              "      <th>TAXI_OUT</th>\n",
              "    </tr>\n",
              "  </thead>\n",
              "  <tbody>\n",
              "    <tr>\n",
              "      <th>0</th>\n",
              "      <td>0</td>\n",
              "      <td>15</td>\n",
              "      <td>265</td>\n",
              "      <td>1448</td>\n",
              "      <td>-11.0</td>\n",
              "      <td>205</td>\n",
              "      <td>169.0</td>\n",
              "      <td>21.0</td>\n",
              "    </tr>\n",
              "    <tr>\n",
              "      <th>1</th>\n",
              "      <td>0</td>\n",
              "      <td>15</td>\n",
              "      <td>265</td>\n",
              "      <td>1448</td>\n",
              "      <td>-4.0</td>\n",
              "      <td>204</td>\n",
              "      <td>173.0</td>\n",
              "      <td>17.0</td>\n",
              "    </tr>\n",
              "    <tr>\n",
              "      <th>2</th>\n",
              "      <td>0</td>\n",
              "      <td>15</td>\n",
              "      <td>265</td>\n",
              "      <td>1448</td>\n",
              "      <td>-15.0</td>\n",
              "      <td>218</td>\n",
              "      <td>170.0</td>\n",
              "      <td>17.0</td>\n",
              "    </tr>\n",
              "    <tr>\n",
              "      <th>3</th>\n",
              "      <td>0</td>\n",
              "      <td>15</td>\n",
              "      <td>265</td>\n",
              "      <td>1448</td>\n",
              "      <td>-11.0</td>\n",
              "      <td>200</td>\n",
              "      <td>176.0</td>\n",
              "      <td>15.0</td>\n",
              "    </tr>\n",
              "    <tr>\n",
              "      <th>4</th>\n",
              "      <td>0</td>\n",
              "      <td>15</td>\n",
              "      <td>265</td>\n",
              "      <td>1448</td>\n",
              "      <td>-8.0</td>\n",
              "      <td>205</td>\n",
              "      <td>179.0</td>\n",
              "      <td>16.0</td>\n",
              "    </tr>\n",
              "    <tr>\n",
              "      <th>...</th>\n",
              "      <td>...</td>\n",
              "      <td>...</td>\n",
              "      <td>...</td>\n",
              "      <td>...</td>\n",
              "      <td>...</td>\n",
              "      <td>...</td>\n",
              "      <td>...</td>\n",
              "      <td>...</td>\n",
              "    </tr>\n",
              "    <tr>\n",
              "      <th>48688</th>\n",
              "      <td>3</td>\n",
              "      <td>187</td>\n",
              "      <td>229</td>\n",
              "      <td>69</td>\n",
              "      <td>7.0</td>\n",
              "      <td>35</td>\n",
              "      <td>24.0</td>\n",
              "      <td>11.0</td>\n",
              "    </tr>\n",
              "    <tr>\n",
              "      <th>48689</th>\n",
              "      <td>3</td>\n",
              "      <td>187</td>\n",
              "      <td>229</td>\n",
              "      <td>69</td>\n",
              "      <td>-4.0</td>\n",
              "      <td>35</td>\n",
              "      <td>21.0</td>\n",
              "      <td>5.0</td>\n",
              "    </tr>\n",
              "    <tr>\n",
              "      <th>48690</th>\n",
              "      <td>3</td>\n",
              "      <td>187</td>\n",
              "      <td>229</td>\n",
              "      <td>69</td>\n",
              "      <td>57.0</td>\n",
              "      <td>35</td>\n",
              "      <td>17.0</td>\n",
              "      <td>8.0</td>\n",
              "    </tr>\n",
              "    <tr>\n",
              "      <th>48691</th>\n",
              "      <td>3</td>\n",
              "      <td>187</td>\n",
              "      <td>229</td>\n",
              "      <td>69</td>\n",
              "      <td>176.0</td>\n",
              "      <td>35</td>\n",
              "      <td>21.0</td>\n",
              "      <td>9.0</td>\n",
              "    </tr>\n",
              "    <tr>\n",
              "      <th>48692</th>\n",
              "      <td>3</td>\n",
              "      <td>187</td>\n",
              "      <td>229</td>\n",
              "      <td>69</td>\n",
              "      <td>30.0</td>\n",
              "      <td>35</td>\n",
              "      <td>15.0</td>\n",
              "      <td>8.0</td>\n",
              "    </tr>\n",
              "  </tbody>\n",
              "</table>\n",
              "<p>48672 rows × 8 columns</p>\n",
              "</div>"
            ],
            "text/plain": [
              "       AIRLINE  ORIGIN_AIRPORT  ...  AIR_TIME  TAXI_OUT\n",
              "0            0              15  ...     169.0      21.0\n",
              "1            0              15  ...     173.0      17.0\n",
              "2            0              15  ...     170.0      17.0\n",
              "3            0              15  ...     176.0      15.0\n",
              "4            0              15  ...     179.0      16.0\n",
              "...        ...             ...  ...       ...       ...\n",
              "48688        3             187  ...      24.0      11.0\n",
              "48689        3             187  ...      21.0       5.0\n",
              "48690        3             187  ...      17.0       8.0\n",
              "48691        3             187  ...      21.0       9.0\n",
              "48692        3             187  ...      15.0       8.0\n",
              "\n",
              "[48672 rows x 8 columns]"
            ]
          },
          "metadata": {
            "tags": []
          },
          "execution_count": 633
        }
      ]
    },
    {
      "cell_type": "code",
      "metadata": {
        "colab": {
          "base_uri": "https://localhost:8080/"
        },
        "id": "b6YPncKttDq9",
        "outputId": "d2bfa4a6-c81f-42f7-b5b4-18e27ab94d1f"
      },
      "source": [
        "y"
      ],
      "execution_count": 634,
      "outputs": [
        {
          "output_type": "execute_result",
          "data": {
            "text/plain": [
              "0        0\n",
              "1        0\n",
              "2        0\n",
              "3        0\n",
              "4        0\n",
              "        ..\n",
              "48688    1\n",
              "48689    0\n",
              "48690    1\n",
              "48691    1\n",
              "48692    1\n",
              "Name: Is_Delayed, Length: 48672, dtype: int64"
            ]
          },
          "metadata": {
            "tags": []
          },
          "execution_count": 634
        }
      ]
    },
    {
      "cell_type": "code",
      "metadata": {
        "id": "O6kZfS_KtEBQ"
      },
      "source": [
        "X_train,X_test,y_train,y_test = train_test_split(X,y,test_size=0.2,random_state = 2)"
      ],
      "execution_count": 635,
      "outputs": []
    },
    {
      "cell_type": "code",
      "metadata": {
        "colab": {
          "base_uri": "https://localhost:8080/"
        },
        "id": "SeGhhO62tGid",
        "outputId": "1801304b-b85c-436f-e848-d8306134a1f4"
      },
      "source": [
        "y_train.value_counts()"
      ],
      "execution_count": 636,
      "outputs": [
        {
          "output_type": "execute_result",
          "data": {
            "text/plain": [
              "1    20839\n",
              "0    18098\n",
              "Name: Is_Delayed, dtype: int64"
            ]
          },
          "metadata": {
            "tags": []
          },
          "execution_count": 636
        }
      ]
    },
    {
      "cell_type": "markdown",
      "metadata": {
        "id": "Kkj2GP8rkLtU"
      },
      "source": [
        "### KNN Classification"
      ]
    },
    {
      "cell_type": "code",
      "metadata": {
        "id": "uwCyCyVoPhwP"
      },
      "source": [
        "from sklearn.metrics import accuracy_score, f1_score, precision_score, recall_score, classification_report, confusion_matrix\n",
        "from sklearn.metrics import plot_confusion_matrix"
      ],
      "execution_count": 637,
      "outputs": []
    },
    {
      "cell_type": "code",
      "metadata": {
        "colab": {
          "base_uri": "https://localhost:8080/"
        },
        "id": "jS4J8kF3Z7dW",
        "outputId": "4a4a4d72-f80d-4315-c7d8-b13e0d4557ad"
      },
      "source": [
        "from sklearn.neighbors import KNeighborsClassifier  \n",
        "classifierKNN= KNeighborsClassifier(n_neighbors=5, metric='minkowski', p=2 )  \n",
        "classifierKNN.fit(X_train, y_train)  "
      ],
      "execution_count": 638,
      "outputs": [
        {
          "output_type": "execute_result",
          "data": {
            "text/plain": [
              "KNeighborsClassifier(algorithm='auto', leaf_size=30, metric='minkowski',\n",
              "                     metric_params=None, n_jobs=None, n_neighbors=5, p=2,\n",
              "                     weights='uniform')"
            ]
          },
          "metadata": {
            "tags": []
          },
          "execution_count": 638
        }
      ]
    },
    {
      "cell_type": "code",
      "metadata": {
        "id": "U5x6jRLlaCb7"
      },
      "source": [
        "# Predicting the Test set results\n",
        "y_pred = classifierKNN.predict(X_test)\n",
        "\n",
        "# Making the Confusion Matrix\n",
        "from sklearn.metrics import confusion_matrix\n",
        "cm = confusion_matrix(y_test, y_pred)\n",
        "score = classifierKNN.score(X_test,y_test)"
      ],
      "execution_count": 639,
      "outputs": []
    },
    {
      "cell_type": "code",
      "metadata": {
        "colab": {
          "base_uri": "https://localhost:8080/"
        },
        "id": "JAtyeR8waG-b",
        "outputId": "c232928f-150d-4113-a22f-0f7363d7406f"
      },
      "source": [
        "cm"
      ],
      "execution_count": 640,
      "outputs": [
        {
          "output_type": "execute_result",
          "data": {
            "text/plain": [
              "array([[3998,  572],\n",
              "       [1259, 3906]])"
            ]
          },
          "metadata": {
            "tags": []
          },
          "execution_count": 640
        }
      ]
    },
    {
      "cell_type": "code",
      "metadata": {
        "colab": {
          "base_uri": "https://localhost:8080/"
        },
        "id": "ryi_YLjraI1W",
        "outputId": "6560eaef-dd2f-42b6-c9f2-9459243ba777"
      },
      "source": [
        "score"
      ],
      "execution_count": 641,
      "outputs": [
        {
          "output_type": "execute_result",
          "data": {
            "text/plain": [
              "0.8119157678479713"
            ]
          },
          "metadata": {
            "tags": []
          },
          "execution_count": 641
        }
      ]
    },
    {
      "cell_type": "code",
      "metadata": {
        "colab": {
          "base_uri": "https://localhost:8080/"
        },
        "id": "3TYqxApsaCUw",
        "outputId": "3a05f3a6-4eec-4335-ac17-cc19662ff7eb"
      },
      "source": [
        "print(\"F1 score :\",f1_score(y_test, y_pred, average=\"macro\"))\n",
        "print(\"Precision Score :\" , precision_score(y_test, y_pred, average=\"macro\"))\n",
        "print(\"Recall Score :\" , recall_score(y_test, y_pred, average=\"macro\"))   "
      ],
      "execution_count": 642,
      "outputs": [
        {
          "output_type": "stream",
          "text": [
            "F1 score : 0.8118989684035103\n",
            "Precision Score : 0.8163871001067675\n",
            "Recall Score : 0.8155399179378116\n"
          ],
          "name": "stdout"
        }
      ]
    },
    {
      "cell_type": "code",
      "metadata": {
        "colab": {
          "base_uri": "https://localhost:8080/",
          "height": 309
        },
        "id": "-YyeYTzrtM0u",
        "outputId": "eb253b35-8b50-454d-a951-1ffa997a4abe"
      },
      "source": [
        "fig, ax = plt.subplots(figsize=(5, 5))\n",
        "plot_confusion_matrix(classifierKNN, X_test, y_test, normalize='true', cmap=plt.cm.Blues, ax=ax)\n",
        "plt.show()"
      ],
      "execution_count": 643,
      "outputs": [
        {
          "output_type": "display_data",
          "data": {
            "image/png": "[encoded data removed]",
            "text/plain": [
              "<Figure size 360x360 with 2 Axes>"
            ]
          },
          "metadata": {
            "tags": [],
            "needs_background": "light"
          }
        }
      ]
    },
    {
      "cell_type": "code",
      "metadata": {
        "colab": {
          "base_uri": "https://localhost:8080/",
          "height": 402
        },
        "id": "VpdtLyaHtM01",
        "outputId": "f44421bd-b734-41f8-d9d7-b5e5e7300a0e"
      },
      "source": [
        "df = pd.DataFrame({'Actual': y_test, 'Predicted': y_pred})\n",
        "df"
      ],
      "execution_count": 644,
      "outputs": [
        {
          "output_type": "execute_result",
          "data": {
            "text/html": [
              "<div>\n",
              "<style scoped>\n",
              "    .dataframe tbody tr th:only-of-type {\n",
              "        vertical-align: middle;\n",
              "    }\n",
              "\n",
              "    .dataframe tbody tr th {\n",
              "        vertical-align: top;\n",
              "    }\n",
              "\n",
              "    .dataframe thead th {\n",
              "        text-align: right;\n",
              "    }\n",
              "</style>\n",
              "<table border=\"1\" class=\"dataframe\">\n",
              "  <thead>\n",
              "    <tr style=\"text-align: right;\">\n",
              "      <th></th>\n",
              "      <th>Actual</th>\n",
              "      <th>Predicted</th>\n",
              "    </tr>\n",
              "  </thead>\n",
              "  <tbody>\n",
              "    <tr>\n",
              "      <th>8494</th>\n",
              "      <td>1</td>\n",
              "      <td>1</td>\n",
              "    </tr>\n",
              "    <tr>\n",
              "      <th>2838</th>\n",
              "      <td>0</td>\n",
              "      <td>0</td>\n",
              "    </tr>\n",
              "    <tr>\n",
              "      <th>10520</th>\n",
              "      <td>0</td>\n",
              "      <td>0</td>\n",
              "    </tr>\n",
              "    <tr>\n",
              "      <th>16918</th>\n",
              "      <td>1</td>\n",
              "      <td>1</td>\n",
              "    </tr>\n",
              "    <tr>\n",
              "      <th>2164</th>\n",
              "      <td>1</td>\n",
              "      <td>0</td>\n",
              "    </tr>\n",
              "    <tr>\n",
              "      <th>...</th>\n",
              "      <td>...</td>\n",
              "      <td>...</td>\n",
              "    </tr>\n",
              "    <tr>\n",
              "      <th>16902</th>\n",
              "      <td>1</td>\n",
              "      <td>1</td>\n",
              "    </tr>\n",
              "    <tr>\n",
              "      <th>18219</th>\n",
              "      <td>1</td>\n",
              "      <td>0</td>\n",
              "    </tr>\n",
              "    <tr>\n",
              "      <th>3858</th>\n",
              "      <td>0</td>\n",
              "      <td>0</td>\n",
              "    </tr>\n",
              "    <tr>\n",
              "      <th>1834</th>\n",
              "      <td>0</td>\n",
              "      <td>0</td>\n",
              "    </tr>\n",
              "    <tr>\n",
              "      <th>38707</th>\n",
              "      <td>1</td>\n",
              "      <td>1</td>\n",
              "    </tr>\n",
              "  </tbody>\n",
              "</table>\n",
              "<p>9735 rows × 2 columns</p>\n",
              "</div>"
            ],
            "text/plain": [
              "       Actual  Predicted\n",
              "8494        1          1\n",
              "2838        0          0\n",
              "10520       0          0\n",
              "16918       1          1\n",
              "2164        1          0\n",
              "...       ...        ...\n",
              "16902       1          1\n",
              "18219       1          0\n",
              "3858        0          0\n",
              "1834        0          0\n",
              "38707       1          1\n",
              "\n",
              "[9735 rows x 2 columns]"
            ]
          },
          "metadata": {
            "tags": []
          },
          "execution_count": 644
        }
      ]
    },
    {
      "cell_type": "code",
      "metadata": {
        "id": "08ysK3sntM01"
      },
      "source": [
        "X_val=np.array([[3,187,229,69,1.0,35,24.0,11.0]])"
      ],
      "execution_count": 645,
      "outputs": []
    },
    {
      "cell_type": "code",
      "metadata": {
        "colab": {
          "base_uri": "https://localhost:8080/"
        },
        "id": "9i35u9HqtM02",
        "outputId": "c5860ea0-4746-4564-b841-7ec5e647ad32"
      },
      "source": [
        "X_val"
      ],
      "execution_count": 646,
      "outputs": [
        {
          "output_type": "execute_result",
          "data": {
            "text/plain": [
              "array([[  3., 187., 229.,  69.,   1.,  35.,  24.,  11.]])"
            ]
          },
          "metadata": {
            "tags": []
          },
          "execution_count": 646
        }
      ]
    },
    {
      "cell_type": "code",
      "metadata": {
        "id": "p6EewM_rtM02"
      },
      "source": [
        "y_pred_val = classifierKNN.predict(X_val)"
      ],
      "execution_count": 647,
      "outputs": []
    },
    {
      "cell_type": "code",
      "metadata": {
        "colab": {
          "base_uri": "https://localhost:8080/"
        },
        "id": "HteKljJBtM02",
        "outputId": "16136bb6-b8ed-4041-a322-d3037a6217e0"
      },
      "source": [
        "y_pred_val"
      ],
      "execution_count": 648,
      "outputs": [
        {
          "output_type": "execute_result",
          "data": {
            "text/plain": [
              "array([0])"
            ]
          },
          "metadata": {
            "tags": []
          },
          "execution_count": 648
        }
      ]
    },
    {
      "cell_type": "markdown",
      "metadata": {
        "id": "j5WrJa0UvwHi"
      },
      "source": [
        "### Decision Tree Classification"
      ]
    },
    {
      "cell_type": "code",
      "metadata": {
        "colab": {
          "base_uri": "https://localhost:8080/"
        },
        "id": "aBpOLOTQuAnJ",
        "outputId": "ea13f7db-5815-4e2e-8729-ad1d92253019"
      },
      "source": [
        "from sklearn.tree import DecisionTreeClassifier\n",
        "classifierDT = DecisionTreeClassifier(criterion = 'entropy', random_state = None)\n",
        "classifierDT.fit(X_train, y_train)"
      ],
      "execution_count": 649,
      "outputs": [
        {
          "output_type": "execute_result",
          "data": {
            "text/plain": [
              "DecisionTreeClassifier(ccp_alpha=0.0, class_weight=None, criterion='entropy',\n",
              "                       max_depth=None, max_features=None, max_leaf_nodes=None,\n",
              "                       min_impurity_decrease=0.0, min_impurity_split=None,\n",
              "                       min_samples_leaf=1, min_samples_split=2,\n",
              "                       min_weight_fraction_leaf=0.0, presort='deprecated',\n",
              "                       random_state=None, splitter='best')"
            ]
          },
          "metadata": {
            "tags": []
          },
          "execution_count": 649
        }
      ]
    },
    {
      "cell_type": "code",
      "metadata": {
        "id": "REK2ZqzAuNfs"
      },
      "source": [
        "from sklearn.metrics import accuracy_score, f1_score, precision_score, recall_score, classification_report, confusion_matrix"
      ],
      "execution_count": 650,
      "outputs": []
    },
    {
      "cell_type": "code",
      "metadata": {
        "id": "edOG7CNUuQSa"
      },
      "source": [
        "from sklearn.metrics import plot_confusion_matrix"
      ],
      "execution_count": 651,
      "outputs": []
    },
    {
      "cell_type": "code",
      "metadata": {
        "id": "hJNUsEqauRIj"
      },
      "source": [
        "# Predicting the Test set results\n",
        "y_pred = classifierDT.predict(X_test)\n",
        "\n",
        "# Making the Confusion Matrix\n",
        "cm = confusion_matrix(y_test, y_pred)\n",
        "score = classifierDT.score(X_test,y_test)"
      ],
      "execution_count": 652,
      "outputs": []
    },
    {
      "cell_type": "code",
      "metadata": {
        "colab": {
          "base_uri": "https://localhost:8080/"
        },
        "id": "nq5SdqwwuR77",
        "outputId": "2119ea09-c824-4d45-f721-d2fe0f8f6335"
      },
      "source": [
        "cm"
      ],
      "execution_count": 653,
      "outputs": [
        {
          "output_type": "execute_result",
          "data": {
            "text/plain": [
              "array([[3795,  775],\n",
              "       [ 756, 4409]])"
            ]
          },
          "metadata": {
            "tags": []
          },
          "execution_count": 653
        }
      ]
    },
    {
      "cell_type": "code",
      "metadata": {
        "colab": {
          "base_uri": "https://localhost:8080/"
        },
        "id": "9sp5a4rhvPlB",
        "outputId": "e843d886-29b1-4a9b-c364-460e0bc1789d"
      },
      "source": [
        "score"
      ],
      "execution_count": 654,
      "outputs": [
        {
          "output_type": "execute_result",
          "data": {
            "text/plain": [
              "0.8427324088341037"
            ]
          },
          "metadata": {
            "tags": []
          },
          "execution_count": 654
        }
      ]
    },
    {
      "cell_type": "code",
      "metadata": {
        "colab": {
          "base_uri": "https://localhost:8080/"
        },
        "id": "KC661BYavgBE",
        "outputId": "a8bf0856-9d76-4e6b-9d93-d8e52442e14f"
      },
      "source": [
        "print(\"F1 score :\",f1_score(y_test, y_pred, average=\"macro\"))\n",
        "print(\"Precision Score :\" , precision_score(y_test, y_pred, average=\"macro\"))\n",
        "print(\"Recall Score :\" , recall_score(y_test, y_pred, average=\"macro\"))   "
      ],
      "execution_count": 655,
      "outputs": [
        {
          "output_type": "stream",
          "text": [
            "F1 score : 0.8421042996632736\n",
            "Precision Score : 0.8421921031804163\n",
            "Recall Score : 0.842022979107399\n"
          ],
          "name": "stdout"
        }
      ]
    },
    {
      "cell_type": "code",
      "metadata": {
        "colab": {
          "base_uri": "https://localhost:8080/",
          "height": 309
        },
        "id": "sbYV0K2Ov3Tt",
        "outputId": "2b48c8b4-542d-427b-e7b8-f58aa43f9093"
      },
      "source": [
        "fig, ax = plt.subplots(figsize=(5, 5))\n",
        "plot_confusion_matrix(classifierDT, X_test, y_test, normalize='true', cmap=plt.cm.Blues, ax=ax)\n",
        "plt.show()"
      ],
      "execution_count": 656,
      "outputs": [
        {
          "output_type": "display_data",
          "data": {
            "image/png": "[encoded data removed]",
            "text/plain": [
              "<Figure size 360x360 with 2 Axes>"
            ]
          },
          "metadata": {
            "tags": [],
            "needs_background": "light"
          }
        }
      ]
    },
    {
      "cell_type": "code",
      "metadata": {
        "colab": {
          "base_uri": "https://localhost:8080/",
          "height": 402
        },
        "id": "GD7DsZCgv4Yl",
        "outputId": "84c117b5-31fc-4d13-c6ef-7389cfb388e9"
      },
      "source": [
        "df = pd.DataFrame({'Actual': y_test, 'Predicted': y_pred})\n",
        "df"
      ],
      "execution_count": 657,
      "outputs": [
        {
          "output_type": "execute_result",
          "data": {
            "text/html": [
              "<div>\n",
              "<style scoped>\n",
              "    .dataframe tbody tr th:only-of-type {\n",
              "        vertical-align: middle;\n",
              "    }\n",
              "\n",
              "    .dataframe tbody tr th {\n",
              "        vertical-align: top;\n",
              "    }\n",
              "\n",
              "    .dataframe thead th {\n",
              "        text-align: right;\n",
              "    }\n",
              "</style>\n",
              "<table border=\"1\" class=\"dataframe\">\n",
              "  <thead>\n",
              "    <tr style=\"text-align: right;\">\n",
              "      <th></th>\n",
              "      <th>Actual</th>\n",
              "      <th>Predicted</th>\n",
              "    </tr>\n",
              "  </thead>\n",
              "  <tbody>\n",
              "    <tr>\n",
              "      <th>8494</th>\n",
              "      <td>1</td>\n",
              "      <td>1</td>\n",
              "    </tr>\n",
              "    <tr>\n",
              "      <th>2838</th>\n",
              "      <td>0</td>\n",
              "      <td>0</td>\n",
              "    </tr>\n",
              "    <tr>\n",
              "      <th>10520</th>\n",
              "      <td>0</td>\n",
              "      <td>0</td>\n",
              "    </tr>\n",
              "    <tr>\n",
              "      <th>16918</th>\n",
              "      <td>1</td>\n",
              "      <td>1</td>\n",
              "    </tr>\n",
              "    <tr>\n",
              "      <th>2164</th>\n",
              "      <td>1</td>\n",
              "      <td>1</td>\n",
              "    </tr>\n",
              "    <tr>\n",
              "      <th>...</th>\n",
              "      <td>...</td>\n",
              "      <td>...</td>\n",
              "    </tr>\n",
              "    <tr>\n",
              "      <th>16902</th>\n",
              "      <td>1</td>\n",
              "      <td>1</td>\n",
              "    </tr>\n",
              "    <tr>\n",
              "      <th>18219</th>\n",
              "      <td>1</td>\n",
              "      <td>1</td>\n",
              "    </tr>\n",
              "    <tr>\n",
              "      <th>3858</th>\n",
              "      <td>0</td>\n",
              "      <td>0</td>\n",
              "    </tr>\n",
              "    <tr>\n",
              "      <th>1834</th>\n",
              "      <td>0</td>\n",
              "      <td>0</td>\n",
              "    </tr>\n",
              "    <tr>\n",
              "      <th>38707</th>\n",
              "      <td>1</td>\n",
              "      <td>1</td>\n",
              "    </tr>\n",
              "  </tbody>\n",
              "</table>\n",
              "<p>9735 rows × 2 columns</p>\n",
              "</div>"
            ],
            "text/plain": [
              "       Actual  Predicted\n",
              "8494        1          1\n",
              "2838        0          0\n",
              "10520       0          0\n",
              "16918       1          1\n",
              "2164        1          1\n",
              "...       ...        ...\n",
              "16902       1          1\n",
              "18219       1          1\n",
              "3858        0          0\n",
              "1834        0          0\n",
              "38707       1          1\n",
              "\n",
              "[9735 rows x 2 columns]"
            ]
          },
          "metadata": {
            "tags": []
          },
          "execution_count": 657
        }
      ]
    },
    {
      "cell_type": "code",
      "metadata": {
        "id": "EUvgh7Y3yW8x"
      },
      "source": [
        "X_val=np.array([[3,187,229,69,1.0,35,24.0,11.0]])"
      ],
      "execution_count": 658,
      "outputs": []
    },
    {
      "cell_type": "code",
      "metadata": {
        "colab": {
          "base_uri": "https://localhost:8080/"
        },
        "id": "CzEsEXWPzh66",
        "outputId": "07529ebb-b892-4904-b27e-173aba695125"
      },
      "source": [
        "X_val"
      ],
      "execution_count": 659,
      "outputs": [
        {
          "output_type": "execute_result",
          "data": {
            "text/plain": [
              "array([[  3., 187., 229.,  69.,   1.,  35.,  24.,  11.]])"
            ]
          },
          "metadata": {
            "tags": []
          },
          "execution_count": 659
        }
      ]
    },
    {
      "cell_type": "code",
      "metadata": {
        "id": "6J9wdu4VzwyM"
      },
      "source": [
        "y_pred_val = classifierDT.predict(X_val)"
      ],
      "execution_count": 660,
      "outputs": []
    },
    {
      "cell_type": "code",
      "metadata": {
        "colab": {
          "base_uri": "https://localhost:8080/"
        },
        "id": "P3Ctaig-z0uJ",
        "outputId": "a2589335-b08e-4e4e-e6a7-19fa764e2c59"
      },
      "source": [
        "y_pred_val"
      ],
      "execution_count": 661,
      "outputs": [
        {
          "output_type": "execute_result",
          "data": {
            "text/plain": [
              "array([1])"
            ]
          },
          "metadata": {
            "tags": []
          },
          "execution_count": 661
        }
      ]
    },
    {
      "cell_type": "markdown",
      "metadata": {
        "id": "OeK3gSa3110i"
      },
      "source": [
        "### Random Forest Classification"
      ]
    },
    {
      "cell_type": "code",
      "metadata": {
        "colab": {
          "base_uri": "https://localhost:8080/",
          "height": 402
        },
        "id": "T5bxvoyR110t",
        "outputId": "2edec8a0-e3b4-41d4-938a-174f64b3422b"
      },
      "source": [
        "from sklearn.ensemble import RandomForestClassifier\n",
        "classifierRF = RandomForestClassifier(criterion = 'entropy', random_state = None,n_estimators=1000)\n",
        "classifierRF.fit(X_train, y_train)\n",
        "X_train"
      ],
      "execution_count": 662,
      "outputs": [
        {
          "output_type": "execute_result",
          "data": {
            "text/html": [
              "<div>\n",
              "<style scoped>\n",
              "    .dataframe tbody tr th:only-of-type {\n",
              "        vertical-align: middle;\n",
              "    }\n",
              "\n",
              "    .dataframe tbody tr th {\n",
              "        vertical-align: top;\n",
              "    }\n",
              "\n",
              "    .dataframe thead th {\n",
              "        text-align: right;\n",
              "    }\n",
              "</style>\n",
              "<table border=\"1\" class=\"dataframe\">\n",
              "  <thead>\n",
              "    <tr style=\"text-align: right;\">\n",
              "      <th></th>\n",
              "      <th>AIRLINE</th>\n",
              "      <th>ORIGIN_AIRPORT</th>\n",
              "      <th>DESTINATION_AIRPORT</th>\n",
              "      <th>DISTANCE</th>\n",
              "      <th>DEPARTURE_DELAY</th>\n",
              "      <th>SCHEDULED_TIME</th>\n",
              "      <th>AIR_TIME</th>\n",
              "      <th>TAXI_OUT</th>\n",
              "    </tr>\n",
              "  </thead>\n",
              "  <tbody>\n",
              "    <tr>\n",
              "      <th>37210</th>\n",
              "      <td>9</td>\n",
              "      <td>35</td>\n",
              "      <td>185</td>\n",
              "      <td>861</td>\n",
              "      <td>13.0</td>\n",
              "      <td>180</td>\n",
              "      <td>159.0</td>\n",
              "      <td>12.0</td>\n",
              "    </tr>\n",
              "    <tr>\n",
              "      <th>6204</th>\n",
              "      <td>5</td>\n",
              "      <td>81</td>\n",
              "      <td>164</td>\n",
              "      <td>628</td>\n",
              "      <td>-6.0</td>\n",
              "      <td>112</td>\n",
              "      <td>90.0</td>\n",
              "      <td>10.0</td>\n",
              "    </tr>\n",
              "    <tr>\n",
              "      <th>25825</th>\n",
              "      <td>9</td>\n",
              "      <td>81</td>\n",
              "      <td>35</td>\n",
              "      <td>1754</td>\n",
              "      <td>43.0</td>\n",
              "      <td>225</td>\n",
              "      <td>186.0</td>\n",
              "      <td>24.0</td>\n",
              "    </tr>\n",
              "    <tr>\n",
              "      <th>14432</th>\n",
              "      <td>9</td>\n",
              "      <td>165</td>\n",
              "      <td>277</td>\n",
              "      <td>226</td>\n",
              "      <td>0.0</td>\n",
              "      <td>60</td>\n",
              "      <td>39.0</td>\n",
              "      <td>10.0</td>\n",
              "    </tr>\n",
              "    <tr>\n",
              "      <th>24944</th>\n",
              "      <td>4</td>\n",
              "      <td>228</td>\n",
              "      <td>88</td>\n",
              "      <td>1671</td>\n",
              "      <td>2.0</td>\n",
              "      <td>225</td>\n",
              "      <td>183.0</td>\n",
              "      <td>17.0</td>\n",
              "    </tr>\n",
              "    <tr>\n",
              "      <th>...</th>\n",
              "      <td>...</td>\n",
              "      <td>...</td>\n",
              "      <td>...</td>\n",
              "      <td>...</td>\n",
              "      <td>...</td>\n",
              "      <td>...</td>\n",
              "      <td>...</td>\n",
              "      <td>...</td>\n",
              "    </tr>\n",
              "    <tr>\n",
              "      <th>44583</th>\n",
              "      <td>8</td>\n",
              "      <td>207</td>\n",
              "      <td>150</td>\n",
              "      <td>546</td>\n",
              "      <td>-3.0</td>\n",
              "      <td>124</td>\n",
              "      <td>101.0</td>\n",
              "      <td>12.0</td>\n",
              "    </tr>\n",
              "    <tr>\n",
              "      <th>30290</th>\n",
              "      <td>12</td>\n",
              "      <td>100</td>\n",
              "      <td>142</td>\n",
              "      <td>1400</td>\n",
              "      <td>9.0</td>\n",
              "      <td>238</td>\n",
              "      <td>212.0</td>\n",
              "      <td>59.0</td>\n",
              "    </tr>\n",
              "    <tr>\n",
              "      <th>6640</th>\n",
              "      <td>9</td>\n",
              "      <td>2</td>\n",
              "      <td>164</td>\n",
              "      <td>486</td>\n",
              "      <td>13.0</td>\n",
              "      <td>95</td>\n",
              "      <td>72.0</td>\n",
              "      <td>7.0</td>\n",
              "    </tr>\n",
              "    <tr>\n",
              "      <th>35356</th>\n",
              "      <td>11</td>\n",
              "      <td>108</td>\n",
              "      <td>62</td>\n",
              "      <td>631</td>\n",
              "      <td>0.0</td>\n",
              "      <td>114</td>\n",
              "      <td>89.0</td>\n",
              "      <td>10.0</td>\n",
              "    </tr>\n",
              "    <tr>\n",
              "      <th>23729</th>\n",
              "      <td>4</td>\n",
              "      <td>18</td>\n",
              "      <td>226</td>\n",
              "      <td>666</td>\n",
              "      <td>2.0</td>\n",
              "      <td>128</td>\n",
              "      <td>99.0</td>\n",
              "      <td>12.0</td>\n",
              "    </tr>\n",
              "  </tbody>\n",
              "</table>\n",
              "<p>38937 rows × 8 columns</p>\n",
              "</div>"
            ],
            "text/plain": [
              "       AIRLINE  ORIGIN_AIRPORT  ...  AIR_TIME  TAXI_OUT\n",
              "37210        9              35  ...     159.0      12.0\n",
              "6204         5              81  ...      90.0      10.0\n",
              "25825        9              81  ...     186.0      24.0\n",
              "14432        9             165  ...      39.0      10.0\n",
              "24944        4             228  ...     183.0      17.0\n",
              "...        ...             ...  ...       ...       ...\n",
              "44583        8             207  ...     101.0      12.0\n",
              "30290       12             100  ...     212.0      59.0\n",
              "6640         9               2  ...      72.0       7.0\n",
              "35356       11             108  ...      89.0      10.0\n",
              "23729        4              18  ...      99.0      12.0\n",
              "\n",
              "[38937 rows x 8 columns]"
            ]
          },
          "metadata": {
            "tags": []
          },
          "execution_count": 662
        }
      ]
    },
    {
      "cell_type": "code",
      "metadata": {
        "id": "8gTzEsFO110v"
      },
      "source": [
        "from sklearn.metrics import accuracy_score, f1_score, precision_score, recall_score, classification_report, confusion_matrix"
      ],
      "execution_count": 663,
      "outputs": []
    },
    {
      "cell_type": "code",
      "metadata": {
        "id": "BIA4_Nmj110w"
      },
      "source": [
        "from sklearn.metrics import plot_confusion_matrix"
      ],
      "execution_count": 664,
      "outputs": []
    },
    {
      "cell_type": "code",
      "metadata": {
        "id": "UgM9puwx110w"
      },
      "source": [
        "# Predicting the Test set results\n",
        "y_pred = classifierRF.predict(X_test)\n",
        "\n",
        "# Making the Confusion Matrix\n",
        "cm = confusion_matrix(y_test, y_pred)\n",
        "score = classifierRF.score(X_test,y_test)"
      ],
      "execution_count": 665,
      "outputs": []
    },
    {
      "cell_type": "code",
      "metadata": {
        "colab": {
          "base_uri": "https://localhost:8080/"
        },
        "id": "ZJnmDjc1110x",
        "outputId": "ddd88d6a-0bbd-4200-f44c-6ef7d1e303b4"
      },
      "source": [
        "cm"
      ],
      "execution_count": 666,
      "outputs": [
        {
          "output_type": "execute_result",
          "data": {
            "text/plain": [
              "array([[4108,  462],\n",
              "       [ 710, 4455]])"
            ]
          },
          "metadata": {
            "tags": []
          },
          "execution_count": 666
        }
      ]
    },
    {
      "cell_type": "code",
      "metadata": {
        "colab": {
          "base_uri": "https://localhost:8080/"
        },
        "id": "GNLqCSBE110z",
        "outputId": "56f1e323-daee-4379-d2e5-ab9ced7e2fcc"
      },
      "source": [
        "score"
      ],
      "execution_count": 667,
      "outputs": [
        {
          "output_type": "execute_result",
          "data": {
            "text/plain": [
              "0.8796096558808423"
            ]
          },
          "metadata": {
            "tags": []
          },
          "execution_count": 667
        }
      ]
    },
    {
      "cell_type": "code",
      "metadata": {
        "colab": {
          "base_uri": "https://localhost:8080/",
          "height": 402
        },
        "id": "z89_D84qBrj2",
        "outputId": "0c204551-efa6-45c2-b6bd-ed1cd1ccbf0d"
      },
      "source": [
        "X_test"
      ],
      "execution_count": 668,
      "outputs": [
        {
          "output_type": "execute_result",
          "data": {
            "text/html": [
              "<div>\n",
              "<style scoped>\n",
              "    .dataframe tbody tr th:only-of-type {\n",
              "        vertical-align: middle;\n",
              "    }\n",
              "\n",
              "    .dataframe tbody tr th {\n",
              "        vertical-align: top;\n",
              "    }\n",
              "\n",
              "    .dataframe thead th {\n",
              "        text-align: right;\n",
              "    }\n",
              "</style>\n",
              "<table border=\"1\" class=\"dataframe\">\n",
              "  <thead>\n",
              "    <tr style=\"text-align: right;\">\n",
              "      <th></th>\n",
              "      <th>AIRLINE</th>\n",
              "      <th>ORIGIN_AIRPORT</th>\n",
              "      <th>DESTINATION_AIRPORT</th>\n",
              "      <th>DISTANCE</th>\n",
              "      <th>DEPARTURE_DELAY</th>\n",
              "      <th>SCHEDULED_TIME</th>\n",
              "      <th>AIR_TIME</th>\n",
              "      <th>TAXI_OUT</th>\n",
              "    </tr>\n",
              "  </thead>\n",
              "  <tbody>\n",
              "    <tr>\n",
              "      <th>8494</th>\n",
              "      <td>8</td>\n",
              "      <td>20</td>\n",
              "      <td>166</td>\n",
              "      <td>1242</td>\n",
              "      <td>34.0</td>\n",
              "      <td>212</td>\n",
              "      <td>162.0</td>\n",
              "      <td>13.0</td>\n",
              "    </tr>\n",
              "    <tr>\n",
              "      <th>2838</th>\n",
              "      <td>8</td>\n",
              "      <td>26</td>\n",
              "      <td>227</td>\n",
              "      <td>425</td>\n",
              "      <td>-1.0</td>\n",
              "      <td>93</td>\n",
              "      <td>68.0</td>\n",
              "      <td>14.0</td>\n",
              "    </tr>\n",
              "    <tr>\n",
              "      <th>10520</th>\n",
              "      <td>12</td>\n",
              "      <td>100</td>\n",
              "      <td>266</td>\n",
              "      <td>2565</td>\n",
              "      <td>1.0</td>\n",
              "      <td>399</td>\n",
              "      <td>355.0</td>\n",
              "      <td>11.0</td>\n",
              "    </tr>\n",
              "    <tr>\n",
              "      <th>16918</th>\n",
              "      <td>8</td>\n",
              "      <td>218</td>\n",
              "      <td>82</td>\n",
              "      <td>802</td>\n",
              "      <td>28.0</td>\n",
              "      <td>156</td>\n",
              "      <td>138.0</td>\n",
              "      <td>20.0</td>\n",
              "    </tr>\n",
              "    <tr>\n",
              "      <th>2164</th>\n",
              "      <td>12</td>\n",
              "      <td>218</td>\n",
              "      <td>227</td>\n",
              "      <td>1440</td>\n",
              "      <td>-4.0</td>\n",
              "      <td>238</td>\n",
              "      <td>217.0</td>\n",
              "      <td>40.0</td>\n",
              "    </tr>\n",
              "    <tr>\n",
              "      <th>...</th>\n",
              "      <td>...</td>\n",
              "      <td>...</td>\n",
              "      <td>...</td>\n",
              "      <td>...</td>\n",
              "      <td>...</td>\n",
              "      <td>...</td>\n",
              "      <td>...</td>\n",
              "      <td>...</td>\n",
              "    </tr>\n",
              "    <tr>\n",
              "      <th>16902</th>\n",
              "      <td>1</td>\n",
              "      <td>218</td>\n",
              "      <td>82</td>\n",
              "      <td>802</td>\n",
              "      <td>20.0</td>\n",
              "      <td>155</td>\n",
              "      <td>122.0</td>\n",
              "      <td>18.0</td>\n",
              "    </tr>\n",
              "    <tr>\n",
              "      <th>18219</th>\n",
              "      <td>2</td>\n",
              "      <td>171</td>\n",
              "      <td>82</td>\n",
              "      <td>785</td>\n",
              "      <td>3.0</td>\n",
              "      <td>155</td>\n",
              "      <td>140.0</td>\n",
              "      <td>9.0</td>\n",
              "    </tr>\n",
              "    <tr>\n",
              "      <th>3858</th>\n",
              "      <td>1</td>\n",
              "      <td>165</td>\n",
              "      <td>217</td>\n",
              "      <td>1514</td>\n",
              "      <td>-10.0</td>\n",
              "      <td>225</td>\n",
              "      <td>183.0</td>\n",
              "      <td>13.0</td>\n",
              "    </tr>\n",
              "    <tr>\n",
              "      <th>1834</th>\n",
              "      <td>11</td>\n",
              "      <td>272</td>\n",
              "      <td>227</td>\n",
              "      <td>621</td>\n",
              "      <td>-7.0</td>\n",
              "      <td>113</td>\n",
              "      <td>85.0</td>\n",
              "      <td>18.0</td>\n",
              "    </tr>\n",
              "    <tr>\n",
              "      <th>38707</th>\n",
              "      <td>9</td>\n",
              "      <td>18</td>\n",
              "      <td>148</td>\n",
              "      <td>432</td>\n",
              "      <td>44.0</td>\n",
              "      <td>95</td>\n",
              "      <td>63.0</td>\n",
              "      <td>13.0</td>\n",
              "    </tr>\n",
              "  </tbody>\n",
              "</table>\n",
              "<p>9735 rows × 8 columns</p>\n",
              "</div>"
            ],
            "text/plain": [
              "       AIRLINE  ORIGIN_AIRPORT  ...  AIR_TIME  TAXI_OUT\n",
              "8494         8              20  ...     162.0      13.0\n",
              "2838         8              26  ...      68.0      14.0\n",
              "10520       12             100  ...     355.0      11.0\n",
              "16918        8             218  ...     138.0      20.0\n",
              "2164        12             218  ...     217.0      40.0\n",
              "...        ...             ...  ...       ...       ...\n",
              "16902        1             218  ...     122.0      18.0\n",
              "18219        2             171  ...     140.0       9.0\n",
              "3858         1             165  ...     183.0      13.0\n",
              "1834        11             272  ...      85.0      18.0\n",
              "38707        9              18  ...      63.0      13.0\n",
              "\n",
              "[9735 rows x 8 columns]"
            ]
          },
          "metadata": {
            "tags": []
          },
          "execution_count": 668
        }
      ]
    },
    {
      "cell_type": "code",
      "metadata": {
        "colab": {
          "base_uri": "https://localhost:8080/"
        },
        "id": "k-W5XlNo1100",
        "outputId": "55f33f5c-79fc-4c9b-95fc-60fc4513897f"
      },
      "source": [
        "print(\"F1 score :\",f1_score(y_test, y_pred, average=\"macro\"))\n",
        "print(\"Precision Score :\" , precision_score(y_test, y_pred, average=\"macro\"))\n",
        "print(\"Recall Score :\" , recall_score(y_test, y_pred, average=\"macro\"))   "
      ],
      "execution_count": 669,
      "outputs": [
        {
          "output_type": "stream",
          "text": [
            "F1 score : 0.8794565010036575\n",
            "Precision Score : 0.8793381084913676\n",
            "Recall Score : 0.880721105064597\n"
          ],
          "name": "stdout"
        }
      ]
    },
    {
      "cell_type": "code",
      "metadata": {
        "id": "4dOF4Dpr1100",
        "colab": {
          "base_uri": "https://localhost:8080/",
          "height": 309
        },
        "outputId": "1ddc2f10-5de4-4348-db1c-f399daf39539"
      },
      "source": [
        "fig, ax = plt.subplots(figsize=(5, 5))\n",
        "plot_confusion_matrix(classifierRF, X_test, y_test, normalize='true', cmap=plt.cm.Blues, ax=ax)\n",
        "plt.show()"
      ],
      "execution_count": 670,
      "outputs": [
        {
          "output_type": "display_data",
          "data": {
            "image/png": "[encoded data removed]",
            "text/plain": [
              "<Figure size 360x360 with 2 Axes>"
            ]
          },
          "metadata": {
            "tags": [],
            "needs_background": "light"
          }
        }
      ]
    },
    {
      "cell_type": "code",
      "metadata": {
        "id": "hQPV1eft1101",
        "colab": {
          "base_uri": "https://localhost:8080/",
          "height": 402
        },
        "outputId": "a4cc2f4e-8429-4e19-ef20-1ff559ae9cc6"
      },
      "source": [
        "df = pd.DataFrame({'Actual': y_test, 'Predicted': y_pred})\n",
        "df"
      ],
      "execution_count": 671,
      "outputs": [
        {
          "output_type": "execute_result",
          "data": {
            "text/html": [
              "<div>\n",
              "<style scoped>\n",
              "    .dataframe tbody tr th:only-of-type {\n",
              "        vertical-align: middle;\n",
              "    }\n",
              "\n",
              "    .dataframe tbody tr th {\n",
              "        vertical-align: top;\n",
              "    }\n",
              "\n",
              "    .dataframe thead th {\n",
              "        text-align: right;\n",
              "    }\n",
              "</style>\n",
              "<table border=\"1\" class=\"dataframe\">\n",
              "  <thead>\n",
              "    <tr style=\"text-align: right;\">\n",
              "      <th></th>\n",
              "      <th>Actual</th>\n",
              "      <th>Predicted</th>\n",
              "    </tr>\n",
              "  </thead>\n",
              "  <tbody>\n",
              "    <tr>\n",
              "      <th>8494</th>\n",
              "      <td>1</td>\n",
              "      <td>1</td>\n",
              "    </tr>\n",
              "    <tr>\n",
              "      <th>2838</th>\n",
              "      <td>0</td>\n",
              "      <td>0</td>\n",
              "    </tr>\n",
              "    <tr>\n",
              "      <th>10520</th>\n",
              "      <td>0</td>\n",
              "      <td>0</td>\n",
              "    </tr>\n",
              "    <tr>\n",
              "      <th>16918</th>\n",
              "      <td>1</td>\n",
              "      <td>1</td>\n",
              "    </tr>\n",
              "    <tr>\n",
              "      <th>2164</th>\n",
              "      <td>1</td>\n",
              "      <td>1</td>\n",
              "    </tr>\n",
              "    <tr>\n",
              "      <th>...</th>\n",
              "      <td>...</td>\n",
              "      <td>...</td>\n",
              "    </tr>\n",
              "    <tr>\n",
              "      <th>16902</th>\n",
              "      <td>1</td>\n",
              "      <td>1</td>\n",
              "    </tr>\n",
              "    <tr>\n",
              "      <th>18219</th>\n",
              "      <td>1</td>\n",
              "      <td>1</td>\n",
              "    </tr>\n",
              "    <tr>\n",
              "      <th>3858</th>\n",
              "      <td>0</td>\n",
              "      <td>0</td>\n",
              "    </tr>\n",
              "    <tr>\n",
              "      <th>1834</th>\n",
              "      <td>0</td>\n",
              "      <td>0</td>\n",
              "    </tr>\n",
              "    <tr>\n",
              "      <th>38707</th>\n",
              "      <td>1</td>\n",
              "      <td>1</td>\n",
              "    </tr>\n",
              "  </tbody>\n",
              "</table>\n",
              "<p>9735 rows × 2 columns</p>\n",
              "</div>"
            ],
            "text/plain": [
              "       Actual  Predicted\n",
              "8494        1          1\n",
              "2838        0          0\n",
              "10520       0          0\n",
              "16918       1          1\n",
              "2164        1          1\n",
              "...       ...        ...\n",
              "16902       1          1\n",
              "18219       1          1\n",
              "3858        0          0\n",
              "1834        0          0\n",
              "38707       1          1\n",
              "\n",
              "[9735 rows x 2 columns]"
            ]
          },
          "metadata": {
            "tags": []
          },
          "execution_count": 671
        }
      ]
    },
    {
      "cell_type": "code",
      "metadata": {
        "id": "QkkPVZta1101"
      },
      "source": [
        "X_val=np.array([[3,187,229,69,1.0,35,24.0,11.0]])"
      ],
      "execution_count": 672,
      "outputs": []
    },
    {
      "cell_type": "code",
      "metadata": {
        "id": "Q6F33GaM1101",
        "colab": {
          "base_uri": "https://localhost:8080/"
        },
        "outputId": "131ce394-bdd5-4f01-b65e-fd90a642c16d"
      },
      "source": [
        "X_val"
      ],
      "execution_count": 673,
      "outputs": [
        {
          "output_type": "execute_result",
          "data": {
            "text/plain": [
              "array([[  3., 187., 229.,  69.,   1.,  35.,  24.,  11.]])"
            ]
          },
          "metadata": {
            "tags": []
          },
          "execution_count": 673
        }
      ]
    },
    {
      "cell_type": "code",
      "metadata": {
        "id": "_IW_qSqL1102"
      },
      "source": [
        "y_pred_val = classifierRF.predict(X_val)"
      ],
      "execution_count": 674,
      "outputs": []
    },
    {
      "cell_type": "code",
      "metadata": {
        "colab": {
          "base_uri": "https://localhost:8080/"
        },
        "id": "r0XIr5Ho1102",
        "outputId": "8aaed7cb-ed4a-475d-c304-2b5f13e349bc"
      },
      "source": [
        "y_pred_val"
      ],
      "execution_count": 675,
      "outputs": [
        {
          "output_type": "execute_result",
          "data": {
            "text/plain": [
              "array([1])"
            ]
          },
          "metadata": {
            "tags": []
          },
          "execution_count": 675
        }
      ]
    },
    {
      "cell_type": "markdown",
      "metadata": {
        "id": "iKWKvy5sDX6W"
      },
      "source": [
        "### XGBoost Classification"
      ]
    },
    {
      "cell_type": "code",
      "metadata": {
        "colab": {
          "base_uri": "https://localhost:8080/"
        },
        "id": "j7NCPhgoDX6m",
        "outputId": "0f0d6931-ba13-4e2e-f027-27e60284cf8d"
      },
      "source": [
        "from xgboost import XGBClassifier\n",
        "classifierXGB = XGBClassifier(n_estimators=2000)\n",
        "classifierXGB.fit(X_train, y_train)"
      ],
      "execution_count": 676,
      "outputs": [
        {
          "output_type": "execute_result",
          "data": {
            "text/plain": [
              "XGBClassifier(base_score=0.5, booster='gbtree', colsample_bylevel=1,\n",
              "              colsample_bynode=1, colsample_bytree=1, gamma=0,\n",
              "              learning_rate=0.1, max_delta_step=0, max_depth=3,\n",
              "              min_child_weight=1, missing=None, n_estimators=2000, n_jobs=1,\n",
              "              nthread=None, objective='binary:logistic', random_state=0,\n",
              "              reg_alpha=0, reg_lambda=1, scale_pos_weight=1, seed=None,\n",
              "              silent=None, subsample=1, verbosity=1)"
            ]
          },
          "metadata": {
            "tags": []
          },
          "execution_count": 676
        }
      ]
    },
    {
      "cell_type": "code",
      "metadata": {
        "id": "j1cqA9AJDX6n"
      },
      "source": [
        "from sklearn.metrics import accuracy_score, f1_score, precision_score, recall_score, classification_report, confusion_matrix"
      ],
      "execution_count": 677,
      "outputs": []
    },
    {
      "cell_type": "code",
      "metadata": {
        "id": "I-dtolGHDX6o"
      },
      "source": [
        "from sklearn.metrics import plot_confusion_matrix"
      ],
      "execution_count": 678,
      "outputs": []
    },
    {
      "cell_type": "code",
      "metadata": {
        "id": "nr-2l4-DDX6o"
      },
      "source": [
        "# Predicting the Test set results\n",
        "y_pred = classifierXGB.predict(X_test)\n",
        "\n",
        "# Making the Confusion Matrix\n",
        "cm = confusion_matrix(y_test, y_pred)\n",
        "score = classifierXGB.score(X_test,y_test)"
      ],
      "execution_count": 679,
      "outputs": []
    },
    {
      "cell_type": "code",
      "metadata": {
        "colab": {
          "base_uri": "https://localhost:8080/"
        },
        "id": "qEGzWRApDX6p",
        "outputId": "6985764b-2ff3-43e6-96f5-861052f415c5"
      },
      "source": [
        "cm"
      ],
      "execution_count": 680,
      "outputs": [
        {
          "output_type": "execute_result",
          "data": {
            "text/plain": [
              "array([[4254,  316],\n",
              "       [ 412, 4753]])"
            ]
          },
          "metadata": {
            "tags": []
          },
          "execution_count": 680
        }
      ]
    },
    {
      "cell_type": "code",
      "metadata": {
        "colab": {
          "base_uri": "https://localhost:8080/"
        },
        "id": "JUdylnN-DX6p",
        "outputId": "2c361ece-e67a-4882-9e2e-a7667608b9b9"
      },
      "source": [
        "score"
      ],
      "execution_count": 681,
      "outputs": [
        {
          "output_type": "execute_result",
          "data": {
            "text/plain": [
              "0.9252182845403184"
            ]
          },
          "metadata": {
            "tags": []
          },
          "execution_count": 681
        }
      ]
    },
    {
      "cell_type": "code",
      "metadata": {
        "colab": {
          "base_uri": "https://localhost:8080/",
          "height": 402
        },
        "id": "XSXApOdWDX6p",
        "outputId": "3da9a920-afce-450b-fe31-9d2cfb52b24a"
      },
      "source": [
        "X_test"
      ],
      "execution_count": 682,
      "outputs": [
        {
          "output_type": "execute_result",
          "data": {
            "text/html": [
              "<div>\n",
              "<style scoped>\n",
              "    .dataframe tbody tr th:only-of-type {\n",
              "        vertical-align: middle;\n",
              "    }\n",
              "\n",
              "    .dataframe tbody tr th {\n",
              "        vertical-align: top;\n",
              "    }\n",
              "\n",
              "    .dataframe thead th {\n",
              "        text-align: right;\n",
              "    }\n",
              "</style>\n",
              "<table border=\"1\" class=\"dataframe\">\n",
              "  <thead>\n",
              "    <tr style=\"text-align: right;\">\n",
              "      <th></th>\n",
              "      <th>AIRLINE</th>\n",
              "      <th>ORIGIN_AIRPORT</th>\n",
              "      <th>DESTINATION_AIRPORT</th>\n",
              "      <th>DISTANCE</th>\n",
              "      <th>DEPARTURE_DELAY</th>\n",
              "      <th>SCHEDULED_TIME</th>\n",
              "      <th>AIR_TIME</th>\n",
              "      <th>TAXI_OUT</th>\n",
              "    </tr>\n",
              "  </thead>\n",
              "  <tbody>\n",
              "    <tr>\n",
              "      <th>8494</th>\n",
              "      <td>8</td>\n",
              "      <td>20</td>\n",
              "      <td>166</td>\n",
              "      <td>1242</td>\n",
              "      <td>34.0</td>\n",
              "      <td>212</td>\n",
              "      <td>162.0</td>\n",
              "      <td>13.0</td>\n",
              "    </tr>\n",
              "    <tr>\n",
              "      <th>2838</th>\n",
              "      <td>8</td>\n",
              "      <td>26</td>\n",
              "      <td>227</td>\n",
              "      <td>425</td>\n",
              "      <td>-1.0</td>\n",
              "      <td>93</td>\n",
              "      <td>68.0</td>\n",
              "      <td>14.0</td>\n",
              "    </tr>\n",
              "    <tr>\n",
              "      <th>10520</th>\n",
              "      <td>12</td>\n",
              "      <td>100</td>\n",
              "      <td>266</td>\n",
              "      <td>2565</td>\n",
              "      <td>1.0</td>\n",
              "      <td>399</td>\n",
              "      <td>355.0</td>\n",
              "      <td>11.0</td>\n",
              "    </tr>\n",
              "    <tr>\n",
              "      <th>16918</th>\n",
              "      <td>8</td>\n",
              "      <td>218</td>\n",
              "      <td>82</td>\n",
              "      <td>802</td>\n",
              "      <td>28.0</td>\n",
              "      <td>156</td>\n",
              "      <td>138.0</td>\n",
              "      <td>20.0</td>\n",
              "    </tr>\n",
              "    <tr>\n",
              "      <th>2164</th>\n",
              "      <td>12</td>\n",
              "      <td>218</td>\n",
              "      <td>227</td>\n",
              "      <td>1440</td>\n",
              "      <td>-4.0</td>\n",
              "      <td>238</td>\n",
              "      <td>217.0</td>\n",
              "      <td>40.0</td>\n",
              "    </tr>\n",
              "    <tr>\n",
              "      <th>...</th>\n",
              "      <td>...</td>\n",
              "      <td>...</td>\n",
              "      <td>...</td>\n",
              "      <td>...</td>\n",
              "      <td>...</td>\n",
              "      <td>...</td>\n",
              "      <td>...</td>\n",
              "      <td>...</td>\n",
              "    </tr>\n",
              "    <tr>\n",
              "      <th>16902</th>\n",
              "      <td>1</td>\n",
              "      <td>218</td>\n",
              "      <td>82</td>\n",
              "      <td>802</td>\n",
              "      <td>20.0</td>\n",
              "      <td>155</td>\n",
              "      <td>122.0</td>\n",
              "      <td>18.0</td>\n",
              "    </tr>\n",
              "    <tr>\n",
              "      <th>18219</th>\n",
              "      <td>2</td>\n",
              "      <td>171</td>\n",
              "      <td>82</td>\n",
              "      <td>785</td>\n",
              "      <td>3.0</td>\n",
              "      <td>155</td>\n",
              "      <td>140.0</td>\n",
              "      <td>9.0</td>\n",
              "    </tr>\n",
              "    <tr>\n",
              "      <th>3858</th>\n",
              "      <td>1</td>\n",
              "      <td>165</td>\n",
              "      <td>217</td>\n",
              "      <td>1514</td>\n",
              "      <td>-10.0</td>\n",
              "      <td>225</td>\n",
              "      <td>183.0</td>\n",
              "      <td>13.0</td>\n",
              "    </tr>\n",
              "    <tr>\n",
              "      <th>1834</th>\n",
              "      <td>11</td>\n",
              "      <td>272</td>\n",
              "      <td>227</td>\n",
              "      <td>621</td>\n",
              "      <td>-7.0</td>\n",
              "      <td>113</td>\n",
              "      <td>85.0</td>\n",
              "      <td>18.0</td>\n",
              "    </tr>\n",
              "    <tr>\n",
              "      <th>38707</th>\n",
              "      <td>9</td>\n",
              "      <td>18</td>\n",
              "      <td>148</td>\n",
              "      <td>432</td>\n",
              "      <td>44.0</td>\n",
              "      <td>95</td>\n",
              "      <td>63.0</td>\n",
              "      <td>13.0</td>\n",
              "    </tr>\n",
              "  </tbody>\n",
              "</table>\n",
              "<p>9735 rows × 8 columns</p>\n",
              "</div>"
            ],
            "text/plain": [
              "       AIRLINE  ORIGIN_AIRPORT  ...  AIR_TIME  TAXI_OUT\n",
              "8494         8              20  ...     162.0      13.0\n",
              "2838         8              26  ...      68.0      14.0\n",
              "10520       12             100  ...     355.0      11.0\n",
              "16918        8             218  ...     138.0      20.0\n",
              "2164        12             218  ...     217.0      40.0\n",
              "...        ...             ...  ...       ...       ...\n",
              "16902        1             218  ...     122.0      18.0\n",
              "18219        2             171  ...     140.0       9.0\n",
              "3858         1             165  ...     183.0      13.0\n",
              "1834        11             272  ...      85.0      18.0\n",
              "38707        9              18  ...      63.0      13.0\n",
              "\n",
              "[9735 rows x 8 columns]"
            ]
          },
          "metadata": {
            "tags": []
          },
          "execution_count": 682
        }
      ]
    },
    {
      "cell_type": "code",
      "metadata": {
        "colab": {
          "base_uri": "https://localhost:8080/"
        },
        "id": "b13Kq3A7DX6q",
        "outputId": "2e42852f-4c46-4c18-a6db-225ef2214502"
      },
      "source": [
        "print(\"F1 score :\",f1_score(y_test, y_pred, average=\"macro\"))\n",
        "print(\"Precision Score :\" , precision_score(y_test, y_pred, average=\"macro\"))\n",
        "print(\"Recall Score :\" , recall_score(y_test, y_pred, average=\"macro\"))   "
      ],
      "execution_count": 683,
      "outputs": [
        {
          "output_type": "stream",
          "text": [
            "F1 score : 0.9250212841086357\n",
            "Precision Score : 0.9246809798463163\n",
            "Recall Score : 0.925542862347775\n"
          ],
          "name": "stdout"
        }
      ]
    },
    {
      "cell_type": "code",
      "metadata": {
        "colab": {
          "base_uri": "https://localhost:8080/",
          "height": 309
        },
        "id": "1R5MJUm8DX6q",
        "outputId": "0ab1db1d-5222-467e-cd15-22693ce344fb"
      },
      "source": [
        "fig, ax = plt.subplots(figsize=(5, 5))\n",
        "plot_confusion_matrix(classifierRF, X_test, y_test, normalize='true', cmap=plt.cm.Blues, ax=ax)\n",
        "plt.show()"
      ],
      "execution_count": 684,
      "outputs": [
        {
          "output_type": "display_data",
          "data": {
            "image/png": "[encoded data removed]",
            "text/plain": [
              "<Figure size 360x360 with 2 Axes>"
            ]
          },
          "metadata": {
            "tags": [],
            "needs_background": "light"
          }
        }
      ]
    },
    {
      "cell_type": "code",
      "metadata": {
        "colab": {
          "base_uri": "https://localhost:8080/",
          "height": 402
        },
        "id": "HsYm_IuTDX6q",
        "outputId": "4e199933-ddb2-4297-8ad5-5432a0726a27"
      },
      "source": [
        "df = pd.DataFrame({'Actual': y_test, 'Predicted': y_pred})\n",
        "df"
      ],
      "execution_count": 685,
      "outputs": [
        {
          "output_type": "execute_result",
          "data": {
            "text/html": [
              "<div>\n",
              "<style scoped>\n",
              "    .dataframe tbody tr th:only-of-type {\n",
              "        vertical-align: middle;\n",
              "    }\n",
              "\n",
              "    .dataframe tbody tr th {\n",
              "        vertical-align: top;\n",
              "    }\n",
              "\n",
              "    .dataframe thead th {\n",
              "        text-align: right;\n",
              "    }\n",
              "</style>\n",
              "<table border=\"1\" class=\"dataframe\">\n",
              "  <thead>\n",
              "    <tr style=\"text-align: right;\">\n",
              "      <th></th>\n",
              "      <th>Actual</th>\n",
              "      <th>Predicted</th>\n",
              "    </tr>\n",
              "  </thead>\n",
              "  <tbody>\n",
              "    <tr>\n",
              "      <th>8494</th>\n",
              "      <td>1</td>\n",
              "      <td>1</td>\n",
              "    </tr>\n",
              "    <tr>\n",
              "      <th>2838</th>\n",
              "      <td>0</td>\n",
              "      <td>0</td>\n",
              "    </tr>\n",
              "    <tr>\n",
              "      <th>10520</th>\n",
              "      <td>0</td>\n",
              "      <td>0</td>\n",
              "    </tr>\n",
              "    <tr>\n",
              "      <th>16918</th>\n",
              "      <td>1</td>\n",
              "      <td>1</td>\n",
              "    </tr>\n",
              "    <tr>\n",
              "      <th>2164</th>\n",
              "      <td>1</td>\n",
              "      <td>1</td>\n",
              "    </tr>\n",
              "    <tr>\n",
              "      <th>...</th>\n",
              "      <td>...</td>\n",
              "      <td>...</td>\n",
              "    </tr>\n",
              "    <tr>\n",
              "      <th>16902</th>\n",
              "      <td>1</td>\n",
              "      <td>1</td>\n",
              "    </tr>\n",
              "    <tr>\n",
              "      <th>18219</th>\n",
              "      <td>1</td>\n",
              "      <td>1</td>\n",
              "    </tr>\n",
              "    <tr>\n",
              "      <th>3858</th>\n",
              "      <td>0</td>\n",
              "      <td>0</td>\n",
              "    </tr>\n",
              "    <tr>\n",
              "      <th>1834</th>\n",
              "      <td>0</td>\n",
              "      <td>0</td>\n",
              "    </tr>\n",
              "    <tr>\n",
              "      <th>38707</th>\n",
              "      <td>1</td>\n",
              "      <td>1</td>\n",
              "    </tr>\n",
              "  </tbody>\n",
              "</table>\n",
              "<p>9735 rows × 2 columns</p>\n",
              "</div>"
            ],
            "text/plain": [
              "       Actual  Predicted\n",
              "8494        1          1\n",
              "2838        0          0\n",
              "10520       0          0\n",
              "16918       1          1\n",
              "2164        1          1\n",
              "...       ...        ...\n",
              "16902       1          1\n",
              "18219       1          1\n",
              "3858        0          0\n",
              "1834        0          0\n",
              "38707       1          1\n",
              "\n",
              "[9735 rows x 2 columns]"
            ]
          },
          "metadata": {
            "tags": []
          },
          "execution_count": 685
        }
      ]
    },
    {
      "cell_type": "code",
      "metadata": {
        "id": "Mw6y-JPmDX6r"
      },
      "source": [
        "X_val=np.array([[3,187,229,69,1.0,35,24.0,11.0]])"
      ],
      "execution_count": 686,
      "outputs": []
    },
    {
      "cell_type": "code",
      "metadata": {
        "colab": {
          "base_uri": "https://localhost:8080/"
        },
        "id": "xid35_B3DX6r",
        "outputId": "f8881d68-fd1c-4c1d-eaff-f2fea218657b"
      },
      "source": [
        "X_val"
      ],
      "execution_count": 687,
      "outputs": [
        {
          "output_type": "execute_result",
          "data": {
            "text/plain": [
              "array([[  3., 187., 229.,  69.,   1.,  35.,  24.,  11.]])"
            ]
          },
          "metadata": {
            "tags": []
          },
          "execution_count": 687
        }
      ]
    },
    {
      "cell_type": "code",
      "metadata": {
        "id": "zMO3K3yrDX6r"
      },
      "source": [
        "y_pred_val = classifierRF.predict(X_val)"
      ],
      "execution_count": 688,
      "outputs": []
    },
    {
      "cell_type": "code",
      "metadata": {
        "colab": {
          "base_uri": "https://localhost:8080/"
        },
        "id": "ncngXizlDX6r",
        "outputId": "7f194104-d9b4-46e6-9161-2714da69a0d0"
      },
      "source": [
        "y_pred_val"
      ],
      "execution_count": 689,
      "outputs": [
        {
          "output_type": "execute_result",
          "data": {
            "text/plain": [
              "array([1])"
            ]
          },
          "metadata": {
            "tags": []
          },
          "execution_count": 689
        }
      ]
    },
    {
      "cell_type": "markdown",
      "metadata": {
        "id": "2CDQWXPT4-r8"
      },
      "source": [
        "testing"
      ]
    },
    {
      "cell_type": "code",
      "metadata": {
        "colab": {
          "base_uri": "https://localhost:8080/"
        },
        "id": "2_tgCxDy5BLO",
        "outputId": "89ecd731-b718-4d7d-c667-9763a08365e5"
      },
      "source": [
        "totalcount=Flights1.loc[(Flights1['AIRLINE'] == 0) & (Flights1['ORIGIN_AIRPORT'] == 15) & (Flights1['DESTINATION_AIRPORT'] == 265)]['Is_Delayed'].count()\n",
        "totalcount"
      ],
      "execution_count": 690,
      "outputs": [
        {
          "output_type": "execute_result",
          "data": {
            "text/plain": [
              "47"
            ]
          },
          "metadata": {
            "tags": []
          },
          "execution_count": 690
        }
      ]
    },
    {
      "cell_type": "code",
      "metadata": {
        "colab": {
          "base_uri": "https://localhost:8080/"
        },
        "id": "LD0vRGEB8v9P",
        "outputId": "24327f8a-4238-488e-a65a-00244530a18d"
      },
      "source": [
        "delayedcount=Flights1.loc[(Flights1['AIRLINE'] == 0) & (Flights1['ORIGIN_AIRPORT'] == 15) & (Flights1['DESTINATION_AIRPORT'] == 265) & (Flights1['Is_Delayed'] == 1)]['Is_Delayed'].count()\n",
        "delayedcount"
      ],
      "execution_count": 691,
      "outputs": [
        {
          "output_type": "execute_result",
          "data": {
            "text/plain": [
              "5"
            ]
          },
          "metadata": {
            "tags": []
          },
          "execution_count": 691
        }
      ]
    },
    {
      "cell_type": "code",
      "metadata": {
        "colab": {
          "base_uri": "https://localhost:8080/"
        },
        "id": "vHSartW09MXO",
        "outputId": "5d4f3ee5-1a1f-4faf-94fa-10af15f0a6a1"
      },
      "source": [
        "nodelayedcount=Flights1.loc[(Flights1['AIRLINE'] == 0) & (Flights1['ORIGIN_AIRPORT'] == 15) & (Flights1['DESTINATION_AIRPORT'] == 265) & (Flights1['Is_Delayed'] == 0)]['Is_Delayed'].count()\n",
        "nodelayedcount"
      ],
      "execution_count": 692,
      "outputs": [
        {
          "output_type": "execute_result",
          "data": {
            "text/plain": [
              "42"
            ]
          },
          "metadata": {
            "tags": []
          },
          "execution_count": 692
        }
      ]
    },
    {
      "cell_type": "code",
      "metadata": {
        "colab": {
          "base_uri": "https://localhost:8080/",
          "height": 589
        },
        "id": "8evsCrUy9QL_",
        "outputId": "1d5048af-e159-4cf2-9942-e816a946a0c3"
      },
      "source": [
        "axis = plt.subplots(figsize=(10,14))\n",
        "Name = ['Delayed','Not Delayed']\n",
        "values = [(delayedcount/totalcount)*100,(nodelayedcount/totalcount)*100]\n",
        "\n",
        "plt.pie(values,labels=Name,autopct='%5.0f%%')\n",
        "plt.show() \n",
        "# plt.pie(size,labels=Name,autopct='%5.0f%%')\n",
        "# plt.show()"
      ],
      "execution_count": 693,
      "outputs": [
        {
          "output_type": "display_data",
          "data": {
            "image/png": "[encoded data removed]",
            "text/plain": [
              "<Figure size 720x1008 with 1 Axes>"
            ]
          },
          "metadata": {
            "tags": []
          }
        }
      ]
    },
    {
      "cell_type": "code",
      "metadata": {
        "colab": {
          "base_uri": "https://localhost:8080/",
          "height": 682
        },
        "id": "6NB88advGsmN",
        "outputId": "fa006641-7193-43c8-9841-3166c62effc8"
      },
      "source": [
        "Flights1 = Flights.drop(['Org_Airport_Name','Origin_city','Dest_Airport_Name','Destination_city','TAXI_IN','TAXI_OUT','DIVERTED','SCHEDULED_TIME'],axis = 1)\n",
        "Flights1['Is_Delayed'] = np.where(Flights1['ARRIVAL_DELAY']<=0, 0,1)\n",
        "Flights1.loc[(Flights1['Is_Delayed'] == 1) &  (Flights1['DEPARTURE_DELAY'] <0)].sort_values(by=['DEPARTURE_DELAY'])[:10]"
      ],
      "execution_count": 694,
      "outputs": [
        {
          "output_type": "execute_result",
          "data": {
            "text/html": [
              "<div>\n",
              "<style scoped>\n",
              "    .dataframe tbody tr th:only-of-type {\n",
              "        vertical-align: middle;\n",
              "    }\n",
              "\n",
              "    .dataframe tbody tr th {\n",
              "        vertical-align: top;\n",
              "    }\n",
              "\n",
              "    .dataframe thead th {\n",
              "        text-align: right;\n",
              "    }\n",
              "</style>\n",
              "<table border=\"1\" class=\"dataframe\">\n",
              "  <thead>\n",
              "    <tr style=\"text-align: right;\">\n",
              "      <th></th>\n",
              "      <th>AIRLINE</th>\n",
              "      <th>ORIGIN_AIRPORT</th>\n",
              "      <th>DESTINATION_AIRPORT</th>\n",
              "      <th>DISTANCE</th>\n",
              "      <th>Actual_Departure</th>\n",
              "      <th>Scheduled_Departure</th>\n",
              "      <th>DEPARTURE_DELAY</th>\n",
              "      <th>Actual_Arrival</th>\n",
              "      <th>Scheduled_Arrival</th>\n",
              "      <th>ARRIVAL_DELAY</th>\n",
              "      <th>ELAPSED_TIME</th>\n",
              "      <th>AIR_TIME</th>\n",
              "      <th>Is_Delayed</th>\n",
              "    </tr>\n",
              "  </thead>\n",
              "  <tbody>\n",
              "    <tr>\n",
              "      <th>31440</th>\n",
              "      <td>Atlantic Southeast Airlines</td>\n",
              "      <td>XNA</td>\n",
              "      <td>IAH</td>\n",
              "      <td>438</td>\n",
              "      <td>17:40:00</td>\n",
              "      <td>18:00:00</td>\n",
              "      <td>-20.0</td>\n",
              "      <td>19:52:00</td>\n",
              "      <td>19:46:00</td>\n",
              "      <td>6.0</td>\n",
              "      <td>132.0</td>\n",
              "      <td>82.0</td>\n",
              "      <td>1</td>\n",
              "    </tr>\n",
              "    <tr>\n",
              "      <th>46067</th>\n",
              "      <td>JetBlue Airways</td>\n",
              "      <td>DCA</td>\n",
              "      <td>CHS</td>\n",
              "      <td>444</td>\n",
              "      <td>11:48:00</td>\n",
              "      <td>12:05:00</td>\n",
              "      <td>-17.0</td>\n",
              "      <td>13:49:00</td>\n",
              "      <td>13:48:00</td>\n",
              "      <td>1.0</td>\n",
              "      <td>121.0</td>\n",
              "      <td>72.0</td>\n",
              "      <td>1</td>\n",
              "    </tr>\n",
              "    <tr>\n",
              "      <th>15498</th>\n",
              "      <td>Alaska Airlines Inc.</td>\n",
              "      <td>SAN</td>\n",
              "      <td>SLC</td>\n",
              "      <td>626</td>\n",
              "      <td>20:48:00</td>\n",
              "      <td>21:05:00</td>\n",
              "      <td>-17.0</td>\n",
              "      <td>00:07:00</td>\n",
              "      <td>23:57:00</td>\n",
              "      <td>10.0</td>\n",
              "      <td>139.0</td>\n",
              "      <td>97.0</td>\n",
              "      <td>1</td>\n",
              "    </tr>\n",
              "    <tr>\n",
              "      <th>17918</th>\n",
              "      <td>American Airlines Inc.</td>\n",
              "      <td>JAC</td>\n",
              "      <td>DFW</td>\n",
              "      <td>1047</td>\n",
              "      <td>07:43:00</td>\n",
              "      <td>08:00:00</td>\n",
              "      <td>-17.0</td>\n",
              "      <td>12:11:00</td>\n",
              "      <td>12:00:00</td>\n",
              "      <td>11.0</td>\n",
              "      <td>208.0</td>\n",
              "      <td>138.0</td>\n",
              "      <td>1</td>\n",
              "    </tr>\n",
              "    <tr>\n",
              "      <th>7493</th>\n",
              "      <td>Skywest Airlines Inc.</td>\n",
              "      <td>SLC</td>\n",
              "      <td>LAX</td>\n",
              "      <td>590</td>\n",
              "      <td>07:08:00</td>\n",
              "      <td>07:25:00</td>\n",
              "      <td>-17.0</td>\n",
              "      <td>08:48:00</td>\n",
              "      <td>08:30:00</td>\n",
              "      <td>18.0</td>\n",
              "      <td>160.0</td>\n",
              "      <td>82.0</td>\n",
              "      <td>1</td>\n",
              "    </tr>\n",
              "    <tr>\n",
              "      <th>5597</th>\n",
              "      <td>American Eagle Airlines Inc.</td>\n",
              "      <td>HPN</td>\n",
              "      <td>ORD</td>\n",
              "      <td>738</td>\n",
              "      <td>18:14:00</td>\n",
              "      <td>18:30:00</td>\n",
              "      <td>-16.0</td>\n",
              "      <td>20:53:00</td>\n",
              "      <td>20:25:00</td>\n",
              "      <td>28.0</td>\n",
              "      <td>219.0</td>\n",
              "      <td>140.0</td>\n",
              "      <td>1</td>\n",
              "    </tr>\n",
              "    <tr>\n",
              "      <th>48376</th>\n",
              "      <td>Spirit Air Lines</td>\n",
              "      <td>MCO</td>\n",
              "      <td>ACY</td>\n",
              "      <td>852</td>\n",
              "      <td>10:26:00</td>\n",
              "      <td>10:42:00</td>\n",
              "      <td>-16.0</td>\n",
              "      <td>12:53:00</td>\n",
              "      <td>12:50:00</td>\n",
              "      <td>3.0</td>\n",
              "      <td>147.0</td>\n",
              "      <td>104.0</td>\n",
              "      <td>1</td>\n",
              "    </tr>\n",
              "    <tr>\n",
              "      <th>13443</th>\n",
              "      <td>Atlantic Southeast Airlines</td>\n",
              "      <td>XNA</td>\n",
              "      <td>DEN</td>\n",
              "      <td>616</td>\n",
              "      <td>07:45:00</td>\n",
              "      <td>08:00:00</td>\n",
              "      <td>-15.0</td>\n",
              "      <td>09:27:00</td>\n",
              "      <td>09:10:00</td>\n",
              "      <td>17.0</td>\n",
              "      <td>162.0</td>\n",
              "      <td>98.0</td>\n",
              "      <td>1</td>\n",
              "    </tr>\n",
              "    <tr>\n",
              "      <th>12246</th>\n",
              "      <td>Skywest Airlines Inc.</td>\n",
              "      <td>TUS</td>\n",
              "      <td>DEN</td>\n",
              "      <td>639</td>\n",
              "      <td>09:08:00</td>\n",
              "      <td>09:23:00</td>\n",
              "      <td>-15.0</td>\n",
              "      <td>11:25:00</td>\n",
              "      <td>11:20:00</td>\n",
              "      <td>5.0</td>\n",
              "      <td>137.0</td>\n",
              "      <td>91.0</td>\n",
              "      <td>1</td>\n",
              "    </tr>\n",
              "    <tr>\n",
              "      <th>13014</th>\n",
              "      <td>Atlantic Southeast Airlines</td>\n",
              "      <td>SDF</td>\n",
              "      <td>DEN</td>\n",
              "      <td>1024</td>\n",
              "      <td>09:05:00</td>\n",
              "      <td>09:19:00</td>\n",
              "      <td>-14.0</td>\n",
              "      <td>10:44:00</td>\n",
              "      <td>10:27:00</td>\n",
              "      <td>17.0</td>\n",
              "      <td>219.0</td>\n",
              "      <td>166.0</td>\n",
              "      <td>1</td>\n",
              "    </tr>\n",
              "  </tbody>\n",
              "</table>\n",
              "</div>"
            ],
            "text/plain": [
              "                            AIRLINE ORIGIN_AIRPORT  ... AIR_TIME  Is_Delayed\n",
              "31440   Atlantic Southeast Airlines            XNA  ...     82.0           1\n",
              "46067               JetBlue Airways            DCA  ...     72.0           1\n",
              "15498          Alaska Airlines Inc.            SAN  ...     97.0           1\n",
              "17918        American Airlines Inc.            JAC  ...    138.0           1\n",
              "7493          Skywest Airlines Inc.            SLC  ...     82.0           1\n",
              "5597   American Eagle Airlines Inc.            HPN  ...    140.0           1\n",
              "48376              Spirit Air Lines            MCO  ...    104.0           1\n",
              "13443   Atlantic Southeast Airlines            XNA  ...     98.0           1\n",
              "12246         Skywest Airlines Inc.            TUS  ...     91.0           1\n",
              "13014   Atlantic Southeast Airlines            SDF  ...    166.0           1\n",
              "\n",
              "[10 rows x 13 columns]"
            ]
          },
          "metadata": {
            "tags": []
          },
          "execution_count": 694
        }
      ]
    },
    {
      "cell_type": "code",
      "metadata": {
        "colab": {
          "base_uri": "https://localhost:8080/",
          "height": 582
        },
        "id": "SMzY9aCsIGNZ",
        "outputId": "1fef301d-75c0-48a6-dc20-1f0bbcc3a47c"
      },
      "source": [
        "Flights1.loc[(Flights1['Is_Delayed'] == 0) &  (Flights1['DEPARTURE_DELAY'] >0)].sort_values(by=['DEPARTURE_DELAY'])[-10:]"
      ],
      "execution_count": 695,
      "outputs": [
        {
          "output_type": "execute_result",
          "data": {
            "text/html": [
              "<div>\n",
              "<style scoped>\n",
              "    .dataframe tbody tr th:only-of-type {\n",
              "        vertical-align: middle;\n",
              "    }\n",
              "\n",
              "    .dataframe tbody tr th {\n",
              "        vertical-align: top;\n",
              "    }\n",
              "\n",
              "    .dataframe thead th {\n",
              "        text-align: right;\n",
              "    }\n",
              "</style>\n",
              "<table border=\"1\" class=\"dataframe\">\n",
              "  <thead>\n",
              "    <tr style=\"text-align: right;\">\n",
              "      <th></th>\n",
              "      <th>AIRLINE</th>\n",
              "      <th>ORIGIN_AIRPORT</th>\n",
              "      <th>DESTINATION_AIRPORT</th>\n",
              "      <th>DISTANCE</th>\n",
              "      <th>Actual_Departure</th>\n",
              "      <th>Scheduled_Departure</th>\n",
              "      <th>DEPARTURE_DELAY</th>\n",
              "      <th>Actual_Arrival</th>\n",
              "      <th>Scheduled_Arrival</th>\n",
              "      <th>ARRIVAL_DELAY</th>\n",
              "      <th>ELAPSED_TIME</th>\n",
              "      <th>AIR_TIME</th>\n",
              "      <th>Is_Delayed</th>\n",
              "    </tr>\n",
              "  </thead>\n",
              "  <tbody>\n",
              "    <tr>\n",
              "      <th>37564</th>\n",
              "      <td>Southwest Airlines Co.</td>\n",
              "      <td>HOU</td>\n",
              "      <td>MDW</td>\n",
              "      <td>937</td>\n",
              "      <td>07:40:00</td>\n",
              "      <td>07:10:00</td>\n",
              "      <td>30.0</td>\n",
              "      <td>09:44:00</td>\n",
              "      <td>09:45:00</td>\n",
              "      <td>-1.0</td>\n",
              "      <td>124.0</td>\n",
              "      <td>111.0</td>\n",
              "      <td>0</td>\n",
              "    </tr>\n",
              "    <tr>\n",
              "      <th>10960</th>\n",
              "      <td>United Air Lines Inc.</td>\n",
              "      <td>IAH</td>\n",
              "      <td>SFO</td>\n",
              "      <td>1635</td>\n",
              "      <td>18:16:00</td>\n",
              "      <td>17:45:00</td>\n",
              "      <td>31.0</td>\n",
              "      <td>20:06:00</td>\n",
              "      <td>20:07:00</td>\n",
              "      <td>-1.0</td>\n",
              "      <td>230.0</td>\n",
              "      <td>207.0</td>\n",
              "      <td>0</td>\n",
              "    </tr>\n",
              "    <tr>\n",
              "      <th>38214</th>\n",
              "      <td>Delta Air Lines Inc.</td>\n",
              "      <td>LGA</td>\n",
              "      <td>PBI</td>\n",
              "      <td>1035</td>\n",
              "      <td>12:31:00</td>\n",
              "      <td>12:00:00</td>\n",
              "      <td>31.0</td>\n",
              "      <td>15:08:00</td>\n",
              "      <td>15:16:00</td>\n",
              "      <td>-8.0</td>\n",
              "      <td>157.0</td>\n",
              "      <td>140.0</td>\n",
              "      <td>0</td>\n",
              "    </tr>\n",
              "    <tr>\n",
              "      <th>8620</th>\n",
              "      <td>American Airlines Inc.</td>\n",
              "      <td>MIA</td>\n",
              "      <td>LAX</td>\n",
              "      <td>2342</td>\n",
              "      <td>20:32:00</td>\n",
              "      <td>20:00:00</td>\n",
              "      <td>32.0</td>\n",
              "      <td>22:53:00</td>\n",
              "      <td>22:53:00</td>\n",
              "      <td>0.0</td>\n",
              "      <td>321.0</td>\n",
              "      <td>298.0</td>\n",
              "      <td>0</td>\n",
              "    </tr>\n",
              "    <tr>\n",
              "      <th>10716</th>\n",
              "      <td>United Air Lines Inc.</td>\n",
              "      <td>ORD</td>\n",
              "      <td>SFO</td>\n",
              "      <td>1846</td>\n",
              "      <td>08:52:00</td>\n",
              "      <td>08:18:00</td>\n",
              "      <td>34.0</td>\n",
              "      <td>10:52:00</td>\n",
              "      <td>11:00:00</td>\n",
              "      <td>-8.0</td>\n",
              "      <td>240.0</td>\n",
              "      <td>212.0</td>\n",
              "      <td>0</td>\n",
              "    </tr>\n",
              "    <tr>\n",
              "      <th>29667</th>\n",
              "      <td>Delta Air Lines Inc.</td>\n",
              "      <td>ATL</td>\n",
              "      <td>TUS</td>\n",
              "      <td>1541</td>\n",
              "      <td>20:16:00</td>\n",
              "      <td>19:40:00</td>\n",
              "      <td>36.0</td>\n",
              "      <td>21:56:00</td>\n",
              "      <td>21:58:00</td>\n",
              "      <td>-2.0</td>\n",
              "      <td>220.0</td>\n",
              "      <td>205.0</td>\n",
              "      <td>0</td>\n",
              "    </tr>\n",
              "    <tr>\n",
              "      <th>11073</th>\n",
              "      <td>Skywest Airlines Inc.</td>\n",
              "      <td>AUS</td>\n",
              "      <td>SFO</td>\n",
              "      <td>1504</td>\n",
              "      <td>06:37:00</td>\n",
              "      <td>06:00:00</td>\n",
              "      <td>37.0</td>\n",
              "      <td>08:09:00</td>\n",
              "      <td>08:09:00</td>\n",
              "      <td>0.0</td>\n",
              "      <td>212.0</td>\n",
              "      <td>196.0</td>\n",
              "      <td>0</td>\n",
              "    </tr>\n",
              "    <tr>\n",
              "      <th>7657</th>\n",
              "      <td>United Air Lines Inc.</td>\n",
              "      <td>EWR</td>\n",
              "      <td>LAX</td>\n",
              "      <td>2454</td>\n",
              "      <td>19:37:00</td>\n",
              "      <td>19:00:00</td>\n",
              "      <td>37.0</td>\n",
              "      <td>22:28:00</td>\n",
              "      <td>22:30:00</td>\n",
              "      <td>-2.0</td>\n",
              "      <td>351.0</td>\n",
              "      <td>332.0</td>\n",
              "      <td>0</td>\n",
              "    </tr>\n",
              "    <tr>\n",
              "      <th>24634</th>\n",
              "      <td>Spirit Air Lines</td>\n",
              "      <td>LGA</td>\n",
              "      <td>FLL</td>\n",
              "      <td>1076</td>\n",
              "      <td>16:08:00</td>\n",
              "      <td>15:30:00</td>\n",
              "      <td>38.0</td>\n",
              "      <td>18:47:00</td>\n",
              "      <td>18:48:00</td>\n",
              "      <td>-1.0</td>\n",
              "      <td>159.0</td>\n",
              "      <td>143.0</td>\n",
              "      <td>0</td>\n",
              "    </tr>\n",
              "    <tr>\n",
              "      <th>13532</th>\n",
              "      <td>Delta Air Lines Inc.</td>\n",
              "      <td>MSP</td>\n",
              "      <td>ANC</td>\n",
              "      <td>2519</td>\n",
              "      <td>22:19:00</td>\n",
              "      <td>21:40:00</td>\n",
              "      <td>39.0</td>\n",
              "      <td>00:39:00</td>\n",
              "      <td>00:51:00</td>\n",
              "      <td>-12.0</td>\n",
              "      <td>320.0</td>\n",
              "      <td>306.0</td>\n",
              "      <td>0</td>\n",
              "    </tr>\n",
              "  </tbody>\n",
              "</table>\n",
              "</div>"
            ],
            "text/plain": [
              "                      AIRLINE ORIGIN_AIRPORT  ... AIR_TIME  Is_Delayed\n",
              "37564  Southwest Airlines Co.            HOU  ...    111.0           0\n",
              "10960   United Air Lines Inc.            IAH  ...    207.0           0\n",
              "38214    Delta Air Lines Inc.            LGA  ...    140.0           0\n",
              "8620   American Airlines Inc.            MIA  ...    298.0           0\n",
              "10716   United Air Lines Inc.            ORD  ...    212.0           0\n",
              "29667    Delta Air Lines Inc.            ATL  ...    205.0           0\n",
              "11073   Skywest Airlines Inc.            AUS  ...    196.0           0\n",
              "7657    United Air Lines Inc.            EWR  ...    332.0           0\n",
              "24634        Spirit Air Lines            LGA  ...    143.0           0\n",
              "13532    Delta Air Lines Inc.            MSP  ...    306.0           0\n",
              "\n",
              "[10 rows x 13 columns]"
            ]
          },
          "metadata": {
            "tags": []
          },
          "execution_count": 695
        }
      ]
    },
    {
      "cell_type": "code",
      "metadata": {
        "colab": {
          "base_uri": "https://localhost:8080/",
          "height": 439
        },
        "id": "XaiRzkv_OEje",
        "outputId": "f45d5f8c-b48f-4091-c1d5-23b05c34f615"
      },
      "source": [
        "dfnew = pd.DataFrame(Flights1)\n",
        "\n",
        "corrMatrix = dfnew.corr()\n",
        "sns.heatmap(corrMatrix, annot=True)\n",
        "plt.show()\n",
        "Flights1.columns"
      ],
      "execution_count": 696,
      "outputs": [
        {
          "output_type": "display_data",
          "data": {
            "image/png": "[encoded data removed]",
            "text/plain": [
              "<Figure size 432x288 with 2 Axes>"
            ]
          },
          "metadata": {
            "tags": [],
            "needs_background": "light"
          }
        },
        {
          "output_type": "execute_result",
          "data": {
            "text/plain": [
              "Index(['AIRLINE', 'ORIGIN_AIRPORT', 'DESTINATION_AIRPORT', 'DISTANCE',\n",
              "       'Actual_Departure', 'Scheduled_Departure', 'DEPARTURE_DELAY',\n",
              "       'Actual_Arrival', 'Scheduled_Arrival', 'ARRIVAL_DELAY', 'ELAPSED_TIME',\n",
              "       'AIR_TIME', 'Is_Delayed'],\n",
              "      dtype='object')"
            ]
          },
          "metadata": {
            "tags": []
          },
          "execution_count": 696
        }
      ]
    },
    {
      "cell_type": "markdown",
      "metadata": {
        "id": "wEV_ETzrEjeW"
      },
      "source": [
        "### Random Forest Regression"
      ]
    },
    {
      "cell_type": "code",
      "metadata": {
        "id": "pUzZkL_TElts"
      },
      "source": [
        "from sklearn.ensemble import RandomForestRegressor\n",
        "Rfc = RandomForestRegressor(random_state=2)\n",
        "from sklearn.metrics import mean_absolute_error,mean_squared_error,r2_score\n"
      ],
      "execution_count": 697,
      "outputs": []
    },
    {
      "cell_type": "code",
      "metadata": {
        "id": "UYl8k0JJtEaj"
      },
      "source": [
        "Flights1 = Flights.drop(['Org_Airport_Name','Origin_city','Dest_Airport_Name','Destination_city'],axis = 1)"
      ],
      "execution_count": 698,
      "outputs": []
    },
    {
      "cell_type": "code",
      "metadata": {
        "id": "jg2TRKq9tEau"
      },
      "source": [
        "Flights1['AIRLINE']= le.fit_transform(Flights1['AIRLINE'])\n",
        "Flights1['ORIGIN_AIRPORT'] = le.fit_transform(Flights1['ORIGIN_AIRPORT'])\n",
        "Flights1['DESTINATION_AIRPORT'] = le.fit_transform(Flights1['DESTINATION_AIRPORT'])"
      ],
      "execution_count": 699,
      "outputs": []
    },
    {
      "cell_type": "code",
      "metadata": {
        "id": "5YgGWitjtEaw"
      },
      "source": [
        "Flights1 = Flights1.drop(['Scheduled_Departure','Scheduled_Arrival','Actual_Arrival','Actual_Departure','ELAPSED_TIME','DIVERTED','AIR_TIME','DISTANCE'], axis = 1)"
      ],
      "execution_count": 700,
      "outputs": []
    },
    {
      "cell_type": "code",
      "metadata": {
        "colab": {
          "base_uri": "https://localhost:8080/",
          "height": 402
        },
        "id": "EM8_W-HcPQlA",
        "outputId": "4b5c6502-33d4-4da5-9d2c-ca8d0ab34d9a"
      },
      "source": [
        "Flights1"
      ],
      "execution_count": 701,
      "outputs": [
        {
          "output_type": "execute_result",
          "data": {
            "text/html": [
              "<div>\n",
              "<style scoped>\n",
              "    .dataframe tbody tr th:only-of-type {\n",
              "        vertical-align: middle;\n",
              "    }\n",
              "\n",
              "    .dataframe tbody tr th {\n",
              "        vertical-align: top;\n",
              "    }\n",
              "\n",
              "    .dataframe thead th {\n",
              "        text-align: right;\n",
              "    }\n",
              "</style>\n",
              "<table border=\"1\" class=\"dataframe\">\n",
              "  <thead>\n",
              "    <tr style=\"text-align: right;\">\n",
              "      <th></th>\n",
              "      <th>AIRLINE</th>\n",
              "      <th>ORIGIN_AIRPORT</th>\n",
              "      <th>DESTINATION_AIRPORT</th>\n",
              "      <th>DEPARTURE_DELAY</th>\n",
              "      <th>ARRIVAL_DELAY</th>\n",
              "      <th>SCHEDULED_TIME</th>\n",
              "      <th>TAXI_IN</th>\n",
              "      <th>TAXI_OUT</th>\n",
              "    </tr>\n",
              "  </thead>\n",
              "  <tbody>\n",
              "    <tr>\n",
              "      <th>0</th>\n",
              "      <td>0</td>\n",
              "      <td>15</td>\n",
              "      <td>265</td>\n",
              "      <td>-11.0</td>\n",
              "      <td>-22.0</td>\n",
              "      <td>205</td>\n",
              "      <td>4.0</td>\n",
              "      <td>21.0</td>\n",
              "    </tr>\n",
              "    <tr>\n",
              "      <th>1</th>\n",
              "      <td>0</td>\n",
              "      <td>15</td>\n",
              "      <td>265</td>\n",
              "      <td>-4.0</td>\n",
              "      <td>-14.0</td>\n",
              "      <td>204</td>\n",
              "      <td>4.0</td>\n",
              "      <td>17.0</td>\n",
              "    </tr>\n",
              "    <tr>\n",
              "      <th>2</th>\n",
              "      <td>0</td>\n",
              "      <td>15</td>\n",
              "      <td>265</td>\n",
              "      <td>-15.0</td>\n",
              "      <td>-35.0</td>\n",
              "      <td>218</td>\n",
              "      <td>11.0</td>\n",
              "      <td>17.0</td>\n",
              "    </tr>\n",
              "    <tr>\n",
              "      <th>3</th>\n",
              "      <td>0</td>\n",
              "      <td>15</td>\n",
              "      <td>265</td>\n",
              "      <td>-11.0</td>\n",
              "      <td>-12.0</td>\n",
              "      <td>200</td>\n",
              "      <td>8.0</td>\n",
              "      <td>15.0</td>\n",
              "    </tr>\n",
              "    <tr>\n",
              "      <th>4</th>\n",
              "      <td>0</td>\n",
              "      <td>15</td>\n",
              "      <td>265</td>\n",
              "      <td>-8.0</td>\n",
              "      <td>-14.0</td>\n",
              "      <td>205</td>\n",
              "      <td>4.0</td>\n",
              "      <td>16.0</td>\n",
              "    </tr>\n",
              "    <tr>\n",
              "      <th>...</th>\n",
              "      <td>...</td>\n",
              "      <td>...</td>\n",
              "      <td>...</td>\n",
              "      <td>...</td>\n",
              "      <td>...</td>\n",
              "      <td>...</td>\n",
              "      <td>...</td>\n",
              "      <td>...</td>\n",
              "    </tr>\n",
              "    <tr>\n",
              "      <th>48688</th>\n",
              "      <td>3</td>\n",
              "      <td>187</td>\n",
              "      <td>229</td>\n",
              "      <td>7.0</td>\n",
              "      <td>10.0</td>\n",
              "      <td>35</td>\n",
              "      <td>3.0</td>\n",
              "      <td>11.0</td>\n",
              "    </tr>\n",
              "    <tr>\n",
              "      <th>48689</th>\n",
              "      <td>3</td>\n",
              "      <td>187</td>\n",
              "      <td>229</td>\n",
              "      <td>-4.0</td>\n",
              "      <td>-10.0</td>\n",
              "      <td>35</td>\n",
              "      <td>3.0</td>\n",
              "      <td>5.0</td>\n",
              "    </tr>\n",
              "    <tr>\n",
              "      <th>48690</th>\n",
              "      <td>3</td>\n",
              "      <td>187</td>\n",
              "      <td>229</td>\n",
              "      <td>57.0</td>\n",
              "      <td>51.0</td>\n",
              "      <td>35</td>\n",
              "      <td>4.0</td>\n",
              "      <td>8.0</td>\n",
              "    </tr>\n",
              "    <tr>\n",
              "      <th>48691</th>\n",
              "      <td>3</td>\n",
              "      <td>187</td>\n",
              "      <td>229</td>\n",
              "      <td>176.0</td>\n",
              "      <td>175.0</td>\n",
              "      <td>35</td>\n",
              "      <td>4.0</td>\n",
              "      <td>9.0</td>\n",
              "    </tr>\n",
              "    <tr>\n",
              "      <th>48692</th>\n",
              "      <td>3</td>\n",
              "      <td>187</td>\n",
              "      <td>229</td>\n",
              "      <td>30.0</td>\n",
              "      <td>27.0</td>\n",
              "      <td>35</td>\n",
              "      <td>9.0</td>\n",
              "      <td>8.0</td>\n",
              "    </tr>\n",
              "  </tbody>\n",
              "</table>\n",
              "<p>48672 rows × 8 columns</p>\n",
              "</div>"
            ],
            "text/plain": [
              "       AIRLINE  ORIGIN_AIRPORT  ...  TAXI_IN  TAXI_OUT\n",
              "0            0              15  ...      4.0      21.0\n",
              "1            0              15  ...      4.0      17.0\n",
              "2            0              15  ...     11.0      17.0\n",
              "3            0              15  ...      8.0      15.0\n",
              "4            0              15  ...      4.0      16.0\n",
              "...        ...             ...  ...      ...       ...\n",
              "48688        3             187  ...      3.0      11.0\n",
              "48689        3             187  ...      3.0       5.0\n",
              "48690        3             187  ...      4.0       8.0\n",
              "48691        3             187  ...      4.0       9.0\n",
              "48692        3             187  ...      9.0       8.0\n",
              "\n",
              "[48672 rows x 8 columns]"
            ]
          },
          "metadata": {
            "tags": []
          },
          "execution_count": 701
        }
      ]
    },
    {
      "cell_type": "code",
      "metadata": {
        "colab": {
          "base_uri": "https://localhost:8080/"
        },
        "id": "KNrJs4JVEwHu",
        "outputId": "1b05a5a9-f74d-4655-b9ca-3d2ad66418c0"
      },
      "source": [
        "X = Flights1.drop('ARRIVAL_DELAY',axis = 1)\n",
        "X.shape"
      ],
      "execution_count": 702,
      "outputs": [
        {
          "output_type": "execute_result",
          "data": {
            "text/plain": [
              "(48672, 7)"
            ]
          },
          "metadata": {
            "tags": []
          },
          "execution_count": 702
        }
      ]
    },
    {
      "cell_type": "code",
      "metadata": {
        "colab": {
          "base_uri": "https://localhost:8080/"
        },
        "id": "DETc7wW_E8xw",
        "outputId": "cea4bfd5-3675-4aea-9ef2-2a87107abef1"
      },
      "source": [
        "y = Flights1['ARRIVAL_DELAY']\n",
        "y.head()"
      ],
      "execution_count": 703,
      "outputs": [
        {
          "output_type": "execute_result",
          "data": {
            "text/plain": [
              "0   -22.0\n",
              "1   -14.0\n",
              "2   -35.0\n",
              "3   -12.0\n",
              "4   -14.0\n",
              "Name: ARRIVAL_DELAY, dtype: float64"
            ]
          },
          "metadata": {
            "tags": []
          },
          "execution_count": 703
        }
      ]
    },
    {
      "cell_type": "code",
      "metadata": {
        "id": "ilB3AXD8Fbki"
      },
      "source": [
        "X_train,X_test,y_train,y_test = train_test_split(X,y,test_size=0.3)"
      ],
      "execution_count": 704,
      "outputs": []
    },
    {
      "cell_type": "code",
      "metadata": {
        "colab": {
          "base_uri": "https://localhost:8080/",
          "height": 402
        },
        "id": "XtG0UX0GFdE-",
        "outputId": "64fb3863-3910-48fa-91f5-c90fcc31a9a5"
      },
      "source": [
        "X_train"
      ],
      "execution_count": 705,
      "outputs": [
        {
          "output_type": "execute_result",
          "data": {
            "text/html": [
              "<div>\n",
              "<style scoped>\n",
              "    .dataframe tbody tr th:only-of-type {\n",
              "        vertical-align: middle;\n",
              "    }\n",
              "\n",
              "    .dataframe tbody tr th {\n",
              "        vertical-align: top;\n",
              "    }\n",
              "\n",
              "    .dataframe thead th {\n",
              "        text-align: right;\n",
              "    }\n",
              "</style>\n",
              "<table border=\"1\" class=\"dataframe\">\n",
              "  <thead>\n",
              "    <tr style=\"text-align: right;\">\n",
              "      <th></th>\n",
              "      <th>AIRLINE</th>\n",
              "      <th>ORIGIN_AIRPORT</th>\n",
              "      <th>DESTINATION_AIRPORT</th>\n",
              "      <th>DEPARTURE_DELAY</th>\n",
              "      <th>SCHEDULED_TIME</th>\n",
              "      <th>TAXI_IN</th>\n",
              "      <th>TAXI_OUT</th>\n",
              "    </tr>\n",
              "  </thead>\n",
              "  <tbody>\n",
              "    <tr>\n",
              "      <th>26995</th>\n",
              "      <td>4</td>\n",
              "      <td>218</td>\n",
              "      <td>18</td>\n",
              "      <td>6.0</td>\n",
              "      <td>120</td>\n",
              "      <td>17.0</td>\n",
              "      <td>18.0</td>\n",
              "    </tr>\n",
              "    <tr>\n",
              "      <th>27867</th>\n",
              "      <td>4</td>\n",
              "      <td>214</td>\n",
              "      <td>18</td>\n",
              "      <td>10.0</td>\n",
              "      <td>118</td>\n",
              "      <td>8.0</td>\n",
              "      <td>12.0</td>\n",
              "    </tr>\n",
              "    <tr>\n",
              "      <th>3800</th>\n",
              "      <td>10</td>\n",
              "      <td>212</td>\n",
              "      <td>217</td>\n",
              "      <td>1.0</td>\n",
              "      <td>246</td>\n",
              "      <td>43.0</td>\n",
              "      <td>14.0</td>\n",
              "    </tr>\n",
              "    <tr>\n",
              "      <th>31766</th>\n",
              "      <td>11</td>\n",
              "      <td>62</td>\n",
              "      <td>207</td>\n",
              "      <td>26.0</td>\n",
              "      <td>124</td>\n",
              "      <td>6.0</td>\n",
              "      <td>16.0</td>\n",
              "    </tr>\n",
              "    <tr>\n",
              "      <th>19415</th>\n",
              "      <td>12</td>\n",
              "      <td>81</td>\n",
              "      <td>100</td>\n",
              "      <td>96.0</td>\n",
              "      <td>216</td>\n",
              "      <td>9.0</td>\n",
              "      <td>42.0</td>\n",
              "    </tr>\n",
              "    <tr>\n",
              "      <th>...</th>\n",
              "      <td>...</td>\n",
              "      <td>...</td>\n",
              "      <td>...</td>\n",
              "      <td>...</td>\n",
              "      <td>...</td>\n",
              "      <td>...</td>\n",
              "      <td>...</td>\n",
              "    </tr>\n",
              "    <tr>\n",
              "      <th>15849</th>\n",
              "      <td>4</td>\n",
              "      <td>208</td>\n",
              "      <td>274</td>\n",
              "      <td>-4.0</td>\n",
              "      <td>234</td>\n",
              "      <td>9.0</td>\n",
              "      <td>14.0</td>\n",
              "    </tr>\n",
              "    <tr>\n",
              "      <th>15524</th>\n",
              "      <td>0</td>\n",
              "      <td>272</td>\n",
              "      <td>274</td>\n",
              "      <td>-13.0</td>\n",
              "      <td>110</td>\n",
              "      <td>7.0</td>\n",
              "      <td>8.0</td>\n",
              "    </tr>\n",
              "    <tr>\n",
              "      <th>16573</th>\n",
              "      <td>1</td>\n",
              "      <td>257</td>\n",
              "      <td>82</td>\n",
              "      <td>-11.0</td>\n",
              "      <td>180</td>\n",
              "      <td>7.0</td>\n",
              "      <td>16.0</td>\n",
              "    </tr>\n",
              "    <tr>\n",
              "      <th>37439</th>\n",
              "      <td>9</td>\n",
              "      <td>246</td>\n",
              "      <td>185</td>\n",
              "      <td>-1.0</td>\n",
              "      <td>130</td>\n",
              "      <td>7.0</td>\n",
              "      <td>7.0</td>\n",
              "    </tr>\n",
              "    <tr>\n",
              "      <th>36416</th>\n",
              "      <td>7</td>\n",
              "      <td>165</td>\n",
              "      <td>173</td>\n",
              "      <td>6.0</td>\n",
              "      <td>64</td>\n",
              "      <td>4.0</td>\n",
              "      <td>14.0</td>\n",
              "    </tr>\n",
              "  </tbody>\n",
              "</table>\n",
              "<p>34070 rows × 7 columns</p>\n",
              "</div>"
            ],
            "text/plain": [
              "       AIRLINE  ORIGIN_AIRPORT  ...  TAXI_IN  TAXI_OUT\n",
              "26995        4             218  ...     17.0      18.0\n",
              "27867        4             214  ...      8.0      12.0\n",
              "3800        10             212  ...     43.0      14.0\n",
              "31766       11              62  ...      6.0      16.0\n",
              "19415       12              81  ...      9.0      42.0\n",
              "...        ...             ...  ...      ...       ...\n",
              "15849        4             208  ...      9.0      14.0\n",
              "15524        0             272  ...      7.0       8.0\n",
              "16573        1             257  ...      7.0      16.0\n",
              "37439        9             246  ...      7.0       7.0\n",
              "36416        7             165  ...      4.0      14.0\n",
              "\n",
              "[34070 rows x 7 columns]"
            ]
          },
          "metadata": {
            "tags": []
          },
          "execution_count": 705
        }
      ]
    },
    {
      "cell_type": "code",
      "metadata": {
        "id": "GYbAOSDyFeY3"
      },
      "source": [
        "sc1=StandardScaler()\n",
        "X_train_sc=sc1.fit_transform(X_train)\n",
        "X_test_sc=sc1.transform(X_test)\n",
        "X_val=np.array([X.iloc[0]])\n",
        "X_val_sc=sc1.fit_transform(X_val)"
      ],
      "execution_count": 706,
      "outputs": []
    },
    {
      "cell_type": "code",
      "metadata": {
        "colab": {
          "base_uri": "https://localhost:8080/",
          "height": 402
        },
        "id": "sOUJ0lmmPi4j",
        "outputId": "3f6561fe-702a-48ce-a0b2-d35f697e8663"
      },
      "source": [
        "X_test"
      ],
      "execution_count": 707,
      "outputs": [
        {
          "output_type": "execute_result",
          "data": {
            "text/html": [
              "<div>\n",
              "<style scoped>\n",
              "    .dataframe tbody tr th:only-of-type {\n",
              "        vertical-align: middle;\n",
              "    }\n",
              "\n",
              "    .dataframe tbody tr th {\n",
              "        vertical-align: top;\n",
              "    }\n",
              "\n",
              "    .dataframe thead th {\n",
              "        text-align: right;\n",
              "    }\n",
              "</style>\n",
              "<table border=\"1\" class=\"dataframe\">\n",
              "  <thead>\n",
              "    <tr style=\"text-align: right;\">\n",
              "      <th></th>\n",
              "      <th>AIRLINE</th>\n",
              "      <th>ORIGIN_AIRPORT</th>\n",
              "      <th>DESTINATION_AIRPORT</th>\n",
              "      <th>DEPARTURE_DELAY</th>\n",
              "      <th>SCHEDULED_TIME</th>\n",
              "      <th>TAXI_IN</th>\n",
              "      <th>TAXI_OUT</th>\n",
              "    </tr>\n",
              "  </thead>\n",
              "  <tbody>\n",
              "    <tr>\n",
              "      <th>13850</th>\n",
              "      <td>1</td>\n",
              "      <td>218</td>\n",
              "      <td>271</td>\n",
              "      <td>80.0</td>\n",
              "      <td>280</td>\n",
              "      <td>5.0</td>\n",
              "      <td>18.0</td>\n",
              "    </tr>\n",
              "    <tr>\n",
              "      <th>18506</th>\n",
              "      <td>3</td>\n",
              "      <td>117</td>\n",
              "      <td>82</td>\n",
              "      <td>33.0</td>\n",
              "      <td>50</td>\n",
              "      <td>12.0</td>\n",
              "      <td>7.0</td>\n",
              "    </tr>\n",
              "    <tr>\n",
              "      <th>38413</th>\n",
              "      <td>1</td>\n",
              "      <td>82</td>\n",
              "      <td>63</td>\n",
              "      <td>55.0</td>\n",
              "      <td>135</td>\n",
              "      <td>13.0</td>\n",
              "      <td>23.0</td>\n",
              "    </tr>\n",
              "    <tr>\n",
              "      <th>13542</th>\n",
              "      <td>0</td>\n",
              "      <td>160</td>\n",
              "      <td>15</td>\n",
              "      <td>40.0</td>\n",
              "      <td>107</td>\n",
              "      <td>5.0</td>\n",
              "      <td>19.0</td>\n",
              "    </tr>\n",
              "    <tr>\n",
              "      <th>45225</th>\n",
              "      <td>9</td>\n",
              "      <td>18</td>\n",
              "      <td>155</td>\n",
              "      <td>61.0</td>\n",
              "      <td>70</td>\n",
              "      <td>5.0</td>\n",
              "      <td>13.0</td>\n",
              "    </tr>\n",
              "    <tr>\n",
              "      <th>...</th>\n",
              "      <td>...</td>\n",
              "      <td>...</td>\n",
              "      <td>...</td>\n",
              "      <td>...</td>\n",
              "      <td>...</td>\n",
              "      <td>...</td>\n",
              "      <td>...</td>\n",
              "    </tr>\n",
              "    <tr>\n",
              "      <th>29436</th>\n",
              "      <td>3</td>\n",
              "      <td>10</td>\n",
              "      <td>18</td>\n",
              "      <td>-10.0</td>\n",
              "      <td>95</td>\n",
              "      <td>10.0</td>\n",
              "      <td>13.0</td>\n",
              "    </tr>\n",
              "    <tr>\n",
              "      <th>16050</th>\n",
              "      <td>8</td>\n",
              "      <td>145</td>\n",
              "      <td>274</td>\n",
              "      <td>-8.0</td>\n",
              "      <td>74</td>\n",
              "      <td>9.0</td>\n",
              "      <td>27.0</td>\n",
              "    </tr>\n",
              "    <tr>\n",
              "      <th>1187</th>\n",
              "      <td>4</td>\n",
              "      <td>207</td>\n",
              "      <td>224</td>\n",
              "      <td>1.0</td>\n",
              "      <td>238</td>\n",
              "      <td>4.0</td>\n",
              "      <td>26.0</td>\n",
              "    </tr>\n",
              "    <tr>\n",
              "      <th>34815</th>\n",
              "      <td>11</td>\n",
              "      <td>81</td>\n",
              "      <td>62</td>\n",
              "      <td>50.0</td>\n",
              "      <td>188</td>\n",
              "      <td>7.0</td>\n",
              "      <td>27.0</td>\n",
              "    </tr>\n",
              "    <tr>\n",
              "      <th>7443</th>\n",
              "      <td>8</td>\n",
              "      <td>257</td>\n",
              "      <td>166</td>\n",
              "      <td>-9.0</td>\n",
              "      <td>49</td>\n",
              "      <td>8.0</td>\n",
              "      <td>11.0</td>\n",
              "    </tr>\n",
              "  </tbody>\n",
              "</table>\n",
              "<p>14602 rows × 7 columns</p>\n",
              "</div>"
            ],
            "text/plain": [
              "       AIRLINE  ORIGIN_AIRPORT  ...  TAXI_IN  TAXI_OUT\n",
              "13850        1             218  ...      5.0      18.0\n",
              "18506        3             117  ...     12.0       7.0\n",
              "38413        1              82  ...     13.0      23.0\n",
              "13542        0             160  ...      5.0      19.0\n",
              "45225        9              18  ...      5.0      13.0\n",
              "...        ...             ...  ...      ...       ...\n",
              "29436        3              10  ...     10.0      13.0\n",
              "16050        8             145  ...      9.0      27.0\n",
              "1187         4             207  ...      4.0      26.0\n",
              "34815       11              81  ...      7.0      27.0\n",
              "7443         8             257  ...      8.0      11.0\n",
              "\n",
              "[14602 rows x 7 columns]"
            ]
          },
          "metadata": {
            "tags": []
          },
          "execution_count": 707
        }
      ]
    },
    {
      "cell_type": "code",
      "metadata": {
        "id": "44vmFsPiFgvF",
        "colab": {
          "base_uri": "https://localhost:8080/"
        },
        "outputId": "38a6e04e-ff2c-4afa-b501-f17237f13985"
      },
      "source": [
        "predictRfc=Rfc.fit(X_train,y_train)\n",
        "predictedValues = predictRfc.predict(X_test)\n",
        "print ('MAE:' ,  mean_absolute_error(y_test, predictedValues))\n",
        "print ('MSE:' , mean_squared_error(y_test, predictedValues))\n",
        "print('RMSE:' , np.sqrt(mean_squared_error(y_test, predictedValues)))\n",
        "print ('R2:' , r2_score(y_test, predictedValues))"
      ],
      "execution_count": 708,
      "outputs": [
        {
          "output_type": "stream",
          "text": [
            "MAE: 7.022318943588941\n",
            "MSE: 109.77487237608224\n",
            "RMSE: 10.477350446371556\n",
            "R2: 0.944460186472505\n"
          ],
          "name": "stdout"
        }
      ]
    },
    {
      "cell_type": "code",
      "metadata": {
        "colab": {
          "base_uri": "https://localhost:8080/",
          "height": 279
        },
        "id": "SvsO7AE_FiH6",
        "outputId": "2e134466-d21a-463a-af6c-33dced8bbc93"
      },
      "source": [
        "#import matplotlib.pyplot as plt\n",
        "fig, ax = plt.subplots()\n",
        "ax.scatter(y_test, predictedValues)\n",
        "ax.plot([y.min(), y.max()], [y.min(), y.max()], 'k--', lw=4)\n",
        "ax.set_xlabel('Actual')\n",
        "ax.set_ylabel('Predicted')\n",
        "plt.show() "
      ],
      "execution_count": 709,
      "outputs": [
        {
          "output_type": "display_data",
          "data": {
            "image/png": "[encoded data removed]",
            "text/plain": [
              "<Figure size 432x288 with 1 Axes>"
            ]
          },
          "metadata": {
            "tags": [],
            "needs_background": "light"
          }
        }
      ]
    },
    {
      "cell_type": "code",
      "metadata": {
        "colab": {
          "base_uri": "https://localhost:8080/",
          "height": 402
        },
        "id": "tP6OkaCtGU3a",
        "outputId": "5b555b97-8683-462b-b341-6199fbaa9edf"
      },
      "source": [
        "df = pd.DataFrame({'Actual': y_test, 'Predicted': predictedValues})\n",
        "df"
      ],
      "execution_count": 710,
      "outputs": [
        {
          "output_type": "execute_result",
          "data": {
            "text/html": [
              "<div>\n",
              "<style scoped>\n",
              "    .dataframe tbody tr th:only-of-type {\n",
              "        vertical-align: middle;\n",
              "    }\n",
              "\n",
              "    .dataframe tbody tr th {\n",
              "        vertical-align: top;\n",
              "    }\n",
              "\n",
              "    .dataframe thead th {\n",
              "        text-align: right;\n",
              "    }\n",
              "</style>\n",
              "<table border=\"1\" class=\"dataframe\">\n",
              "  <thead>\n",
              "    <tr style=\"text-align: right;\">\n",
              "      <th></th>\n",
              "      <th>Actual</th>\n",
              "      <th>Predicted</th>\n",
              "    </tr>\n",
              "  </thead>\n",
              "  <tbody>\n",
              "    <tr>\n",
              "      <th>13850</th>\n",
              "      <td>61.0</td>\n",
              "      <td>66.420</td>\n",
              "    </tr>\n",
              "    <tr>\n",
              "      <th>18506</th>\n",
              "      <td>36.0</td>\n",
              "      <td>32.450</td>\n",
              "    </tr>\n",
              "    <tr>\n",
              "      <th>38413</th>\n",
              "      <td>62.0</td>\n",
              "      <td>58.340</td>\n",
              "    </tr>\n",
              "    <tr>\n",
              "      <th>13542</th>\n",
              "      <td>37.0</td>\n",
              "      <td>39.770</td>\n",
              "    </tr>\n",
              "    <tr>\n",
              "      <th>45225</th>\n",
              "      <td>52.0</td>\n",
              "      <td>53.060</td>\n",
              "    </tr>\n",
              "    <tr>\n",
              "      <th>...</th>\n",
              "      <td>...</td>\n",
              "      <td>...</td>\n",
              "    </tr>\n",
              "    <tr>\n",
              "      <th>29436</th>\n",
              "      <td>-7.0</td>\n",
              "      <td>-15.010</td>\n",
              "    </tr>\n",
              "    <tr>\n",
              "      <th>16050</th>\n",
              "      <td>-10.0</td>\n",
              "      <td>0.860</td>\n",
              "    </tr>\n",
              "    <tr>\n",
              "      <th>1187</th>\n",
              "      <td>-12.0</td>\n",
              "      <td>-5.200</td>\n",
              "    </tr>\n",
              "    <tr>\n",
              "      <th>34815</th>\n",
              "      <td>61.0</td>\n",
              "      <td>50.700</td>\n",
              "    </tr>\n",
              "    <tr>\n",
              "      <th>7443</th>\n",
              "      <td>-11.0</td>\n",
              "      <td>-13.685</td>\n",
              "    </tr>\n",
              "  </tbody>\n",
              "</table>\n",
              "<p>14602 rows × 2 columns</p>\n",
              "</div>"
            ],
            "text/plain": [
              "       Actual  Predicted\n",
              "13850    61.0     66.420\n",
              "18506    36.0     32.450\n",
              "38413    62.0     58.340\n",
              "13542    37.0     39.770\n",
              "45225    52.0     53.060\n",
              "...       ...        ...\n",
              "29436    -7.0    -15.010\n",
              "16050   -10.0      0.860\n",
              "1187    -12.0     -5.200\n",
              "34815    61.0     50.700\n",
              "7443    -11.0    -13.685\n",
              "\n",
              "[14602 rows x 2 columns]"
            ]
          },
          "metadata": {
            "tags": []
          },
          "execution_count": 710
        }
      ]
    },
    {
      "cell_type": "code",
      "metadata": {
        "colab": {
          "base_uri": "https://localhost:8080/"
        },
        "id": "IHS7_eT9GZUb",
        "outputId": "a150ce15-5bfb-4682-dea6-9cb2fca19e90"
      },
      "source": [
        "Rfc.score(X_test, y_test)"
      ],
      "execution_count": 711,
      "outputs": [
        {
          "output_type": "execute_result",
          "data": {
            "text/plain": [
              "0.944460186472505"
            ]
          },
          "metadata": {
            "tags": []
          },
          "execution_count": 711
        }
      ]
    },
    {
      "cell_type": "code",
      "metadata": {
        "colab": {
          "base_uri": "https://localhost:8080/",
          "height": 402
        },
        "id": "-VhYTehIGvOV",
        "outputId": "9ff876a1-2cea-4d88-fe6c-f33d2aca4de1"
      },
      "source": [
        "X_test"
      ],
      "execution_count": 712,
      "outputs": [
        {
          "output_type": "execute_result",
          "data": {
            "text/html": [
              "<div>\n",
              "<style scoped>\n",
              "    .dataframe tbody tr th:only-of-type {\n",
              "        vertical-align: middle;\n",
              "    }\n",
              "\n",
              "    .dataframe tbody tr th {\n",
              "        vertical-align: top;\n",
              "    }\n",
              "\n",
              "    .dataframe thead th {\n",
              "        text-align: right;\n",
              "    }\n",
              "</style>\n",
              "<table border=\"1\" class=\"dataframe\">\n",
              "  <thead>\n",
              "    <tr style=\"text-align: right;\">\n",
              "      <th></th>\n",
              "      <th>AIRLINE</th>\n",
              "      <th>ORIGIN_AIRPORT</th>\n",
              "      <th>DESTINATION_AIRPORT</th>\n",
              "      <th>DEPARTURE_DELAY</th>\n",
              "      <th>SCHEDULED_TIME</th>\n",
              "      <th>TAXI_IN</th>\n",
              "      <th>TAXI_OUT</th>\n",
              "    </tr>\n",
              "  </thead>\n",
              "  <tbody>\n",
              "    <tr>\n",
              "      <th>13850</th>\n",
              "      <td>1</td>\n",
              "      <td>218</td>\n",
              "      <td>271</td>\n",
              "      <td>80.0</td>\n",
              "      <td>280</td>\n",
              "      <td>5.0</td>\n",
              "      <td>18.0</td>\n",
              "    </tr>\n",
              "    <tr>\n",
              "      <th>18506</th>\n",
              "      <td>3</td>\n",
              "      <td>117</td>\n",
              "      <td>82</td>\n",
              "      <td>33.0</td>\n",
              "      <td>50</td>\n",
              "      <td>12.0</td>\n",
              "      <td>7.0</td>\n",
              "    </tr>\n",
              "    <tr>\n",
              "      <th>38413</th>\n",
              "      <td>1</td>\n",
              "      <td>82</td>\n",
              "      <td>63</td>\n",
              "      <td>55.0</td>\n",
              "      <td>135</td>\n",
              "      <td>13.0</td>\n",
              "      <td>23.0</td>\n",
              "    </tr>\n",
              "    <tr>\n",
              "      <th>13542</th>\n",
              "      <td>0</td>\n",
              "      <td>160</td>\n",
              "      <td>15</td>\n",
              "      <td>40.0</td>\n",
              "      <td>107</td>\n",
              "      <td>5.0</td>\n",
              "      <td>19.0</td>\n",
              "    </tr>\n",
              "    <tr>\n",
              "      <th>45225</th>\n",
              "      <td>9</td>\n",
              "      <td>18</td>\n",
              "      <td>155</td>\n",
              "      <td>61.0</td>\n",
              "      <td>70</td>\n",
              "      <td>5.0</td>\n",
              "      <td>13.0</td>\n",
              "    </tr>\n",
              "    <tr>\n",
              "      <th>...</th>\n",
              "      <td>...</td>\n",
              "      <td>...</td>\n",
              "      <td>...</td>\n",
              "      <td>...</td>\n",
              "      <td>...</td>\n",
              "      <td>...</td>\n",
              "      <td>...</td>\n",
              "    </tr>\n",
              "    <tr>\n",
              "      <th>29436</th>\n",
              "      <td>3</td>\n",
              "      <td>10</td>\n",
              "      <td>18</td>\n",
              "      <td>-10.0</td>\n",
              "      <td>95</td>\n",
              "      <td>10.0</td>\n",
              "      <td>13.0</td>\n",
              "    </tr>\n",
              "    <tr>\n",
              "      <th>16050</th>\n",
              "      <td>8</td>\n",
              "      <td>145</td>\n",
              "      <td>274</td>\n",
              "      <td>-8.0</td>\n",
              "      <td>74</td>\n",
              "      <td>9.0</td>\n",
              "      <td>27.0</td>\n",
              "    </tr>\n",
              "    <tr>\n",
              "      <th>1187</th>\n",
              "      <td>4</td>\n",
              "      <td>207</td>\n",
              "      <td>224</td>\n",
              "      <td>1.0</td>\n",
              "      <td>238</td>\n",
              "      <td>4.0</td>\n",
              "      <td>26.0</td>\n",
              "    </tr>\n",
              "    <tr>\n",
              "      <th>34815</th>\n",
              "      <td>11</td>\n",
              "      <td>81</td>\n",
              "      <td>62</td>\n",
              "      <td>50.0</td>\n",
              "      <td>188</td>\n",
              "      <td>7.0</td>\n",
              "      <td>27.0</td>\n",
              "    </tr>\n",
              "    <tr>\n",
              "      <th>7443</th>\n",
              "      <td>8</td>\n",
              "      <td>257</td>\n",
              "      <td>166</td>\n",
              "      <td>-9.0</td>\n",
              "      <td>49</td>\n",
              "      <td>8.0</td>\n",
              "      <td>11.0</td>\n",
              "    </tr>\n",
              "  </tbody>\n",
              "</table>\n",
              "<p>14602 rows × 7 columns</p>\n",
              "</div>"
            ],
            "text/plain": [
              "       AIRLINE  ORIGIN_AIRPORT  ...  TAXI_IN  TAXI_OUT\n",
              "13850        1             218  ...      5.0      18.0\n",
              "18506        3             117  ...     12.0       7.0\n",
              "38413        1              82  ...     13.0      23.0\n",
              "13542        0             160  ...      5.0      19.0\n",
              "45225        9              18  ...      5.0      13.0\n",
              "...        ...             ...  ...      ...       ...\n",
              "29436        3              10  ...     10.0      13.0\n",
              "16050        8             145  ...      9.0      27.0\n",
              "1187         4             207  ...      4.0      26.0\n",
              "34815       11              81  ...      7.0      27.0\n",
              "7443         8             257  ...      8.0      11.0\n",
              "\n",
              "[14602 rows x 7 columns]"
            ]
          },
          "metadata": {
            "tags": []
          },
          "execution_count": 712
        }
      ]
    },
    {
      "cell_type": "code",
      "metadata": {
        "id": "ge2uqymPw6wG",
        "colab": {
          "base_uri": "https://localhost:8080/"
        },
        "outputId": "1f8df126-c805-4028-b39d-b1340519fef8"
      },
      "source": [
        "X_val=np.array([[9,88,227,10.0,270,8.0,45.0]])\n",
        "X_val"
      ],
      "execution_count": 713,
      "outputs": [
        {
          "output_type": "execute_result",
          "data": {
            "text/plain": [
              "array([[  9.,  88., 227.,  10., 270.,   8.,  45.]])"
            ]
          },
          "metadata": {
            "tags": []
          },
          "execution_count": 713
        }
      ]
    },
    {
      "cell_type": "code",
      "metadata": {
        "id": "zGm-RfStOY3A"
      },
      "source": [
        "y_val=predictRfc.predict(X_val)"
      ],
      "execution_count": 714,
      "outputs": []
    },
    {
      "cell_type": "code",
      "metadata": {
        "colab": {
          "base_uri": "https://localhost:8080/"
        },
        "id": "cZZHMmyFRnrg",
        "outputId": "d17de872-de8d-4ddd-df8a-3b2836c2f027"
      },
      "source": [
        "y_val"
      ],
      "execution_count": 715,
      "outputs": [
        {
          "output_type": "execute_result",
          "data": {
            "text/plain": [
              "array([25.21])"
            ]
          },
          "metadata": {
            "tags": []
          },
          "execution_count": 715
        }
      ]
    },
    {
      "cell_type": "code",
      "metadata": {
        "id": "bxYz4nUESTp2"
      },
      "source": [
        ""
      ],
      "execution_count": 715,
      "outputs": []
    },
    {
      "cell_type": "markdown",
      "metadata": {
        "id": "l4FaY4CejdfZ"
      },
      "source": [
        "### Applying Decision Tree Regressor"
      ]
    },
    {
      "cell_type": "code",
      "metadata": {
        "id": "nMXgC-caSdMZ"
      },
      "source": [
        ""
      ],
      "execution_count": 715,
      "outputs": []
    },
    {
      "cell_type": "code",
      "metadata": {
        "colab": {
          "base_uri": "https://localhost:8080/"
        },
        "id": "bp3ObnuVFZCG",
        "outputId": "6bec3a56-3b42-44ff-bef9-f75254d9a197"
      },
      "source": [
        "from sklearn.tree import DecisionTreeRegressor\n",
        "Dtc = DecisionTreeRegressor(random_state = 2)\n",
        "\n",
        "fitResultdtc = Dtc.fit(X_train,y_train)\n",
        "predictedValues = fitResultdtc.predict(X_test)\n",
        "print ('MAE:' ,  mean_absolute_error(y_test, predictedValues))\n",
        "print ('MSE:' , mean_squared_error(y_test, predictedValues))\n",
        "print('RMSE:' , np.sqrt(mean_squared_error(y_test, predictedValues)))\n",
        "print ('R2:' , r2_score(y_test, predictedValues))"
      ],
      "execution_count": 716,
      "outputs": [
        {
          "output_type": "stream",
          "text": [
            "MAE: 10.224592521572387\n",
            "MSE: 199.17485618408438\n",
            "RMSE: 14.112932231966692\n",
            "R2: 0.8992289024583744\n"
          ],
          "name": "stdout"
        }
      ]
    },
    {
      "cell_type": "code",
      "metadata": {
        "colab": {
          "base_uri": "https://localhost:8080/",
          "height": 279
        },
        "id": "1up9BB9cDD9T",
        "outputId": "81f0fc6d-d86e-4a03-8c24-752c96756645"
      },
      "source": [
        "#import matplotlib.pyplot as plt\n",
        "fig, ax = plt.subplots()\n",
        "ax.scatter(y_test, predictedValues)\n",
        "ax.plot([y.min(), y.max()], [y.min(), y.max()], 'k--', lw=4)\n",
        "ax.set_xlabel('Actual')\n",
        "ax.set_ylabel('Predicted')\n",
        "plt.show() "
      ],
      "execution_count": 717,
      "outputs": [
        {
          "output_type": "display_data",
          "data": {
            "image/png": "[encoded data removed]",
            "text/plain": [
              "<Figure size 432x288 with 1 Axes>"
            ]
          },
          "metadata": {
            "tags": [],
            "needs_background": "light"
          }
        }
      ]
    },
    {
      "cell_type": "code",
      "metadata": {
        "colab": {
          "base_uri": "https://localhost:8080/",
          "height": 402
        },
        "id": "vdhhOFAq-Z6u",
        "outputId": "29f929ca-e895-4994-db52-4b19bda34209"
      },
      "source": [
        "df = pd.DataFrame({'Actual': y_test, 'Predicted': predictedValues})\n",
        "df"
      ],
      "execution_count": 718,
      "outputs": [
        {
          "output_type": "execute_result",
          "data": {
            "text/html": [
              "<div>\n",
              "<style scoped>\n",
              "    .dataframe tbody tr th:only-of-type {\n",
              "        vertical-align: middle;\n",
              "    }\n",
              "\n",
              "    .dataframe tbody tr th {\n",
              "        vertical-align: top;\n",
              "    }\n",
              "\n",
              "    .dataframe thead th {\n",
              "        text-align: right;\n",
              "    }\n",
              "</style>\n",
              "<table border=\"1\" class=\"dataframe\">\n",
              "  <thead>\n",
              "    <tr style=\"text-align: right;\">\n",
              "      <th></th>\n",
              "      <th>Actual</th>\n",
              "      <th>Predicted</th>\n",
              "    </tr>\n",
              "  </thead>\n",
              "  <tbody>\n",
              "    <tr>\n",
              "      <th>13850</th>\n",
              "      <td>61.0</td>\n",
              "      <td>51.0</td>\n",
              "    </tr>\n",
              "    <tr>\n",
              "      <th>18506</th>\n",
              "      <td>36.0</td>\n",
              "      <td>28.0</td>\n",
              "    </tr>\n",
              "    <tr>\n",
              "      <th>38413</th>\n",
              "      <td>62.0</td>\n",
              "      <td>74.0</td>\n",
              "    </tr>\n",
              "    <tr>\n",
              "      <th>13542</th>\n",
              "      <td>37.0</td>\n",
              "      <td>26.0</td>\n",
              "    </tr>\n",
              "    <tr>\n",
              "      <th>45225</th>\n",
              "      <td>52.0</td>\n",
              "      <td>29.0</td>\n",
              "    </tr>\n",
              "    <tr>\n",
              "      <th>...</th>\n",
              "      <td>...</td>\n",
              "      <td>...</td>\n",
              "    </tr>\n",
              "    <tr>\n",
              "      <th>29436</th>\n",
              "      <td>-7.0</td>\n",
              "      <td>-20.0</td>\n",
              "    </tr>\n",
              "    <tr>\n",
              "      <th>16050</th>\n",
              "      <td>-10.0</td>\n",
              "      <td>8.0</td>\n",
              "    </tr>\n",
              "    <tr>\n",
              "      <th>1187</th>\n",
              "      <td>-12.0</td>\n",
              "      <td>-3.0</td>\n",
              "    </tr>\n",
              "    <tr>\n",
              "      <th>34815</th>\n",
              "      <td>61.0</td>\n",
              "      <td>53.0</td>\n",
              "    </tr>\n",
              "    <tr>\n",
              "      <th>7443</th>\n",
              "      <td>-11.0</td>\n",
              "      <td>-14.0</td>\n",
              "    </tr>\n",
              "  </tbody>\n",
              "</table>\n",
              "<p>14602 rows × 2 columns</p>\n",
              "</div>"
            ],
            "text/plain": [
              "       Actual  Predicted\n",
              "13850    61.0       51.0\n",
              "18506    36.0       28.0\n",
              "38413    62.0       74.0\n",
              "13542    37.0       26.0\n",
              "45225    52.0       29.0\n",
              "...       ...        ...\n",
              "29436    -7.0      -20.0\n",
              "16050   -10.0        8.0\n",
              "1187    -12.0       -3.0\n",
              "34815    61.0       53.0\n",
              "7443    -11.0      -14.0\n",
              "\n",
              "[14602 rows x 2 columns]"
            ]
          },
          "metadata": {
            "tags": []
          },
          "execution_count": 718
        }
      ]
    },
    {
      "cell_type": "code",
      "metadata": {
        "colab": {
          "base_uri": "https://localhost:8080/"
        },
        "id": "4pe-kdV3xBoZ",
        "outputId": "c477f424-70a8-4a7c-f0d3-3b1ca03d0027"
      },
      "source": [
        "Dtc.score(X_test, y_test)"
      ],
      "execution_count": 719,
      "outputs": [
        {
          "output_type": "execute_result",
          "data": {
            "text/plain": [
              "0.8992289024583744"
            ]
          },
          "metadata": {
            "tags": []
          },
          "execution_count": 719
        }
      ]
    },
    {
      "cell_type": "code",
      "metadata": {
        "colab": {
          "base_uri": "https://localhost:8080/"
        },
        "id": "YauzRKbNR2Og",
        "outputId": "0318f0b7-cf16-4f91-a6db-b269d650d7de"
      },
      "source": [
        "X_val=np.array([[9,88,227,10.0,270,8.0,45.0]])\n",
        "X_val"
      ],
      "execution_count": 720,
      "outputs": [
        {
          "output_type": "execute_result",
          "data": {
            "text/plain": [
              "array([[  9.,  88., 227.,  10., 270.,   8.,  45.]])"
            ]
          },
          "metadata": {
            "tags": []
          },
          "execution_count": 720
        }
      ]
    },
    {
      "cell_type": "code",
      "metadata": {
        "colab": {
          "base_uri": "https://localhost:8080/"
        },
        "id": "8enaBqwwR5P1",
        "outputId": "2a875505-7e72-4379-905f-a0eb2fb2ddff"
      },
      "source": [
        "y_val= fitResultdtc.predict(X_val)\n",
        "y_val"
      ],
      "execution_count": 721,
      "outputs": [
        {
          "output_type": "execute_result",
          "data": {
            "text/plain": [
              "array([33.])"
            ]
          },
          "metadata": {
            "tags": []
          },
          "execution_count": 721
        }
      ]
    },
    {
      "cell_type": "code",
      "metadata": {
        "id": "wooy5lySDcAH"
      },
      "source": [
        ""
      ],
      "execution_count": 721,
      "outputs": []
    },
    {
      "cell_type": "markdown",
      "metadata": {
        "id": "Kzny6Vmulr5X"
      },
      "source": [
        "### XGBoost Regresion"
      ]
    },
    {
      "cell_type": "code",
      "metadata": {
        "colab": {
          "base_uri": "https://localhost:8080/"
        },
        "id": "olpZz5TsNkIf",
        "outputId": "28b8bd10-618c-45a2-9bce-fda694ed2794"
      },
      "source": [
        "import xgboost as xg \n",
        "from sklearn.model_selection import train_test_split \n",
        "from sklearn.metrics import mean_squared_error as MSE \n",
        "xgb_r = xg.XGBRegressor(objective ='reg:linear', \n",
        "                  n_estimators = 1000) \n",
        "xgb_r.fit(X_train, y_train) \n",
        "predictedValues = xgb_r.predict(X_test) \n",
        "print ('MAE:' ,  mean_absolute_error(y_test, predictedValues))\n",
        "print ('MSE:' , mean_squared_error(y_test, predictedValues))\n",
        "print('RMSE:' , np.sqrt(mean_squared_error(y_test, predictedValues)))\n",
        "print ('R2:' , r2_score(y_test, predictedValues))"
      ],
      "execution_count": 722,
      "outputs": [
        {
          "output_type": "stream",
          "text": [
            "[07:34:14] WARNING: /workspace/src/objective/regression_obj.cu:152: reg:linear is now deprecated in favor of reg:squarederror.\n",
            "MAE: 5.9828196730724414\n",
            "MSE: 82.26007961496467\n",
            "RMSE: 9.069734263745806\n",
            "R2: 0.9583810995751386\n"
          ],
          "name": "stdout"
        }
      ]
    },
    {
      "cell_type": "code",
      "metadata": {
        "colab": {
          "base_uri": "https://localhost:8080/",
          "height": 279
        },
        "id": "_SKf46icNkIo",
        "outputId": "8383af7d-7da1-4932-c2c2-ebcca46e39df"
      },
      "source": [
        "#import matplotlib.pyplot as plt\n",
        "fig, ax = plt.subplots()\n",
        "ax.scatter(y_test, predictedValues)\n",
        "ax.plot([y.min(), y.max()], [y.min(), y.max()], 'k--', lw=4)\n",
        "ax.set_xlabel('Actual')\n",
        "ax.set_ylabel('Predicted')\n",
        "plt.show() "
      ],
      "execution_count": 723,
      "outputs": [
        {
          "output_type": "display_data",
          "data": {
            "image/png": "[encoded data removed]",
            "text/plain": [
              "<Figure size 432x288 with 1 Axes>"
            ]
          },
          "metadata": {
            "tags": [],
            "needs_background": "light"
          }
        }
      ]
    },
    {
      "cell_type": "code",
      "metadata": {
        "colab": {
          "base_uri": "https://localhost:8080/",
          "height": 402
        },
        "id": "qbmI1w0ANkIo",
        "outputId": "5f833253-8ed9-4007-f8fe-5a6f40ad44d1"
      },
      "source": [
        "df = pd.DataFrame({'Actual': y_test, 'Predicted': predictedValues})\n",
        "df"
      ],
      "execution_count": 724,
      "outputs": [
        {
          "output_type": "execute_result",
          "data": {
            "text/html": [
              "<div>\n",
              "<style scoped>\n",
              "    .dataframe tbody tr th:only-of-type {\n",
              "        vertical-align: middle;\n",
              "    }\n",
              "\n",
              "    .dataframe tbody tr th {\n",
              "        vertical-align: top;\n",
              "    }\n",
              "\n",
              "    .dataframe thead th {\n",
              "        text-align: right;\n",
              "    }\n",
              "</style>\n",
              "<table border=\"1\" class=\"dataframe\">\n",
              "  <thead>\n",
              "    <tr style=\"text-align: right;\">\n",
              "      <th></th>\n",
              "      <th>Actual</th>\n",
              "      <th>Predicted</th>\n",
              "    </tr>\n",
              "  </thead>\n",
              "  <tbody>\n",
              "    <tr>\n",
              "      <th>13850</th>\n",
              "      <td>61.0</td>\n",
              "      <td>73.939499</td>\n",
              "    </tr>\n",
              "    <tr>\n",
              "      <th>18506</th>\n",
              "      <td>36.0</td>\n",
              "      <td>34.912708</td>\n",
              "    </tr>\n",
              "    <tr>\n",
              "      <th>38413</th>\n",
              "      <td>62.0</td>\n",
              "      <td>62.781013</td>\n",
              "    </tr>\n",
              "    <tr>\n",
              "      <th>13542</th>\n",
              "      <td>37.0</td>\n",
              "      <td>40.821350</td>\n",
              "    </tr>\n",
              "    <tr>\n",
              "      <th>45225</th>\n",
              "      <td>52.0</td>\n",
              "      <td>54.781898</td>\n",
              "    </tr>\n",
              "    <tr>\n",
              "      <th>...</th>\n",
              "      <td>...</td>\n",
              "      <td>...</td>\n",
              "    </tr>\n",
              "    <tr>\n",
              "      <th>29436</th>\n",
              "      <td>-7.0</td>\n",
              "      <td>-10.445470</td>\n",
              "    </tr>\n",
              "    <tr>\n",
              "      <th>16050</th>\n",
              "      <td>-10.0</td>\n",
              "      <td>-0.909804</td>\n",
              "    </tr>\n",
              "    <tr>\n",
              "      <th>1187</th>\n",
              "      <td>-12.0</td>\n",
              "      <td>-5.102626</td>\n",
              "    </tr>\n",
              "    <tr>\n",
              "      <th>34815</th>\n",
              "      <td>61.0</td>\n",
              "      <td>47.732754</td>\n",
              "    </tr>\n",
              "    <tr>\n",
              "      <th>7443</th>\n",
              "      <td>-11.0</td>\n",
              "      <td>-15.528997</td>\n",
              "    </tr>\n",
              "  </tbody>\n",
              "</table>\n",
              "<p>14602 rows × 2 columns</p>\n",
              "</div>"
            ],
            "text/plain": [
              "       Actual  Predicted\n",
              "13850    61.0  73.939499\n",
              "18506    36.0  34.912708\n",
              "38413    62.0  62.781013\n",
              "13542    37.0  40.821350\n",
              "45225    52.0  54.781898\n",
              "...       ...        ...\n",
              "29436    -7.0 -10.445470\n",
              "16050   -10.0  -0.909804\n",
              "1187    -12.0  -5.102626\n",
              "34815    61.0  47.732754\n",
              "7443    -11.0 -15.528997\n",
              "\n",
              "[14602 rows x 2 columns]"
            ]
          },
          "metadata": {
            "tags": []
          },
          "execution_count": 724
        }
      ]
    },
    {
      "cell_type": "code",
      "metadata": {
        "colab": {
          "base_uri": "https://localhost:8080/"
        },
        "id": "xNEf8A6yNkIo",
        "outputId": "b836dd28-5ff9-4f8c-f169-8ec909c03db3"
      },
      "source": [
        "xgb_r.score(X_test, y_test)"
      ],
      "execution_count": 725,
      "outputs": [
        {
          "output_type": "execute_result",
          "data": {
            "text/plain": [
              "0.9583810995751386"
            ]
          },
          "metadata": {
            "tags": []
          },
          "execution_count": 725
        }
      ]
    },
    {
      "cell_type": "code",
      "metadata": {
        "colab": {
          "base_uri": "https://localhost:8080/"
        },
        "id": "Ya2yvgo2NkIp",
        "outputId": "3c051dc1-b7b9-4955-a066-1c14d901cdf4"
      },
      "source": [
        "X_val=np.array([[9,88,227,10.0,270,8.0,45.0]])\n",
        "X_val"
      ],
      "execution_count": 726,
      "outputs": [
        {
          "output_type": "execute_result",
          "data": {
            "text/plain": [
              "array([[  9.,  88., 227.,  10., 270.,   8.,  45.]])"
            ]
          },
          "metadata": {
            "tags": []
          },
          "execution_count": 726
        }
      ]
    },
    {
      "cell_type": "code",
      "metadata": {
        "colab": {
          "base_uri": "https://localhost:8080/"
        },
        "id": "ssTN4oADNkIp",
        "outputId": "1c6f46ba-7edd-4a76-9165-79eeface6b1e"
      },
      "source": [
        "y_val= fitResultdtc.predict(X_val)\n",
        "y_val"
      ],
      "execution_count": 727,
      "outputs": [
        {
          "output_type": "execute_result",
          "data": {
            "text/plain": [
              "array([33.])"
            ]
          },
          "metadata": {
            "tags": []
          },
          "execution_count": 727
        }
      ]
    },
    {
      "cell_type": "markdown",
      "metadata": {
        "id": "0O88chTjNaOe"
      },
      "source": [
        "Functions"
      ]
    },
    {
      "cell_type": "code",
      "metadata": {
        "colab": {
          "base_uri": "https://localhost:8080/"
        },
        "id": "CLEo7U-ttJ1F",
        "outputId": "43bc1236-1e76-4895-8ef8-e14727eccb35"
      },
      "source": [
        "from sklearn.externals import joblib  \n",
        "from sklearn.preprocessing import LabelEncoder\n",
        "flightsinfo = pd.read_csv(\"drive/My Drive/flights.csv\",nrows=50000)\n",
        "airport = pd.read_csv('drive/My Drive/airports.csv')\n",
        "airlines = pd.read_csv('drive/My Drive/airlines.csv')\n",
        "from xgboost import XGBClassifier\n",
        "classifierXGB = XGBClassifier(n_estimators=1000)\n",
        "le = LabelEncoder()\n",
        "flights=flightsinfo\n",
        "Flights1 = flightsinfo\n",
        "Flights1=flightsinfo.drop(['YEAR','MONTH','DAY','DAY_OF_WEEK','TAIL_NUMBER','DEPARTURE_TIME','WHEELS_OFF','WHEELS_ON','SCHEDULED_ARRIVAL','ARRIVAL_TIME','CANCELLATION_REASON','AIR_SYSTEM_DELAY','SECURITY_DELAY','AIRLINE_DELAY','LATE_AIRCRAFT_DELAY','WEATHER_DELAY'], axis = 1)\n",
        "Flights1['Is_Delayed'] = np.where(Flights1['ARRIVAL_DELAY']<=0, 0,1)\n",
        "Flights2=Flights1\n",
        "airlines_dict = dict(zip(airlines['IATA_CODE'],airlines['AIRLINE']))\n",
        "airport_dict = dict(zip(airport['IATA_CODE'],airport['AIRPORT']))\n",
        "Flights1 = Flights1.dropna(subset = ['TAXI_IN','ARRIVAL_DELAY'])\n",
        "X= Flights1.drop(['ELAPSED_TIME','DIVERTED','SCHEDULED_DEPARTURE','CANCELLED','FLIGHT_NUMBER','Is_Delayed','TAXI_IN'], axis = 1)\n",
        "Flights1['DESC_AIRLINE'] = flightsinfo['AIRLINE'].apply(lambda x: airlines_dict[x])\n",
        "Flights2['DESC_AIRLINE'] = flightsinfo['AIRLINE'].apply(lambda x: airlines_dict[x])\n",
        "Flights1['Is_Delayed'] = np.where(Flights1['ARRIVAL_DELAY']<=0, 0,1)\n",
        "X['AIRLINE']= le.fit_transform(X['AIRLINE'])\n",
        "mapping = dict(zip(le.classes_, range(len(le.classes_))))\n",
        "X['ORIGIN_AIRPORT'] = le.fit_transform(X['ORIGIN_AIRPORT'])\n",
        "mapping = dict(zip(le.classes_, range(len(le.classes_))))\n",
        "X['DESTINATION_AIRPORT'] = le.fit_transform(X['DESTINATION_AIRPORT'])\n",
        "print(mapping['SEA'])\n",
        "# X=X.drop(['ARRIVAL_DELAY'])\n",
        "X = X.drop(['ARRIVAL_DELAY'],axis = 1)\n",
        "y = Flights1['Is_Delayed']\n",
        "classifierXGB.fit(X,y)\n",
        "# print(X.columns)\n",
        "joblib.dump(classifierXGB, 'drive/My Drive/xgbmodel.pkl') \n"
      ],
      "execution_count": 728,
      "outputs": [
        {
          "output_type": "stream",
          "text": [
            "/usr/local/lib/python3.7/dist-packages/ipykernel_launcher.py:18: SettingWithCopyWarning: \n",
            "A value is trying to be set on a copy of a slice from a DataFrame.\n",
            "Try using .loc[row_indexer,col_indexer] = value instead\n",
            "\n",
            "See the caveats in the documentation: https://pandas.pydata.org/pandas-docs/stable/user_guide/indexing.html#returning-a-view-versus-a-copy\n",
            "/usr/local/lib/python3.7/dist-packages/ipykernel_launcher.py:20: SettingWithCopyWarning: \n",
            "A value is trying to be set on a copy of a slice from a DataFrame.\n",
            "Try using .loc[row_indexer,col_indexer] = value instead\n",
            "\n",
            "See the caveats in the documentation: https://pandas.pydata.org/pandas-docs/stable/user_guide/indexing.html#returning-a-view-versus-a-copy\n"
          ],
          "name": "stderr"
        },
        {
          "output_type": "stream",
          "text": [
            "268\n"
          ],
          "name": "stdout"
        },
        {
          "output_type": "execute_result",
          "data": {
            "text/plain": [
              "['drive/My Drive/xgbmodel.pkl']"
            ]
          },
          "metadata": {
            "tags": []
          },
          "execution_count": 728
        }
      ]
    },
    {
      "cell_type": "code",
      "metadata": {
        "colab": {
          "base_uri": "https://localhost:8080/"
        },
        "id": "vmXhiZ7PXeOh",
        "outputId": "f642d85a-f8c4-4c4f-d6b9-2f33db9507ce"
      },
      "source": [
        "from sklearn.externals import joblib  \n",
        "from xgboost import XGBClassifier\n",
        "from sklearn.preprocessing import LabelEncoder\n",
        "classifierXGB = XGBClassifier(n_estimators=1000)\n",
        "def recommend(src,dest):\n",
        "  flightsinfo = pd.read_csv(\"drive/My Drive/flights.csv\",nrows=200000)\n",
        "  airport = pd.read_csv('drive/My Drive/airports.csv')\n",
        "  airlines = pd.read_csv('drive/My Drive/airlines.csv')\n",
        "  flights=flightsinfo\n",
        "  Flights1 = flightsinfo\n",
        "  Flights1=flightsinfo.drop(['YEAR','MONTH','DAY','DAY_OF_WEEK','TAIL_NUMBER','DEPARTURE_TIME','WHEELS_OFF','WHEELS_ON','SCHEDULED_ARRIVAL','ARRIVAL_TIME','CANCELLATION_REASON','AIR_SYSTEM_DELAY','SECURITY_DELAY','AIRLINE_DELAY','LATE_AIRCRAFT_DELAY','WEATHER_DELAY'], axis = 1)\n",
        "  Flights1['Is_Delayed'] = np.where(Flights1['ARRIVAL_DELAY']<=0, 0,1)\n",
        "  Flights2=Flights1\n",
        "  Flights1=Flights1.loc[(Flights1['ORIGIN_AIRPORT'] == src)  | (Flights1['DESTINATION_AIRPORT'] == dest)]\n",
        "  Flights2=Flights2.loc[(Flights2['ORIGIN_AIRPORT'] == src)  & (Flights2['DESTINATION_AIRPORT'] == dest)]\n",
        "  airlines_dict = dict(zip(airlines['IATA_CODE'],airlines['AIRLINE']))\n",
        "  airport_dict = dict(zip(airport['IATA_CODE'],airport['AIRPORT']))\n",
        "  Flights1 = Flights1.dropna(subset = ['TAXI_IN','ARRIVAL_DELAY'])\n",
        "  X= Flights1.drop(['ELAPSED_TIME','DIVERTED','SCHEDULED_DEPARTURE','CANCELLED','FLIGHT_NUMBER','Is_Delayed','TAXI_IN'], axis = 1)\n",
        "  Flights1['DESC_AIRLINE'] = flightsinfo['AIRLINE'].apply(lambda x: airlines_dict[x])\n",
        "  Flights2['DESC_AIRLINE'] = flightsinfo['AIRLINE'].apply(lambda x: airlines_dict[x])\n",
        "  Flights1['Is_Delayed'] = np.where(Flights1['ARRIVAL_DELAY']<=0, 0,1)\n",
        "  Flights2 = Flights2.dropna(subset = ['TAXI_IN','ARRIVAL_DELAY'])\n",
        "  X['AIRLINE']= le.fit_transform(X['AIRLINE'])\n",
        "  mapping = dict(zip(le.classes_, range(len(le.classes_))))\n",
        "  # print(mapping['AS'])\n",
        "  X['ORIGIN_AIRPORT'] = le.fit_transform(X['ORIGIN_AIRPORT'])\n",
        "  mapping = dict(zip(le.classes_, range(len(le.classes_))))\n",
        "  srcno=mapping[src]\n",
        "  X['DESTINATION_AIRPORT'] = le.fit_transform(X['DESTINATION_AIRPORT'])\n",
        "  X = X.drop(['ARRIVAL_DELAY'],axis = 1)\n",
        "  mapping = dict(zip(le.classes_, range(len(le.classes_))))\n",
        "  destno=mapping[dest]\n",
        "  y = Flights1['Is_Delayed']\n",
        "  X_test=X.loc[(X['ORIGIN_AIRPORT'] == srcno)  & (X['DESTINATION_AIRPORT'] == destno)]\n",
        "  # return X_test\n",
        "  xgb_from_joblib = joblib.load('drive/My Drive/xgbmodel.pkl')   \n",
        "  y_pred=xgb_from_joblib.predict(X_test)\n",
        "  Flights2['delayed']=y_pred\n",
        "  Flights2=Flights2.loc[(Flights2['delayed'] == 0)]\n",
        "  rank_airlines = pd.DataFrame(Flights2.groupby('DESC_AIRLINE').count()['SCHEDULED_DEPARTURE'])\n",
        "  rank_airlines['CANCELLED']=Flights2.groupby('DESC_AIRLINE').sum()['CANCELLED']\n",
        "  rank_airlines['OPERATED']=rank_airlines['SCHEDULED_DEPARTURE']-rank_airlines['CANCELLED']\n",
        "  rank_airlines['RATIO_OP_SCH']=rank_airlines['OPERATED']/rank_airlines['SCHEDULED_DEPARTURE']\n",
        "  rank_airlines.drop(rank_airlines.columns[[0,1,2]],axis=1,inplace=True)\n",
        "  Flights2['FLIGHT_SPEED'] = 60*Flights2['DISTANCE']/Flights2['AIR_TIME']\n",
        "  rank_airlines['FLIGHT_SPEED'] = Flights2.groupby('DESC_AIRLINE')['FLIGHT_SPEED'].mean()\n",
        "  Flights2.groupby('DESC_AIRLINE')[['ARRIVAL_DELAY','DEPARTURE_DELAY']].mean()\n",
        "  rank_airlines['ARRIVAL_DELAY']= Flights2.groupby('DESC_AIRLINE')['ARRIVAL_DELAY'].mean()\n",
        "  rank_airlines['ARRIVAL_DELAY']=rank_airlines['ARRIVAL_DELAY'].apply(lambda x:x/60) \n",
        "  rank_airlines['FLIGHTS_VOLUME'] = Flights2.groupby('DESC_AIRLINE')['FLIGHT_NUMBER'].count()\n",
        "  total = rank_airlines['FLIGHTS_VOLUME'].sum()\n",
        "  rank_airlines['FLIGHTS_VOLUME'] = rank_airlines['FLIGHTS_VOLUME'].apply(lambda x:(x/float(total))) \n",
        "  for i in rank_airlines.columns:\n",
        "      a = rank_airlines.RATIO_OP_SCH*rank_airlines.FLIGHT_SPEED*rank_airlines.FLIGHTS_VOLUME\n",
        "      b = rank_airlines.ARRIVAL_DELAY\n",
        "      rank_airlines['SCORE'] = a/(1+b)\n",
        "      rank_airlines.sort_values(['SCORE'],ascending=False,inplace=True)\n",
        "  # for i in range(len(rank_airlines)):print(rank_airlines.index[i])\n",
        "  return rank_airlines['SCORE']\n",
        "recommend('ATL','DFW')"
      ],
      "execution_count": 742,
      "outputs": [
        {
          "output_type": "execute_result",
          "data": {
            "text/plain": [
              "DESC_AIRLINE\n",
              "Delta Air Lines Inc.           251.840153\n",
              "American Airlines Inc.         163.534996\n",
              "Spirit Air Lines                34.328611\n",
              "Atlantic Southeast Airlines      6.222104\n",
              "Name: SCORE, dtype: float64"
            ]
          },
          "metadata": {
            "tags": []
          },
          "execution_count": 742
        }
      ]
    },
    {
      "cell_type": "code",
      "metadata": {
        "colab": {
          "base_uri": "https://localhost:8080/",
          "height": 589
        },
        "id": "UIQSGNSeiuQJ",
        "outputId": "a53dac26-f9e2-447f-f7c0-2293019f4402"
      },
      "source": [
        "def percentageofdelay(src,dest,airlinesname):\n",
        "  flightsinfo = pd.read_csv(\"drive/My Drive/flights.csv\",nrows=200000)\n",
        "  airport = pd.read_csv('drive/My Drive/airports.csv')\n",
        "  airlines = pd.read_csv('drive/My Drive/airlines.csv')\n",
        "  flights=flightsinfo\n",
        "  Flights1 = flightsinfo\n",
        "  Flights1=flightsinfo.drop(['YEAR','MONTH','DAY','DAY_OF_WEEK','TAIL_NUMBER','DEPARTURE_TIME','WHEELS_OFF','WHEELS_ON','SCHEDULED_ARRIVAL','ARRIVAL_TIME','CANCELLATION_REASON','AIR_SYSTEM_DELAY','SECURITY_DELAY','AIRLINE_DELAY','LATE_AIRCRAFT_DELAY','WEATHER_DELAY'], axis = 1)\n",
        "  # Flights1['Is_Delayed'] = np.where(Flights1['ARRIVAL_DELAY']<=0, 0,1)\n",
        "  Flights1=Flights1.loc[(Flights1['ORIGIN_AIRPORT'] == src)  & (Flights1['DESTINATION_AIRPORT'] == dest)  & (Flights1['AIRLINE'] == airlinesname)]\n",
        "  Flights1['AIRLINE']= le.fit_transform(Flights1['AIRLINE'])\n",
        "  mapping = dict(zip(le.classes_, range(len(le.classes_))))\n",
        "  Flights1['ORIGIN_AIRPORT'] = le.fit_transform(Flights1['ORIGIN_AIRPORT'])\n",
        "  mapping = dict(zip(le.classes_, range(len(le.classes_))))\n",
        "  srcno=mapping[src]\n",
        "  Flights1['DESTINATION_AIRPORT'] = le.fit_transform(Flights1['DESTINATION_AIRPORT'])\n",
        "  Flights1 = Flights1.drop(['ARRIVAL_DELAY'],axis = 1)\n",
        "  X_test=Flights1.drop(['ELAPSED_TIME','DIVERTED','SCHEDULED_DEPARTURE','CANCELLED','FLIGHT_NUMBER','TAXI_IN'], axis = 1)\n",
        "  # return X_test\n",
        "  xgb_from_joblib = joblib.load('drive/My Drive/xgbmodel.pkl')   \n",
        "  y_pred=xgb_from_joblib.predict(X_test)\n",
        "  Flights1['Is_Delayed']=y_pred\n",
        "  totalcount=Flights1['Is_Delayed'].count()\n",
        "  delayedcount=Flights1.loc[(Flights1['Is_Delayed'] == 1)]['Is_Delayed'].count()\n",
        "  nodelayedcount=Flights1.loc[(Flights1['Is_Delayed'] == 0)]['Is_Delayed'].count()\n",
        "  axis = plt.subplots(figsize=(10,14))\n",
        "  Name = ['Delayed','Not Delayed']\n",
        "  values = [(delayedcount/totalcount)*100,(nodelayedcount/totalcount)*100]\n",
        "  plt.pie(values,labels=Name,autopct='%5.0f%%')\n",
        "  plt.savefig('drive/My Drive/foo.png')\n",
        "  return plt.show()\n",
        "percentageofdelay('LAX','BOS','AA')"
      ],
      "execution_count": 730,
      "outputs": [
        {
          "output_type": "display_data",
          "data": {
            "image/png": "[encoded data removed]",
            "text/plain": [
              "<Figure size 720x1008 with 1 Axes>"
            ]
          },
          "metadata": {
            "tags": []
          }
        }
      ]
    },
    {
      "cell_type": "code",
      "metadata": {
        "id": "Yv3ragJNj7bw",
        "colab": {
          "base_uri": "https://localhost:8080/"
        },
        "outputId": "e141a3e5-bc51-4fd0-e40c-8b78eff47923"
      },
      "source": [
        "def dornot_result(airlines_name,origin_airport,dest_airport,distance,departure_delay,scheduled_time,airtime,taxi_out):\n",
        "  xgb_from_joblib = joblib.load('drive/My Drive/xgbmodel.pkl')  \n",
        "  data = [[airlines_name,origin_airport,dest_airport,departure_delay,taxi_out,scheduled_time,airtime,distance]]\n",
        "  df_final = pd.DataFrame(data,columns=['AIRLINE','ORIGIN_AIRPORT','DESTINATION_AIRPORT','DEPARTURE_DELAY','TAXI_OUT','SCHEDULED_TIME','AIR_TIME','DISTANCE'])\n",
        "  y_final_val=xgb_from_joblib.predict(df_final)\n",
        "  return y_final_val\n",
        "dornot_result(0,15,265,1448,-11.0,205,169.0,21.0)"
      ],
      "execution_count": 731,
      "outputs": [
        {
          "output_type": "execute_result",
          "data": {
            "text/plain": [
              "array([0])"
            ]
          },
          "metadata": {
            "tags": []
          },
          "execution_count": 731
        }
      ]
    },
    {
      "cell_type": "code",
      "metadata": {
        "id": "N0f4ais9whKT"
      },
      "source": [
        ""
      ],
      "execution_count": 731,
      "outputs": []
    }
  ]
}