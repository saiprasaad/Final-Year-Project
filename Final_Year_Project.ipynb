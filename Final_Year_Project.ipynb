{
  "nbformat": 4,
  "nbformat_minor": 0,
  "metadata": {
    "accelerator": "GPU",
    "colab": {
      "name": "Final Year Project.ipynb",
      "provenance": [],
      "collapsed_sections": []
    },
    "kernelspec": {
      "display_name": "Python 3",
      "name": "python3"
    }
  },
  "cells": [
    {
      "cell_type": "code",
      "metadata": {
        "id": "ICJkDdE1i3ov",
        "colab": {
          "base_uri": "https://localhost:8080/"
        },
        "outputId": "8b6ded32-661b-4276-adfc-96f249309222"
      },
      "source": [
        "from google.colab import drive\n",
        "drive.mount('/content/drive')"
      ],
      "execution_count": null,
      "outputs": [
        {
          "output_type": "stream",
          "text": [
            "Mounted at /content/drive\n"
          ],
          "name": "stdout"
        }
      ]
    },
    {
      "cell_type": "markdown",
      "metadata": {
        "id": "M9wTxIaoB_0T"
      },
      "source": [
        "#### Loading Datasets"
      ]
    },
    {
      "cell_type": "code",
      "metadata": {
        "id": "HQvVNpcHjKkT"
      },
      "source": [
        "import datetime, warnings, scipy \n",
        "import pandas as pd\n",
        "import numpy as np\n",
        "import seaborn as sns\n",
        "import matplotlib.pyplot as plt"
      ],
      "execution_count": null,
      "outputs": []
    },
    {
      "cell_type": "code",
      "metadata": {
        "colab": {
          "base_uri": "https://localhost:8080/",
          "height": 422
        },
        "id": "zL5I-UXqjWHa",
        "outputId": "acf3a7f3-eafd-43c0-bdf6-af9fcb1058fd"
      },
      "source": [
        "flightsinfo = pd.read_csv(\"drive/My Drive/flights.csv\",nrows=50000)\n",
        "airport = pd.read_csv('drive/My Drive/airports.csv')\n",
        "airlines = pd.read_csv('drive/My Drive/airlines.csv')\n",
        "flightsinfo"
      ],
      "execution_count": null,
      "outputs": [
        {
          "output_type": "execute_result",
          "data": {
            "text/html": [
              "<div>\n",
              "<style scoped>\n",
              "    .dataframe tbody tr th:only-of-type {\n",
              "        vertical-align: middle;\n",
              "    }\n",
              "\n",
              "    .dataframe tbody tr th {\n",
              "        vertical-align: top;\n",
              "    }\n",
              "\n",
              "    .dataframe thead th {\n",
              "        text-align: right;\n",
              "    }\n",
              "</style>\n",
              "<table border=\"1\" class=\"dataframe\">\n",
              "  <thead>\n",
              "    <tr style=\"text-align: right;\">\n",
              "      <th></th>\n",
              "      <th>YEAR</th>\n",
              "      <th>MONTH</th>\n",
              "      <th>DAY</th>\n",
              "      <th>DAY_OF_WEEK</th>\n",
              "      <th>AIRLINE</th>\n",
              "      <th>FLIGHT_NUMBER</th>\n",
              "      <th>TAIL_NUMBER</th>\n",
              "      <th>ORIGIN_AIRPORT</th>\n",
              "      <th>DESTINATION_AIRPORT</th>\n",
              "      <th>SCHEDULED_DEPARTURE</th>\n",
              "      <th>DEPARTURE_TIME</th>\n",
              "      <th>DEPARTURE_DELAY</th>\n",
              "      <th>TAXI_OUT</th>\n",
              "      <th>WHEELS_OFF</th>\n",
              "      <th>SCHEDULED_TIME</th>\n",
              "      <th>ELAPSED_TIME</th>\n",
              "      <th>AIR_TIME</th>\n",
              "      <th>DISTANCE</th>\n",
              "      <th>WHEELS_ON</th>\n",
              "      <th>TAXI_IN</th>\n",
              "      <th>SCHEDULED_ARRIVAL</th>\n",
              "      <th>ARRIVAL_TIME</th>\n",
              "      <th>ARRIVAL_DELAY</th>\n",
              "      <th>DIVERTED</th>\n",
              "      <th>CANCELLED</th>\n",
              "      <th>CANCELLATION_REASON</th>\n",
              "      <th>AIR_SYSTEM_DELAY</th>\n",
              "      <th>SECURITY_DELAY</th>\n",
              "      <th>AIRLINE_DELAY</th>\n",
              "      <th>LATE_AIRCRAFT_DELAY</th>\n",
              "      <th>WEATHER_DELAY</th>\n",
              "    </tr>\n",
              "  </thead>\n",
              "  <tbody>\n",
              "    <tr>\n",
              "      <th>0</th>\n",
              "      <td>2015</td>\n",
              "      <td>1</td>\n",
              "      <td>1</td>\n",
              "      <td>4</td>\n",
              "      <td>AS</td>\n",
              "      <td>98</td>\n",
              "      <td>N407AS</td>\n",
              "      <td>ANC</td>\n",
              "      <td>SEA</td>\n",
              "      <td>5</td>\n",
              "      <td>2354.0</td>\n",
              "      <td>-11.0</td>\n",
              "      <td>21.0</td>\n",
              "      <td>15.0</td>\n",
              "      <td>205</td>\n",
              "      <td>194.0</td>\n",
              "      <td>169.0</td>\n",
              "      <td>1448</td>\n",
              "      <td>404.0</td>\n",
              "      <td>4.0</td>\n",
              "      <td>430</td>\n",
              "      <td>408.0</td>\n",
              "      <td>-22.0</td>\n",
              "      <td>0</td>\n",
              "      <td>0</td>\n",
              "      <td>NaN</td>\n",
              "      <td>NaN</td>\n",
              "      <td>NaN</td>\n",
              "      <td>NaN</td>\n",
              "      <td>NaN</td>\n",
              "      <td>NaN</td>\n",
              "    </tr>\n",
              "    <tr>\n",
              "      <th>1</th>\n",
              "      <td>2015</td>\n",
              "      <td>1</td>\n",
              "      <td>1</td>\n",
              "      <td>4</td>\n",
              "      <td>AA</td>\n",
              "      <td>2336</td>\n",
              "      <td>N3KUAA</td>\n",
              "      <td>LAX</td>\n",
              "      <td>PBI</td>\n",
              "      <td>10</td>\n",
              "      <td>2.0</td>\n",
              "      <td>-8.0</td>\n",
              "      <td>12.0</td>\n",
              "      <td>14.0</td>\n",
              "      <td>280</td>\n",
              "      <td>279.0</td>\n",
              "      <td>263.0</td>\n",
              "      <td>2330</td>\n",
              "      <td>737.0</td>\n",
              "      <td>4.0</td>\n",
              "      <td>750</td>\n",
              "      <td>741.0</td>\n",
              "      <td>-9.0</td>\n",
              "      <td>0</td>\n",
              "      <td>0</td>\n",
              "      <td>NaN</td>\n",
              "      <td>NaN</td>\n",
              "      <td>NaN</td>\n",
              "      <td>NaN</td>\n",
              "      <td>NaN</td>\n",
              "      <td>NaN</td>\n",
              "    </tr>\n",
              "    <tr>\n",
              "      <th>2</th>\n",
              "      <td>2015</td>\n",
              "      <td>1</td>\n",
              "      <td>1</td>\n",
              "      <td>4</td>\n",
              "      <td>US</td>\n",
              "      <td>840</td>\n",
              "      <td>N171US</td>\n",
              "      <td>SFO</td>\n",
              "      <td>CLT</td>\n",
              "      <td>20</td>\n",
              "      <td>18.0</td>\n",
              "      <td>-2.0</td>\n",
              "      <td>16.0</td>\n",
              "      <td>34.0</td>\n",
              "      <td>286</td>\n",
              "      <td>293.0</td>\n",
              "      <td>266.0</td>\n",
              "      <td>2296</td>\n",
              "      <td>800.0</td>\n",
              "      <td>11.0</td>\n",
              "      <td>806</td>\n",
              "      <td>811.0</td>\n",
              "      <td>5.0</td>\n",
              "      <td>0</td>\n",
              "      <td>0</td>\n",
              "      <td>NaN</td>\n",
              "      <td>NaN</td>\n",
              "      <td>NaN</td>\n",
              "      <td>NaN</td>\n",
              "      <td>NaN</td>\n",
              "      <td>NaN</td>\n",
              "    </tr>\n",
              "    <tr>\n",
              "      <th>3</th>\n",
              "      <td>2015</td>\n",
              "      <td>1</td>\n",
              "      <td>1</td>\n",
              "      <td>4</td>\n",
              "      <td>AA</td>\n",
              "      <td>258</td>\n",
              "      <td>N3HYAA</td>\n",
              "      <td>LAX</td>\n",
              "      <td>MIA</td>\n",
              "      <td>20</td>\n",
              "      <td>15.0</td>\n",
              "      <td>-5.0</td>\n",
              "      <td>15.0</td>\n",
              "      <td>30.0</td>\n",
              "      <td>285</td>\n",
              "      <td>281.0</td>\n",
              "      <td>258.0</td>\n",
              "      <td>2342</td>\n",
              "      <td>748.0</td>\n",
              "      <td>8.0</td>\n",
              "      <td>805</td>\n",
              "      <td>756.0</td>\n",
              "      <td>-9.0</td>\n",
              "      <td>0</td>\n",
              "      <td>0</td>\n",
              "      <td>NaN</td>\n",
              "      <td>NaN</td>\n",
              "      <td>NaN</td>\n",
              "      <td>NaN</td>\n",
              "      <td>NaN</td>\n",
              "      <td>NaN</td>\n",
              "    </tr>\n",
              "    <tr>\n",
              "      <th>4</th>\n",
              "      <td>2015</td>\n",
              "      <td>1</td>\n",
              "      <td>1</td>\n",
              "      <td>4</td>\n",
              "      <td>AS</td>\n",
              "      <td>135</td>\n",
              "      <td>N527AS</td>\n",
              "      <td>SEA</td>\n",
              "      <td>ANC</td>\n",
              "      <td>25</td>\n",
              "      <td>24.0</td>\n",
              "      <td>-1.0</td>\n",
              "      <td>11.0</td>\n",
              "      <td>35.0</td>\n",
              "      <td>235</td>\n",
              "      <td>215.0</td>\n",
              "      <td>199.0</td>\n",
              "      <td>1448</td>\n",
              "      <td>254.0</td>\n",
              "      <td>5.0</td>\n",
              "      <td>320</td>\n",
              "      <td>259.0</td>\n",
              "      <td>-21.0</td>\n",
              "      <td>0</td>\n",
              "      <td>0</td>\n",
              "      <td>NaN</td>\n",
              "      <td>NaN</td>\n",
              "      <td>NaN</td>\n",
              "      <td>NaN</td>\n",
              "      <td>NaN</td>\n",
              "      <td>NaN</td>\n",
              "    </tr>\n",
              "    <tr>\n",
              "      <th>...</th>\n",
              "      <td>...</td>\n",
              "      <td>...</td>\n",
              "      <td>...</td>\n",
              "      <td>...</td>\n",
              "      <td>...</td>\n",
              "      <td>...</td>\n",
              "      <td>...</td>\n",
              "      <td>...</td>\n",
              "      <td>...</td>\n",
              "      <td>...</td>\n",
              "      <td>...</td>\n",
              "      <td>...</td>\n",
              "      <td>...</td>\n",
              "      <td>...</td>\n",
              "      <td>...</td>\n",
              "      <td>...</td>\n",
              "      <td>...</td>\n",
              "      <td>...</td>\n",
              "      <td>...</td>\n",
              "      <td>...</td>\n",
              "      <td>...</td>\n",
              "      <td>...</td>\n",
              "      <td>...</td>\n",
              "      <td>...</td>\n",
              "      <td>...</td>\n",
              "      <td>...</td>\n",
              "      <td>...</td>\n",
              "      <td>...</td>\n",
              "      <td>...</td>\n",
              "      <td>...</td>\n",
              "      <td>...</td>\n",
              "    </tr>\n",
              "    <tr>\n",
              "      <th>49995</th>\n",
              "      <td>2015</td>\n",
              "      <td>1</td>\n",
              "      <td>4</td>\n",
              "      <td>7</td>\n",
              "      <td>AA</td>\n",
              "      <td>1524</td>\n",
              "      <td>N499AA</td>\n",
              "      <td>DFW</td>\n",
              "      <td>LAS</td>\n",
              "      <td>915</td>\n",
              "      <td>910.0</td>\n",
              "      <td>-5.0</td>\n",
              "      <td>24.0</td>\n",
              "      <td>934.0</td>\n",
              "      <td>175</td>\n",
              "      <td>180.0</td>\n",
              "      <td>150.0</td>\n",
              "      <td>1055</td>\n",
              "      <td>1004.0</td>\n",
              "      <td>6.0</td>\n",
              "      <td>1010</td>\n",
              "      <td>1010.0</td>\n",
              "      <td>0.0</td>\n",
              "      <td>0</td>\n",
              "      <td>0</td>\n",
              "      <td>NaN</td>\n",
              "      <td>NaN</td>\n",
              "      <td>NaN</td>\n",
              "      <td>NaN</td>\n",
              "      <td>NaN</td>\n",
              "      <td>NaN</td>\n",
              "    </tr>\n",
              "    <tr>\n",
              "      <th>49996</th>\n",
              "      <td>2015</td>\n",
              "      <td>1</td>\n",
              "      <td>4</td>\n",
              "      <td>7</td>\n",
              "      <td>AA</td>\n",
              "      <td>2316</td>\n",
              "      <td>N3FNAA</td>\n",
              "      <td>STX</td>\n",
              "      <td>MIA</td>\n",
              "      <td>915</td>\n",
              "      <td>915.0</td>\n",
              "      <td>0.0</td>\n",
              "      <td>20.0</td>\n",
              "      <td>935.0</td>\n",
              "      <td>187</td>\n",
              "      <td>191.0</td>\n",
              "      <td>155.0</td>\n",
              "      <td>1139</td>\n",
              "      <td>1110.0</td>\n",
              "      <td>16.0</td>\n",
              "      <td>1122</td>\n",
              "      <td>1126.0</td>\n",
              "      <td>4.0</td>\n",
              "      <td>0</td>\n",
              "      <td>0</td>\n",
              "      <td>NaN</td>\n",
              "      <td>NaN</td>\n",
              "      <td>NaN</td>\n",
              "      <td>NaN</td>\n",
              "      <td>NaN</td>\n",
              "      <td>NaN</td>\n",
              "    </tr>\n",
              "    <tr>\n",
              "      <th>49997</th>\n",
              "      <td>2015</td>\n",
              "      <td>1</td>\n",
              "      <td>4</td>\n",
              "      <td>7</td>\n",
              "      <td>AS</td>\n",
              "      <td>5</td>\n",
              "      <td>N566AS</td>\n",
              "      <td>DCA</td>\n",
              "      <td>LAX</td>\n",
              "      <td>915</td>\n",
              "      <td>952.0</td>\n",
              "      <td>37.0</td>\n",
              "      <td>13.0</td>\n",
              "      <td>1005.0</td>\n",
              "      <td>355</td>\n",
              "      <td>355.0</td>\n",
              "      <td>329.0</td>\n",
              "      <td>2311</td>\n",
              "      <td>1234.0</td>\n",
              "      <td>13.0</td>\n",
              "      <td>1210</td>\n",
              "      <td>1247.0</td>\n",
              "      <td>37.0</td>\n",
              "      <td>0</td>\n",
              "      <td>0</td>\n",
              "      <td>NaN</td>\n",
              "      <td>37.0</td>\n",
              "      <td>0.0</td>\n",
              "      <td>0.0</td>\n",
              "      <td>0.0</td>\n",
              "      <td>0.0</td>\n",
              "    </tr>\n",
              "    <tr>\n",
              "      <th>49998</th>\n",
              "      <td>2015</td>\n",
              "      <td>1</td>\n",
              "      <td>4</td>\n",
              "      <td>7</td>\n",
              "      <td>DL</td>\n",
              "      <td>688</td>\n",
              "      <td>N893AT</td>\n",
              "      <td>ATL</td>\n",
              "      <td>ICT</td>\n",
              "      <td>915</td>\n",
              "      <td>922.0</td>\n",
              "      <td>7.0</td>\n",
              "      <td>13.0</td>\n",
              "      <td>935.0</td>\n",
              "      <td>145</td>\n",
              "      <td>135.0</td>\n",
              "      <td>115.0</td>\n",
              "      <td>782</td>\n",
              "      <td>1030.0</td>\n",
              "      <td>7.0</td>\n",
              "      <td>1040</td>\n",
              "      <td>1037.0</td>\n",
              "      <td>-3.0</td>\n",
              "      <td>0</td>\n",
              "      <td>0</td>\n",
              "      <td>NaN</td>\n",
              "      <td>NaN</td>\n",
              "      <td>NaN</td>\n",
              "      <td>NaN</td>\n",
              "      <td>NaN</td>\n",
              "      <td>NaN</td>\n",
              "    </tr>\n",
              "    <tr>\n",
              "      <th>49999</th>\n",
              "      <td>2015</td>\n",
              "      <td>1</td>\n",
              "      <td>4</td>\n",
              "      <td>7</td>\n",
              "      <td>DL</td>\n",
              "      <td>972</td>\n",
              "      <td>N130DL</td>\n",
              "      <td>MSP</td>\n",
              "      <td>LAX</td>\n",
              "      <td>915</td>\n",
              "      <td>1000.0</td>\n",
              "      <td>45.0</td>\n",
              "      <td>13.0</td>\n",
              "      <td>1013.0</td>\n",
              "      <td>250</td>\n",
              "      <td>215.0</td>\n",
              "      <td>196.0</td>\n",
              "      <td>1535</td>\n",
              "      <td>1129.0</td>\n",
              "      <td>6.0</td>\n",
              "      <td>1125</td>\n",
              "      <td>1135.0</td>\n",
              "      <td>10.0</td>\n",
              "      <td>0</td>\n",
              "      <td>0</td>\n",
              "      <td>NaN</td>\n",
              "      <td>NaN</td>\n",
              "      <td>NaN</td>\n",
              "      <td>NaN</td>\n",
              "      <td>NaN</td>\n",
              "      <td>NaN</td>\n",
              "    </tr>\n",
              "  </tbody>\n",
              "</table>\n",
              "<p>50000 rows × 31 columns</p>\n",
              "</div>"
            ],
            "text/plain": [
              "       YEAR  MONTH  DAY  ...  AIRLINE_DELAY LATE_AIRCRAFT_DELAY  WEATHER_DELAY\n",
              "0      2015      1    1  ...            NaN                 NaN            NaN\n",
              "1      2015      1    1  ...            NaN                 NaN            NaN\n",
              "2      2015      1    1  ...            NaN                 NaN            NaN\n",
              "3      2015      1    1  ...            NaN                 NaN            NaN\n",
              "4      2015      1    1  ...            NaN                 NaN            NaN\n",
              "...     ...    ...  ...  ...            ...                 ...            ...\n",
              "49995  2015      1    4  ...            NaN                 NaN            NaN\n",
              "49996  2015      1    4  ...            NaN                 NaN            NaN\n",
              "49997  2015      1    4  ...            0.0                 0.0            0.0\n",
              "49998  2015      1    4  ...            NaN                 NaN            NaN\n",
              "49999  2015      1    4  ...            NaN                 NaN            NaN\n",
              "\n",
              "[50000 rows x 31 columns]"
            ]
          },
          "metadata": {
            "tags": []
          },
          "execution_count": 3
        }
      ]
    },
    {
      "cell_type": "markdown",
      "metadata": {
        "id": "pRtD8a-uCSTj"
      },
      "source": [
        "#### Exploring and Analyzing Dataset\n",
        "We are displaying data type of every feature in flights dataset. This will help in understadning of data and further analysis."
      ]
    },
    {
      "cell_type": "code",
      "metadata": {
        "colab": {
          "base_uri": "https://localhost:8080/"
        },
        "id": "kuxa_p1hCZDt",
        "outputId": "dfcd8331-6bf2-49ac-b0bf-ffafe366e006"
      },
      "source": [
        "flightsinfo.dtypes"
      ],
      "execution_count": null,
      "outputs": [
        {
          "output_type": "execute_result",
          "data": {
            "text/plain": [
              "YEAR                     int64\n",
              "MONTH                    int64\n",
              "DAY                      int64\n",
              "DAY_OF_WEEK              int64\n",
              "AIRLINE                 object\n",
              "FLIGHT_NUMBER            int64\n",
              "TAIL_NUMBER             object\n",
              "ORIGIN_AIRPORT          object\n",
              "DESTINATION_AIRPORT     object\n",
              "SCHEDULED_DEPARTURE      int64\n",
              "DEPARTURE_TIME         float64\n",
              "DEPARTURE_DELAY        float64\n",
              "TAXI_OUT               float64\n",
              "WHEELS_OFF             float64\n",
              "SCHEDULED_TIME           int64\n",
              "ELAPSED_TIME           float64\n",
              "AIR_TIME               float64\n",
              "DISTANCE                 int64\n",
              "WHEELS_ON              float64\n",
              "TAXI_IN                float64\n",
              "SCHEDULED_ARRIVAL        int64\n",
              "ARRIVAL_TIME           float64\n",
              "ARRIVAL_DELAY          float64\n",
              "DIVERTED                 int64\n",
              "CANCELLED                int64\n",
              "CANCELLATION_REASON     object\n",
              "AIR_SYSTEM_DELAY       float64\n",
              "SECURITY_DELAY         float64\n",
              "AIRLINE_DELAY          float64\n",
              "LATE_AIRCRAFT_DELAY    float64\n",
              "WEATHER_DELAY          float64\n",
              "dtype: object"
            ]
          },
          "metadata": {
            "tags": []
          },
          "execution_count": 4
        }
      ]
    },
    {
      "cell_type": "code",
      "metadata": {
        "colab": {
          "base_uri": "https://localhost:8080/"
        },
        "id": "uWGQ9A7gjZNR",
        "outputId": "b92d2fd1-dda2-46c7-d35d-d001a206fa29"
      },
      "source": [
        "list(flightsinfo.columns) "
      ],
      "execution_count": null,
      "outputs": [
        {
          "output_type": "execute_result",
          "data": {
            "text/plain": [
              "['YEAR',\n",
              " 'MONTH',\n",
              " 'DAY',\n",
              " 'DAY_OF_WEEK',\n",
              " 'AIRLINE',\n",
              " 'FLIGHT_NUMBER',\n",
              " 'TAIL_NUMBER',\n",
              " 'ORIGIN_AIRPORT',\n",
              " 'DESTINATION_AIRPORT',\n",
              " 'SCHEDULED_DEPARTURE',\n",
              " 'DEPARTURE_TIME',\n",
              " 'DEPARTURE_DELAY',\n",
              " 'TAXI_OUT',\n",
              " 'WHEELS_OFF',\n",
              " 'SCHEDULED_TIME',\n",
              " 'ELAPSED_TIME',\n",
              " 'AIR_TIME',\n",
              " 'DISTANCE',\n",
              " 'WHEELS_ON',\n",
              " 'TAXI_IN',\n",
              " 'SCHEDULED_ARRIVAL',\n",
              " 'ARRIVAL_TIME',\n",
              " 'ARRIVAL_DELAY',\n",
              " 'DIVERTED',\n",
              " 'CANCELLED',\n",
              " 'CANCELLATION_REASON',\n",
              " 'AIR_SYSTEM_DELAY',\n",
              " 'SECURITY_DELAY',\n",
              " 'AIRLINE_DELAY',\n",
              " 'LATE_AIRCRAFT_DELAY',\n",
              " 'WEATHER_DELAY']"
            ]
          },
          "metadata": {
            "tags": []
          },
          "execution_count": 5
        }
      ]
    },
    {
      "cell_type": "code",
      "metadata": {
        "colab": {
          "base_uri": "https://localhost:8080/",
          "height": 215
        },
        "id": "sHZvsYHKjbmT",
        "outputId": "f150d812-3ce2-4bdd-d889-49be4ee2292d"
      },
      "source": [
        "flightsinfo.head()"
      ],
      "execution_count": null,
      "outputs": [
        {
          "output_type": "execute_result",
          "data": {
            "text/html": [
              "<div>\n",
              "<style scoped>\n",
              "    .dataframe tbody tr th:only-of-type {\n",
              "        vertical-align: middle;\n",
              "    }\n",
              "\n",
              "    .dataframe tbody tr th {\n",
              "        vertical-align: top;\n",
              "    }\n",
              "\n",
              "    .dataframe thead th {\n",
              "        text-align: right;\n",
              "    }\n",
              "</style>\n",
              "<table border=\"1\" class=\"dataframe\">\n",
              "  <thead>\n",
              "    <tr style=\"text-align: right;\">\n",
              "      <th></th>\n",
              "      <th>YEAR</th>\n",
              "      <th>MONTH</th>\n",
              "      <th>DAY</th>\n",
              "      <th>DAY_OF_WEEK</th>\n",
              "      <th>AIRLINE</th>\n",
              "      <th>FLIGHT_NUMBER</th>\n",
              "      <th>TAIL_NUMBER</th>\n",
              "      <th>ORIGIN_AIRPORT</th>\n",
              "      <th>DESTINATION_AIRPORT</th>\n",
              "      <th>SCHEDULED_DEPARTURE</th>\n",
              "      <th>DEPARTURE_TIME</th>\n",
              "      <th>DEPARTURE_DELAY</th>\n",
              "      <th>TAXI_OUT</th>\n",
              "      <th>WHEELS_OFF</th>\n",
              "      <th>SCHEDULED_TIME</th>\n",
              "      <th>ELAPSED_TIME</th>\n",
              "      <th>AIR_TIME</th>\n",
              "      <th>DISTANCE</th>\n",
              "      <th>WHEELS_ON</th>\n",
              "      <th>TAXI_IN</th>\n",
              "      <th>SCHEDULED_ARRIVAL</th>\n",
              "      <th>ARRIVAL_TIME</th>\n",
              "      <th>ARRIVAL_DELAY</th>\n",
              "      <th>DIVERTED</th>\n",
              "      <th>CANCELLED</th>\n",
              "      <th>CANCELLATION_REASON</th>\n",
              "      <th>AIR_SYSTEM_DELAY</th>\n",
              "      <th>SECURITY_DELAY</th>\n",
              "      <th>AIRLINE_DELAY</th>\n",
              "      <th>LATE_AIRCRAFT_DELAY</th>\n",
              "      <th>WEATHER_DELAY</th>\n",
              "    </tr>\n",
              "  </thead>\n",
              "  <tbody>\n",
              "    <tr>\n",
              "      <th>0</th>\n",
              "      <td>2015</td>\n",
              "      <td>1</td>\n",
              "      <td>1</td>\n",
              "      <td>4</td>\n",
              "      <td>AS</td>\n",
              "      <td>98</td>\n",
              "      <td>N407AS</td>\n",
              "      <td>ANC</td>\n",
              "      <td>SEA</td>\n",
              "      <td>5</td>\n",
              "      <td>2354.0</td>\n",
              "      <td>-11.0</td>\n",
              "      <td>21.0</td>\n",
              "      <td>15.0</td>\n",
              "      <td>205</td>\n",
              "      <td>194.0</td>\n",
              "      <td>169.0</td>\n",
              "      <td>1448</td>\n",
              "      <td>404.0</td>\n",
              "      <td>4.0</td>\n",
              "      <td>430</td>\n",
              "      <td>408.0</td>\n",
              "      <td>-22.0</td>\n",
              "      <td>0</td>\n",
              "      <td>0</td>\n",
              "      <td>NaN</td>\n",
              "      <td>NaN</td>\n",
              "      <td>NaN</td>\n",
              "      <td>NaN</td>\n",
              "      <td>NaN</td>\n",
              "      <td>NaN</td>\n",
              "    </tr>\n",
              "    <tr>\n",
              "      <th>1</th>\n",
              "      <td>2015</td>\n",
              "      <td>1</td>\n",
              "      <td>1</td>\n",
              "      <td>4</td>\n",
              "      <td>AA</td>\n",
              "      <td>2336</td>\n",
              "      <td>N3KUAA</td>\n",
              "      <td>LAX</td>\n",
              "      <td>PBI</td>\n",
              "      <td>10</td>\n",
              "      <td>2.0</td>\n",
              "      <td>-8.0</td>\n",
              "      <td>12.0</td>\n",
              "      <td>14.0</td>\n",
              "      <td>280</td>\n",
              "      <td>279.0</td>\n",
              "      <td>263.0</td>\n",
              "      <td>2330</td>\n",
              "      <td>737.0</td>\n",
              "      <td>4.0</td>\n",
              "      <td>750</td>\n",
              "      <td>741.0</td>\n",
              "      <td>-9.0</td>\n",
              "      <td>0</td>\n",
              "      <td>0</td>\n",
              "      <td>NaN</td>\n",
              "      <td>NaN</td>\n",
              "      <td>NaN</td>\n",
              "      <td>NaN</td>\n",
              "      <td>NaN</td>\n",
              "      <td>NaN</td>\n",
              "    </tr>\n",
              "    <tr>\n",
              "      <th>2</th>\n",
              "      <td>2015</td>\n",
              "      <td>1</td>\n",
              "      <td>1</td>\n",
              "      <td>4</td>\n",
              "      <td>US</td>\n",
              "      <td>840</td>\n",
              "      <td>N171US</td>\n",
              "      <td>SFO</td>\n",
              "      <td>CLT</td>\n",
              "      <td>20</td>\n",
              "      <td>18.0</td>\n",
              "      <td>-2.0</td>\n",
              "      <td>16.0</td>\n",
              "      <td>34.0</td>\n",
              "      <td>286</td>\n",
              "      <td>293.0</td>\n",
              "      <td>266.0</td>\n",
              "      <td>2296</td>\n",
              "      <td>800.0</td>\n",
              "      <td>11.0</td>\n",
              "      <td>806</td>\n",
              "      <td>811.0</td>\n",
              "      <td>5.0</td>\n",
              "      <td>0</td>\n",
              "      <td>0</td>\n",
              "      <td>NaN</td>\n",
              "      <td>NaN</td>\n",
              "      <td>NaN</td>\n",
              "      <td>NaN</td>\n",
              "      <td>NaN</td>\n",
              "      <td>NaN</td>\n",
              "    </tr>\n",
              "    <tr>\n",
              "      <th>3</th>\n",
              "      <td>2015</td>\n",
              "      <td>1</td>\n",
              "      <td>1</td>\n",
              "      <td>4</td>\n",
              "      <td>AA</td>\n",
              "      <td>258</td>\n",
              "      <td>N3HYAA</td>\n",
              "      <td>LAX</td>\n",
              "      <td>MIA</td>\n",
              "      <td>20</td>\n",
              "      <td>15.0</td>\n",
              "      <td>-5.0</td>\n",
              "      <td>15.0</td>\n",
              "      <td>30.0</td>\n",
              "      <td>285</td>\n",
              "      <td>281.0</td>\n",
              "      <td>258.0</td>\n",
              "      <td>2342</td>\n",
              "      <td>748.0</td>\n",
              "      <td>8.0</td>\n",
              "      <td>805</td>\n",
              "      <td>756.0</td>\n",
              "      <td>-9.0</td>\n",
              "      <td>0</td>\n",
              "      <td>0</td>\n",
              "      <td>NaN</td>\n",
              "      <td>NaN</td>\n",
              "      <td>NaN</td>\n",
              "      <td>NaN</td>\n",
              "      <td>NaN</td>\n",
              "      <td>NaN</td>\n",
              "    </tr>\n",
              "    <tr>\n",
              "      <th>4</th>\n",
              "      <td>2015</td>\n",
              "      <td>1</td>\n",
              "      <td>1</td>\n",
              "      <td>4</td>\n",
              "      <td>AS</td>\n",
              "      <td>135</td>\n",
              "      <td>N527AS</td>\n",
              "      <td>SEA</td>\n",
              "      <td>ANC</td>\n",
              "      <td>25</td>\n",
              "      <td>24.0</td>\n",
              "      <td>-1.0</td>\n",
              "      <td>11.0</td>\n",
              "      <td>35.0</td>\n",
              "      <td>235</td>\n",
              "      <td>215.0</td>\n",
              "      <td>199.0</td>\n",
              "      <td>1448</td>\n",
              "      <td>254.0</td>\n",
              "      <td>5.0</td>\n",
              "      <td>320</td>\n",
              "      <td>259.0</td>\n",
              "      <td>-21.0</td>\n",
              "      <td>0</td>\n",
              "      <td>0</td>\n",
              "      <td>NaN</td>\n",
              "      <td>NaN</td>\n",
              "      <td>NaN</td>\n",
              "      <td>NaN</td>\n",
              "      <td>NaN</td>\n",
              "      <td>NaN</td>\n",
              "    </tr>\n",
              "  </tbody>\n",
              "</table>\n",
              "</div>"
            ],
            "text/plain": [
              "   YEAR  MONTH  DAY  ...  AIRLINE_DELAY LATE_AIRCRAFT_DELAY  WEATHER_DELAY\n",
              "0  2015      1    1  ...            NaN                 NaN            NaN\n",
              "1  2015      1    1  ...            NaN                 NaN            NaN\n",
              "2  2015      1    1  ...            NaN                 NaN            NaN\n",
              "3  2015      1    1  ...            NaN                 NaN            NaN\n",
              "4  2015      1    1  ...            NaN                 NaN            NaN\n",
              "\n",
              "[5 rows x 31 columns]"
            ]
          },
          "metadata": {
            "tags": []
          },
          "execution_count": 6
        }
      ]
    },
    {
      "cell_type": "code",
      "metadata": {
        "colab": {
          "base_uri": "https://localhost:8080/",
          "height": 304
        },
        "id": "RbT2Mwuzjh5E",
        "outputId": "54f3fe99-6a88-45e6-818c-a67a46c4e190"
      },
      "source": [
        "flightsinfo.describe()"
      ],
      "execution_count": null,
      "outputs": [
        {
          "output_type": "execute_result",
          "data": {
            "text/html": [
              "<div>\n",
              "<style scoped>\n",
              "    .dataframe tbody tr th:only-of-type {\n",
              "        vertical-align: middle;\n",
              "    }\n",
              "\n",
              "    .dataframe tbody tr th {\n",
              "        vertical-align: top;\n",
              "    }\n",
              "\n",
              "    .dataframe thead th {\n",
              "        text-align: right;\n",
              "    }\n",
              "</style>\n",
              "<table border=\"1\" class=\"dataframe\">\n",
              "  <thead>\n",
              "    <tr style=\"text-align: right;\">\n",
              "      <th></th>\n",
              "      <th>YEAR</th>\n",
              "      <th>MONTH</th>\n",
              "      <th>DAY</th>\n",
              "      <th>DAY_OF_WEEK</th>\n",
              "      <th>FLIGHT_NUMBER</th>\n",
              "      <th>SCHEDULED_DEPARTURE</th>\n",
              "      <th>DEPARTURE_TIME</th>\n",
              "      <th>DEPARTURE_DELAY</th>\n",
              "      <th>TAXI_OUT</th>\n",
              "      <th>WHEELS_OFF</th>\n",
              "      <th>SCHEDULED_TIME</th>\n",
              "      <th>ELAPSED_TIME</th>\n",
              "      <th>AIR_TIME</th>\n",
              "      <th>DISTANCE</th>\n",
              "      <th>WHEELS_ON</th>\n",
              "      <th>TAXI_IN</th>\n",
              "      <th>SCHEDULED_ARRIVAL</th>\n",
              "      <th>ARRIVAL_TIME</th>\n",
              "      <th>ARRIVAL_DELAY</th>\n",
              "      <th>DIVERTED</th>\n",
              "      <th>CANCELLED</th>\n",
              "      <th>AIR_SYSTEM_DELAY</th>\n",
              "      <th>SECURITY_DELAY</th>\n",
              "      <th>AIRLINE_DELAY</th>\n",
              "      <th>LATE_AIRCRAFT_DELAY</th>\n",
              "      <th>WEATHER_DELAY</th>\n",
              "    </tr>\n",
              "  </thead>\n",
              "  <tbody>\n",
              "    <tr>\n",
              "      <th>count</th>\n",
              "      <td>50000.0</td>\n",
              "      <td>50000.0</td>\n",
              "      <td>50000.000000</td>\n",
              "      <td>50000.000000</td>\n",
              "      <td>50000.000000</td>\n",
              "      <td>50000.000000</td>\n",
              "      <td>48896.000000</td>\n",
              "      <td>48896.000000</td>\n",
              "      <td>48873.000000</td>\n",
              "      <td>48873.000000</td>\n",
              "      <td>50000.000000</td>\n",
              "      <td>48753.000000</td>\n",
              "      <td>48753.000000</td>\n",
              "      <td>50000.00000</td>\n",
              "      <td>48839.000000</td>\n",
              "      <td>48839.000000</td>\n",
              "      <td>50000.000000</td>\n",
              "      <td>48839.000000</td>\n",
              "      <td>48753.000000</td>\n",
              "      <td>50000.00000</td>\n",
              "      <td>50000.000000</td>\n",
              "      <td>15408.000000</td>\n",
              "      <td>15408.000000</td>\n",
              "      <td>15408.000000</td>\n",
              "      <td>15408.000000</td>\n",
              "      <td>15408.000000</td>\n",
              "    </tr>\n",
              "    <tr>\n",
              "      <th>mean</th>\n",
              "      <td>2015.0</td>\n",
              "      <td>1.0</td>\n",
              "      <td>2.184680</td>\n",
              "      <td>5.184680</td>\n",
              "      <td>2235.149800</td>\n",
              "      <td>1295.894840</td>\n",
              "      <td>1310.849456</td>\n",
              "      <td>15.596020</td>\n",
              "      <td>16.594827</td>\n",
              "      <td>1333.144824</td>\n",
              "      <td>145.339160</td>\n",
              "      <td>144.290505</td>\n",
              "      <td>119.769737</td>\n",
              "      <td>851.14946</td>\n",
              "      <td>1444.159422</td>\n",
              "      <td>7.933844</td>\n",
              "      <td>1469.676400</td>\n",
              "      <td>1447.643543</td>\n",
              "      <td>13.596579</td>\n",
              "      <td>0.00218</td>\n",
              "      <td>0.022760</td>\n",
              "      <td>12.036020</td>\n",
              "      <td>0.100078</td>\n",
              "      <td>18.305945</td>\n",
              "      <td>22.047832</td>\n",
              "      <td>1.937046</td>\n",
              "    </tr>\n",
              "    <tr>\n",
              "      <th>std</th>\n",
              "      <td>0.0</td>\n",
              "      <td>0.0</td>\n",
              "      <td>0.929296</td>\n",
              "      <td>0.929296</td>\n",
              "      <td>1818.758779</td>\n",
              "      <td>491.267911</td>\n",
              "      <td>508.775569</td>\n",
              "      <td>40.758942</td>\n",
              "      <td>9.553458</td>\n",
              "      <td>509.260635</td>\n",
              "      <td>77.073412</td>\n",
              "      <td>77.140845</td>\n",
              "      <td>75.103894</td>\n",
              "      <td>616.67447</td>\n",
              "      <td>533.735425</td>\n",
              "      <td>6.339113</td>\n",
              "      <td>505.892758</td>\n",
              "      <td>538.514420</td>\n",
              "      <td>43.375000</td>\n",
              "      <td>0.04664</td>\n",
              "      <td>0.149139</td>\n",
              "      <td>21.476128</td>\n",
              "      <td>2.033530</td>\n",
              "      <td>43.343044</td>\n",
              "      <td>39.313475</td>\n",
              "      <td>12.939070</td>\n",
              "    </tr>\n",
              "    <tr>\n",
              "      <th>min</th>\n",
              "      <td>2015.0</td>\n",
              "      <td>1.0</td>\n",
              "      <td>1.000000</td>\n",
              "      <td>4.000000</td>\n",
              "      <td>1.000000</td>\n",
              "      <td>5.000000</td>\n",
              "      <td>1.000000</td>\n",
              "      <td>-39.000000</td>\n",
              "      <td>1.000000</td>\n",
              "      <td>1.000000</td>\n",
              "      <td>23.000000</td>\n",
              "      <td>18.000000</td>\n",
              "      <td>11.000000</td>\n",
              "      <td>31.00000</td>\n",
              "      <td>1.000000</td>\n",
              "      <td>1.000000</td>\n",
              "      <td>1.000000</td>\n",
              "      <td>1.000000</td>\n",
              "      <td>-54.000000</td>\n",
              "      <td>0.00000</td>\n",
              "      <td>0.000000</td>\n",
              "      <td>0.000000</td>\n",
              "      <td>0.000000</td>\n",
              "      <td>0.000000</td>\n",
              "      <td>0.000000</td>\n",
              "      <td>0.000000</td>\n",
              "    </tr>\n",
              "    <tr>\n",
              "      <th>25%</th>\n",
              "      <td>2015.0</td>\n",
              "      <td>1.0</td>\n",
              "      <td>1.000000</td>\n",
              "      <td>4.000000</td>\n",
              "      <td>770.000000</td>\n",
              "      <td>845.000000</td>\n",
              "      <td>852.000000</td>\n",
              "      <td>-3.000000</td>\n",
              "      <td>11.000000</td>\n",
              "      <td>908.000000</td>\n",
              "      <td>88.000000</td>\n",
              "      <td>86.000000</td>\n",
              "      <td>63.000000</td>\n",
              "      <td>396.00000</td>\n",
              "      <td>1032.000000</td>\n",
              "      <td>4.000000</td>\n",
              "      <td>1045.000000</td>\n",
              "      <td>1037.000000</td>\n",
              "      <td>-9.000000</td>\n",
              "      <td>0.00000</td>\n",
              "      <td>0.000000</td>\n",
              "      <td>0.000000</td>\n",
              "      <td>0.000000</td>\n",
              "      <td>0.000000</td>\n",
              "      <td>0.000000</td>\n",
              "      <td>0.000000</td>\n",
              "    </tr>\n",
              "    <tr>\n",
              "      <th>50%</th>\n",
              "      <td>2015.0</td>\n",
              "      <td>1.0</td>\n",
              "      <td>2.000000</td>\n",
              "      <td>5.000000</td>\n",
              "      <td>1677.500000</td>\n",
              "      <td>1256.000000</td>\n",
              "      <td>1308.000000</td>\n",
              "      <td>1.000000</td>\n",
              "      <td>14.000000</td>\n",
              "      <td>1320.000000</td>\n",
              "      <td>127.000000</td>\n",
              "      <td>127.000000</td>\n",
              "      <td>101.000000</td>\n",
              "      <td>689.00000</td>\n",
              "      <td>1442.000000</td>\n",
              "      <td>6.000000</td>\n",
              "      <td>1451.000000</td>\n",
              "      <td>1445.000000</td>\n",
              "      <td>2.000000</td>\n",
              "      <td>0.00000</td>\n",
              "      <td>0.000000</td>\n",
              "      <td>4.000000</td>\n",
              "      <td>0.000000</td>\n",
              "      <td>5.000000</td>\n",
              "      <td>7.000000</td>\n",
              "      <td>0.000000</td>\n",
              "    </tr>\n",
              "    <tr>\n",
              "      <th>75%</th>\n",
              "      <td>2015.0</td>\n",
              "      <td>1.0</td>\n",
              "      <td>3.000000</td>\n",
              "      <td>6.000000</td>\n",
              "      <td>3341.000000</td>\n",
              "      <td>1715.000000</td>\n",
              "      <td>1733.000000</td>\n",
              "      <td>19.000000</td>\n",
              "      <td>19.000000</td>\n",
              "      <td>1746.000000</td>\n",
              "      <td>179.000000</td>\n",
              "      <td>179.000000</td>\n",
              "      <td>153.000000</td>\n",
              "      <td>1090.00000</td>\n",
              "      <td>1902.000000</td>\n",
              "      <td>9.000000</td>\n",
              "      <td>1905.000000</td>\n",
              "      <td>1906.000000</td>\n",
              "      <td>22.000000</td>\n",
              "      <td>0.00000</td>\n",
              "      <td>0.000000</td>\n",
              "      <td>18.000000</td>\n",
              "      <td>0.000000</td>\n",
              "      <td>20.000000</td>\n",
              "      <td>29.000000</td>\n",
              "      <td>0.000000</td>\n",
              "    </tr>\n",
              "    <tr>\n",
              "      <th>max</th>\n",
              "      <td>2015.0</td>\n",
              "      <td>1.0</td>\n",
              "      <td>4.000000</td>\n",
              "      <td>7.000000</td>\n",
              "      <td>7438.000000</td>\n",
              "      <td>2359.000000</td>\n",
              "      <td>2400.000000</td>\n",
              "      <td>1380.000000</td>\n",
              "      <td>176.000000</td>\n",
              "      <td>2400.000000</td>\n",
              "      <td>718.000000</td>\n",
              "      <td>712.000000</td>\n",
              "      <td>676.000000</td>\n",
              "      <td>4983.00000</td>\n",
              "      <td>2400.000000</td>\n",
              "      <td>111.000000</td>\n",
              "      <td>2359.000000</td>\n",
              "      <td>2400.000000</td>\n",
              "      <td>1384.000000</td>\n",
              "      <td>1.00000</td>\n",
              "      <td>1.000000</td>\n",
              "      <td>570.000000</td>\n",
              "      <td>107.000000</td>\n",
              "      <td>1380.000000</td>\n",
              "      <td>891.000000</td>\n",
              "      <td>453.000000</td>\n",
              "    </tr>\n",
              "  </tbody>\n",
              "</table>\n",
              "</div>"
            ],
            "text/plain": [
              "          YEAR    MONTH  ...  LATE_AIRCRAFT_DELAY  WEATHER_DELAY\n",
              "count  50000.0  50000.0  ...         15408.000000   15408.000000\n",
              "mean    2015.0      1.0  ...            22.047832       1.937046\n",
              "std        0.0      0.0  ...            39.313475      12.939070\n",
              "min     2015.0      1.0  ...             0.000000       0.000000\n",
              "25%     2015.0      1.0  ...             0.000000       0.000000\n",
              "50%     2015.0      1.0  ...             7.000000       0.000000\n",
              "75%     2015.0      1.0  ...            29.000000       0.000000\n",
              "max     2015.0      1.0  ...           891.000000     453.000000\n",
              "\n",
              "[8 rows x 26 columns]"
            ]
          },
          "metadata": {
            "tags": []
          },
          "execution_count": 7
        }
      ]
    },
    {
      "cell_type": "code",
      "metadata": {
        "id": "xU7VT4XXjmi0"
      },
      "source": [
        "airlinecompanies = airlines.set_index('IATA_CODE')['AIRLINE'].to_dict()"
      ],
      "execution_count": null,
      "outputs": []
    },
    {
      "cell_type": "code",
      "metadata": {
        "colab": {
          "base_uri": "https://localhost:8080/"
        },
        "id": "mqR4MKgpkIOC",
        "outputId": "f4ad57ea-4514-42d9-fba9-da57fde64ec6"
      },
      "source": [
        "airlinecompanies"
      ],
      "execution_count": null,
      "outputs": [
        {
          "output_type": "execute_result",
          "data": {
            "text/plain": [
              "{'AA': 'American Airlines Inc.',\n",
              " 'AS': 'Alaska Airlines Inc.',\n",
              " 'B6': 'JetBlue Airways',\n",
              " 'DL': 'Delta Air Lines Inc.',\n",
              " 'EV': 'Atlantic Southeast Airlines',\n",
              " 'F9': 'Frontier Airlines Inc.',\n",
              " 'HA': 'Hawaiian Airlines Inc.',\n",
              " 'MQ': 'American Eagle Airlines Inc.',\n",
              " 'NK': 'Spirit Air Lines',\n",
              " 'OO': 'Skywest Airlines Inc.',\n",
              " 'UA': 'United Air Lines Inc.',\n",
              " 'US': 'US Airways Inc.',\n",
              " 'VX': 'Virgin America',\n",
              " 'WN': 'Southwest Airlines Co.'}"
            ]
          },
          "metadata": {
            "tags": []
          },
          "execution_count": 9
        }
      ]
    },
    {
      "cell_type": "code",
      "metadata": {
        "colab": {
          "base_uri": "https://localhost:8080/"
        },
        "id": "7gxKOv8nkKuA",
        "outputId": "9d37bda8-14bb-488d-99fb-752b80eedc88"
      },
      "source": [
        "airport.isnull().sum()"
      ],
      "execution_count": null,
      "outputs": [
        {
          "output_type": "execute_result",
          "data": {
            "text/plain": [
              "IATA_CODE    0\n",
              "AIRPORT      0\n",
              "CITY         0\n",
              "STATE        0\n",
              "COUNTRY      0\n",
              "LATITUDE     3\n",
              "LONGITUDE    3\n",
              "dtype: int64"
            ]
          },
          "metadata": {
            "tags": []
          },
          "execution_count": 10
        }
      ]
    },
    {
      "cell_type": "code",
      "metadata": {
        "id": "YveTw6hlkRFP"
      },
      "source": [
        "airport = airport.dropna(subset = ['LATITUDE','LONGITUDE']) #dropping na values of Latitude and Longitude"
      ],
      "execution_count": null,
      "outputs": []
    },
    {
      "cell_type": "code",
      "metadata": {
        "colab": {
          "base_uri": "https://localhost:8080/"
        },
        "id": "G1WiMnm9kVkw",
        "outputId": "7edb12e1-d738-4ea7-f9d2-4cee4b53a190"
      },
      "source": [
        "airport.isnull().sum()"
      ],
      "execution_count": null,
      "outputs": [
        {
          "output_type": "execute_result",
          "data": {
            "text/plain": [
              "IATA_CODE    0\n",
              "AIRPORT      0\n",
              "CITY         0\n",
              "STATE        0\n",
              "COUNTRY      0\n",
              "LATITUDE     0\n",
              "LONGITUDE    0\n",
              "dtype: int64"
            ]
          },
          "metadata": {
            "tags": []
          },
          "execution_count": 12
        }
      ]
    },
    {
      "cell_type": "code",
      "metadata": {
        "colab": {
          "base_uri": "https://localhost:8080/",
          "height": 343
        },
        "id": "GXXxJgeWkWqC",
        "outputId": "ac8e32ef-700c-4b91-fbf8-23bbc09a8d57"
      },
      "source": [
        "airport.head(10)"
      ],
      "execution_count": null,
      "outputs": [
        {
          "output_type": "execute_result",
          "data": {
            "text/html": [
              "<div>\n",
              "<style scoped>\n",
              "    .dataframe tbody tr th:only-of-type {\n",
              "        vertical-align: middle;\n",
              "    }\n",
              "\n",
              "    .dataframe tbody tr th {\n",
              "        vertical-align: top;\n",
              "    }\n",
              "\n",
              "    .dataframe thead th {\n",
              "        text-align: right;\n",
              "    }\n",
              "</style>\n",
              "<table border=\"1\" class=\"dataframe\">\n",
              "  <thead>\n",
              "    <tr style=\"text-align: right;\">\n",
              "      <th></th>\n",
              "      <th>IATA_CODE</th>\n",
              "      <th>AIRPORT</th>\n",
              "      <th>CITY</th>\n",
              "      <th>STATE</th>\n",
              "      <th>COUNTRY</th>\n",
              "      <th>LATITUDE</th>\n",
              "      <th>LONGITUDE</th>\n",
              "    </tr>\n",
              "  </thead>\n",
              "  <tbody>\n",
              "    <tr>\n",
              "      <th>0</th>\n",
              "      <td>ABE</td>\n",
              "      <td>Lehigh Valley International Airport</td>\n",
              "      <td>Allentown</td>\n",
              "      <td>PA</td>\n",
              "      <td>USA</td>\n",
              "      <td>40.65236</td>\n",
              "      <td>-75.44040</td>\n",
              "    </tr>\n",
              "    <tr>\n",
              "      <th>1</th>\n",
              "      <td>ABI</td>\n",
              "      <td>Abilene Regional Airport</td>\n",
              "      <td>Abilene</td>\n",
              "      <td>TX</td>\n",
              "      <td>USA</td>\n",
              "      <td>32.41132</td>\n",
              "      <td>-99.68190</td>\n",
              "    </tr>\n",
              "    <tr>\n",
              "      <th>2</th>\n",
              "      <td>ABQ</td>\n",
              "      <td>Albuquerque International Sunport</td>\n",
              "      <td>Albuquerque</td>\n",
              "      <td>NM</td>\n",
              "      <td>USA</td>\n",
              "      <td>35.04022</td>\n",
              "      <td>-106.60919</td>\n",
              "    </tr>\n",
              "    <tr>\n",
              "      <th>3</th>\n",
              "      <td>ABR</td>\n",
              "      <td>Aberdeen Regional Airport</td>\n",
              "      <td>Aberdeen</td>\n",
              "      <td>SD</td>\n",
              "      <td>USA</td>\n",
              "      <td>45.44906</td>\n",
              "      <td>-98.42183</td>\n",
              "    </tr>\n",
              "    <tr>\n",
              "      <th>4</th>\n",
              "      <td>ABY</td>\n",
              "      <td>Southwest Georgia Regional Airport</td>\n",
              "      <td>Albany</td>\n",
              "      <td>GA</td>\n",
              "      <td>USA</td>\n",
              "      <td>31.53552</td>\n",
              "      <td>-84.19447</td>\n",
              "    </tr>\n",
              "    <tr>\n",
              "      <th>5</th>\n",
              "      <td>ACK</td>\n",
              "      <td>Nantucket Memorial Airport</td>\n",
              "      <td>Nantucket</td>\n",
              "      <td>MA</td>\n",
              "      <td>USA</td>\n",
              "      <td>41.25305</td>\n",
              "      <td>-70.06018</td>\n",
              "    </tr>\n",
              "    <tr>\n",
              "      <th>6</th>\n",
              "      <td>ACT</td>\n",
              "      <td>Waco Regional Airport</td>\n",
              "      <td>Waco</td>\n",
              "      <td>TX</td>\n",
              "      <td>USA</td>\n",
              "      <td>31.61129</td>\n",
              "      <td>-97.23052</td>\n",
              "    </tr>\n",
              "    <tr>\n",
              "      <th>7</th>\n",
              "      <td>ACV</td>\n",
              "      <td>Arcata Airport</td>\n",
              "      <td>Arcata/Eureka</td>\n",
              "      <td>CA</td>\n",
              "      <td>USA</td>\n",
              "      <td>40.97812</td>\n",
              "      <td>-124.10862</td>\n",
              "    </tr>\n",
              "    <tr>\n",
              "      <th>8</th>\n",
              "      <td>ACY</td>\n",
              "      <td>Atlantic City International Airport</td>\n",
              "      <td>Atlantic City</td>\n",
              "      <td>NJ</td>\n",
              "      <td>USA</td>\n",
              "      <td>39.45758</td>\n",
              "      <td>-74.57717</td>\n",
              "    </tr>\n",
              "    <tr>\n",
              "      <th>9</th>\n",
              "      <td>ADK</td>\n",
              "      <td>Adak Airport</td>\n",
              "      <td>Adak</td>\n",
              "      <td>AK</td>\n",
              "      <td>USA</td>\n",
              "      <td>51.87796</td>\n",
              "      <td>-176.64603</td>\n",
              "    </tr>\n",
              "  </tbody>\n",
              "</table>\n",
              "</div>"
            ],
            "text/plain": [
              "  IATA_CODE                              AIRPORT  ...  LATITUDE  LONGITUDE\n",
              "0       ABE  Lehigh Valley International Airport  ...  40.65236  -75.44040\n",
              "1       ABI             Abilene Regional Airport  ...  32.41132  -99.68190\n",
              "2       ABQ    Albuquerque International Sunport  ...  35.04022 -106.60919\n",
              "3       ABR            Aberdeen Regional Airport  ...  45.44906  -98.42183\n",
              "4       ABY   Southwest Georgia Regional Airport  ...  31.53552  -84.19447\n",
              "5       ACK           Nantucket Memorial Airport  ...  41.25305  -70.06018\n",
              "6       ACT                Waco Regional Airport  ...  31.61129  -97.23052\n",
              "7       ACV                       Arcata Airport  ...  40.97812 -124.10862\n",
              "8       ACY  Atlantic City International Airport  ...  39.45758  -74.57717\n",
              "9       ADK                         Adak Airport  ...  51.87796 -176.64603\n",
              "\n",
              "[10 rows x 7 columns]"
            ]
          },
          "metadata": {
            "tags": []
          },
          "execution_count": 13
        }
      ]
    },
    {
      "cell_type": "code",
      "metadata": {
        "colab": {
          "base_uri": "https://localhost:8080/",
          "height": 462
        },
        "id": "0YKwVzQokYZ1",
        "outputId": "b78eedf2-dc6c-4fa9-83a2-32ff9ef8daee"
      },
      "source": [
        "airlines"
      ],
      "execution_count": null,
      "outputs": [
        {
          "output_type": "execute_result",
          "data": {
            "text/html": [
              "<div>\n",
              "<style scoped>\n",
              "    .dataframe tbody tr th:only-of-type {\n",
              "        vertical-align: middle;\n",
              "    }\n",
              "\n",
              "    .dataframe tbody tr th {\n",
              "        vertical-align: top;\n",
              "    }\n",
              "\n",
              "    .dataframe thead th {\n",
              "        text-align: right;\n",
              "    }\n",
              "</style>\n",
              "<table border=\"1\" class=\"dataframe\">\n",
              "  <thead>\n",
              "    <tr style=\"text-align: right;\">\n",
              "      <th></th>\n",
              "      <th>IATA_CODE</th>\n",
              "      <th>AIRLINE</th>\n",
              "    </tr>\n",
              "  </thead>\n",
              "  <tbody>\n",
              "    <tr>\n",
              "      <th>0</th>\n",
              "      <td>UA</td>\n",
              "      <td>United Air Lines Inc.</td>\n",
              "    </tr>\n",
              "    <tr>\n",
              "      <th>1</th>\n",
              "      <td>AA</td>\n",
              "      <td>American Airlines Inc.</td>\n",
              "    </tr>\n",
              "    <tr>\n",
              "      <th>2</th>\n",
              "      <td>US</td>\n",
              "      <td>US Airways Inc.</td>\n",
              "    </tr>\n",
              "    <tr>\n",
              "      <th>3</th>\n",
              "      <td>F9</td>\n",
              "      <td>Frontier Airlines Inc.</td>\n",
              "    </tr>\n",
              "    <tr>\n",
              "      <th>4</th>\n",
              "      <td>B6</td>\n",
              "      <td>JetBlue Airways</td>\n",
              "    </tr>\n",
              "    <tr>\n",
              "      <th>5</th>\n",
              "      <td>OO</td>\n",
              "      <td>Skywest Airlines Inc.</td>\n",
              "    </tr>\n",
              "    <tr>\n",
              "      <th>6</th>\n",
              "      <td>AS</td>\n",
              "      <td>Alaska Airlines Inc.</td>\n",
              "    </tr>\n",
              "    <tr>\n",
              "      <th>7</th>\n",
              "      <td>NK</td>\n",
              "      <td>Spirit Air Lines</td>\n",
              "    </tr>\n",
              "    <tr>\n",
              "      <th>8</th>\n",
              "      <td>WN</td>\n",
              "      <td>Southwest Airlines Co.</td>\n",
              "    </tr>\n",
              "    <tr>\n",
              "      <th>9</th>\n",
              "      <td>DL</td>\n",
              "      <td>Delta Air Lines Inc.</td>\n",
              "    </tr>\n",
              "    <tr>\n",
              "      <th>10</th>\n",
              "      <td>EV</td>\n",
              "      <td>Atlantic Southeast Airlines</td>\n",
              "    </tr>\n",
              "    <tr>\n",
              "      <th>11</th>\n",
              "      <td>HA</td>\n",
              "      <td>Hawaiian Airlines Inc.</td>\n",
              "    </tr>\n",
              "    <tr>\n",
              "      <th>12</th>\n",
              "      <td>MQ</td>\n",
              "      <td>American Eagle Airlines Inc.</td>\n",
              "    </tr>\n",
              "    <tr>\n",
              "      <th>13</th>\n",
              "      <td>VX</td>\n",
              "      <td>Virgin America</td>\n",
              "    </tr>\n",
              "  </tbody>\n",
              "</table>\n",
              "</div>"
            ],
            "text/plain": [
              "   IATA_CODE                       AIRLINE\n",
              "0         UA         United Air Lines Inc.\n",
              "1         AA        American Airlines Inc.\n",
              "2         US               US Airways Inc.\n",
              "3         F9        Frontier Airlines Inc.\n",
              "4         B6               JetBlue Airways\n",
              "5         OO         Skywest Airlines Inc.\n",
              "6         AS          Alaska Airlines Inc.\n",
              "7         NK              Spirit Air Lines\n",
              "8         WN        Southwest Airlines Co.\n",
              "9         DL          Delta Air Lines Inc.\n",
              "10        EV   Atlantic Southeast Airlines\n",
              "11        HA        Hawaiian Airlines Inc.\n",
              "12        MQ  American Eagle Airlines Inc.\n",
              "13        VX                Virgin America"
            ]
          },
          "metadata": {
            "tags": []
          },
          "execution_count": 14
        }
      ]
    },
    {
      "cell_type": "code",
      "metadata": {
        "colab": {
          "base_uri": "https://localhost:8080/"
        },
        "id": "-svNiT1EkZ32",
        "outputId": "099d9f6e-36ca-4779-a757-e906257ffd63"
      },
      "source": [
        "flightsinfo.isnull().sum()"
      ],
      "execution_count": null,
      "outputs": [
        {
          "output_type": "execute_result",
          "data": {
            "text/plain": [
              "YEAR                       0\n",
              "MONTH                      0\n",
              "DAY                        0\n",
              "DAY_OF_WEEK                0\n",
              "AIRLINE                    0\n",
              "FLIGHT_NUMBER              0\n",
              "TAIL_NUMBER               59\n",
              "ORIGIN_AIRPORT             0\n",
              "DESTINATION_AIRPORT        0\n",
              "SCHEDULED_DEPARTURE        0\n",
              "DEPARTURE_TIME          1104\n",
              "DEPARTURE_DELAY         1104\n",
              "TAXI_OUT                1127\n",
              "WHEELS_OFF              1127\n",
              "SCHEDULED_TIME             0\n",
              "ELAPSED_TIME            1247\n",
              "AIR_TIME                1247\n",
              "DISTANCE                   0\n",
              "WHEELS_ON               1161\n",
              "TAXI_IN                 1161\n",
              "SCHEDULED_ARRIVAL          0\n",
              "ARRIVAL_TIME            1161\n",
              "ARRIVAL_DELAY           1247\n",
              "DIVERTED                   0\n",
              "CANCELLED                  0\n",
              "CANCELLATION_REASON    48862\n",
              "AIR_SYSTEM_DELAY       34592\n",
              "SECURITY_DELAY         34592\n",
              "AIRLINE_DELAY          34592\n",
              "LATE_AIRCRAFT_DELAY    34592\n",
              "WEATHER_DELAY          34592\n",
              "dtype: int64"
            ]
          },
          "metadata": {
            "tags": []
          },
          "execution_count": 15
        }
      ]
    },
    {
      "cell_type": "markdown",
      "metadata": {
        "id": "1wu48ZWFkx3-"
      },
      "source": [
        "## Data Cleaning"
      ]
    },
    {
      "cell_type": "code",
      "metadata": {
        "id": "LX061Xnakm8c"
      },
      "source": [
        "flightsinfo1 = flightsinfo.dropna(subset = [\"TAIL_NUMBER\",'DEPARTURE_TIME','DEPARTURE_DELAY','TAXI_OUT','WHEELS_OFF','SCHEDULED_TIME',\n",
        "'ELAPSED_TIME','AIR_TIME','WHEELS_ON','TAXI_IN','ARRIVAL_TIME','ARRIVAL_DELAY'])  #dropping missing values in the dataset"
      ],
      "execution_count": null,
      "outputs": []
    },
    {
      "cell_type": "code",
      "metadata": {
        "colab": {
          "base_uri": "https://localhost:8080/"
        },
        "id": "DRTw09xAk2-q",
        "outputId": "43b739ef-3adc-4ca4-e847-2a637cb7d07a"
      },
      "source": [
        "flightsinfo1.shape"
      ],
      "execution_count": null,
      "outputs": [
        {
          "output_type": "execute_result",
          "data": {
            "text/plain": [
              "(48753, 31)"
            ]
          },
          "metadata": {
            "tags": []
          },
          "execution_count": 17
        }
      ]
    },
    {
      "cell_type": "code",
      "metadata": {
        "colab": {
          "base_uri": "https://localhost:8080/"
        },
        "id": "hLB-pYV6lVDx",
        "outputId": "cb2b7276-a19f-4609-8fdc-dbfea1a454dc"
      },
      "source": [
        "flightsinfo1.isnull().sum()"
      ],
      "execution_count": null,
      "outputs": [
        {
          "output_type": "execute_result",
          "data": {
            "text/plain": [
              "YEAR                       0\n",
              "MONTH                      0\n",
              "DAY                        0\n",
              "DAY_OF_WEEK                0\n",
              "AIRLINE                    0\n",
              "FLIGHT_NUMBER              0\n",
              "TAIL_NUMBER                0\n",
              "ORIGIN_AIRPORT             0\n",
              "DESTINATION_AIRPORT        0\n",
              "SCHEDULED_DEPARTURE        0\n",
              "DEPARTURE_TIME             0\n",
              "DEPARTURE_DELAY            0\n",
              "TAXI_OUT                   0\n",
              "WHEELS_OFF                 0\n",
              "SCHEDULED_TIME             0\n",
              "ELAPSED_TIME               0\n",
              "AIR_TIME                   0\n",
              "DISTANCE                   0\n",
              "WHEELS_ON                  0\n",
              "TAXI_IN                    0\n",
              "SCHEDULED_ARRIVAL          0\n",
              "ARRIVAL_TIME               0\n",
              "ARRIVAL_DELAY              0\n",
              "DIVERTED                   0\n",
              "CANCELLED                  0\n",
              "CANCELLATION_REASON    48753\n",
              "AIR_SYSTEM_DELAY       33345\n",
              "SECURITY_DELAY         33345\n",
              "AIRLINE_DELAY          33345\n",
              "LATE_AIRCRAFT_DELAY    33345\n",
              "WEATHER_DELAY          33345\n",
              "dtype: int64"
            ]
          },
          "metadata": {
            "tags": []
          },
          "execution_count": 18
        }
      ]
    },
    {
      "cell_type": "code",
      "metadata": {
        "id": "n9eZGjWvlWu8"
      },
      "source": [
        "flightsinfo_modified = flightsinfo1.dropna(subset = ['AIR_SYSTEM_DELAY','SECURITY_DELAY','AIRLINE_DELAY','LATE_AIRCRAFT_DELAY','WEATHER_DELAY'])\n",
        "flightsinfo_modified = flightsinfo_modified.drop(['YEAR','MONTH','DAY','DAY_OF_WEEK','TAIL_NUMBER','SCHEDULED_DEPARTURE','DEPARTURE_TIME','SCHEDULED_TIME',\n",
        "                     'SCHEDULED_ARRIVAL','ARRIVAL_TIME','DIVERTED','CANCELLED','CANCELLATION_REASON','FLIGHT_NUMBER','WHEELS_OFF',\n",
        "                     'WHEELS_ON','AIR_TIME'],axis = 1)"
      ],
      "execution_count": null,
      "outputs": []
    },
    {
      "cell_type": "code",
      "metadata": {
        "colab": {
          "base_uri": "https://localhost:8080/"
        },
        "id": "X-KrZKAvle2p",
        "outputId": "b16dee86-bdf9-48cf-d62b-f06347f57795"
      },
      "source": [
        "flightsinfo_modified.info()"
      ],
      "execution_count": null,
      "outputs": [
        {
          "output_type": "stream",
          "text": [
            "<class 'pandas.core.frame.DataFrame'>\n",
            "Int64Index: 15408 entries, 27 to 49997\n",
            "Data columns (total 14 columns):\n",
            " #   Column               Non-Null Count  Dtype  \n",
            "---  ------               --------------  -----  \n",
            " 0   AIRLINE              15408 non-null  object \n",
            " 1   ORIGIN_AIRPORT       15408 non-null  object \n",
            " 2   DESTINATION_AIRPORT  15408 non-null  object \n",
            " 3   DEPARTURE_DELAY      15408 non-null  float64\n",
            " 4   TAXI_OUT             15408 non-null  float64\n",
            " 5   ELAPSED_TIME         15408 non-null  float64\n",
            " 6   DISTANCE             15408 non-null  int64  \n",
            " 7   TAXI_IN              15408 non-null  float64\n",
            " 8   ARRIVAL_DELAY        15408 non-null  float64\n",
            " 9   AIR_SYSTEM_DELAY     15408 non-null  float64\n",
            " 10  SECURITY_DELAY       15408 non-null  float64\n",
            " 11  AIRLINE_DELAY        15408 non-null  float64\n",
            " 12  LATE_AIRCRAFT_DELAY  15408 non-null  float64\n",
            " 13  WEATHER_DELAY        15408 non-null  float64\n",
            "dtypes: float64(10), int64(1), object(3)\n",
            "memory usage: 1.8+ MB\n"
          ],
          "name": "stdout"
        }
      ]
    },
    {
      "cell_type": "code",
      "metadata": {
        "id": "kckuAoPBl5WG"
      },
      "source": [
        "Flight_Delays = flightsinfo_modified"
      ],
      "execution_count": null,
      "outputs": []
    },
    {
      "cell_type": "code",
      "metadata": {
        "id": "bXDWQ1V6mh7v"
      },
      "source": [
        "flightsinfo2 = flightsinfo1.drop(['CANCELLATION_REASON','AIR_SYSTEM_DELAY','SECURITY_DELAY','AIRLINE_DELAY',\n",
        "                    'LATE_AIRCRAFT_DELAY','WEATHER_DELAY'],axis = 1)"
      ],
      "execution_count": null,
      "outputs": []
    },
    {
      "cell_type": "code",
      "metadata": {
        "colab": {
          "base_uri": "https://localhost:8080/"
        },
        "id": "yaUEDwiqmqqy",
        "outputId": "e3c88138-b2dc-4988-dabd-11a778335464"
      },
      "source": [
        "flightsinfo2.isnull().sum()"
      ],
      "execution_count": null,
      "outputs": [
        {
          "output_type": "execute_result",
          "data": {
            "text/plain": [
              "YEAR                   0\n",
              "MONTH                  0\n",
              "DAY                    0\n",
              "DAY_OF_WEEK            0\n",
              "AIRLINE                0\n",
              "FLIGHT_NUMBER          0\n",
              "TAIL_NUMBER            0\n",
              "ORIGIN_AIRPORT         0\n",
              "DESTINATION_AIRPORT    0\n",
              "SCHEDULED_DEPARTURE    0\n",
              "DEPARTURE_TIME         0\n",
              "DEPARTURE_DELAY        0\n",
              "TAXI_OUT               0\n",
              "WHEELS_OFF             0\n",
              "SCHEDULED_TIME         0\n",
              "ELAPSED_TIME           0\n",
              "AIR_TIME               0\n",
              "DISTANCE               0\n",
              "WHEELS_ON              0\n",
              "TAXI_IN                0\n",
              "SCHEDULED_ARRIVAL      0\n",
              "ARRIVAL_TIME           0\n",
              "ARRIVAL_DELAY          0\n",
              "DIVERTED               0\n",
              "CANCELLED              0\n",
              "dtype: int64"
            ]
          },
          "metadata": {
            "tags": []
          },
          "execution_count": 23
        }
      ]
    },
    {
      "cell_type": "code",
      "metadata": {
        "colab": {
          "base_uri": "https://localhost:8080/"
        },
        "id": "Z8M0OEmImsIN",
        "outputId": "b4899143-3672-4fec-9f7a-6d0f0384d4a2"
      },
      "source": [
        "flightsinfo2.shape"
      ],
      "execution_count": null,
      "outputs": [
        {
          "output_type": "execute_result",
          "data": {
            "text/plain": [
              "(48753, 25)"
            ]
          },
          "metadata": {
            "tags": []
          },
          "execution_count": 24
        }
      ]
    },
    {
      "cell_type": "code",
      "metadata": {
        "colab": {
          "base_uri": "https://localhost:8080/"
        },
        "id": "7WtdE-NGmtvh",
        "outputId": "cacbeae4-5785-4456-b7cd-e1317d2e54f5"
      },
      "source": [
        "flightsinfo2.info()"
      ],
      "execution_count": null,
      "outputs": [
        {
          "output_type": "stream",
          "text": [
            "<class 'pandas.core.frame.DataFrame'>\n",
            "Int64Index: 48753 entries, 0 to 49999\n",
            "Data columns (total 25 columns):\n",
            " #   Column               Non-Null Count  Dtype  \n",
            "---  ------               --------------  -----  \n",
            " 0   YEAR                 48753 non-null  int64  \n",
            " 1   MONTH                48753 non-null  int64  \n",
            " 2   DAY                  48753 non-null  int64  \n",
            " 3   DAY_OF_WEEK          48753 non-null  int64  \n",
            " 4   AIRLINE              48753 non-null  object \n",
            " 5   FLIGHT_NUMBER        48753 non-null  int64  \n",
            " 6   TAIL_NUMBER          48753 non-null  object \n",
            " 7   ORIGIN_AIRPORT       48753 non-null  object \n",
            " 8   DESTINATION_AIRPORT  48753 non-null  object \n",
            " 9   SCHEDULED_DEPARTURE  48753 non-null  int64  \n",
            " 10  DEPARTURE_TIME       48753 non-null  float64\n",
            " 11  DEPARTURE_DELAY      48753 non-null  float64\n",
            " 12  TAXI_OUT             48753 non-null  float64\n",
            " 13  WHEELS_OFF           48753 non-null  float64\n",
            " 14  SCHEDULED_TIME       48753 non-null  int64  \n",
            " 15  ELAPSED_TIME         48753 non-null  float64\n",
            " 16  AIR_TIME             48753 non-null  float64\n",
            " 17  DISTANCE             48753 non-null  int64  \n",
            " 18  WHEELS_ON            48753 non-null  float64\n",
            " 19  TAXI_IN              48753 non-null  float64\n",
            " 20  SCHEDULED_ARRIVAL    48753 non-null  int64  \n",
            " 21  ARRIVAL_TIME         48753 non-null  float64\n",
            " 22  ARRIVAL_DELAY        48753 non-null  float64\n",
            " 23  DIVERTED             48753 non-null  int64  \n",
            " 24  CANCELLED            48753 non-null  int64  \n",
            "dtypes: float64(10), int64(11), object(4)\n",
            "memory usage: 9.7+ MB\n"
          ],
          "name": "stdout"
        }
      ]
    },
    {
      "cell_type": "code",
      "metadata": {
        "colab": {
          "base_uri": "https://localhost:8080/"
        },
        "id": "NEJ4xK0Omuxc",
        "outputId": "a7f0cef7-1146-4a9a-9693-9703dfc8cea3"
      },
      "source": [
        "flightsinfo2.DEPARTURE_TIME.dtype"
      ],
      "execution_count": null,
      "outputs": [
        {
          "output_type": "execute_result",
          "data": {
            "text/plain": [
              "dtype('float64')"
            ]
          },
          "metadata": {
            "tags": []
          },
          "execution_count": 26
        }
      ]
    },
    {
      "cell_type": "code",
      "metadata": {
        "colab": {
          "base_uri": "https://localhost:8080/"
        },
        "id": "WbBfalECmwlL",
        "outputId": "3b5dcccf-c6a2-45b8-a3f6-eae835914869"
      },
      "source": [
        "flightsinfo2.DEPARTURE_TIME"
      ],
      "execution_count": null,
      "outputs": [
        {
          "output_type": "execute_result",
          "data": {
            "text/plain": [
              "0        2354.0\n",
              "1           2.0\n",
              "2          18.0\n",
              "3          15.0\n",
              "4          24.0\n",
              "          ...  \n",
              "49995     910.0\n",
              "49996     915.0\n",
              "49997     952.0\n",
              "49998     922.0\n",
              "49999    1000.0\n",
              "Name: DEPARTURE_TIME, Length: 48753, dtype: float64"
            ]
          },
          "metadata": {
            "tags": []
          },
          "execution_count": 27
        }
      ]
    },
    {
      "cell_type": "markdown",
      "metadata": {
        "id": "pACMUJl6m1NQ"
      },
      "source": [
        "The times are not in the correct format so i will transform them into HH:MM format\n"
      ]
    },
    {
      "cell_type": "code",
      "metadata": {
        "id": "NbumLfA-myAd"
      },
      "source": [
        "def CreateTimeFormatted(hours):\n",
        "        if hours == 2400:\n",
        "            hours = 0\n",
        "        else:\n",
        "            hours = \"{0:04d}\".format(int(hours))\n",
        "            Hourmin = datetime.time(int(hours[0:2]), int(hours[2:4]))\n",
        "            return Hourmin"
      ],
      "execution_count": null,
      "outputs": []
    },
    {
      "cell_type": "code",
      "metadata": {
        "id": "_leijBdsm3s1"
      },
      "source": [
        "flightsinfo2['Actual_Departure'] =flightsinfo1['DEPARTURE_TIME'].apply(CreateTimeFormatted)\n",
        "flightsinfo2['Scheduled_Arrival'] =flightsinfo1['SCHEDULED_ARRIVAL'].apply(CreateTimeFormatted)\n",
        "flightsinfo2['Scheduled_Departure'] =flightsinfo1['SCHEDULED_DEPARTURE'].apply(CreateTimeFormatted)\n",
        "flightsinfo2['Actual_Arrival'] =flightsinfo2['ARRIVAL_TIME'].apply(CreateTimeFormatted)"
      ],
      "execution_count": null,
      "outputs": []
    },
    {
      "cell_type": "code",
      "metadata": {
        "colab": {
          "base_uri": "https://localhost:8080/"
        },
        "id": "tZy6G6-Gm-Kp",
        "outputId": "f9f5dd46-34eb-4a04-f7f5-888af5885123"
      },
      "source": [
        "flightsinfo2.columns"
      ],
      "execution_count": null,
      "outputs": [
        {
          "output_type": "execute_result",
          "data": {
            "text/plain": [
              "Index(['YEAR', 'MONTH', 'DAY', 'DAY_OF_WEEK', 'AIRLINE', 'FLIGHT_NUMBER',\n",
              "       'TAIL_NUMBER', 'ORIGIN_AIRPORT', 'DESTINATION_AIRPORT',\n",
              "       'SCHEDULED_DEPARTURE', 'DEPARTURE_TIME', 'DEPARTURE_DELAY', 'TAXI_OUT',\n",
              "       'WHEELS_OFF', 'SCHEDULED_TIME', 'ELAPSED_TIME', 'AIR_TIME', 'DISTANCE',\n",
              "       'WHEELS_ON', 'TAXI_IN', 'SCHEDULED_ARRIVAL', 'ARRIVAL_TIME',\n",
              "       'ARRIVAL_DELAY', 'DIVERTED', 'CANCELLED', 'Actual_Departure',\n",
              "       'Scheduled_Arrival', 'Scheduled_Departure', 'Actual_Arrival'],\n",
              "      dtype='object')"
            ]
          },
          "metadata": {
            "tags": []
          },
          "execution_count": 30
        }
      ]
    },
    {
      "cell_type": "code",
      "metadata": {
        "id": "Is-axERPnBDN"
      },
      "source": [
        "flightsinfo2 = flightsinfo2.merge(airlines, left_on='AIRLINE', right_on='IATA_CODE', how='inner')"
      ],
      "execution_count": null,
      "outputs": []
    },
    {
      "cell_type": "code",
      "metadata": {
        "colab": {
          "base_uri": "https://localhost:8080/"
        },
        "id": "GTryBnaZoZhB",
        "outputId": "4c7b2b57-a4ef-4bf8-da2f-94121d624f69"
      },
      "source": [
        "flightsinfo2.columns"
      ],
      "execution_count": null,
      "outputs": [
        {
          "output_type": "execute_result",
          "data": {
            "text/plain": [
              "Index(['YEAR', 'MONTH', 'DAY', 'DAY_OF_WEEK', 'AIRLINE_x', 'FLIGHT_NUMBER',\n",
              "       'TAIL_NUMBER', 'ORIGIN_AIRPORT', 'DESTINATION_AIRPORT',\n",
              "       'SCHEDULED_DEPARTURE', 'DEPARTURE_TIME', 'DEPARTURE_DELAY', 'TAXI_OUT',\n",
              "       'WHEELS_OFF', 'SCHEDULED_TIME', 'ELAPSED_TIME', 'AIR_TIME', 'DISTANCE',\n",
              "       'WHEELS_ON', 'TAXI_IN', 'SCHEDULED_ARRIVAL', 'ARRIVAL_TIME',\n",
              "       'ARRIVAL_DELAY', 'DIVERTED', 'CANCELLED', 'Actual_Departure',\n",
              "       'Scheduled_Arrival', 'Scheduled_Departure', 'Actual_Arrival',\n",
              "       'IATA_CODE', 'AIRLINE_y'],\n",
              "      dtype='object')"
            ]
          },
          "metadata": {
            "tags": []
          },
          "execution_count": 32
        }
      ]
    },
    {
      "cell_type": "code",
      "metadata": {
        "id": "tH2lcSaEnmC-"
      },
      "source": [
        "flightsinfo2 = flightsinfo2.drop(['AIRLINE_x','IATA_CODE'], axis=1)"
      ],
      "execution_count": null,
      "outputs": []
    },
    {
      "cell_type": "code",
      "metadata": {
        "id": "kt9tunsPoXWS"
      },
      "source": [
        "flightsinfo2 = flightsinfo2.rename(columns={\"AIRLINE_y\":\"AIRLINE\"})"
      ],
      "execution_count": null,
      "outputs": []
    },
    {
      "cell_type": "code",
      "metadata": {
        "colab": {
          "base_uri": "https://localhost:8080/"
        },
        "id": "0otc2oTTonnn",
        "outputId": "dd00cbfa-2d25-48f2-ee8b-e59d5a344087"
      },
      "source": [
        "flightsinfo2.columns"
      ],
      "execution_count": null,
      "outputs": [
        {
          "output_type": "execute_result",
          "data": {
            "text/plain": [
              "Index(['YEAR', 'MONTH', 'DAY', 'DAY_OF_WEEK', 'FLIGHT_NUMBER', 'TAIL_NUMBER',\n",
              "       'ORIGIN_AIRPORT', 'DESTINATION_AIRPORT', 'SCHEDULED_DEPARTURE',\n",
              "       'DEPARTURE_TIME', 'DEPARTURE_DELAY', 'TAXI_OUT', 'WHEELS_OFF',\n",
              "       'SCHEDULED_TIME', 'ELAPSED_TIME', 'AIR_TIME', 'DISTANCE', 'WHEELS_ON',\n",
              "       'TAXI_IN', 'SCHEDULED_ARRIVAL', 'ARRIVAL_TIME', 'ARRIVAL_DELAY',\n",
              "       'DIVERTED', 'CANCELLED', 'Actual_Departure', 'Scheduled_Arrival',\n",
              "       'Scheduled_Departure', 'Actual_Arrival', 'AIRLINE'],\n",
              "      dtype='object')"
            ]
          },
          "metadata": {
            "tags": []
          },
          "execution_count": 35
        }
      ]
    },
    {
      "cell_type": "code",
      "metadata": {
        "id": "ycX4GxwsooxC"
      },
      "source": [
        "flightsinfo2 = flightsinfo2.merge(airport, left_on='ORIGIN_AIRPORT', right_on='IATA_CODE', how='inner')\n",
        "flightsinfo2 = flightsinfo2.merge(airport, left_on='DESTINATION_AIRPORT', right_on='IATA_CODE', how='inner')"
      ],
      "execution_count": null,
      "outputs": []
    },
    {
      "cell_type": "code",
      "metadata": {
        "colab": {
          "base_uri": "https://localhost:8080/"
        },
        "id": "NP3Fpv36orVC",
        "outputId": "89207380-ea04-4e98-b0ca-cd6cf58d70c5"
      },
      "source": [
        "flightsinfo2.columns"
      ],
      "execution_count": null,
      "outputs": [
        {
          "output_type": "execute_result",
          "data": {
            "text/plain": [
              "Index(['YEAR', 'MONTH', 'DAY', 'DAY_OF_WEEK', 'FLIGHT_NUMBER', 'TAIL_NUMBER',\n",
              "       'ORIGIN_AIRPORT', 'DESTINATION_AIRPORT', 'SCHEDULED_DEPARTURE',\n",
              "       'DEPARTURE_TIME', 'DEPARTURE_DELAY', 'TAXI_OUT', 'WHEELS_OFF',\n",
              "       'SCHEDULED_TIME', 'ELAPSED_TIME', 'AIR_TIME', 'DISTANCE', 'WHEELS_ON',\n",
              "       'TAXI_IN', 'SCHEDULED_ARRIVAL', 'ARRIVAL_TIME', 'ARRIVAL_DELAY',\n",
              "       'DIVERTED', 'CANCELLED', 'Actual_Departure', 'Scheduled_Arrival',\n",
              "       'Scheduled_Departure', 'Actual_Arrival', 'AIRLINE', 'IATA_CODE_x',\n",
              "       'AIRPORT_x', 'CITY_x', 'STATE_x', 'COUNTRY_x', 'LATITUDE_x',\n",
              "       'LONGITUDE_x', 'IATA_CODE_y', 'AIRPORT_y', 'CITY_y', 'STATE_y',\n",
              "       'COUNTRY_y', 'LATITUDE_y', 'LONGITUDE_y'],\n",
              "      dtype='object')"
            ]
          },
          "metadata": {
            "tags": []
          },
          "execution_count": 37
        }
      ]
    },
    {
      "cell_type": "code",
      "metadata": {
        "id": "-BemOXhPosKK"
      },
      "source": [
        "flightsinfo2 = flightsinfo2.rename(columns={'IATA_CODE_x':'Org_Airport_Code','AIRPORT_x':'Org_Airport_Name','CITY_x':'Origin_city',\n",
        "                             'IATA_CODE_y':'Dest_Airport_Code','AIRPORT_y':'Dest_Airport_Name','CITY_y':'Destination_city'})"
      ],
      "execution_count": null,
      "outputs": []
    },
    {
      "cell_type": "code",
      "metadata": {
        "colab": {
          "base_uri": "https://localhost:8080/",
          "height": 758
        },
        "id": "X6SpzOO7owEO",
        "outputId": "6796b2c5-afb7-4c92-9e19-0791fcffbc92"
      },
      "source": [
        "flightsinfo2"
      ],
      "execution_count": null,
      "outputs": [
        {
          "output_type": "execute_result",
          "data": {
            "text/html": [
              "<div>\n",
              "<style scoped>\n",
              "    .dataframe tbody tr th:only-of-type {\n",
              "        vertical-align: middle;\n",
              "    }\n",
              "\n",
              "    .dataframe tbody tr th {\n",
              "        vertical-align: top;\n",
              "    }\n",
              "\n",
              "    .dataframe thead th {\n",
              "        text-align: right;\n",
              "    }\n",
              "</style>\n",
              "<table border=\"1\" class=\"dataframe\">\n",
              "  <thead>\n",
              "    <tr style=\"text-align: right;\">\n",
              "      <th></th>\n",
              "      <th>YEAR</th>\n",
              "      <th>MONTH</th>\n",
              "      <th>DAY</th>\n",
              "      <th>DAY_OF_WEEK</th>\n",
              "      <th>FLIGHT_NUMBER</th>\n",
              "      <th>TAIL_NUMBER</th>\n",
              "      <th>ORIGIN_AIRPORT</th>\n",
              "      <th>DESTINATION_AIRPORT</th>\n",
              "      <th>SCHEDULED_DEPARTURE</th>\n",
              "      <th>DEPARTURE_TIME</th>\n",
              "      <th>DEPARTURE_DELAY</th>\n",
              "      <th>TAXI_OUT</th>\n",
              "      <th>WHEELS_OFF</th>\n",
              "      <th>SCHEDULED_TIME</th>\n",
              "      <th>ELAPSED_TIME</th>\n",
              "      <th>AIR_TIME</th>\n",
              "      <th>DISTANCE</th>\n",
              "      <th>WHEELS_ON</th>\n",
              "      <th>TAXI_IN</th>\n",
              "      <th>SCHEDULED_ARRIVAL</th>\n",
              "      <th>ARRIVAL_TIME</th>\n",
              "      <th>ARRIVAL_DELAY</th>\n",
              "      <th>DIVERTED</th>\n",
              "      <th>CANCELLED</th>\n",
              "      <th>Actual_Departure</th>\n",
              "      <th>Scheduled_Arrival</th>\n",
              "      <th>Scheduled_Departure</th>\n",
              "      <th>Actual_Arrival</th>\n",
              "      <th>AIRLINE</th>\n",
              "      <th>Org_Airport_Code</th>\n",
              "      <th>Org_Airport_Name</th>\n",
              "      <th>Origin_city</th>\n",
              "      <th>STATE_x</th>\n",
              "      <th>COUNTRY_x</th>\n",
              "      <th>LATITUDE_x</th>\n",
              "      <th>LONGITUDE_x</th>\n",
              "      <th>Dest_Airport_Code</th>\n",
              "      <th>Dest_Airport_Name</th>\n",
              "      <th>Destination_city</th>\n",
              "      <th>STATE_y</th>\n",
              "      <th>COUNTRY_y</th>\n",
              "      <th>LATITUDE_y</th>\n",
              "      <th>LONGITUDE_y</th>\n",
              "    </tr>\n",
              "  </thead>\n",
              "  <tbody>\n",
              "    <tr>\n",
              "      <th>0</th>\n",
              "      <td>2015</td>\n",
              "      <td>1</td>\n",
              "      <td>1</td>\n",
              "      <td>4</td>\n",
              "      <td>98</td>\n",
              "      <td>N407AS</td>\n",
              "      <td>ANC</td>\n",
              "      <td>SEA</td>\n",
              "      <td>5</td>\n",
              "      <td>2354.0</td>\n",
              "      <td>-11.0</td>\n",
              "      <td>21.0</td>\n",
              "      <td>15.0</td>\n",
              "      <td>205</td>\n",
              "      <td>194.0</td>\n",
              "      <td>169.0</td>\n",
              "      <td>1448</td>\n",
              "      <td>404.0</td>\n",
              "      <td>4.0</td>\n",
              "      <td>430</td>\n",
              "      <td>408.0</td>\n",
              "      <td>-22.0</td>\n",
              "      <td>0</td>\n",
              "      <td>0</td>\n",
              "      <td>23:54:00</td>\n",
              "      <td>04:30:00</td>\n",
              "      <td>00:05:00</td>\n",
              "      <td>04:08:00</td>\n",
              "      <td>Alaska Airlines Inc.</td>\n",
              "      <td>ANC</td>\n",
              "      <td>Ted Stevens Anchorage International Airport</td>\n",
              "      <td>Anchorage</td>\n",
              "      <td>AK</td>\n",
              "      <td>USA</td>\n",
              "      <td>61.17432</td>\n",
              "      <td>-149.99619</td>\n",
              "      <td>SEA</td>\n",
              "      <td>Seattle-Tacoma International Airport</td>\n",
              "      <td>Seattle</td>\n",
              "      <td>WA</td>\n",
              "      <td>USA</td>\n",
              "      <td>47.44898</td>\n",
              "      <td>-122.30931</td>\n",
              "    </tr>\n",
              "    <tr>\n",
              "      <th>1</th>\n",
              "      <td>2015</td>\n",
              "      <td>1</td>\n",
              "      <td>1</td>\n",
              "      <td>4</td>\n",
              "      <td>108</td>\n",
              "      <td>N309AS</td>\n",
              "      <td>ANC</td>\n",
              "      <td>SEA</td>\n",
              "      <td>45</td>\n",
              "      <td>41.0</td>\n",
              "      <td>-4.0</td>\n",
              "      <td>17.0</td>\n",
              "      <td>58.0</td>\n",
              "      <td>204</td>\n",
              "      <td>194.0</td>\n",
              "      <td>173.0</td>\n",
              "      <td>1448</td>\n",
              "      <td>451.0</td>\n",
              "      <td>4.0</td>\n",
              "      <td>509</td>\n",
              "      <td>455.0</td>\n",
              "      <td>-14.0</td>\n",
              "      <td>0</td>\n",
              "      <td>0</td>\n",
              "      <td>00:41:00</td>\n",
              "      <td>05:09:00</td>\n",
              "      <td>00:45:00</td>\n",
              "      <td>04:55:00</td>\n",
              "      <td>Alaska Airlines Inc.</td>\n",
              "      <td>ANC</td>\n",
              "      <td>Ted Stevens Anchorage International Airport</td>\n",
              "      <td>Anchorage</td>\n",
              "      <td>AK</td>\n",
              "      <td>USA</td>\n",
              "      <td>61.17432</td>\n",
              "      <td>-149.99619</td>\n",
              "      <td>SEA</td>\n",
              "      <td>Seattle-Tacoma International Airport</td>\n",
              "      <td>Seattle</td>\n",
              "      <td>WA</td>\n",
              "      <td>USA</td>\n",
              "      <td>47.44898</td>\n",
              "      <td>-122.30931</td>\n",
              "    </tr>\n",
              "    <tr>\n",
              "      <th>2</th>\n",
              "      <td>2015</td>\n",
              "      <td>1</td>\n",
              "      <td>1</td>\n",
              "      <td>4</td>\n",
              "      <td>134</td>\n",
              "      <td>N464AS</td>\n",
              "      <td>ANC</td>\n",
              "      <td>SEA</td>\n",
              "      <td>155</td>\n",
              "      <td>140.0</td>\n",
              "      <td>-15.0</td>\n",
              "      <td>17.0</td>\n",
              "      <td>157.0</td>\n",
              "      <td>218</td>\n",
              "      <td>198.0</td>\n",
              "      <td>170.0</td>\n",
              "      <td>1448</td>\n",
              "      <td>547.0</td>\n",
              "      <td>11.0</td>\n",
              "      <td>633</td>\n",
              "      <td>558.0</td>\n",
              "      <td>-35.0</td>\n",
              "      <td>0</td>\n",
              "      <td>0</td>\n",
              "      <td>01:40:00</td>\n",
              "      <td>06:33:00</td>\n",
              "      <td>01:55:00</td>\n",
              "      <td>05:58:00</td>\n",
              "      <td>Alaska Airlines Inc.</td>\n",
              "      <td>ANC</td>\n",
              "      <td>Ted Stevens Anchorage International Airport</td>\n",
              "      <td>Anchorage</td>\n",
              "      <td>AK</td>\n",
              "      <td>USA</td>\n",
              "      <td>61.17432</td>\n",
              "      <td>-149.99619</td>\n",
              "      <td>SEA</td>\n",
              "      <td>Seattle-Tacoma International Airport</td>\n",
              "      <td>Seattle</td>\n",
              "      <td>WA</td>\n",
              "      <td>USA</td>\n",
              "      <td>47.44898</td>\n",
              "      <td>-122.30931</td>\n",
              "    </tr>\n",
              "    <tr>\n",
              "      <th>3</th>\n",
              "      <td>2015</td>\n",
              "      <td>1</td>\n",
              "      <td>1</td>\n",
              "      <td>4</td>\n",
              "      <td>114</td>\n",
              "      <td>N303AS</td>\n",
              "      <td>ANC</td>\n",
              "      <td>SEA</td>\n",
              "      <td>220</td>\n",
              "      <td>209.0</td>\n",
              "      <td>-11.0</td>\n",
              "      <td>15.0</td>\n",
              "      <td>224.0</td>\n",
              "      <td>200</td>\n",
              "      <td>199.0</td>\n",
              "      <td>176.0</td>\n",
              "      <td>1448</td>\n",
              "      <td>620.0</td>\n",
              "      <td>8.0</td>\n",
              "      <td>640</td>\n",
              "      <td>628.0</td>\n",
              "      <td>-12.0</td>\n",
              "      <td>0</td>\n",
              "      <td>0</td>\n",
              "      <td>02:09:00</td>\n",
              "      <td>06:40:00</td>\n",
              "      <td>02:20:00</td>\n",
              "      <td>06:28:00</td>\n",
              "      <td>Alaska Airlines Inc.</td>\n",
              "      <td>ANC</td>\n",
              "      <td>Ted Stevens Anchorage International Airport</td>\n",
              "      <td>Anchorage</td>\n",
              "      <td>AK</td>\n",
              "      <td>USA</td>\n",
              "      <td>61.17432</td>\n",
              "      <td>-149.99619</td>\n",
              "      <td>SEA</td>\n",
              "      <td>Seattle-Tacoma International Airport</td>\n",
              "      <td>Seattle</td>\n",
              "      <td>WA</td>\n",
              "      <td>USA</td>\n",
              "      <td>47.44898</td>\n",
              "      <td>-122.30931</td>\n",
              "    </tr>\n",
              "    <tr>\n",
              "      <th>4</th>\n",
              "      <td>2015</td>\n",
              "      <td>1</td>\n",
              "      <td>1</td>\n",
              "      <td>4</td>\n",
              "      <td>730</td>\n",
              "      <td>N423AS</td>\n",
              "      <td>ANC</td>\n",
              "      <td>SEA</td>\n",
              "      <td>505</td>\n",
              "      <td>457.0</td>\n",
              "      <td>-8.0</td>\n",
              "      <td>16.0</td>\n",
              "      <td>513.0</td>\n",
              "      <td>205</td>\n",
              "      <td>199.0</td>\n",
              "      <td>179.0</td>\n",
              "      <td>1448</td>\n",
              "      <td>912.0</td>\n",
              "      <td>4.0</td>\n",
              "      <td>930</td>\n",
              "      <td>916.0</td>\n",
              "      <td>-14.0</td>\n",
              "      <td>0</td>\n",
              "      <td>0</td>\n",
              "      <td>04:57:00</td>\n",
              "      <td>09:30:00</td>\n",
              "      <td>05:05:00</td>\n",
              "      <td>09:16:00</td>\n",
              "      <td>Alaska Airlines Inc.</td>\n",
              "      <td>ANC</td>\n",
              "      <td>Ted Stevens Anchorage International Airport</td>\n",
              "      <td>Anchorage</td>\n",
              "      <td>AK</td>\n",
              "      <td>USA</td>\n",
              "      <td>61.17432</td>\n",
              "      <td>-149.99619</td>\n",
              "      <td>SEA</td>\n",
              "      <td>Seattle-Tacoma International Airport</td>\n",
              "      <td>Seattle</td>\n",
              "      <td>WA</td>\n",
              "      <td>USA</td>\n",
              "      <td>47.44898</td>\n",
              "      <td>-122.30931</td>\n",
              "    </tr>\n",
              "    <tr>\n",
              "      <th>...</th>\n",
              "      <td>...</td>\n",
              "      <td>...</td>\n",
              "      <td>...</td>\n",
              "      <td>...</td>\n",
              "      <td>...</td>\n",
              "      <td>...</td>\n",
              "      <td>...</td>\n",
              "      <td>...</td>\n",
              "      <td>...</td>\n",
              "      <td>...</td>\n",
              "      <td>...</td>\n",
              "      <td>...</td>\n",
              "      <td>...</td>\n",
              "      <td>...</td>\n",
              "      <td>...</td>\n",
              "      <td>...</td>\n",
              "      <td>...</td>\n",
              "      <td>...</td>\n",
              "      <td>...</td>\n",
              "      <td>...</td>\n",
              "      <td>...</td>\n",
              "      <td>...</td>\n",
              "      <td>...</td>\n",
              "      <td>...</td>\n",
              "      <td>...</td>\n",
              "      <td>...</td>\n",
              "      <td>...</td>\n",
              "      <td>...</td>\n",
              "      <td>...</td>\n",
              "      <td>...</td>\n",
              "      <td>...</td>\n",
              "      <td>...</td>\n",
              "      <td>...</td>\n",
              "      <td>...</td>\n",
              "      <td>...</td>\n",
              "      <td>...</td>\n",
              "      <td>...</td>\n",
              "      <td>...</td>\n",
              "      <td>...</td>\n",
              "      <td>...</td>\n",
              "      <td>...</td>\n",
              "      <td>...</td>\n",
              "      <td>...</td>\n",
              "    </tr>\n",
              "    <tr>\n",
              "      <th>48688</th>\n",
              "      <td>2015</td>\n",
              "      <td>1</td>\n",
              "      <td>1</td>\n",
              "      <td>4</td>\n",
              "      <td>2570</td>\n",
              "      <td>N876AS</td>\n",
              "      <td>MEI</td>\n",
              "      <td>PIB</td>\n",
              "      <td>1440</td>\n",
              "      <td>1447.0</td>\n",
              "      <td>7.0</td>\n",
              "      <td>11.0</td>\n",
              "      <td>1458.0</td>\n",
              "      <td>35</td>\n",
              "      <td>38.0</td>\n",
              "      <td>24.0</td>\n",
              "      <td>69</td>\n",
              "      <td>1522.0</td>\n",
              "      <td>3.0</td>\n",
              "      <td>1515</td>\n",
              "      <td>1525.0</td>\n",
              "      <td>10.0</td>\n",
              "      <td>0</td>\n",
              "      <td>0</td>\n",
              "      <td>14:47:00</td>\n",
              "      <td>15:15:00</td>\n",
              "      <td>14:40:00</td>\n",
              "      <td>15:25:00</td>\n",
              "      <td>Atlantic Southeast Airlines</td>\n",
              "      <td>MEI</td>\n",
              "      <td>Meridian Regional Airport</td>\n",
              "      <td>Meridian</td>\n",
              "      <td>MS</td>\n",
              "      <td>USA</td>\n",
              "      <td>32.33313</td>\n",
              "      <td>-88.75121</td>\n",
              "      <td>PIB</td>\n",
              "      <td>Hattiesburg-Laurel Regional Airport</td>\n",
              "      <td>Hattiesburg-Laurel</td>\n",
              "      <td>MS</td>\n",
              "      <td>USA</td>\n",
              "      <td>31.46715</td>\n",
              "      <td>-89.33706</td>\n",
              "    </tr>\n",
              "    <tr>\n",
              "      <th>48689</th>\n",
              "      <td>2015</td>\n",
              "      <td>1</td>\n",
              "      <td>1</td>\n",
              "      <td>4</td>\n",
              "      <td>2571</td>\n",
              "      <td>N879AS</td>\n",
              "      <td>MEI</td>\n",
              "      <td>PIB</td>\n",
              "      <td>2055</td>\n",
              "      <td>2051.0</td>\n",
              "      <td>-4.0</td>\n",
              "      <td>5.0</td>\n",
              "      <td>2056.0</td>\n",
              "      <td>35</td>\n",
              "      <td>29.0</td>\n",
              "      <td>21.0</td>\n",
              "      <td>69</td>\n",
              "      <td>2117.0</td>\n",
              "      <td>3.0</td>\n",
              "      <td>2130</td>\n",
              "      <td>2120.0</td>\n",
              "      <td>-10.0</td>\n",
              "      <td>0</td>\n",
              "      <td>0</td>\n",
              "      <td>20:51:00</td>\n",
              "      <td>21:30:00</td>\n",
              "      <td>20:55:00</td>\n",
              "      <td>21:20:00</td>\n",
              "      <td>Atlantic Southeast Airlines</td>\n",
              "      <td>MEI</td>\n",
              "      <td>Meridian Regional Airport</td>\n",
              "      <td>Meridian</td>\n",
              "      <td>MS</td>\n",
              "      <td>USA</td>\n",
              "      <td>32.33313</td>\n",
              "      <td>-88.75121</td>\n",
              "      <td>PIB</td>\n",
              "      <td>Hattiesburg-Laurel Regional Airport</td>\n",
              "      <td>Hattiesburg-Laurel</td>\n",
              "      <td>MS</td>\n",
              "      <td>USA</td>\n",
              "      <td>31.46715</td>\n",
              "      <td>-89.33706</td>\n",
              "    </tr>\n",
              "    <tr>\n",
              "      <th>48690</th>\n",
              "      <td>2015</td>\n",
              "      <td>1</td>\n",
              "      <td>2</td>\n",
              "      <td>5</td>\n",
              "      <td>2570</td>\n",
              "      <td>N830AS</td>\n",
              "      <td>MEI</td>\n",
              "      <td>PIB</td>\n",
              "      <td>1440</td>\n",
              "      <td>1537.0</td>\n",
              "      <td>57.0</td>\n",
              "      <td>8.0</td>\n",
              "      <td>1545.0</td>\n",
              "      <td>35</td>\n",
              "      <td>29.0</td>\n",
              "      <td>17.0</td>\n",
              "      <td>69</td>\n",
              "      <td>1602.0</td>\n",
              "      <td>4.0</td>\n",
              "      <td>1515</td>\n",
              "      <td>1606.0</td>\n",
              "      <td>51.0</td>\n",
              "      <td>0</td>\n",
              "      <td>0</td>\n",
              "      <td>15:37:00</td>\n",
              "      <td>15:15:00</td>\n",
              "      <td>14:40:00</td>\n",
              "      <td>16:06:00</td>\n",
              "      <td>Atlantic Southeast Airlines</td>\n",
              "      <td>MEI</td>\n",
              "      <td>Meridian Regional Airport</td>\n",
              "      <td>Meridian</td>\n",
              "      <td>MS</td>\n",
              "      <td>USA</td>\n",
              "      <td>32.33313</td>\n",
              "      <td>-88.75121</td>\n",
              "      <td>PIB</td>\n",
              "      <td>Hattiesburg-Laurel Regional Airport</td>\n",
              "      <td>Hattiesburg-Laurel</td>\n",
              "      <td>MS</td>\n",
              "      <td>USA</td>\n",
              "      <td>31.46715</td>\n",
              "      <td>-89.33706</td>\n",
              "    </tr>\n",
              "    <tr>\n",
              "      <th>48691</th>\n",
              "      <td>2015</td>\n",
              "      <td>1</td>\n",
              "      <td>2</td>\n",
              "      <td>5</td>\n",
              "      <td>2571</td>\n",
              "      <td>N877AS</td>\n",
              "      <td>MEI</td>\n",
              "      <td>PIB</td>\n",
              "      <td>2055</td>\n",
              "      <td>2351.0</td>\n",
              "      <td>176.0</td>\n",
              "      <td>9.0</td>\n",
              "      <td>2400.0</td>\n",
              "      <td>35</td>\n",
              "      <td>34.0</td>\n",
              "      <td>21.0</td>\n",
              "      <td>69</td>\n",
              "      <td>21.0</td>\n",
              "      <td>4.0</td>\n",
              "      <td>2130</td>\n",
              "      <td>25.0</td>\n",
              "      <td>175.0</td>\n",
              "      <td>0</td>\n",
              "      <td>0</td>\n",
              "      <td>23:51:00</td>\n",
              "      <td>21:30:00</td>\n",
              "      <td>20:55:00</td>\n",
              "      <td>00:25:00</td>\n",
              "      <td>Atlantic Southeast Airlines</td>\n",
              "      <td>MEI</td>\n",
              "      <td>Meridian Regional Airport</td>\n",
              "      <td>Meridian</td>\n",
              "      <td>MS</td>\n",
              "      <td>USA</td>\n",
              "      <td>32.33313</td>\n",
              "      <td>-88.75121</td>\n",
              "      <td>PIB</td>\n",
              "      <td>Hattiesburg-Laurel Regional Airport</td>\n",
              "      <td>Hattiesburg-Laurel</td>\n",
              "      <td>MS</td>\n",
              "      <td>USA</td>\n",
              "      <td>31.46715</td>\n",
              "      <td>-89.33706</td>\n",
              "    </tr>\n",
              "    <tr>\n",
              "      <th>48692</th>\n",
              "      <td>2015</td>\n",
              "      <td>1</td>\n",
              "      <td>3</td>\n",
              "      <td>6</td>\n",
              "      <td>2571</td>\n",
              "      <td>N902EV</td>\n",
              "      <td>MEI</td>\n",
              "      <td>PIB</td>\n",
              "      <td>2055</td>\n",
              "      <td>2125.0</td>\n",
              "      <td>30.0</td>\n",
              "      <td>8.0</td>\n",
              "      <td>2133.0</td>\n",
              "      <td>35</td>\n",
              "      <td>32.0</td>\n",
              "      <td>15.0</td>\n",
              "      <td>69</td>\n",
              "      <td>2148.0</td>\n",
              "      <td>9.0</td>\n",
              "      <td>2130</td>\n",
              "      <td>2157.0</td>\n",
              "      <td>27.0</td>\n",
              "      <td>0</td>\n",
              "      <td>0</td>\n",
              "      <td>21:25:00</td>\n",
              "      <td>21:30:00</td>\n",
              "      <td>20:55:00</td>\n",
              "      <td>21:57:00</td>\n",
              "      <td>Atlantic Southeast Airlines</td>\n",
              "      <td>MEI</td>\n",
              "      <td>Meridian Regional Airport</td>\n",
              "      <td>Meridian</td>\n",
              "      <td>MS</td>\n",
              "      <td>USA</td>\n",
              "      <td>32.33313</td>\n",
              "      <td>-88.75121</td>\n",
              "      <td>PIB</td>\n",
              "      <td>Hattiesburg-Laurel Regional Airport</td>\n",
              "      <td>Hattiesburg-Laurel</td>\n",
              "      <td>MS</td>\n",
              "      <td>USA</td>\n",
              "      <td>31.46715</td>\n",
              "      <td>-89.33706</td>\n",
              "    </tr>\n",
              "  </tbody>\n",
              "</table>\n",
              "<p>48693 rows × 43 columns</p>\n",
              "</div>"
            ],
            "text/plain": [
              "       YEAR  MONTH  DAY  DAY_OF_WEEK  ...  STATE_y COUNTRY_y LATITUDE_y LONGITUDE_y\n",
              "0      2015      1    1            4  ...       WA       USA   47.44898  -122.30931\n",
              "1      2015      1    1            4  ...       WA       USA   47.44898  -122.30931\n",
              "2      2015      1    1            4  ...       WA       USA   47.44898  -122.30931\n",
              "3      2015      1    1            4  ...       WA       USA   47.44898  -122.30931\n",
              "4      2015      1    1            4  ...       WA       USA   47.44898  -122.30931\n",
              "...     ...    ...  ...          ...  ...      ...       ...        ...         ...\n",
              "48688  2015      1    1            4  ...       MS       USA   31.46715   -89.33706\n",
              "48689  2015      1    1            4  ...       MS       USA   31.46715   -89.33706\n",
              "48690  2015      1    2            5  ...       MS       USA   31.46715   -89.33706\n",
              "48691  2015      1    2            5  ...       MS       USA   31.46715   -89.33706\n",
              "48692  2015      1    3            6  ...       MS       USA   31.46715   -89.33706\n",
              "\n",
              "[48693 rows x 43 columns]"
            ]
          },
          "metadata": {
            "tags": []
          },
          "execution_count": 39
        }
      ]
    },
    {
      "cell_type": "code",
      "metadata": {
        "id": "qNIF5-EOow1G"
      },
      "source": [
        "data_vizual = pd.DataFrame(flightsinfo2[['AIRLINE','Org_Airport_Name','Origin_city',\n",
        "                               'Dest_Airport_Name','Destination_city','ORIGIN_AIRPORT',\n",
        "                               'DESTINATION_AIRPORT','DISTANCE','Actual_Departure',\n",
        "                               'Scheduled_Departure','DEPARTURE_DELAY','Actual_Arrival','Scheduled_Arrival','ARRIVAL_DELAY',\n",
        "                              'SCHEDULED_TIME','ELAPSED_TIME','AIR_TIME','TAXI_IN','TAXI_OUT','DIVERTED',]])"
      ],
      "execution_count": null,
      "outputs": []
    },
    {
      "cell_type": "code",
      "metadata": {
        "colab": {
          "base_uri": "https://localhost:8080/"
        },
        "id": "-yAOiLsrpJOL",
        "outputId": "45ce7b0b-7978-4097-c66a-d1d2560a0187"
      },
      "source": [
        "flightsinfo2.DEPARTURE_TIME.dtype"
      ],
      "execution_count": null,
      "outputs": [
        {
          "output_type": "execute_result",
          "data": {
            "text/plain": [
              "dtype('float64')"
            ]
          },
          "metadata": {
            "tags": []
          },
          "execution_count": 41
        }
      ]
    },
    {
      "cell_type": "code",
      "metadata": {
        "id": "AE1tCa28pN0O"
      },
      "source": [
        "data_vizual = data_vizual.dropna(subset = ['Actual_Departure','Actual_Arrival'])"
      ],
      "execution_count": null,
      "outputs": []
    },
    {
      "cell_type": "code",
      "metadata": {
        "colab": {
          "base_uri": "https://localhost:8080/"
        },
        "id": "Dse2NSECpPeF",
        "outputId": "f355b7a7-d638-40eb-8a29-69c8978a892c"
      },
      "source": [
        "data_vizual.info()"
      ],
      "execution_count": null,
      "outputs": [
        {
          "output_type": "stream",
          "text": [
            "<class 'pandas.core.frame.DataFrame'>\n",
            "Int64Index: 48672 entries, 0 to 48692\n",
            "Data columns (total 20 columns):\n",
            " #   Column               Non-Null Count  Dtype  \n",
            "---  ------               --------------  -----  \n",
            " 0   AIRLINE              48672 non-null  object \n",
            " 1   Org_Airport_Name     48672 non-null  object \n",
            " 2   Origin_city          48672 non-null  object \n",
            " 3   Dest_Airport_Name    48672 non-null  object \n",
            " 4   Destination_city     48672 non-null  object \n",
            " 5   ORIGIN_AIRPORT       48672 non-null  object \n",
            " 6   DESTINATION_AIRPORT  48672 non-null  object \n",
            " 7   DISTANCE             48672 non-null  int64  \n",
            " 8   Actual_Departure     48672 non-null  object \n",
            " 9   Scheduled_Departure  48672 non-null  object \n",
            " 10  DEPARTURE_DELAY      48672 non-null  float64\n",
            " 11  Actual_Arrival       48672 non-null  object \n",
            " 12  Scheduled_Arrival    48672 non-null  object \n",
            " 13  ARRIVAL_DELAY        48672 non-null  float64\n",
            " 14  SCHEDULED_TIME       48672 non-null  int64  \n",
            " 15  ELAPSED_TIME         48672 non-null  float64\n",
            " 16  AIR_TIME             48672 non-null  float64\n",
            " 17  TAXI_IN              48672 non-null  float64\n",
            " 18  TAXI_OUT             48672 non-null  float64\n",
            " 19  DIVERTED             48672 non-null  int64  \n",
            "dtypes: float64(6), int64(3), object(11)\n",
            "memory usage: 7.8+ MB\n"
          ],
          "name": "stdout"
        }
      ]
    },
    {
      "cell_type": "code",
      "metadata": {
        "colab": {
          "base_uri": "https://localhost:8080/",
          "height": 758
        },
        "id": "p1PBpY2apRIr",
        "outputId": "125821ec-ed2f-4188-f434-b7d65644957f"
      },
      "source": [
        "Flights = data_vizual\n",
        "Flights"
      ],
      "execution_count": null,
      "outputs": [
        {
          "output_type": "execute_result",
          "data": {
            "text/html": [
              "<div>\n",
              "<style scoped>\n",
              "    .dataframe tbody tr th:only-of-type {\n",
              "        vertical-align: middle;\n",
              "    }\n",
              "\n",
              "    .dataframe tbody tr th {\n",
              "        vertical-align: top;\n",
              "    }\n",
              "\n",
              "    .dataframe thead th {\n",
              "        text-align: right;\n",
              "    }\n",
              "</style>\n",
              "<table border=\"1\" class=\"dataframe\">\n",
              "  <thead>\n",
              "    <tr style=\"text-align: right;\">\n",
              "      <th></th>\n",
              "      <th>AIRLINE</th>\n",
              "      <th>Org_Airport_Name</th>\n",
              "      <th>Origin_city</th>\n",
              "      <th>Dest_Airport_Name</th>\n",
              "      <th>Destination_city</th>\n",
              "      <th>ORIGIN_AIRPORT</th>\n",
              "      <th>DESTINATION_AIRPORT</th>\n",
              "      <th>DISTANCE</th>\n",
              "      <th>Actual_Departure</th>\n",
              "      <th>Scheduled_Departure</th>\n",
              "      <th>DEPARTURE_DELAY</th>\n",
              "      <th>Actual_Arrival</th>\n",
              "      <th>Scheduled_Arrival</th>\n",
              "      <th>ARRIVAL_DELAY</th>\n",
              "      <th>SCHEDULED_TIME</th>\n",
              "      <th>ELAPSED_TIME</th>\n",
              "      <th>AIR_TIME</th>\n",
              "      <th>TAXI_IN</th>\n",
              "      <th>TAXI_OUT</th>\n",
              "      <th>DIVERTED</th>\n",
              "    </tr>\n",
              "  </thead>\n",
              "  <tbody>\n",
              "    <tr>\n",
              "      <th>0</th>\n",
              "      <td>Alaska Airlines Inc.</td>\n",
              "      <td>Ted Stevens Anchorage International Airport</td>\n",
              "      <td>Anchorage</td>\n",
              "      <td>Seattle-Tacoma International Airport</td>\n",
              "      <td>Seattle</td>\n",
              "      <td>ANC</td>\n",
              "      <td>SEA</td>\n",
              "      <td>1448</td>\n",
              "      <td>23:54:00</td>\n",
              "      <td>00:05:00</td>\n",
              "      <td>-11.0</td>\n",
              "      <td>04:08:00</td>\n",
              "      <td>04:30:00</td>\n",
              "      <td>-22.0</td>\n",
              "      <td>205</td>\n",
              "      <td>194.0</td>\n",
              "      <td>169.0</td>\n",
              "      <td>4.0</td>\n",
              "      <td>21.0</td>\n",
              "      <td>0</td>\n",
              "    </tr>\n",
              "    <tr>\n",
              "      <th>1</th>\n",
              "      <td>Alaska Airlines Inc.</td>\n",
              "      <td>Ted Stevens Anchorage International Airport</td>\n",
              "      <td>Anchorage</td>\n",
              "      <td>Seattle-Tacoma International Airport</td>\n",
              "      <td>Seattle</td>\n",
              "      <td>ANC</td>\n",
              "      <td>SEA</td>\n",
              "      <td>1448</td>\n",
              "      <td>00:41:00</td>\n",
              "      <td>00:45:00</td>\n",
              "      <td>-4.0</td>\n",
              "      <td>04:55:00</td>\n",
              "      <td>05:09:00</td>\n",
              "      <td>-14.0</td>\n",
              "      <td>204</td>\n",
              "      <td>194.0</td>\n",
              "      <td>173.0</td>\n",
              "      <td>4.0</td>\n",
              "      <td>17.0</td>\n",
              "      <td>0</td>\n",
              "    </tr>\n",
              "    <tr>\n",
              "      <th>2</th>\n",
              "      <td>Alaska Airlines Inc.</td>\n",
              "      <td>Ted Stevens Anchorage International Airport</td>\n",
              "      <td>Anchorage</td>\n",
              "      <td>Seattle-Tacoma International Airport</td>\n",
              "      <td>Seattle</td>\n",
              "      <td>ANC</td>\n",
              "      <td>SEA</td>\n",
              "      <td>1448</td>\n",
              "      <td>01:40:00</td>\n",
              "      <td>01:55:00</td>\n",
              "      <td>-15.0</td>\n",
              "      <td>05:58:00</td>\n",
              "      <td>06:33:00</td>\n",
              "      <td>-35.0</td>\n",
              "      <td>218</td>\n",
              "      <td>198.0</td>\n",
              "      <td>170.0</td>\n",
              "      <td>11.0</td>\n",
              "      <td>17.0</td>\n",
              "      <td>0</td>\n",
              "    </tr>\n",
              "    <tr>\n",
              "      <th>3</th>\n",
              "      <td>Alaska Airlines Inc.</td>\n",
              "      <td>Ted Stevens Anchorage International Airport</td>\n",
              "      <td>Anchorage</td>\n",
              "      <td>Seattle-Tacoma International Airport</td>\n",
              "      <td>Seattle</td>\n",
              "      <td>ANC</td>\n",
              "      <td>SEA</td>\n",
              "      <td>1448</td>\n",
              "      <td>02:09:00</td>\n",
              "      <td>02:20:00</td>\n",
              "      <td>-11.0</td>\n",
              "      <td>06:28:00</td>\n",
              "      <td>06:40:00</td>\n",
              "      <td>-12.0</td>\n",
              "      <td>200</td>\n",
              "      <td>199.0</td>\n",
              "      <td>176.0</td>\n",
              "      <td>8.0</td>\n",
              "      <td>15.0</td>\n",
              "      <td>0</td>\n",
              "    </tr>\n",
              "    <tr>\n",
              "      <th>4</th>\n",
              "      <td>Alaska Airlines Inc.</td>\n",
              "      <td>Ted Stevens Anchorage International Airport</td>\n",
              "      <td>Anchorage</td>\n",
              "      <td>Seattle-Tacoma International Airport</td>\n",
              "      <td>Seattle</td>\n",
              "      <td>ANC</td>\n",
              "      <td>SEA</td>\n",
              "      <td>1448</td>\n",
              "      <td>04:57:00</td>\n",
              "      <td>05:05:00</td>\n",
              "      <td>-8.0</td>\n",
              "      <td>09:16:00</td>\n",
              "      <td>09:30:00</td>\n",
              "      <td>-14.0</td>\n",
              "      <td>205</td>\n",
              "      <td>199.0</td>\n",
              "      <td>179.0</td>\n",
              "      <td>4.0</td>\n",
              "      <td>16.0</td>\n",
              "      <td>0</td>\n",
              "    </tr>\n",
              "    <tr>\n",
              "      <th>...</th>\n",
              "      <td>...</td>\n",
              "      <td>...</td>\n",
              "      <td>...</td>\n",
              "      <td>...</td>\n",
              "      <td>...</td>\n",
              "      <td>...</td>\n",
              "      <td>...</td>\n",
              "      <td>...</td>\n",
              "      <td>...</td>\n",
              "      <td>...</td>\n",
              "      <td>...</td>\n",
              "      <td>...</td>\n",
              "      <td>...</td>\n",
              "      <td>...</td>\n",
              "      <td>...</td>\n",
              "      <td>...</td>\n",
              "      <td>...</td>\n",
              "      <td>...</td>\n",
              "      <td>...</td>\n",
              "      <td>...</td>\n",
              "    </tr>\n",
              "    <tr>\n",
              "      <th>48688</th>\n",
              "      <td>Atlantic Southeast Airlines</td>\n",
              "      <td>Meridian Regional Airport</td>\n",
              "      <td>Meridian</td>\n",
              "      <td>Hattiesburg-Laurel Regional Airport</td>\n",
              "      <td>Hattiesburg-Laurel</td>\n",
              "      <td>MEI</td>\n",
              "      <td>PIB</td>\n",
              "      <td>69</td>\n",
              "      <td>14:47:00</td>\n",
              "      <td>14:40:00</td>\n",
              "      <td>7.0</td>\n",
              "      <td>15:25:00</td>\n",
              "      <td>15:15:00</td>\n",
              "      <td>10.0</td>\n",
              "      <td>35</td>\n",
              "      <td>38.0</td>\n",
              "      <td>24.0</td>\n",
              "      <td>3.0</td>\n",
              "      <td>11.0</td>\n",
              "      <td>0</td>\n",
              "    </tr>\n",
              "    <tr>\n",
              "      <th>48689</th>\n",
              "      <td>Atlantic Southeast Airlines</td>\n",
              "      <td>Meridian Regional Airport</td>\n",
              "      <td>Meridian</td>\n",
              "      <td>Hattiesburg-Laurel Regional Airport</td>\n",
              "      <td>Hattiesburg-Laurel</td>\n",
              "      <td>MEI</td>\n",
              "      <td>PIB</td>\n",
              "      <td>69</td>\n",
              "      <td>20:51:00</td>\n",
              "      <td>20:55:00</td>\n",
              "      <td>-4.0</td>\n",
              "      <td>21:20:00</td>\n",
              "      <td>21:30:00</td>\n",
              "      <td>-10.0</td>\n",
              "      <td>35</td>\n",
              "      <td>29.0</td>\n",
              "      <td>21.0</td>\n",
              "      <td>3.0</td>\n",
              "      <td>5.0</td>\n",
              "      <td>0</td>\n",
              "    </tr>\n",
              "    <tr>\n",
              "      <th>48690</th>\n",
              "      <td>Atlantic Southeast Airlines</td>\n",
              "      <td>Meridian Regional Airport</td>\n",
              "      <td>Meridian</td>\n",
              "      <td>Hattiesburg-Laurel Regional Airport</td>\n",
              "      <td>Hattiesburg-Laurel</td>\n",
              "      <td>MEI</td>\n",
              "      <td>PIB</td>\n",
              "      <td>69</td>\n",
              "      <td>15:37:00</td>\n",
              "      <td>14:40:00</td>\n",
              "      <td>57.0</td>\n",
              "      <td>16:06:00</td>\n",
              "      <td>15:15:00</td>\n",
              "      <td>51.0</td>\n",
              "      <td>35</td>\n",
              "      <td>29.0</td>\n",
              "      <td>17.0</td>\n",
              "      <td>4.0</td>\n",
              "      <td>8.0</td>\n",
              "      <td>0</td>\n",
              "    </tr>\n",
              "    <tr>\n",
              "      <th>48691</th>\n",
              "      <td>Atlantic Southeast Airlines</td>\n",
              "      <td>Meridian Regional Airport</td>\n",
              "      <td>Meridian</td>\n",
              "      <td>Hattiesburg-Laurel Regional Airport</td>\n",
              "      <td>Hattiesburg-Laurel</td>\n",
              "      <td>MEI</td>\n",
              "      <td>PIB</td>\n",
              "      <td>69</td>\n",
              "      <td>23:51:00</td>\n",
              "      <td>20:55:00</td>\n",
              "      <td>176.0</td>\n",
              "      <td>00:25:00</td>\n",
              "      <td>21:30:00</td>\n",
              "      <td>175.0</td>\n",
              "      <td>35</td>\n",
              "      <td>34.0</td>\n",
              "      <td>21.0</td>\n",
              "      <td>4.0</td>\n",
              "      <td>9.0</td>\n",
              "      <td>0</td>\n",
              "    </tr>\n",
              "    <tr>\n",
              "      <th>48692</th>\n",
              "      <td>Atlantic Southeast Airlines</td>\n",
              "      <td>Meridian Regional Airport</td>\n",
              "      <td>Meridian</td>\n",
              "      <td>Hattiesburg-Laurel Regional Airport</td>\n",
              "      <td>Hattiesburg-Laurel</td>\n",
              "      <td>MEI</td>\n",
              "      <td>PIB</td>\n",
              "      <td>69</td>\n",
              "      <td>21:25:00</td>\n",
              "      <td>20:55:00</td>\n",
              "      <td>30.0</td>\n",
              "      <td>21:57:00</td>\n",
              "      <td>21:30:00</td>\n",
              "      <td>27.0</td>\n",
              "      <td>35</td>\n",
              "      <td>32.0</td>\n",
              "      <td>15.0</td>\n",
              "      <td>9.0</td>\n",
              "      <td>8.0</td>\n",
              "      <td>0</td>\n",
              "    </tr>\n",
              "  </tbody>\n",
              "</table>\n",
              "<p>48672 rows × 20 columns</p>\n",
              "</div>"
            ],
            "text/plain": [
              "                           AIRLINE  ... DIVERTED\n",
              "0             Alaska Airlines Inc.  ...        0\n",
              "1             Alaska Airlines Inc.  ...        0\n",
              "2             Alaska Airlines Inc.  ...        0\n",
              "3             Alaska Airlines Inc.  ...        0\n",
              "4             Alaska Airlines Inc.  ...        0\n",
              "...                            ...  ...      ...\n",
              "48688  Atlantic Southeast Airlines  ...        0\n",
              "48689  Atlantic Southeast Airlines  ...        0\n",
              "48690  Atlantic Southeast Airlines  ...        0\n",
              "48691  Atlantic Southeast Airlines  ...        0\n",
              "48692  Atlantic Southeast Airlines  ...        0\n",
              "\n",
              "[48672 rows x 20 columns]"
            ]
          },
          "metadata": {
            "tags": []
          },
          "execution_count": 44
        }
      ]
    },
    {
      "cell_type": "markdown",
      "metadata": {
        "id": "30JG-ijrEBkl"
      },
      "source": [
        "### Data Visualization"
      ]
    },
    {
      "cell_type": "code",
      "metadata": {
        "colab": {
          "base_uri": "https://localhost:8080/",
          "height": 729
        },
        "id": "_2nvMztZpS8i",
        "outputId": "afe990a8-ed9c-4d6b-a01a-171ab865a503"
      },
      "source": [
        "plt.figure(figsize=(10, 10))\n",
        "axis = sns.countplot(y=Flights['Origin_city'], data = Flights,\n",
        "              order=Flights['Origin_city'].value_counts().iloc[:20].index,palette=\"Set2\")\n",
        "axis.set_yticklabels(axis.get_yticklabels())\n",
        "plt.tight_layout()\n",
        "plt.show()"
      ],
      "execution_count": null,
      "outputs": [
        {
          "output_type": "display_data",
          "data": {
            "image/png": "[encoded data removed]",
            "text/plain": [
              "<Figure size 720x720 with 1 Axes>"
            ]
          },
          "metadata": {
            "tags": [],
            "needs_background": "light"
          }
        }
      ]
    },
    {
      "cell_type": "code",
      "metadata": {
        "colab": {
          "base_uri": "https://localhost:8080/",
          "height": 606
        },
        "id": "FcTnp6-tpUrC",
        "outputId": "4787982e-6fc5-4956-e6ac-ff84bac133c2"
      },
      "source": [
        "axis = plt.subplots(figsize=(10,10))\n",
        "sns.despine(bottom=True, left=True)\n",
        "sns.stripplot(x=\"ARRIVAL_DELAY\", y=\"AIRLINE\",data = Flights, dodge=True, jitter=True,palette=\"Set1\")\n",
        "plt.show()"
      ],
      "execution_count": null,
      "outputs": [
        {
          "output_type": "display_data",
          "data": {
            "image/png": "[encoded data removed]",
            "text/plain": [
              "<Figure size 720x720 with 1 Axes>"
            ]
          },
          "metadata": {
            "tags": [],
            "needs_background": "light"
          }
        }
      ]
    },
    {
      "cell_type": "code",
      "metadata": {
        "colab": {
          "base_uri": "https://localhost:8080/",
          "height": 705
        },
        "id": "jtoFyhL2pV-o",
        "outputId": "10fc0db0-b34d-4571-ac45-e009edce1b8c"
      },
      "source": [
        "axis = plt.subplots(figsize=(18,12))\n",
        "\n",
        "Flightscorr=pd.DataFrame(Flights[['DISTANCE','DEPARTURE_DELAY','SCHEDULED_TIME','AIR_TIME','TAXI_IN','TAXI_OUT']])\n",
        "Flightscorr['Is_Delayed'] = np.where(Flights['ARRIVAL_DELAY']<=0, 0,1)\n",
        "sns.heatmap(Flightscorr.corr(),annot = True,cmap=\"YlGnBu\")\n",
        "\n",
        "b, t = plt.ylim() # discover the values for bottom and top\n",
        "#b += 0.5 # Add 0.5 to the bottom\n",
        "t -= 0.5 # Subtract 0.5 from the top\n",
        "plt.ylim(b, t) # update the ylim(bottom, top) values\n",
        "plt.show()"
      ],
      "execution_count": null,
      "outputs": [
        {
          "output_type": "display_data",
          "data": {
            "image/png": "[encoded data removed]",
            "text/plain": [
              "<Figure size 1296x864 with 2 Axes>"
            ]
          },
          "metadata": {
            "tags": [],
            "needs_background": "light"
          }
        }
      ]
    },
    {
      "cell_type": "code",
      "metadata": {
        "colab": {
          "base_uri": "https://localhost:8080/",
          "height": 729
        },
        "id": "0JLB6z1RptDK",
        "outputId": "3b6d4d77-36c2-4649-af23-e139444055f0"
      },
      "source": [
        "plt.figure(figsize=(10, 10))\n",
        "axis = sns.countplot(x=Flights['ORIGIN_AIRPORT'], data =Flights,\n",
        "              order=Flights['ORIGIN_AIRPORT'].value_counts().iloc[:20].index)\n",
        "axis.set_xticklabels(axis.get_xticklabels(), rotation=90, ha=\"right\")\n",
        "plt.tight_layout()\n",
        "plt.show()"
      ],
      "execution_count": null,
      "outputs": [
        {
          "output_type": "display_data",
          "data": {
            "image/png": "[encoded data removed]",
            "text/plain": [
              "<Figure size 720x720 with 1 Axes>"
            ]
          },
          "metadata": {
            "tags": [],
            "needs_background": "light"
          }
        }
      ]
    },
    {
      "cell_type": "code",
      "metadata": {
        "colab": {
          "base_uri": "https://localhost:8080/",
          "height": 589
        },
        "id": "x2qb5A3tpw9F",
        "outputId": "9eef2256-3b20-48ca-9c9a-931e3963fa5f"
      },
      "source": [
        "axis = plt.subplots(figsize=(10,14))\n",
        "Name = Flights[\"AIRLINE\"].unique()\n",
        "size = Flights[\"AIRLINE\"].value_counts()\n",
        "plt.pie(size,labels=Name,autopct='%5.0f%%')\n",
        "plt.show()"
      ],
      "execution_count": null,
      "outputs": [
        {
          "output_type": "display_data",
          "data": {
            "image/png": "[encoded data removed]",
            "text/plain": [
              "<Figure size 720x1008 with 1 Axes>"
            ]
          },
          "metadata": {
            "tags": []
          }
        }
      ]
    },
    {
      "cell_type": "code",
      "metadata": {
        "colab": {
          "base_uri": "https://localhost:8080/",
          "height": 431
        },
        "id": "bVyBUC_lDerq",
        "outputId": "d26b8625-8509-4b97-82a7-c6b74ab3b426"
      },
      "source": [
        "delay_type = lambda x:((0,1)[x > 5],2)[x > 45]\n",
        "flightsinfo['DELAY_LEVEL'] = flightsinfo['DEPARTURE_DELAY'].apply(delay_type)\n",
        "\n",
        "fig = plt.figure(1, figsize=(10,7))\n",
        "ax = sns.countplot(x=\"AIRLINE\", hue='DELAY_LEVEL', data=flightsinfo, palette= [\"#00FF00\",\"#FFA500\",\"#FF0000\"])\n",
        "\n",
        "labels = ax.get_xticklabels()\n",
        "ax.set_xticklabels(labels)\n",
        "plt.setp(ax.get_yticklabels(), fontsize=12, weight = 'normal', rotation = 0);\n",
        "plt.setp(ax.get_xticklabels(), fontsize=12, weight = 'normal', rotation = 0);\n",
        "ax.xaxis.label.set_visible(False)\n",
        "plt.ylabel('No. of Flights', fontsize=16, weight = 'bold', labelpad=10)\n",
        "\n",
        "L = plt.legend()\n",
        "L.get_texts()[0].set_text('on time (t < 5 min)')\n",
        "L.get_texts()[1].set_text('small delay (5 < t < 45 min)')\n",
        "L.get_texts()[2].set_text('large delay (t > 45 min)')\n",
        "plt.show()"
      ],
      "execution_count": null,
      "outputs": [
        {
          "output_type": "display_data",
          "data": {
            "image/png": "[encoded data removed]",
            "text/plain": [
              "<Figure size 720x504 with 1 Axes>"
            ]
          },
          "metadata": {
            "tags": [],
            "needs_background": "light"
          }
        }
      ]
    },
    {
      "cell_type": "code",
      "metadata": {
        "id": "YtG1V1tVr-2G"
      },
      "source": [
        "Flights1 = Flights.drop(['Org_Airport_Name','Origin_city','Dest_Airport_Name','Destination_city'],axis = 1)"
      ],
      "execution_count": null,
      "outputs": []
    },
    {
      "cell_type": "code",
      "metadata": {
        "colab": {
          "base_uri": "https://localhost:8080/"
        },
        "id": "0Cq9JuawsBWE",
        "outputId": "73f7261d-359a-4cd0-e536-aaf5911b1631"
      },
      "source": [
        "Flights1.columns"
      ],
      "execution_count": null,
      "outputs": [
        {
          "output_type": "execute_result",
          "data": {
            "text/plain": [
              "Index(['AIRLINE', 'ORIGIN_AIRPORT', 'DESTINATION_AIRPORT', 'DISTANCE',\n",
              "       'Actual_Departure', 'Scheduled_Departure', 'DEPARTURE_DELAY',\n",
              "       'Actual_Arrival', 'Scheduled_Arrival', 'ARRIVAL_DELAY',\n",
              "       'SCHEDULED_TIME', 'ELAPSED_TIME', 'AIR_TIME', 'TAXI_IN', 'TAXI_OUT',\n",
              "       'DIVERTED'],\n",
              "      dtype='object')"
            ]
          },
          "metadata": {
            "tags": []
          },
          "execution_count": 52
        }
      ]
    },
    {
      "cell_type": "markdown",
      "metadata": {
        "id": "UJ4oBc5ZrSBW"
      },
      "source": [
        "## Predicting whether the flight is Delayed or Not"
      ]
    },
    {
      "cell_type": "code",
      "metadata": {
        "id": "Ppb877qArz7Q"
      },
      "source": [
        "from sklearn.preprocessing import StandardScaler\n",
        "from sklearn.model_selection import train_test_split\n",
        "from sklearn.preprocessing import LabelEncoder"
      ],
      "execution_count": null,
      "outputs": []
    },
    {
      "cell_type": "code",
      "metadata": {
        "id": "Q1iFKSpbr0zh"
      },
      "source": [
        "le = LabelEncoder()"
      ],
      "execution_count": null,
      "outputs": []
    },
    {
      "cell_type": "markdown",
      "metadata": {
        "id": "Y0CNz8pbr2Yy"
      },
      "source": [
        "Applying Label encoder to convert text values to numbers"
      ]
    },
    {
      "cell_type": "code",
      "metadata": {
        "colab": {
          "base_uri": "https://localhost:8080/"
        },
        "id": "hk0N4l_zrflK",
        "outputId": "7d2454e2-965f-46df-9854-11bdf8ac40b6"
      },
      "source": [
        "Flights1['AIRLINE']= le.fit_transform(Flights1['AIRLINE'])\n",
        "\n",
        "Flights1['ORIGIN_AIRPORT'] = le.fit_transform(Flights1['ORIGIN_AIRPORT'])\n",
        "mapping = dict(zip(le.classes_, range(len(le.classes_))))\n",
        "mapping\n",
        "Flights1['DESTINATION_AIRPORT'] = le.fit_transform(Flights1['DESTINATION_AIRPORT'])\n",
        "\n",
        "mapping"
      ],
      "execution_count": null,
      "outputs": [
        {
          "output_type": "execute_result",
          "data": {
            "text/plain": [
              "{'ABE': 0,\n",
              " 'ABI': 1,\n",
              " 'ABQ': 2,\n",
              " 'ABR': 3,\n",
              " 'ABY': 4,\n",
              " 'ACT': 5,\n",
              " 'ACV': 6,\n",
              " 'ACY': 7,\n",
              " 'ADK': 8,\n",
              " 'ADQ': 9,\n",
              " 'AEX': 10,\n",
              " 'AGS': 11,\n",
              " 'ALB': 12,\n",
              " 'ALO': 13,\n",
              " 'AMA': 14,\n",
              " 'ANC': 15,\n",
              " 'APN': 16,\n",
              " 'ASE': 17,\n",
              " 'ATL': 18,\n",
              " 'ATW': 19,\n",
              " 'AUS': 20,\n",
              " 'AVL': 21,\n",
              " 'AVP': 22,\n",
              " 'AZO': 23,\n",
              " 'BDL': 24,\n",
              " 'BET': 25,\n",
              " 'BFL': 26,\n",
              " 'BHM': 27,\n",
              " 'BIL': 28,\n",
              " 'BIS': 29,\n",
              " 'BJI': 30,\n",
              " 'BLI': 31,\n",
              " 'BMI': 32,\n",
              " 'BNA': 33,\n",
              " 'BOI': 34,\n",
              " 'BOS': 35,\n",
              " 'BPT': 36,\n",
              " 'BQK': 37,\n",
              " 'BQN': 38,\n",
              " 'BRD': 39,\n",
              " 'BRO': 40,\n",
              " 'BRW': 41,\n",
              " 'BTM': 42,\n",
              " 'BTR': 43,\n",
              " 'BTV': 44,\n",
              " 'BUF': 45,\n",
              " 'BUR': 46,\n",
              " 'BWI': 47,\n",
              " 'BZN': 48,\n",
              " 'CAE': 49,\n",
              " 'CAK': 50,\n",
              " 'CDC': 51,\n",
              " 'CDV': 52,\n",
              " 'CEC': 53,\n",
              " 'CHA': 54,\n",
              " 'CHO': 55,\n",
              " 'CHS': 56,\n",
              " 'CID': 57,\n",
              " 'CIU': 58,\n",
              " 'CLD': 59,\n",
              " 'CLE': 60,\n",
              " 'CLL': 61,\n",
              " 'CLT': 62,\n",
              " 'CMH': 63,\n",
              " 'CMI': 64,\n",
              " 'CMX': 65,\n",
              " 'CNY': 66,\n",
              " 'COD': 67,\n",
              " 'COS': 68,\n",
              " 'COU': 69,\n",
              " 'CPR': 70,\n",
              " 'CRP': 71,\n",
              " 'CRW': 72,\n",
              " 'CSG': 73,\n",
              " 'CVG': 74,\n",
              " 'CWA': 75,\n",
              " 'DAB': 76,\n",
              " 'DAL': 77,\n",
              " 'DAY': 78,\n",
              " 'DBQ': 79,\n",
              " 'DCA': 80,\n",
              " 'DEN': 81,\n",
              " 'DFW': 82,\n",
              " 'DHN': 83,\n",
              " 'DIK': 84,\n",
              " 'DLH': 85,\n",
              " 'DRO': 86,\n",
              " 'DSM': 87,\n",
              " 'DTW': 88,\n",
              " 'DVL': 89,\n",
              " 'EAU': 90,\n",
              " 'EGE': 91,\n",
              " 'EKO': 92,\n",
              " 'ELM': 93,\n",
              " 'ELP': 94,\n",
              " 'ERI': 95,\n",
              " 'ESC': 96,\n",
              " 'EUG': 97,\n",
              " 'EVV': 98,\n",
              " 'EWN': 99,\n",
              " 'EWR': 100,\n",
              " 'EYW': 101,\n",
              " 'FAI': 102,\n",
              " 'FAR': 103,\n",
              " 'FAT': 104,\n",
              " 'FAY': 105,\n",
              " 'FCA': 106,\n",
              " 'FLG': 107,\n",
              " 'FLL': 108,\n",
              " 'FNT': 109,\n",
              " 'FSD': 110,\n",
              " 'FSM': 111,\n",
              " 'FWA': 112,\n",
              " 'GCC': 113,\n",
              " 'GCK': 114,\n",
              " 'GEG': 115,\n",
              " 'GFK': 116,\n",
              " 'GGG': 117,\n",
              " 'GJT': 118,\n",
              " 'GNV': 119,\n",
              " 'GPT': 120,\n",
              " 'GRB': 121,\n",
              " 'GRI': 122,\n",
              " 'GRK': 123,\n",
              " 'GRR': 124,\n",
              " 'GSO': 125,\n",
              " 'GSP': 126,\n",
              " 'GTF': 127,\n",
              " 'GTR': 128,\n",
              " 'GUC': 129,\n",
              " 'GUM': 130,\n",
              " 'HDN': 131,\n",
              " 'HIB': 132,\n",
              " 'HLN': 133,\n",
              " 'HNL': 134,\n",
              " 'HOB': 135,\n",
              " 'HOU': 136,\n",
              " 'HPN': 137,\n",
              " 'HRL': 138,\n",
              " 'HSV': 139,\n",
              " 'HYS': 140,\n",
              " 'IAD': 141,\n",
              " 'IAG': 142,\n",
              " 'IAH': 143,\n",
              " 'ICT': 144,\n",
              " 'IDA': 145,\n",
              " 'ILG': 146,\n",
              " 'ILM': 147,\n",
              " 'IMT': 148,\n",
              " 'IND': 149,\n",
              " 'INL': 150,\n",
              " 'ISN': 151,\n",
              " 'ISP': 152,\n",
              " 'ITO': 153,\n",
              " 'JAC': 154,\n",
              " 'JAN': 155,\n",
              " 'JAX': 156,\n",
              " 'JFK': 157,\n",
              " 'JLN': 158,\n",
              " 'JMS': 159,\n",
              " 'JNU': 160,\n",
              " 'KOA': 161,\n",
              " 'KTN': 162,\n",
              " 'LAN': 163,\n",
              " 'LAR': 164,\n",
              " 'LAS': 165,\n",
              " 'LAW': 166,\n",
              " 'LAX': 167,\n",
              " 'LBB': 168,\n",
              " 'LBE': 169,\n",
              " 'LCH': 170,\n",
              " 'LEX': 171,\n",
              " 'LFT': 172,\n",
              " 'LGA': 173,\n",
              " 'LGB': 174,\n",
              " 'LIH': 175,\n",
              " 'LIT': 176,\n",
              " 'LNK': 177,\n",
              " 'LRD': 178,\n",
              " 'LSE': 179,\n",
              " 'LWS': 180,\n",
              " 'MAF': 181,\n",
              " 'MBS': 182,\n",
              " 'MCI': 183,\n",
              " 'MCO': 184,\n",
              " 'MDT': 185,\n",
              " 'MDW': 186,\n",
              " 'MEI': 187,\n",
              " 'MEM': 188,\n",
              " 'MFE': 189,\n",
              " 'MFR': 190,\n",
              " 'MGM': 191,\n",
              " 'MHK': 192,\n",
              " 'MHT': 193,\n",
              " 'MIA': 194,\n",
              " 'MKE': 195,\n",
              " 'MKG': 196,\n",
              " 'MLB': 197,\n",
              " 'MLI': 198,\n",
              " 'MLU': 199,\n",
              " 'MMH': 200,\n",
              " 'MOB': 201,\n",
              " 'MOT': 202,\n",
              " 'MQT': 203,\n",
              " 'MRY': 204,\n",
              " 'MSN': 205,\n",
              " 'MSO': 206,\n",
              " 'MSP': 207,\n",
              " 'MSY': 208,\n",
              " 'MTJ': 209,\n",
              " 'MYR': 210,\n",
              " 'OAJ': 211,\n",
              " 'OAK': 212,\n",
              " 'OGG': 213,\n",
              " 'OKC': 214,\n",
              " 'OMA': 215,\n",
              " 'OME': 216,\n",
              " 'ONT': 217,\n",
              " 'ORD': 218,\n",
              " 'ORF': 219,\n",
              " 'ORH': 220,\n",
              " 'OTH': 221,\n",
              " 'OTZ': 222,\n",
              " 'PAH': 223,\n",
              " 'PBI': 224,\n",
              " 'PDX': 225,\n",
              " 'PHF': 226,\n",
              " 'PHL': 227,\n",
              " 'PHX': 228,\n",
              " 'PIA': 229,\n",
              " 'PIB': 230,\n",
              " 'PIH': 231,\n",
              " 'PIT': 232,\n",
              " 'PLN': 233,\n",
              " 'PNS': 234,\n",
              " 'PPG': 235,\n",
              " 'PSC': 236,\n",
              " 'PSE': 237,\n",
              " 'PSG': 238,\n",
              " 'PSP': 239,\n",
              " 'PUB': 240,\n",
              " 'PVD': 241,\n",
              " 'PWM': 242,\n",
              " 'RAP': 243,\n",
              " 'RDD': 244,\n",
              " 'RDM': 245,\n",
              " 'RDU': 246,\n",
              " 'RHI': 247,\n",
              " 'RIC': 248,\n",
              " 'RKS': 249,\n",
              " 'RNO': 250,\n",
              " 'ROA': 251,\n",
              " 'ROC': 252,\n",
              " 'ROW': 253,\n",
              " 'RST': 254,\n",
              " 'RSW': 255,\n",
              " 'SAF': 256,\n",
              " 'SAN': 257,\n",
              " 'SAT': 258,\n",
              " 'SAV': 259,\n",
              " 'SBA': 260,\n",
              " 'SBN': 261,\n",
              " 'SBP': 262,\n",
              " 'SCC': 263,\n",
              " 'SCE': 264,\n",
              " 'SDF': 265,\n",
              " 'SEA': 266,\n",
              " 'SFO': 267,\n",
              " 'SGF': 268,\n",
              " 'SGU': 269,\n",
              " 'SHV': 270,\n",
              " 'SIT': 271,\n",
              " 'SJC': 272,\n",
              " 'SJT': 273,\n",
              " 'SJU': 274,\n",
              " 'SLC': 275,\n",
              " 'SMF': 276,\n",
              " 'SMX': 277,\n",
              " 'SNA': 278,\n",
              " 'SPI': 279,\n",
              " 'SPS': 280,\n",
              " 'SRQ': 281,\n",
              " 'STC': 282,\n",
              " 'STL': 283,\n",
              " 'STT': 284,\n",
              " 'STX': 285,\n",
              " 'SUN': 286,\n",
              " 'SUX': 287,\n",
              " 'SWF': 288,\n",
              " 'SYR': 289,\n",
              " 'TLH': 290,\n",
              " 'TOL': 291,\n",
              " 'TPA': 292,\n",
              " 'TRI': 293,\n",
              " 'TTN': 294,\n",
              " 'TUL': 295,\n",
              " 'TUS': 296,\n",
              " 'TVC': 297,\n",
              " 'TWF': 298,\n",
              " 'TXK': 299,\n",
              " 'TYR': 300,\n",
              " 'TYS': 301,\n",
              " 'VEL': 302,\n",
              " 'VLD': 303,\n",
              " 'VPS': 304,\n",
              " 'WRG': 305,\n",
              " 'XNA': 306,\n",
              " 'YAK': 307,\n",
              " 'YUM': 308}"
            ]
          },
          "metadata": {
            "tags": []
          },
          "execution_count": 55
        }
      ]
    },
    {
      "cell_type": "code",
      "metadata": {
        "id": "UYmj5EqYrn9y"
      },
      "source": [
        "Flights1 = Flights1.drop(['Scheduled_Departure','Scheduled_Arrival','Actual_Arrival','Actual_Departure','ELAPSED_TIME','DIVERTED','TAXI_IN'], axis = 1)"
      ],
      "execution_count": null,
      "outputs": []
    },
    {
      "cell_type": "markdown",
      "metadata": {
        "id": "cQVMRmR4xPM4"
      },
      "source": [
        "Creating a new feature which has value only as 0 or 1 depending on it it is delayed or not"
      ]
    },
    {
      "cell_type": "code",
      "metadata": {
        "id": "M6Y9urBUswtU"
      },
      "source": [
        "Flights1['Is_Delayed'] = np.where(Flights1['ARRIVAL_DELAY']<=0, 0,1)"
      ],
      "execution_count": null,
      "outputs": []
    },
    {
      "cell_type": "code",
      "metadata": {
        "colab": {
          "base_uri": "https://localhost:8080/",
          "height": 402
        },
        "id": "8kMsWqFxs1Qs",
        "outputId": "b6827db8-f7b1-449c-c5cf-d2c80bf4ef20"
      },
      "source": [
        "Flights1"
      ],
      "execution_count": null,
      "outputs": [
        {
          "output_type": "execute_result",
          "data": {
            "text/html": [
              "<div>\n",
              "<style scoped>\n",
              "    .dataframe tbody tr th:only-of-type {\n",
              "        vertical-align: middle;\n",
              "    }\n",
              "\n",
              "    .dataframe tbody tr th {\n",
              "        vertical-align: top;\n",
              "    }\n",
              "\n",
              "    .dataframe thead th {\n",
              "        text-align: right;\n",
              "    }\n",
              "</style>\n",
              "<table border=\"1\" class=\"dataframe\">\n",
              "  <thead>\n",
              "    <tr style=\"text-align: right;\">\n",
              "      <th></th>\n",
              "      <th>AIRLINE</th>\n",
              "      <th>ORIGIN_AIRPORT</th>\n",
              "      <th>DESTINATION_AIRPORT</th>\n",
              "      <th>DISTANCE</th>\n",
              "      <th>DEPARTURE_DELAY</th>\n",
              "      <th>ARRIVAL_DELAY</th>\n",
              "      <th>SCHEDULED_TIME</th>\n",
              "      <th>AIR_TIME</th>\n",
              "      <th>TAXI_OUT</th>\n",
              "      <th>Is_Delayed</th>\n",
              "    </tr>\n",
              "  </thead>\n",
              "  <tbody>\n",
              "    <tr>\n",
              "      <th>0</th>\n",
              "      <td>0</td>\n",
              "      <td>15</td>\n",
              "      <td>265</td>\n",
              "      <td>1448</td>\n",
              "      <td>-11.0</td>\n",
              "      <td>-22.0</td>\n",
              "      <td>205</td>\n",
              "      <td>169.0</td>\n",
              "      <td>21.0</td>\n",
              "      <td>0</td>\n",
              "    </tr>\n",
              "    <tr>\n",
              "      <th>1</th>\n",
              "      <td>0</td>\n",
              "      <td>15</td>\n",
              "      <td>265</td>\n",
              "      <td>1448</td>\n",
              "      <td>-4.0</td>\n",
              "      <td>-14.0</td>\n",
              "      <td>204</td>\n",
              "      <td>173.0</td>\n",
              "      <td>17.0</td>\n",
              "      <td>0</td>\n",
              "    </tr>\n",
              "    <tr>\n",
              "      <th>2</th>\n",
              "      <td>0</td>\n",
              "      <td>15</td>\n",
              "      <td>265</td>\n",
              "      <td>1448</td>\n",
              "      <td>-15.0</td>\n",
              "      <td>-35.0</td>\n",
              "      <td>218</td>\n",
              "      <td>170.0</td>\n",
              "      <td>17.0</td>\n",
              "      <td>0</td>\n",
              "    </tr>\n",
              "    <tr>\n",
              "      <th>3</th>\n",
              "      <td>0</td>\n",
              "      <td>15</td>\n",
              "      <td>265</td>\n",
              "      <td>1448</td>\n",
              "      <td>-11.0</td>\n",
              "      <td>-12.0</td>\n",
              "      <td>200</td>\n",
              "      <td>176.0</td>\n",
              "      <td>15.0</td>\n",
              "      <td>0</td>\n",
              "    </tr>\n",
              "    <tr>\n",
              "      <th>4</th>\n",
              "      <td>0</td>\n",
              "      <td>15</td>\n",
              "      <td>265</td>\n",
              "      <td>1448</td>\n",
              "      <td>-8.0</td>\n",
              "      <td>-14.0</td>\n",
              "      <td>205</td>\n",
              "      <td>179.0</td>\n",
              "      <td>16.0</td>\n",
              "      <td>0</td>\n",
              "    </tr>\n",
              "    <tr>\n",
              "      <th>...</th>\n",
              "      <td>...</td>\n",
              "      <td>...</td>\n",
              "      <td>...</td>\n",
              "      <td>...</td>\n",
              "      <td>...</td>\n",
              "      <td>...</td>\n",
              "      <td>...</td>\n",
              "      <td>...</td>\n",
              "      <td>...</td>\n",
              "      <td>...</td>\n",
              "    </tr>\n",
              "    <tr>\n",
              "      <th>48688</th>\n",
              "      <td>3</td>\n",
              "      <td>187</td>\n",
              "      <td>229</td>\n",
              "      <td>69</td>\n",
              "      <td>7.0</td>\n",
              "      <td>10.0</td>\n",
              "      <td>35</td>\n",
              "      <td>24.0</td>\n",
              "      <td>11.0</td>\n",
              "      <td>1</td>\n",
              "    </tr>\n",
              "    <tr>\n",
              "      <th>48689</th>\n",
              "      <td>3</td>\n",
              "      <td>187</td>\n",
              "      <td>229</td>\n",
              "      <td>69</td>\n",
              "      <td>-4.0</td>\n",
              "      <td>-10.0</td>\n",
              "      <td>35</td>\n",
              "      <td>21.0</td>\n",
              "      <td>5.0</td>\n",
              "      <td>0</td>\n",
              "    </tr>\n",
              "    <tr>\n",
              "      <th>48690</th>\n",
              "      <td>3</td>\n",
              "      <td>187</td>\n",
              "      <td>229</td>\n",
              "      <td>69</td>\n",
              "      <td>57.0</td>\n",
              "      <td>51.0</td>\n",
              "      <td>35</td>\n",
              "      <td>17.0</td>\n",
              "      <td>8.0</td>\n",
              "      <td>1</td>\n",
              "    </tr>\n",
              "    <tr>\n",
              "      <th>48691</th>\n",
              "      <td>3</td>\n",
              "      <td>187</td>\n",
              "      <td>229</td>\n",
              "      <td>69</td>\n",
              "      <td>176.0</td>\n",
              "      <td>175.0</td>\n",
              "      <td>35</td>\n",
              "      <td>21.0</td>\n",
              "      <td>9.0</td>\n",
              "      <td>1</td>\n",
              "    </tr>\n",
              "    <tr>\n",
              "      <th>48692</th>\n",
              "      <td>3</td>\n",
              "      <td>187</td>\n",
              "      <td>229</td>\n",
              "      <td>69</td>\n",
              "      <td>30.0</td>\n",
              "      <td>27.0</td>\n",
              "      <td>35</td>\n",
              "      <td>15.0</td>\n",
              "      <td>8.0</td>\n",
              "      <td>1</td>\n",
              "    </tr>\n",
              "  </tbody>\n",
              "</table>\n",
              "<p>48672 rows × 10 columns</p>\n",
              "</div>"
            ],
            "text/plain": [
              "       AIRLINE  ORIGIN_AIRPORT  ...  TAXI_OUT  Is_Delayed\n",
              "0            0              15  ...      21.0           0\n",
              "1            0              15  ...      17.0           0\n",
              "2            0              15  ...      17.0           0\n",
              "3            0              15  ...      15.0           0\n",
              "4            0              15  ...      16.0           0\n",
              "...        ...             ...  ...       ...         ...\n",
              "48688        3             187  ...      11.0           1\n",
              "48689        3             187  ...       5.0           0\n",
              "48690        3             187  ...       8.0           1\n",
              "48691        3             187  ...       9.0           1\n",
              "48692        3             187  ...       8.0           1\n",
              "\n",
              "[48672 rows x 10 columns]"
            ]
          },
          "metadata": {
            "tags": []
          },
          "execution_count": 58
        }
      ]
    },
    {
      "cell_type": "code",
      "metadata": {
        "colab": {
          "base_uri": "https://localhost:8080/"
        },
        "id": "lo9miQlRs20B",
        "outputId": "78111eb5-2a57-4241-ff80-e37a666026a0"
      },
      "source": [
        "X = Flights1.drop(['ARRIVAL_DELAY','Is_Delayed'],axis = 1)\n",
        "X.shape\n",
        "y = Flights1['Is_Delayed']\n",
        "y.head()"
      ],
      "execution_count": null,
      "outputs": [
        {
          "output_type": "execute_result",
          "data": {
            "text/plain": [
              "0    0\n",
              "1    0\n",
              "2    0\n",
              "3    0\n",
              "4    0\n",
              "Name: Is_Delayed, dtype: int64"
            ]
          },
          "metadata": {
            "tags": []
          },
          "execution_count": 59
        }
      ]
    },
    {
      "cell_type": "code",
      "metadata": {
        "colab": {
          "base_uri": "https://localhost:8080/",
          "height": 402
        },
        "id": "_XIOENx5tBQs",
        "outputId": "09ce555e-ea7d-45e9-e52f-8565ff05ee39"
      },
      "source": [
        "X"
      ],
      "execution_count": null,
      "outputs": [
        {
          "output_type": "execute_result",
          "data": {
            "text/html": [
              "<div>\n",
              "<style scoped>\n",
              "    .dataframe tbody tr th:only-of-type {\n",
              "        vertical-align: middle;\n",
              "    }\n",
              "\n",
              "    .dataframe tbody tr th {\n",
              "        vertical-align: top;\n",
              "    }\n",
              "\n",
              "    .dataframe thead th {\n",
              "        text-align: right;\n",
              "    }\n",
              "</style>\n",
              "<table border=\"1\" class=\"dataframe\">\n",
              "  <thead>\n",
              "    <tr style=\"text-align: right;\">\n",
              "      <th></th>\n",
              "      <th>AIRLINE</th>\n",
              "      <th>ORIGIN_AIRPORT</th>\n",
              "      <th>DESTINATION_AIRPORT</th>\n",
              "      <th>DISTANCE</th>\n",
              "      <th>DEPARTURE_DELAY</th>\n",
              "      <th>SCHEDULED_TIME</th>\n",
              "      <th>AIR_TIME</th>\n",
              "      <th>TAXI_OUT</th>\n",
              "    </tr>\n",
              "  </thead>\n",
              "  <tbody>\n",
              "    <tr>\n",
              "      <th>0</th>\n",
              "      <td>0</td>\n",
              "      <td>15</td>\n",
              "      <td>265</td>\n",
              "      <td>1448</td>\n",
              "      <td>-11.0</td>\n",
              "      <td>205</td>\n",
              "      <td>169.0</td>\n",
              "      <td>21.0</td>\n",
              "    </tr>\n",
              "    <tr>\n",
              "      <th>1</th>\n",
              "      <td>0</td>\n",
              "      <td>15</td>\n",
              "      <td>265</td>\n",
              "      <td>1448</td>\n",
              "      <td>-4.0</td>\n",
              "      <td>204</td>\n",
              "      <td>173.0</td>\n",
              "      <td>17.0</td>\n",
              "    </tr>\n",
              "    <tr>\n",
              "      <th>2</th>\n",
              "      <td>0</td>\n",
              "      <td>15</td>\n",
              "      <td>265</td>\n",
              "      <td>1448</td>\n",
              "      <td>-15.0</td>\n",
              "      <td>218</td>\n",
              "      <td>170.0</td>\n",
              "      <td>17.0</td>\n",
              "    </tr>\n",
              "    <tr>\n",
              "      <th>3</th>\n",
              "      <td>0</td>\n",
              "      <td>15</td>\n",
              "      <td>265</td>\n",
              "      <td>1448</td>\n",
              "      <td>-11.0</td>\n",
              "      <td>200</td>\n",
              "      <td>176.0</td>\n",
              "      <td>15.0</td>\n",
              "    </tr>\n",
              "    <tr>\n",
              "      <th>4</th>\n",
              "      <td>0</td>\n",
              "      <td>15</td>\n",
              "      <td>265</td>\n",
              "      <td>1448</td>\n",
              "      <td>-8.0</td>\n",
              "      <td>205</td>\n",
              "      <td>179.0</td>\n",
              "      <td>16.0</td>\n",
              "    </tr>\n",
              "    <tr>\n",
              "      <th>...</th>\n",
              "      <td>...</td>\n",
              "      <td>...</td>\n",
              "      <td>...</td>\n",
              "      <td>...</td>\n",
              "      <td>...</td>\n",
              "      <td>...</td>\n",
              "      <td>...</td>\n",
              "      <td>...</td>\n",
              "    </tr>\n",
              "    <tr>\n",
              "      <th>48688</th>\n",
              "      <td>3</td>\n",
              "      <td>187</td>\n",
              "      <td>229</td>\n",
              "      <td>69</td>\n",
              "      <td>7.0</td>\n",
              "      <td>35</td>\n",
              "      <td>24.0</td>\n",
              "      <td>11.0</td>\n",
              "    </tr>\n",
              "    <tr>\n",
              "      <th>48689</th>\n",
              "      <td>3</td>\n",
              "      <td>187</td>\n",
              "      <td>229</td>\n",
              "      <td>69</td>\n",
              "      <td>-4.0</td>\n",
              "      <td>35</td>\n",
              "      <td>21.0</td>\n",
              "      <td>5.0</td>\n",
              "    </tr>\n",
              "    <tr>\n",
              "      <th>48690</th>\n",
              "      <td>3</td>\n",
              "      <td>187</td>\n",
              "      <td>229</td>\n",
              "      <td>69</td>\n",
              "      <td>57.0</td>\n",
              "      <td>35</td>\n",
              "      <td>17.0</td>\n",
              "      <td>8.0</td>\n",
              "    </tr>\n",
              "    <tr>\n",
              "      <th>48691</th>\n",
              "      <td>3</td>\n",
              "      <td>187</td>\n",
              "      <td>229</td>\n",
              "      <td>69</td>\n",
              "      <td>176.0</td>\n",
              "      <td>35</td>\n",
              "      <td>21.0</td>\n",
              "      <td>9.0</td>\n",
              "    </tr>\n",
              "    <tr>\n",
              "      <th>48692</th>\n",
              "      <td>3</td>\n",
              "      <td>187</td>\n",
              "      <td>229</td>\n",
              "      <td>69</td>\n",
              "      <td>30.0</td>\n",
              "      <td>35</td>\n",
              "      <td>15.0</td>\n",
              "      <td>8.0</td>\n",
              "    </tr>\n",
              "  </tbody>\n",
              "</table>\n",
              "<p>48672 rows × 8 columns</p>\n",
              "</div>"
            ],
            "text/plain": [
              "       AIRLINE  ORIGIN_AIRPORT  ...  AIR_TIME  TAXI_OUT\n",
              "0            0              15  ...     169.0      21.0\n",
              "1            0              15  ...     173.0      17.0\n",
              "2            0              15  ...     170.0      17.0\n",
              "3            0              15  ...     176.0      15.0\n",
              "4            0              15  ...     179.0      16.0\n",
              "...        ...             ...  ...       ...       ...\n",
              "48688        3             187  ...      24.0      11.0\n",
              "48689        3             187  ...      21.0       5.0\n",
              "48690        3             187  ...      17.0       8.0\n",
              "48691        3             187  ...      21.0       9.0\n",
              "48692        3             187  ...      15.0       8.0\n",
              "\n",
              "[48672 rows x 8 columns]"
            ]
          },
          "metadata": {
            "tags": []
          },
          "execution_count": 60
        }
      ]
    },
    {
      "cell_type": "code",
      "metadata": {
        "colab": {
          "base_uri": "https://localhost:8080/"
        },
        "id": "b6YPncKttDq9",
        "outputId": "48ed06f8-af9f-4033-e1e3-ba2a4767c529"
      },
      "source": [
        "y"
      ],
      "execution_count": null,
      "outputs": [
        {
          "output_type": "execute_result",
          "data": {
            "text/plain": [
              "0        0\n",
              "1        0\n",
              "2        0\n",
              "3        0\n",
              "4        0\n",
              "        ..\n",
              "48688    1\n",
              "48689    0\n",
              "48690    1\n",
              "48691    1\n",
              "48692    1\n",
              "Name: Is_Delayed, Length: 48672, dtype: int64"
            ]
          },
          "metadata": {
            "tags": []
          },
          "execution_count": 61
        }
      ]
    },
    {
      "cell_type": "code",
      "metadata": {
        "id": "O6kZfS_KtEBQ"
      },
      "source": [
        "X_train,X_test,y_train,y_test = train_test_split(X,y,test_size=0.2,random_state = 2)"
      ],
      "execution_count": null,
      "outputs": []
    },
    {
      "cell_type": "code",
      "metadata": {
        "colab": {
          "base_uri": "https://localhost:8080/"
        },
        "id": "SeGhhO62tGid",
        "outputId": "4a659767-38cd-4791-c413-d539b3691c83"
      },
      "source": [
        "y_train.value_counts()"
      ],
      "execution_count": null,
      "outputs": [
        {
          "output_type": "execute_result",
          "data": {
            "text/plain": [
              "1    20839\n",
              "0    18098\n",
              "Name: Is_Delayed, dtype: int64"
            ]
          },
          "metadata": {
            "tags": []
          },
          "execution_count": 63
        }
      ]
    },
    {
      "cell_type": "markdown",
      "metadata": {
        "id": "Kkj2GP8rkLtU"
      },
      "source": [
        "### KNN Classification"
      ]
    },
    {
      "cell_type": "code",
      "metadata": {
        "id": "uwCyCyVoPhwP"
      },
      "source": [
        "from sklearn.metrics import accuracy_score, f1_score, precision_score, recall_score, classification_report, confusion_matrix\n",
        "from sklearn.metrics import plot_confusion_matrix"
      ],
      "execution_count": null,
      "outputs": []
    },
    {
      "cell_type": "code",
      "metadata": {
        "colab": {
          "base_uri": "https://localhost:8080/"
        },
        "id": "jS4J8kF3Z7dW",
        "outputId": "5f89af0f-23a4-4520-a8eb-4acc325471f6"
      },
      "source": [
        "from sklearn.neighbors import KNeighborsClassifier  \n",
        "classifierKNN= KNeighborsClassifier(n_neighbors=5, metric='minkowski', p=2 )  \n",
        "classifierKNN.fit(X_train, y_train)  "
      ],
      "execution_count": null,
      "outputs": [
        {
          "output_type": "execute_result",
          "data": {
            "text/plain": [
              "KNeighborsClassifier(algorithm='auto', leaf_size=30, metric='minkowski',\n",
              "                     metric_params=None, n_jobs=None, n_neighbors=5, p=2,\n",
              "                     weights='uniform')"
            ]
          },
          "metadata": {
            "tags": []
          },
          "execution_count": 65
        }
      ]
    },
    {
      "cell_type": "code",
      "metadata": {
        "id": "U5x6jRLlaCb7"
      },
      "source": [
        "# Predicting the Test set results\n",
        "y_pred = classifierKNN.predict(X_test)\n",
        "\n",
        "# Making the Confusion Matrix\n",
        "from sklearn.metrics import confusion_matrix\n",
        "cm = confusion_matrix(y_test, y_pred)\n",
        "score = classifierKNN.score(X_test,y_test)"
      ],
      "execution_count": null,
      "outputs": []
    },
    {
      "cell_type": "code",
      "metadata": {
        "colab": {
          "base_uri": "https://localhost:8080/"
        },
        "id": "JAtyeR8waG-b",
        "outputId": "5847be31-3327-41fd-d69a-2a2562bfae6e"
      },
      "source": [
        "cm"
      ],
      "execution_count": null,
      "outputs": [
        {
          "output_type": "execute_result",
          "data": {
            "text/plain": [
              "array([[3998,  572],\n",
              "       [1259, 3906]])"
            ]
          },
          "metadata": {
            "tags": []
          },
          "execution_count": 67
        }
      ]
    },
    {
      "cell_type": "code",
      "metadata": {
        "colab": {
          "base_uri": "https://localhost:8080/"
        },
        "id": "ryi_YLjraI1W",
        "outputId": "3b47017e-135e-4737-904b-89a781ddb634"
      },
      "source": [
        "score"
      ],
      "execution_count": null,
      "outputs": [
        {
          "output_type": "execute_result",
          "data": {
            "text/plain": [
              "0.8119157678479713"
            ]
          },
          "metadata": {
            "tags": []
          },
          "execution_count": 68
        }
      ]
    },
    {
      "cell_type": "code",
      "metadata": {
        "colab": {
          "base_uri": "https://localhost:8080/"
        },
        "id": "3TYqxApsaCUw",
        "outputId": "2378541d-a091-43f7-e331-5f6912d73efd"
      },
      "source": [
        "print(\"F1 score :\",f1_score(y_test, y_pred, average=\"macro\"))\n",
        "print(\"Precision Score :\" , precision_score(y_test, y_pred, average=\"macro\"))\n",
        "print(\"Recall Score :\" , recall_score(y_test, y_pred, average=\"macro\"))   "
      ],
      "execution_count": null,
      "outputs": [
        {
          "output_type": "stream",
          "text": [
            "F1 score : 0.8118989684035103\n",
            "Precision Score : 0.8163871001067675\n",
            "Recall Score : 0.8155399179378116\n"
          ],
          "name": "stdout"
        }
      ]
    },
    {
      "cell_type": "code",
      "metadata": {
        "colab": {
          "base_uri": "https://localhost:8080/",
          "height": 309
        },
        "id": "-YyeYTzrtM0u",
        "outputId": "a8613c06-46dd-42d0-f799-fae596c93861"
      },
      "source": [
        "fig, ax = plt.subplots(figsize=(5, 5))\n",
        "plot_confusion_matrix(classifierKNN, X_test, y_test, normalize='true', cmap=plt.cm.Blues, ax=ax)\n",
        "plt.show()"
      ],
      "execution_count": null,
      "outputs": [
        {
          "output_type": "display_data",
          "data": {
            "image/png": "[encoded data removed]",
            "text/plain": [
              "<Figure size 360x360 with 2 Axes>"
            ]
          },
          "metadata": {
            "tags": [],
            "needs_background": "light"
          }
        }
      ]
    },
    {
      "cell_type": "code",
      "metadata": {
        "colab": {
          "base_uri": "https://localhost:8080/",
          "height": 402
        },
        "id": "VpdtLyaHtM01",
        "outputId": "00dfabac-701c-476e-f928-16ea851d305f"
      },
      "source": [
        "df = pd.DataFrame({'Actual': y_test, 'Predicted': y_pred})\n",
        "df"
      ],
      "execution_count": null,
      "outputs": [
        {
          "output_type": "execute_result",
          "data": {
            "text/html": [
              "<div>\n",
              "<style scoped>\n",
              "    .dataframe tbody tr th:only-of-type {\n",
              "        vertical-align: middle;\n",
              "    }\n",
              "\n",
              "    .dataframe tbody tr th {\n",
              "        vertical-align: top;\n",
              "    }\n",
              "\n",
              "    .dataframe thead th {\n",
              "        text-align: right;\n",
              "    }\n",
              "</style>\n",
              "<table border=\"1\" class=\"dataframe\">\n",
              "  <thead>\n",
              "    <tr style=\"text-align: right;\">\n",
              "      <th></th>\n",
              "      <th>Actual</th>\n",
              "      <th>Predicted</th>\n",
              "    </tr>\n",
              "  </thead>\n",
              "  <tbody>\n",
              "    <tr>\n",
              "      <th>8494</th>\n",
              "      <td>1</td>\n",
              "      <td>1</td>\n",
              "    </tr>\n",
              "    <tr>\n",
              "      <th>2838</th>\n",
              "      <td>0</td>\n",
              "      <td>0</td>\n",
              "    </tr>\n",
              "    <tr>\n",
              "      <th>10520</th>\n",
              "      <td>0</td>\n",
              "      <td>0</td>\n",
              "    </tr>\n",
              "    <tr>\n",
              "      <th>16918</th>\n",
              "      <td>1</td>\n",
              "      <td>1</td>\n",
              "    </tr>\n",
              "    <tr>\n",
              "      <th>2164</th>\n",
              "      <td>1</td>\n",
              "      <td>0</td>\n",
              "    </tr>\n",
              "    <tr>\n",
              "      <th>...</th>\n",
              "      <td>...</td>\n",
              "      <td>...</td>\n",
              "    </tr>\n",
              "    <tr>\n",
              "      <th>16902</th>\n",
              "      <td>1</td>\n",
              "      <td>1</td>\n",
              "    </tr>\n",
              "    <tr>\n",
              "      <th>18219</th>\n",
              "      <td>1</td>\n",
              "      <td>0</td>\n",
              "    </tr>\n",
              "    <tr>\n",
              "      <th>3858</th>\n",
              "      <td>0</td>\n",
              "      <td>0</td>\n",
              "    </tr>\n",
              "    <tr>\n",
              "      <th>1834</th>\n",
              "      <td>0</td>\n",
              "      <td>0</td>\n",
              "    </tr>\n",
              "    <tr>\n",
              "      <th>38707</th>\n",
              "      <td>1</td>\n",
              "      <td>1</td>\n",
              "    </tr>\n",
              "  </tbody>\n",
              "</table>\n",
              "<p>9735 rows × 2 columns</p>\n",
              "</div>"
            ],
            "text/plain": [
              "       Actual  Predicted\n",
              "8494        1          1\n",
              "2838        0          0\n",
              "10520       0          0\n",
              "16918       1          1\n",
              "2164        1          0\n",
              "...       ...        ...\n",
              "16902       1          1\n",
              "18219       1          0\n",
              "3858        0          0\n",
              "1834        0          0\n",
              "38707       1          1\n",
              "\n",
              "[9735 rows x 2 columns]"
            ]
          },
          "metadata": {
            "tags": []
          },
          "execution_count": 71
        }
      ]
    },
    {
      "cell_type": "code",
      "metadata": {
        "id": "08ysK3sntM01"
      },
      "source": [
        "X_val=np.array([[3,187,229,69,1.0,35,24.0,11.0]])"
      ],
      "execution_count": null,
      "outputs": []
    },
    {
      "cell_type": "code",
      "metadata": {
        "colab": {
          "base_uri": "https://localhost:8080/"
        },
        "id": "9i35u9HqtM02",
        "outputId": "2fba5912-17ab-4dc5-c198-fb856caa05cd"
      },
      "source": [
        "X_val"
      ],
      "execution_count": null,
      "outputs": [
        {
          "output_type": "execute_result",
          "data": {
            "text/plain": [
              "array([[  3., 187., 229.,  69.,   1.,  35.,  24.,  11.]])"
            ]
          },
          "metadata": {
            "tags": []
          },
          "execution_count": 73
        }
      ]
    },
    {
      "cell_type": "code",
      "metadata": {
        "id": "p6EewM_rtM02"
      },
      "source": [
        "y_pred_val = classifierKNN.predict(X_val)"
      ],
      "execution_count": null,
      "outputs": []
    },
    {
      "cell_type": "code",
      "metadata": {
        "colab": {
          "base_uri": "https://localhost:8080/"
        },
        "id": "HteKljJBtM02",
        "outputId": "936daa8a-0447-4076-ebee-043ce8311fce"
      },
      "source": [
        "y_pred_val"
      ],
      "execution_count": null,
      "outputs": [
        {
          "output_type": "execute_result",
          "data": {
            "text/plain": [
              "array([0])"
            ]
          },
          "metadata": {
            "tags": []
          },
          "execution_count": 75
        }
      ]
    },
    {
      "cell_type": "markdown",
      "metadata": {
        "id": "j5WrJa0UvwHi"
      },
      "source": [
        "### Decision Tree Classification"
      ]
    },
    {
      "cell_type": "code",
      "metadata": {
        "colab": {
          "base_uri": "https://localhost:8080/"
        },
        "id": "aBpOLOTQuAnJ",
        "outputId": "33761c95-8841-491d-f7f8-000b28c0c30f"
      },
      "source": [
        "from sklearn.tree import DecisionTreeClassifier\n",
        "classifierDT = DecisionTreeClassifier(criterion = 'entropy', random_state = None)\n",
        "classifierDT.fit(X_train, y_train)"
      ],
      "execution_count": null,
      "outputs": [
        {
          "output_type": "execute_result",
          "data": {
            "text/plain": [
              "DecisionTreeClassifier(ccp_alpha=0.0, class_weight=None, criterion='entropy',\n",
              "                       max_depth=None, max_features=None, max_leaf_nodes=None,\n",
              "                       min_impurity_decrease=0.0, min_impurity_split=None,\n",
              "                       min_samples_leaf=1, min_samples_split=2,\n",
              "                       min_weight_fraction_leaf=0.0, presort='deprecated',\n",
              "                       random_state=None, splitter='best')"
            ]
          },
          "metadata": {
            "tags": []
          },
          "execution_count": 76
        }
      ]
    },
    {
      "cell_type": "code",
      "metadata": {
        "id": "REK2ZqzAuNfs"
      },
      "source": [
        "from sklearn.metrics import accuracy_score, f1_score, precision_score, recall_score, classification_report, confusion_matrix"
      ],
      "execution_count": null,
      "outputs": []
    },
    {
      "cell_type": "code",
      "metadata": {
        "id": "edOG7CNUuQSa"
      },
      "source": [
        "from sklearn.metrics import plot_confusion_matrix"
      ],
      "execution_count": null,
      "outputs": []
    },
    {
      "cell_type": "code",
      "metadata": {
        "id": "hJNUsEqauRIj"
      },
      "source": [
        "# Predicting the Test set results\n",
        "y_pred = classifierDT.predict(X_test)\n",
        "\n",
        "# Making the Confusion Matrix\n",
        "cm = confusion_matrix(y_test, y_pred)\n",
        "score = classifierDT.score(X_test,y_test)"
      ],
      "execution_count": null,
      "outputs": []
    },
    {
      "cell_type": "code",
      "metadata": {
        "colab": {
          "base_uri": "https://localhost:8080/"
        },
        "id": "nq5SdqwwuR77",
        "outputId": "95ba248b-e25b-4e90-b2d2-d83f35a4677c"
      },
      "source": [
        "cm"
      ],
      "execution_count": null,
      "outputs": [
        {
          "output_type": "execute_result",
          "data": {
            "text/plain": [
              "array([[3797,  773],\n",
              "       [ 763, 4402]])"
            ]
          },
          "metadata": {
            "tags": []
          },
          "execution_count": 80
        }
      ]
    },
    {
      "cell_type": "code",
      "metadata": {
        "colab": {
          "base_uri": "https://localhost:8080/"
        },
        "id": "9sp5a4rhvPlB",
        "outputId": "e39410d0-ac39-412f-a7e0-ae92be8658aa"
      },
      "source": [
        "score"
      ],
      "execution_count": null,
      "outputs": [
        {
          "output_type": "execute_result",
          "data": {
            "text/plain": [
              "0.8422187981510015"
            ]
          },
          "metadata": {
            "tags": []
          },
          "execution_count": 81
        }
      ]
    },
    {
      "cell_type": "code",
      "metadata": {
        "colab": {
          "base_uri": "https://localhost:8080/"
        },
        "id": "KC661BYavgBE",
        "outputId": "2af4bd41-c093-4f22-c178-eae554ff0d84"
      },
      "source": [
        "print(\"F1 score :\",f1_score(y_test, y_pred, average=\"macro\"))\n",
        "print(\"Precision Score :\" , precision_score(y_test, y_pred, average=\"macro\"))\n",
        "print(\"Recall Score :\" , recall_score(y_test, y_pred, average=\"macro\"))   "
      ],
      "execution_count": null,
      "outputs": [
        {
          "output_type": "stream",
          "text": [
            "F1 score : 0.8416070471440888\n",
            "Precision Score : 0.8416517289600813\n",
            "Recall Score : 0.8415641595404179\n"
          ],
          "name": "stdout"
        }
      ]
    },
    {
      "cell_type": "code",
      "metadata": {
        "colab": {
          "base_uri": "https://localhost:8080/",
          "height": 309
        },
        "id": "sbYV0K2Ov3Tt",
        "outputId": "af52b35e-9654-41eb-e80d-88d81c1862ce"
      },
      "source": [
        "fig, ax = plt.subplots(figsize=(5, 5))\n",
        "plot_confusion_matrix(classifierDT, X_test, y_test, normalize='true', cmap=plt.cm.Blues, ax=ax)\n",
        "plt.show()"
      ],
      "execution_count": null,
      "outputs": [
        {
          "output_type": "display_data",
          "data": {
            "image/png": "[encoded data removed]",
            "text/plain": [
              "<Figure size 360x360 with 2 Axes>"
            ]
          },
          "metadata": {
            "tags": [],
            "needs_background": "light"
          }
        }
      ]
    },
    {
      "cell_type": "code",
      "metadata": {
        "colab": {
          "base_uri": "https://localhost:8080/",
          "height": 402
        },
        "id": "GD7DsZCgv4Yl",
        "outputId": "f8570501-86dc-409a-afd5-1da0ca8db6ec"
      },
      "source": [
        "df = pd.DataFrame({'Actual': y_test, 'Predicted': y_pred})\n",
        "df"
      ],
      "execution_count": null,
      "outputs": [
        {
          "output_type": "execute_result",
          "data": {
            "text/html": [
              "<div>\n",
              "<style scoped>\n",
              "    .dataframe tbody tr th:only-of-type {\n",
              "        vertical-align: middle;\n",
              "    }\n",
              "\n",
              "    .dataframe tbody tr th {\n",
              "        vertical-align: top;\n",
              "    }\n",
              "\n",
              "    .dataframe thead th {\n",
              "        text-align: right;\n",
              "    }\n",
              "</style>\n",
              "<table border=\"1\" class=\"dataframe\">\n",
              "  <thead>\n",
              "    <tr style=\"text-align: right;\">\n",
              "      <th></th>\n",
              "      <th>Actual</th>\n",
              "      <th>Predicted</th>\n",
              "    </tr>\n",
              "  </thead>\n",
              "  <tbody>\n",
              "    <tr>\n",
              "      <th>8494</th>\n",
              "      <td>1</td>\n",
              "      <td>1</td>\n",
              "    </tr>\n",
              "    <tr>\n",
              "      <th>2838</th>\n",
              "      <td>0</td>\n",
              "      <td>0</td>\n",
              "    </tr>\n",
              "    <tr>\n",
              "      <th>10520</th>\n",
              "      <td>0</td>\n",
              "      <td>0</td>\n",
              "    </tr>\n",
              "    <tr>\n",
              "      <th>16918</th>\n",
              "      <td>1</td>\n",
              "      <td>1</td>\n",
              "    </tr>\n",
              "    <tr>\n",
              "      <th>2164</th>\n",
              "      <td>1</td>\n",
              "      <td>1</td>\n",
              "    </tr>\n",
              "    <tr>\n",
              "      <th>...</th>\n",
              "      <td>...</td>\n",
              "      <td>...</td>\n",
              "    </tr>\n",
              "    <tr>\n",
              "      <th>16902</th>\n",
              "      <td>1</td>\n",
              "      <td>1</td>\n",
              "    </tr>\n",
              "    <tr>\n",
              "      <th>18219</th>\n",
              "      <td>1</td>\n",
              "      <td>1</td>\n",
              "    </tr>\n",
              "    <tr>\n",
              "      <th>3858</th>\n",
              "      <td>0</td>\n",
              "      <td>0</td>\n",
              "    </tr>\n",
              "    <tr>\n",
              "      <th>1834</th>\n",
              "      <td>0</td>\n",
              "      <td>0</td>\n",
              "    </tr>\n",
              "    <tr>\n",
              "      <th>38707</th>\n",
              "      <td>1</td>\n",
              "      <td>1</td>\n",
              "    </tr>\n",
              "  </tbody>\n",
              "</table>\n",
              "<p>9735 rows × 2 columns</p>\n",
              "</div>"
            ],
            "text/plain": [
              "       Actual  Predicted\n",
              "8494        1          1\n",
              "2838        0          0\n",
              "10520       0          0\n",
              "16918       1          1\n",
              "2164        1          1\n",
              "...       ...        ...\n",
              "16902       1          1\n",
              "18219       1          1\n",
              "3858        0          0\n",
              "1834        0          0\n",
              "38707       1          1\n",
              "\n",
              "[9735 rows x 2 columns]"
            ]
          },
          "metadata": {
            "tags": []
          },
          "execution_count": 84
        }
      ]
    },
    {
      "cell_type": "code",
      "metadata": {
        "id": "EUvgh7Y3yW8x"
      },
      "source": [
        "X_val=np.array([[3,187,229,69,1.0,35,24.0,11.0]])"
      ],
      "execution_count": null,
      "outputs": []
    },
    {
      "cell_type": "code",
      "metadata": {
        "colab": {
          "base_uri": "https://localhost:8080/"
        },
        "id": "CzEsEXWPzh66",
        "outputId": "bb85bcd6-d740-4f1b-9387-67c4d2fa9cad"
      },
      "source": [
        "X_val"
      ],
      "execution_count": null,
      "outputs": [
        {
          "output_type": "execute_result",
          "data": {
            "text/plain": [
              "array([[  3., 187., 229.,  69.,   1.,  35.,  24.,  11.]])"
            ]
          },
          "metadata": {
            "tags": []
          },
          "execution_count": 86
        }
      ]
    },
    {
      "cell_type": "code",
      "metadata": {
        "id": "6J9wdu4VzwyM"
      },
      "source": [
        "y_pred_val = classifierDT.predict(X_val)"
      ],
      "execution_count": null,
      "outputs": []
    },
    {
      "cell_type": "code",
      "metadata": {
        "colab": {
          "base_uri": "https://localhost:8080/"
        },
        "id": "P3Ctaig-z0uJ",
        "outputId": "cb1b34b9-f3c0-418a-bff0-cc94737cdb1d"
      },
      "source": [
        "y_pred_val"
      ],
      "execution_count": null,
      "outputs": [
        {
          "output_type": "execute_result",
          "data": {
            "text/plain": [
              "array([0])"
            ]
          },
          "metadata": {
            "tags": []
          },
          "execution_count": 88
        }
      ]
    },
    {
      "cell_type": "markdown",
      "metadata": {
        "id": "OeK3gSa3110i"
      },
      "source": [
        "### Random Forest Classification"
      ]
    },
    {
      "cell_type": "code",
      "metadata": {
        "colab": {
          "base_uri": "https://localhost:8080/",
          "height": 402
        },
        "id": "T5bxvoyR110t",
        "outputId": "19956e4b-4db8-49a6-cadc-44e24fcfd42b"
      },
      "source": [
        "from sklearn.ensemble import RandomForestClassifier\n",
        "classifierRF = RandomForestClassifier(criterion = 'entropy', random_state = None,n_estimators=1000)\n",
        "classifierRF.fit(X_train, y_train)\n",
        "X_train"
      ],
      "execution_count": null,
      "outputs": [
        {
          "output_type": "execute_result",
          "data": {
            "text/html": [
              "<div>\n",
              "<style scoped>\n",
              "    .dataframe tbody tr th:only-of-type {\n",
              "        vertical-align: middle;\n",
              "    }\n",
              "\n",
              "    .dataframe tbody tr th {\n",
              "        vertical-align: top;\n",
              "    }\n",
              "\n",
              "    .dataframe thead th {\n",
              "        text-align: right;\n",
              "    }\n",
              "</style>\n",
              "<table border=\"1\" class=\"dataframe\">\n",
              "  <thead>\n",
              "    <tr style=\"text-align: right;\">\n",
              "      <th></th>\n",
              "      <th>AIRLINE</th>\n",
              "      <th>ORIGIN_AIRPORT</th>\n",
              "      <th>DESTINATION_AIRPORT</th>\n",
              "      <th>DISTANCE</th>\n",
              "      <th>DEPARTURE_DELAY</th>\n",
              "      <th>SCHEDULED_TIME</th>\n",
              "      <th>AIR_TIME</th>\n",
              "      <th>TAXI_OUT</th>\n",
              "    </tr>\n",
              "  </thead>\n",
              "  <tbody>\n",
              "    <tr>\n",
              "      <th>37210</th>\n",
              "      <td>9</td>\n",
              "      <td>35</td>\n",
              "      <td>185</td>\n",
              "      <td>861</td>\n",
              "      <td>13.0</td>\n",
              "      <td>180</td>\n",
              "      <td>159.0</td>\n",
              "      <td>12.0</td>\n",
              "    </tr>\n",
              "    <tr>\n",
              "      <th>6204</th>\n",
              "      <td>5</td>\n",
              "      <td>81</td>\n",
              "      <td>164</td>\n",
              "      <td>628</td>\n",
              "      <td>-6.0</td>\n",
              "      <td>112</td>\n",
              "      <td>90.0</td>\n",
              "      <td>10.0</td>\n",
              "    </tr>\n",
              "    <tr>\n",
              "      <th>25825</th>\n",
              "      <td>9</td>\n",
              "      <td>81</td>\n",
              "      <td>35</td>\n",
              "      <td>1754</td>\n",
              "      <td>43.0</td>\n",
              "      <td>225</td>\n",
              "      <td>186.0</td>\n",
              "      <td>24.0</td>\n",
              "    </tr>\n",
              "    <tr>\n",
              "      <th>14432</th>\n",
              "      <td>9</td>\n",
              "      <td>165</td>\n",
              "      <td>277</td>\n",
              "      <td>226</td>\n",
              "      <td>0.0</td>\n",
              "      <td>60</td>\n",
              "      <td>39.0</td>\n",
              "      <td>10.0</td>\n",
              "    </tr>\n",
              "    <tr>\n",
              "      <th>24944</th>\n",
              "      <td>4</td>\n",
              "      <td>228</td>\n",
              "      <td>88</td>\n",
              "      <td>1671</td>\n",
              "      <td>2.0</td>\n",
              "      <td>225</td>\n",
              "      <td>183.0</td>\n",
              "      <td>17.0</td>\n",
              "    </tr>\n",
              "    <tr>\n",
              "      <th>...</th>\n",
              "      <td>...</td>\n",
              "      <td>...</td>\n",
              "      <td>...</td>\n",
              "      <td>...</td>\n",
              "      <td>...</td>\n",
              "      <td>...</td>\n",
              "      <td>...</td>\n",
              "      <td>...</td>\n",
              "    </tr>\n",
              "    <tr>\n",
              "      <th>44583</th>\n",
              "      <td>8</td>\n",
              "      <td>207</td>\n",
              "      <td>150</td>\n",
              "      <td>546</td>\n",
              "      <td>-3.0</td>\n",
              "      <td>124</td>\n",
              "      <td>101.0</td>\n",
              "      <td>12.0</td>\n",
              "    </tr>\n",
              "    <tr>\n",
              "      <th>30290</th>\n",
              "      <td>12</td>\n",
              "      <td>100</td>\n",
              "      <td>142</td>\n",
              "      <td>1400</td>\n",
              "      <td>9.0</td>\n",
              "      <td>238</td>\n",
              "      <td>212.0</td>\n",
              "      <td>59.0</td>\n",
              "    </tr>\n",
              "    <tr>\n",
              "      <th>6640</th>\n",
              "      <td>9</td>\n",
              "      <td>2</td>\n",
              "      <td>164</td>\n",
              "      <td>486</td>\n",
              "      <td>13.0</td>\n",
              "      <td>95</td>\n",
              "      <td>72.0</td>\n",
              "      <td>7.0</td>\n",
              "    </tr>\n",
              "    <tr>\n",
              "      <th>35356</th>\n",
              "      <td>11</td>\n",
              "      <td>108</td>\n",
              "      <td>62</td>\n",
              "      <td>631</td>\n",
              "      <td>0.0</td>\n",
              "      <td>114</td>\n",
              "      <td>89.0</td>\n",
              "      <td>10.0</td>\n",
              "    </tr>\n",
              "    <tr>\n",
              "      <th>23729</th>\n",
              "      <td>4</td>\n",
              "      <td>18</td>\n",
              "      <td>226</td>\n",
              "      <td>666</td>\n",
              "      <td>2.0</td>\n",
              "      <td>128</td>\n",
              "      <td>99.0</td>\n",
              "      <td>12.0</td>\n",
              "    </tr>\n",
              "  </tbody>\n",
              "</table>\n",
              "<p>38937 rows × 8 columns</p>\n",
              "</div>"
            ],
            "text/plain": [
              "       AIRLINE  ORIGIN_AIRPORT  ...  AIR_TIME  TAXI_OUT\n",
              "37210        9              35  ...     159.0      12.0\n",
              "6204         5              81  ...      90.0      10.0\n",
              "25825        9              81  ...     186.0      24.0\n",
              "14432        9             165  ...      39.0      10.0\n",
              "24944        4             228  ...     183.0      17.0\n",
              "...        ...             ...  ...       ...       ...\n",
              "44583        8             207  ...     101.0      12.0\n",
              "30290       12             100  ...     212.0      59.0\n",
              "6640         9               2  ...      72.0       7.0\n",
              "35356       11             108  ...      89.0      10.0\n",
              "23729        4              18  ...      99.0      12.0\n",
              "\n",
              "[38937 rows x 8 columns]"
            ]
          },
          "metadata": {
            "tags": []
          },
          "execution_count": 89
        }
      ]
    },
    {
      "cell_type": "code",
      "metadata": {
        "id": "8gTzEsFO110v"
      },
      "source": [
        "from sklearn.metrics import accuracy_score, f1_score, precision_score, recall_score, classification_report, confusion_matrix"
      ],
      "execution_count": null,
      "outputs": []
    },
    {
      "cell_type": "code",
      "metadata": {
        "id": "BIA4_Nmj110w"
      },
      "source": [
        "from sklearn.metrics import plot_confusion_matrix"
      ],
      "execution_count": null,
      "outputs": []
    },
    {
      "cell_type": "code",
      "metadata": {
        "id": "UgM9puwx110w"
      },
      "source": [
        "# Predicting the Test set results\n",
        "y_pred = classifierRF.predict(X_test)\n",
        "\n",
        "# Making the Confusion Matrix\n",
        "cm = confusion_matrix(y_test, y_pred)\n",
        "score = classifierRF.score(X_test,y_test)"
      ],
      "execution_count": null,
      "outputs": []
    },
    {
      "cell_type": "code",
      "metadata": {
        "colab": {
          "base_uri": "https://localhost:8080/"
        },
        "id": "ZJnmDjc1110x",
        "outputId": "461be5d0-8f1b-4913-9dea-c2bb07b8c72d"
      },
      "source": [
        "cm"
      ],
      "execution_count": null,
      "outputs": [
        {
          "output_type": "execute_result",
          "data": {
            "text/plain": [
              "array([[4108,  462],\n",
              "       [ 708, 4457]])"
            ]
          },
          "metadata": {
            "tags": []
          },
          "execution_count": 93
        }
      ]
    },
    {
      "cell_type": "code",
      "metadata": {
        "colab": {
          "base_uri": "https://localhost:8080/"
        },
        "id": "GNLqCSBE110z",
        "outputId": "ba16c9f2-7400-4499-c16d-66ea78f084e7"
      },
      "source": [
        "score"
      ],
      "execution_count": null,
      "outputs": [
        {
          "output_type": "execute_result",
          "data": {
            "text/plain": [
              "0.8798151001540832"
            ]
          },
          "metadata": {
            "tags": []
          },
          "execution_count": 94
        }
      ]
    },
    {
      "cell_type": "code",
      "metadata": {
        "colab": {
          "base_uri": "https://localhost:8080/",
          "height": 402
        },
        "id": "z89_D84qBrj2",
        "outputId": "6cc368a5-c94f-460b-d3ed-2721e90d4d04"
      },
      "source": [
        "X_test"
      ],
      "execution_count": null,
      "outputs": [
        {
          "output_type": "execute_result",
          "data": {
            "text/html": [
              "<div>\n",
              "<style scoped>\n",
              "    .dataframe tbody tr th:only-of-type {\n",
              "        vertical-align: middle;\n",
              "    }\n",
              "\n",
              "    .dataframe tbody tr th {\n",
              "        vertical-align: top;\n",
              "    }\n",
              "\n",
              "    .dataframe thead th {\n",
              "        text-align: right;\n",
              "    }\n",
              "</style>\n",
              "<table border=\"1\" class=\"dataframe\">\n",
              "  <thead>\n",
              "    <tr style=\"text-align: right;\">\n",
              "      <th></th>\n",
              "      <th>AIRLINE</th>\n",
              "      <th>ORIGIN_AIRPORT</th>\n",
              "      <th>DESTINATION_AIRPORT</th>\n",
              "      <th>DISTANCE</th>\n",
              "      <th>DEPARTURE_DELAY</th>\n",
              "      <th>SCHEDULED_TIME</th>\n",
              "      <th>AIR_TIME</th>\n",
              "      <th>TAXI_OUT</th>\n",
              "    </tr>\n",
              "  </thead>\n",
              "  <tbody>\n",
              "    <tr>\n",
              "      <th>8494</th>\n",
              "      <td>8</td>\n",
              "      <td>20</td>\n",
              "      <td>166</td>\n",
              "      <td>1242</td>\n",
              "      <td>34.0</td>\n",
              "      <td>212</td>\n",
              "      <td>162.0</td>\n",
              "      <td>13.0</td>\n",
              "    </tr>\n",
              "    <tr>\n",
              "      <th>2838</th>\n",
              "      <td>8</td>\n",
              "      <td>26</td>\n",
              "      <td>227</td>\n",
              "      <td>425</td>\n",
              "      <td>-1.0</td>\n",
              "      <td>93</td>\n",
              "      <td>68.0</td>\n",
              "      <td>14.0</td>\n",
              "    </tr>\n",
              "    <tr>\n",
              "      <th>10520</th>\n",
              "      <td>12</td>\n",
              "      <td>100</td>\n",
              "      <td>266</td>\n",
              "      <td>2565</td>\n",
              "      <td>1.0</td>\n",
              "      <td>399</td>\n",
              "      <td>355.0</td>\n",
              "      <td>11.0</td>\n",
              "    </tr>\n",
              "    <tr>\n",
              "      <th>16918</th>\n",
              "      <td>8</td>\n",
              "      <td>218</td>\n",
              "      <td>82</td>\n",
              "      <td>802</td>\n",
              "      <td>28.0</td>\n",
              "      <td>156</td>\n",
              "      <td>138.0</td>\n",
              "      <td>20.0</td>\n",
              "    </tr>\n",
              "    <tr>\n",
              "      <th>2164</th>\n",
              "      <td>12</td>\n",
              "      <td>218</td>\n",
              "      <td>227</td>\n",
              "      <td>1440</td>\n",
              "      <td>-4.0</td>\n",
              "      <td>238</td>\n",
              "      <td>217.0</td>\n",
              "      <td>40.0</td>\n",
              "    </tr>\n",
              "    <tr>\n",
              "      <th>...</th>\n",
              "      <td>...</td>\n",
              "      <td>...</td>\n",
              "      <td>...</td>\n",
              "      <td>...</td>\n",
              "      <td>...</td>\n",
              "      <td>...</td>\n",
              "      <td>...</td>\n",
              "      <td>...</td>\n",
              "    </tr>\n",
              "    <tr>\n",
              "      <th>16902</th>\n",
              "      <td>1</td>\n",
              "      <td>218</td>\n",
              "      <td>82</td>\n",
              "      <td>802</td>\n",
              "      <td>20.0</td>\n",
              "      <td>155</td>\n",
              "      <td>122.0</td>\n",
              "      <td>18.0</td>\n",
              "    </tr>\n",
              "    <tr>\n",
              "      <th>18219</th>\n",
              "      <td>2</td>\n",
              "      <td>171</td>\n",
              "      <td>82</td>\n",
              "      <td>785</td>\n",
              "      <td>3.0</td>\n",
              "      <td>155</td>\n",
              "      <td>140.0</td>\n",
              "      <td>9.0</td>\n",
              "    </tr>\n",
              "    <tr>\n",
              "      <th>3858</th>\n",
              "      <td>1</td>\n",
              "      <td>165</td>\n",
              "      <td>217</td>\n",
              "      <td>1514</td>\n",
              "      <td>-10.0</td>\n",
              "      <td>225</td>\n",
              "      <td>183.0</td>\n",
              "      <td>13.0</td>\n",
              "    </tr>\n",
              "    <tr>\n",
              "      <th>1834</th>\n",
              "      <td>11</td>\n",
              "      <td>272</td>\n",
              "      <td>227</td>\n",
              "      <td>621</td>\n",
              "      <td>-7.0</td>\n",
              "      <td>113</td>\n",
              "      <td>85.0</td>\n",
              "      <td>18.0</td>\n",
              "    </tr>\n",
              "    <tr>\n",
              "      <th>38707</th>\n",
              "      <td>9</td>\n",
              "      <td>18</td>\n",
              "      <td>148</td>\n",
              "      <td>432</td>\n",
              "      <td>44.0</td>\n",
              "      <td>95</td>\n",
              "      <td>63.0</td>\n",
              "      <td>13.0</td>\n",
              "    </tr>\n",
              "  </tbody>\n",
              "</table>\n",
              "<p>9735 rows × 8 columns</p>\n",
              "</div>"
            ],
            "text/plain": [
              "       AIRLINE  ORIGIN_AIRPORT  ...  AIR_TIME  TAXI_OUT\n",
              "8494         8              20  ...     162.0      13.0\n",
              "2838         8              26  ...      68.0      14.0\n",
              "10520       12             100  ...     355.0      11.0\n",
              "16918        8             218  ...     138.0      20.0\n",
              "2164        12             218  ...     217.0      40.0\n",
              "...        ...             ...  ...       ...       ...\n",
              "16902        1             218  ...     122.0      18.0\n",
              "18219        2             171  ...     140.0       9.0\n",
              "3858         1             165  ...     183.0      13.0\n",
              "1834        11             272  ...      85.0      18.0\n",
              "38707        9              18  ...      63.0      13.0\n",
              "\n",
              "[9735 rows x 8 columns]"
            ]
          },
          "metadata": {
            "tags": []
          },
          "execution_count": 95
        }
      ]
    },
    {
      "cell_type": "code",
      "metadata": {
        "colab": {
          "base_uri": "https://localhost:8080/"
        },
        "id": "k-W5XlNo1100",
        "outputId": "328de015-1422-4c2b-b06c-552c99a760dd"
      },
      "source": [
        "print(\"F1 score :\",f1_score(y_test, y_pred, average=\"macro\"))\n",
        "print(\"Precision Score :\" , precision_score(y_test, y_pred, average=\"macro\"))\n",
        "print(\"Recall Score :\" , recall_score(y_test, y_pred, average=\"macro\"))   "
      ],
      "execution_count": null,
      "outputs": [
        {
          "output_type": "stream",
          "text": [
            "F1 score : 0.8796604368182612\n",
            "Precision Score : 0.879534252228291\n",
            "Recall Score : 0.8809147159068041\n"
          ],
          "name": "stdout"
        }
      ]
    },
    {
      "cell_type": "code",
      "metadata": {
        "id": "4dOF4Dpr1100",
        "colab": {
          "base_uri": "https://localhost:8080/",
          "height": 309
        },
        "outputId": "5683d12f-14d8-4756-8e6e-c2c17859ddf7"
      },
      "source": [
        "fig, ax = plt.subplots(figsize=(5, 5))\n",
        "plot_confusion_matrix(classifierRF, X_test, y_test, normalize='true', cmap=plt.cm.Blues, ax=ax)\n",
        "plt.show()"
      ],
      "execution_count": null,
      "outputs": [
        {
          "output_type": "display_data",
          "data": {
            "image/png": "[encoded data removed]",
            "text/plain": [
              "<Figure size 360x360 with 2 Axes>"
            ]
          },
          "metadata": {
            "tags": [],
            "needs_background": "light"
          }
        }
      ]
    },
    {
      "cell_type": "code",
      "metadata": {
        "id": "hQPV1eft1101",
        "colab": {
          "base_uri": "https://localhost:8080/",
          "height": 402
        },
        "outputId": "3d8d3bed-eaf5-4910-ac04-db9249246222"
      },
      "source": [
        "df = pd.DataFrame({'Actual': y_test, 'Predicted': y_pred})\n",
        "df"
      ],
      "execution_count": null,
      "outputs": [
        {
          "output_type": "execute_result",
          "data": {
            "text/html": [
              "<div>\n",
              "<style scoped>\n",
              "    .dataframe tbody tr th:only-of-type {\n",
              "        vertical-align: middle;\n",
              "    }\n",
              "\n",
              "    .dataframe tbody tr th {\n",
              "        vertical-align: top;\n",
              "    }\n",
              "\n",
              "    .dataframe thead th {\n",
              "        text-align: right;\n",
              "    }\n",
              "</style>\n",
              "<table border=\"1\" class=\"dataframe\">\n",
              "  <thead>\n",
              "    <tr style=\"text-align: right;\">\n",
              "      <th></th>\n",
              "      <th>Actual</th>\n",
              "      <th>Predicted</th>\n",
              "    </tr>\n",
              "  </thead>\n",
              "  <tbody>\n",
              "    <tr>\n",
              "      <th>8494</th>\n",
              "      <td>1</td>\n",
              "      <td>1</td>\n",
              "    </tr>\n",
              "    <tr>\n",
              "      <th>2838</th>\n",
              "      <td>0</td>\n",
              "      <td>0</td>\n",
              "    </tr>\n",
              "    <tr>\n",
              "      <th>10520</th>\n",
              "      <td>0</td>\n",
              "      <td>0</td>\n",
              "    </tr>\n",
              "    <tr>\n",
              "      <th>16918</th>\n",
              "      <td>1</td>\n",
              "      <td>1</td>\n",
              "    </tr>\n",
              "    <tr>\n",
              "      <th>2164</th>\n",
              "      <td>1</td>\n",
              "      <td>1</td>\n",
              "    </tr>\n",
              "    <tr>\n",
              "      <th>...</th>\n",
              "      <td>...</td>\n",
              "      <td>...</td>\n",
              "    </tr>\n",
              "    <tr>\n",
              "      <th>16902</th>\n",
              "      <td>1</td>\n",
              "      <td>1</td>\n",
              "    </tr>\n",
              "    <tr>\n",
              "      <th>18219</th>\n",
              "      <td>1</td>\n",
              "      <td>1</td>\n",
              "    </tr>\n",
              "    <tr>\n",
              "      <th>3858</th>\n",
              "      <td>0</td>\n",
              "      <td>0</td>\n",
              "    </tr>\n",
              "    <tr>\n",
              "      <th>1834</th>\n",
              "      <td>0</td>\n",
              "      <td>0</td>\n",
              "    </tr>\n",
              "    <tr>\n",
              "      <th>38707</th>\n",
              "      <td>1</td>\n",
              "      <td>1</td>\n",
              "    </tr>\n",
              "  </tbody>\n",
              "</table>\n",
              "<p>9735 rows × 2 columns</p>\n",
              "</div>"
            ],
            "text/plain": [
              "       Actual  Predicted\n",
              "8494        1          1\n",
              "2838        0          0\n",
              "10520       0          0\n",
              "16918       1          1\n",
              "2164        1          1\n",
              "...       ...        ...\n",
              "16902       1          1\n",
              "18219       1          1\n",
              "3858        0          0\n",
              "1834        0          0\n",
              "38707       1          1\n",
              "\n",
              "[9735 rows x 2 columns]"
            ]
          },
          "metadata": {
            "tags": []
          },
          "execution_count": 98
        }
      ]
    },
    {
      "cell_type": "code",
      "metadata": {
        "id": "QkkPVZta1101"
      },
      "source": [
        "X_val=np.array([[3,187,229,69,1.0,35,24.0,11.0]])"
      ],
      "execution_count": null,
      "outputs": []
    },
    {
      "cell_type": "code",
      "metadata": {
        "id": "Q6F33GaM1101",
        "colab": {
          "base_uri": "https://localhost:8080/"
        },
        "outputId": "ec5f6c6c-fd55-4a0c-9772-e5febaf2be9b"
      },
      "source": [
        "X_val"
      ],
      "execution_count": null,
      "outputs": [
        {
          "output_type": "execute_result",
          "data": {
            "text/plain": [
              "array([[  3., 187., 229.,  69.,   1.,  35.,  24.,  11.]])"
            ]
          },
          "metadata": {
            "tags": []
          },
          "execution_count": 100
        }
      ]
    },
    {
      "cell_type": "code",
      "metadata": {
        "id": "_IW_qSqL1102"
      },
      "source": [
        "y_pred_val = classifierRF.predict(X_val)"
      ],
      "execution_count": null,
      "outputs": []
    },
    {
      "cell_type": "code",
      "metadata": {
        "colab": {
          "base_uri": "https://localhost:8080/"
        },
        "id": "r0XIr5Ho1102",
        "outputId": "08bb2a3f-5dd7-428b-c729-a7c588958352"
      },
      "source": [
        "y_pred_val"
      ],
      "execution_count": null,
      "outputs": [
        {
          "output_type": "execute_result",
          "data": {
            "text/plain": [
              "array([0])"
            ]
          },
          "metadata": {
            "tags": []
          },
          "execution_count": 102
        }
      ]
    },
    {
      "cell_type": "markdown",
      "metadata": {
        "id": "iKWKvy5sDX6W"
      },
      "source": [
        "### XGBoost Classification"
      ]
    },
    {
      "cell_type": "code",
      "metadata": {
        "colab": {
          "base_uri": "https://localhost:8080/"
        },
        "id": "j7NCPhgoDX6m",
        "outputId": "54aa6a6c-fa9f-456b-a472-e513be1d935a"
      },
      "source": [
        "from xgboost import XGBClassifier\n",
        "classifierXGB = XGBClassifier(n_estimators=2000)\n",
        "classifierXGB.fit(X_train, y_train)"
      ],
      "execution_count": null,
      "outputs": [
        {
          "output_type": "execute_result",
          "data": {
            "text/plain": [
              "XGBClassifier(base_score=0.5, booster='gbtree', colsample_bylevel=1,\n",
              "              colsample_bynode=1, colsample_bytree=1, gamma=0,\n",
              "              learning_rate=0.1, max_delta_step=0, max_depth=3,\n",
              "              min_child_weight=1, missing=None, n_estimators=2000, n_jobs=1,\n",
              "              nthread=None, objective='binary:logistic', random_state=0,\n",
              "              reg_alpha=0, reg_lambda=1, scale_pos_weight=1, seed=None,\n",
              "              silent=None, subsample=1, verbosity=1)"
            ]
          },
          "metadata": {
            "tags": []
          },
          "execution_count": 103
        }
      ]
    },
    {
      "cell_type": "code",
      "metadata": {
        "id": "j1cqA9AJDX6n"
      },
      "source": [
        "from sklearn.metrics import accuracy_score, f1_score, precision_score, recall_score, classification_report, confusion_matrix"
      ],
      "execution_count": null,
      "outputs": []
    },
    {
      "cell_type": "code",
      "metadata": {
        "id": "I-dtolGHDX6o"
      },
      "source": [
        "from sklearn.metrics import plot_confusion_matrix"
      ],
      "execution_count": null,
      "outputs": []
    },
    {
      "cell_type": "code",
      "metadata": {
        "id": "nr-2l4-DDX6o"
      },
      "source": [
        "# Predicting the Test set results\n",
        "y_pred = classifierXGB.predict(X_test)\n",
        "\n",
        "# Making the Confusion Matrix\n",
        "cm = confusion_matrix(y_test, y_pred)\n",
        "score = classifierXGB.score(X_test,y_test)"
      ],
      "execution_count": null,
      "outputs": []
    },
    {
      "cell_type": "code",
      "metadata": {
        "colab": {
          "base_uri": "https://localhost:8080/"
        },
        "id": "qEGzWRApDX6p",
        "outputId": "c515350d-8987-49ef-9b7a-c134b33f5a31"
      },
      "source": [
        "cm"
      ],
      "execution_count": null,
      "outputs": [
        {
          "output_type": "execute_result",
          "data": {
            "text/plain": [
              "array([[4254,  316],\n",
              "       [ 412, 4753]])"
            ]
          },
          "metadata": {
            "tags": []
          },
          "execution_count": 107
        }
      ]
    },
    {
      "cell_type": "code",
      "metadata": {
        "colab": {
          "base_uri": "https://localhost:8080/"
        },
        "id": "JUdylnN-DX6p",
        "outputId": "7480d227-73ae-4a0e-e98a-932b7e3ec989"
      },
      "source": [
        "score"
      ],
      "execution_count": null,
      "outputs": [
        {
          "output_type": "execute_result",
          "data": {
            "text/plain": [
              "0.9252182845403184"
            ]
          },
          "metadata": {
            "tags": []
          },
          "execution_count": 108
        }
      ]
    },
    {
      "cell_type": "code",
      "metadata": {
        "colab": {
          "base_uri": "https://localhost:8080/",
          "height": 402
        },
        "id": "XSXApOdWDX6p",
        "outputId": "9c5a8b6a-8333-4b37-e05f-202b96af8b5a"
      },
      "source": [
        "X_test"
      ],
      "execution_count": null,
      "outputs": [
        {
          "output_type": "execute_result",
          "data": {
            "text/html": [
              "<div>\n",
              "<style scoped>\n",
              "    .dataframe tbody tr th:only-of-type {\n",
              "        vertical-align: middle;\n",
              "    }\n",
              "\n",
              "    .dataframe tbody tr th {\n",
              "        vertical-align: top;\n",
              "    }\n",
              "\n",
              "    .dataframe thead th {\n",
              "        text-align: right;\n",
              "    }\n",
              "</style>\n",
              "<table border=\"1\" class=\"dataframe\">\n",
              "  <thead>\n",
              "    <tr style=\"text-align: right;\">\n",
              "      <th></th>\n",
              "      <th>AIRLINE</th>\n",
              "      <th>ORIGIN_AIRPORT</th>\n",
              "      <th>DESTINATION_AIRPORT</th>\n",
              "      <th>DISTANCE</th>\n",
              "      <th>DEPARTURE_DELAY</th>\n",
              "      <th>SCHEDULED_TIME</th>\n",
              "      <th>AIR_TIME</th>\n",
              "      <th>TAXI_OUT</th>\n",
              "    </tr>\n",
              "  </thead>\n",
              "  <tbody>\n",
              "    <tr>\n",
              "      <th>8494</th>\n",
              "      <td>8</td>\n",
              "      <td>20</td>\n",
              "      <td>166</td>\n",
              "      <td>1242</td>\n",
              "      <td>34.0</td>\n",
              "      <td>212</td>\n",
              "      <td>162.0</td>\n",
              "      <td>13.0</td>\n",
              "    </tr>\n",
              "    <tr>\n",
              "      <th>2838</th>\n",
              "      <td>8</td>\n",
              "      <td>26</td>\n",
              "      <td>227</td>\n",
              "      <td>425</td>\n",
              "      <td>-1.0</td>\n",
              "      <td>93</td>\n",
              "      <td>68.0</td>\n",
              "      <td>14.0</td>\n",
              "    </tr>\n",
              "    <tr>\n",
              "      <th>10520</th>\n",
              "      <td>12</td>\n",
              "      <td>100</td>\n",
              "      <td>266</td>\n",
              "      <td>2565</td>\n",
              "      <td>1.0</td>\n",
              "      <td>399</td>\n",
              "      <td>355.0</td>\n",
              "      <td>11.0</td>\n",
              "    </tr>\n",
              "    <tr>\n",
              "      <th>16918</th>\n",
              "      <td>8</td>\n",
              "      <td>218</td>\n",
              "      <td>82</td>\n",
              "      <td>802</td>\n",
              "      <td>28.0</td>\n",
              "      <td>156</td>\n",
              "      <td>138.0</td>\n",
              "      <td>20.0</td>\n",
              "    </tr>\n",
              "    <tr>\n",
              "      <th>2164</th>\n",
              "      <td>12</td>\n",
              "      <td>218</td>\n",
              "      <td>227</td>\n",
              "      <td>1440</td>\n",
              "      <td>-4.0</td>\n",
              "      <td>238</td>\n",
              "      <td>217.0</td>\n",
              "      <td>40.0</td>\n",
              "    </tr>\n",
              "    <tr>\n",
              "      <th>...</th>\n",
              "      <td>...</td>\n",
              "      <td>...</td>\n",
              "      <td>...</td>\n",
              "      <td>...</td>\n",
              "      <td>...</td>\n",
              "      <td>...</td>\n",
              "      <td>...</td>\n",
              "      <td>...</td>\n",
              "    </tr>\n",
              "    <tr>\n",
              "      <th>16902</th>\n",
              "      <td>1</td>\n",
              "      <td>218</td>\n",
              "      <td>82</td>\n",
              "      <td>802</td>\n",
              "      <td>20.0</td>\n",
              "      <td>155</td>\n",
              "      <td>122.0</td>\n",
              "      <td>18.0</td>\n",
              "    </tr>\n",
              "    <tr>\n",
              "      <th>18219</th>\n",
              "      <td>2</td>\n",
              "      <td>171</td>\n",
              "      <td>82</td>\n",
              "      <td>785</td>\n",
              "      <td>3.0</td>\n",
              "      <td>155</td>\n",
              "      <td>140.0</td>\n",
              "      <td>9.0</td>\n",
              "    </tr>\n",
              "    <tr>\n",
              "      <th>3858</th>\n",
              "      <td>1</td>\n",
              "      <td>165</td>\n",
              "      <td>217</td>\n",
              "      <td>1514</td>\n",
              "      <td>-10.0</td>\n",
              "      <td>225</td>\n",
              "      <td>183.0</td>\n",
              "      <td>13.0</td>\n",
              "    </tr>\n",
              "    <tr>\n",
              "      <th>1834</th>\n",
              "      <td>11</td>\n",
              "      <td>272</td>\n",
              "      <td>227</td>\n",
              "      <td>621</td>\n",
              "      <td>-7.0</td>\n",
              "      <td>113</td>\n",
              "      <td>85.0</td>\n",
              "      <td>18.0</td>\n",
              "    </tr>\n",
              "    <tr>\n",
              "      <th>38707</th>\n",
              "      <td>9</td>\n",
              "      <td>18</td>\n",
              "      <td>148</td>\n",
              "      <td>432</td>\n",
              "      <td>44.0</td>\n",
              "      <td>95</td>\n",
              "      <td>63.0</td>\n",
              "      <td>13.0</td>\n",
              "    </tr>\n",
              "  </tbody>\n",
              "</table>\n",
              "<p>9735 rows × 8 columns</p>\n",
              "</div>"
            ],
            "text/plain": [
              "       AIRLINE  ORIGIN_AIRPORT  ...  AIR_TIME  TAXI_OUT\n",
              "8494         8              20  ...     162.0      13.0\n",
              "2838         8              26  ...      68.0      14.0\n",
              "10520       12             100  ...     355.0      11.0\n",
              "16918        8             218  ...     138.0      20.0\n",
              "2164        12             218  ...     217.0      40.0\n",
              "...        ...             ...  ...       ...       ...\n",
              "16902        1             218  ...     122.0      18.0\n",
              "18219        2             171  ...     140.0       9.0\n",
              "3858         1             165  ...     183.0      13.0\n",
              "1834        11             272  ...      85.0      18.0\n",
              "38707        9              18  ...      63.0      13.0\n",
              "\n",
              "[9735 rows x 8 columns]"
            ]
          },
          "metadata": {
            "tags": []
          },
          "execution_count": 109
        }
      ]
    },
    {
      "cell_type": "code",
      "metadata": {
        "colab": {
          "base_uri": "https://localhost:8080/"
        },
        "id": "b13Kq3A7DX6q",
        "outputId": "a7ef5e65-2f16-4366-e93b-cb0ebec7a054"
      },
      "source": [
        "print(\"F1 score :\",f1_score(y_test, y_pred, average=\"macro\"))\n",
        "print(\"Precision Score :\" , precision_score(y_test, y_pred, average=\"macro\"))\n",
        "print(\"Recall Score :\" , recall_score(y_test, y_pred, average=\"macro\"))   "
      ],
      "execution_count": null,
      "outputs": [
        {
          "output_type": "stream",
          "text": [
            "F1 score : 0.9250212841086357\n",
            "Precision Score : 0.9246809798463163\n",
            "Recall Score : 0.925542862347775\n"
          ],
          "name": "stdout"
        }
      ]
    },
    {
      "cell_type": "code",
      "metadata": {
        "colab": {
          "base_uri": "https://localhost:8080/",
          "height": 309
        },
        "id": "1R5MJUm8DX6q",
        "outputId": "c4e70b6f-bc6a-44d7-cbb3-884a62fe12be"
      },
      "source": [
        "fig, ax = plt.subplots(figsize=(5, 5))\n",
        "plot_confusion_matrix(classifierRF, X_test, y_test, normalize='true', cmap=plt.cm.Blues, ax=ax)\n",
        "plt.show()"
      ],
      "execution_count": null,
      "outputs": [
        {
          "output_type": "display_data",
          "data": {
            "image/png": "[encoded data removed]",
            "text/plain": [
              "<Figure size 360x360 with 2 Axes>"
            ]
          },
          "metadata": {
            "tags": [],
            "needs_background": "light"
          }
        }
      ]
    },
    {
      "cell_type": "code",
      "metadata": {
        "colab": {
          "base_uri": "https://localhost:8080/",
          "height": 402
        },
        "id": "HsYm_IuTDX6q",
        "outputId": "b0aa0d05-70be-4400-dd40-7acf40a84ce0"
      },
      "source": [
        "df = pd.DataFrame({'Actual': y_test, 'Predicted': y_pred})\n",
        "df"
      ],
      "execution_count": null,
      "outputs": [
        {
          "output_type": "execute_result",
          "data": {
            "text/html": [
              "<div>\n",
              "<style scoped>\n",
              "    .dataframe tbody tr th:only-of-type {\n",
              "        vertical-align: middle;\n",
              "    }\n",
              "\n",
              "    .dataframe tbody tr th {\n",
              "        vertical-align: top;\n",
              "    }\n",
              "\n",
              "    .dataframe thead th {\n",
              "        text-align: right;\n",
              "    }\n",
              "</style>\n",
              "<table border=\"1\" class=\"dataframe\">\n",
              "  <thead>\n",
              "    <tr style=\"text-align: right;\">\n",
              "      <th></th>\n",
              "      <th>Actual</th>\n",
              "      <th>Predicted</th>\n",
              "    </tr>\n",
              "  </thead>\n",
              "  <tbody>\n",
              "    <tr>\n",
              "      <th>8494</th>\n",
              "      <td>1</td>\n",
              "      <td>1</td>\n",
              "    </tr>\n",
              "    <tr>\n",
              "      <th>2838</th>\n",
              "      <td>0</td>\n",
              "      <td>0</td>\n",
              "    </tr>\n",
              "    <tr>\n",
              "      <th>10520</th>\n",
              "      <td>0</td>\n",
              "      <td>0</td>\n",
              "    </tr>\n",
              "    <tr>\n",
              "      <th>16918</th>\n",
              "      <td>1</td>\n",
              "      <td>1</td>\n",
              "    </tr>\n",
              "    <tr>\n",
              "      <th>2164</th>\n",
              "      <td>1</td>\n",
              "      <td>1</td>\n",
              "    </tr>\n",
              "    <tr>\n",
              "      <th>...</th>\n",
              "      <td>...</td>\n",
              "      <td>...</td>\n",
              "    </tr>\n",
              "    <tr>\n",
              "      <th>16902</th>\n",
              "      <td>1</td>\n",
              "      <td>1</td>\n",
              "    </tr>\n",
              "    <tr>\n",
              "      <th>18219</th>\n",
              "      <td>1</td>\n",
              "      <td>1</td>\n",
              "    </tr>\n",
              "    <tr>\n",
              "      <th>3858</th>\n",
              "      <td>0</td>\n",
              "      <td>0</td>\n",
              "    </tr>\n",
              "    <tr>\n",
              "      <th>1834</th>\n",
              "      <td>0</td>\n",
              "      <td>0</td>\n",
              "    </tr>\n",
              "    <tr>\n",
              "      <th>38707</th>\n",
              "      <td>1</td>\n",
              "      <td>1</td>\n",
              "    </tr>\n",
              "  </tbody>\n",
              "</table>\n",
              "<p>9735 rows × 2 columns</p>\n",
              "</div>"
            ],
            "text/plain": [
              "       Actual  Predicted\n",
              "8494        1          1\n",
              "2838        0          0\n",
              "10520       0          0\n",
              "16918       1          1\n",
              "2164        1          1\n",
              "...       ...        ...\n",
              "16902       1          1\n",
              "18219       1          1\n",
              "3858        0          0\n",
              "1834        0          0\n",
              "38707       1          1\n",
              "\n",
              "[9735 rows x 2 columns]"
            ]
          },
          "metadata": {
            "tags": []
          },
          "execution_count": 112
        }
      ]
    },
    {
      "cell_type": "code",
      "metadata": {
        "id": "Mw6y-JPmDX6r"
      },
      "source": [
        "X_val=np.array([[3,187,229,69,1.0,35,24.0,11.0]])"
      ],
      "execution_count": null,
      "outputs": []
    },
    {
      "cell_type": "code",
      "metadata": {
        "colab": {
          "base_uri": "https://localhost:8080/"
        },
        "id": "xid35_B3DX6r",
        "outputId": "8f00ef74-4849-4b0e-b727-d8e5619c6a0a"
      },
      "source": [
        "X_val"
      ],
      "execution_count": null,
      "outputs": [
        {
          "output_type": "execute_result",
          "data": {
            "text/plain": [
              "array([[  3., 187., 229.,  69.,   1.,  35.,  24.,  11.]])"
            ]
          },
          "metadata": {
            "tags": []
          },
          "execution_count": 114
        }
      ]
    },
    {
      "cell_type": "code",
      "metadata": {
        "id": "zMO3K3yrDX6r"
      },
      "source": [
        "y_pred_val = classifierRF.predict(X_val)"
      ],
      "execution_count": null,
      "outputs": []
    },
    {
      "cell_type": "code",
      "metadata": {
        "colab": {
          "base_uri": "https://localhost:8080/"
        },
        "id": "ncngXizlDX6r",
        "outputId": "d2154a06-b0e8-4c4d-b809-d583a3592f16"
      },
      "source": [
        "y_pred_val"
      ],
      "execution_count": null,
      "outputs": [
        {
          "output_type": "execute_result",
          "data": {
            "text/plain": [
              "array([0])"
            ]
          },
          "metadata": {
            "tags": []
          },
          "execution_count": 116
        }
      ]
    },
    {
      "cell_type": "markdown",
      "metadata": {
        "id": "2CDQWXPT4-r8"
      },
      "source": [
        "testing"
      ]
    },
    {
      "cell_type": "code",
      "metadata": {
        "colab": {
          "base_uri": "https://localhost:8080/"
        },
        "id": "2_tgCxDy5BLO",
        "outputId": "7f297287-7e7f-4bb2-e37e-f1ac04011a76"
      },
      "source": [
        "totalcount=Flights1.loc[(Flights1['AIRLINE'] == 0) & (Flights1['ORIGIN_AIRPORT'] == 15) & (Flights1['DESTINATION_AIRPORT'] == 265)]['Is_Delayed'].count()\n",
        "totalcount"
      ],
      "execution_count": null,
      "outputs": [
        {
          "output_type": "execute_result",
          "data": {
            "text/plain": [
              "47"
            ]
          },
          "metadata": {
            "tags": []
          },
          "execution_count": 117
        }
      ]
    },
    {
      "cell_type": "code",
      "metadata": {
        "colab": {
          "base_uri": "https://localhost:8080/"
        },
        "id": "LD0vRGEB8v9P",
        "outputId": "1450776e-0750-47e0-f05a-4fac0a476fb2"
      },
      "source": [
        "delayedcount=Flights1.loc[(Flights1['AIRLINE'] == 0) & (Flights1['ORIGIN_AIRPORT'] == 15) & (Flights1['DESTINATION_AIRPORT'] == 265) & (Flights1['Is_Delayed'] == 1)]['Is_Delayed'].count()\n",
        "delayedcount"
      ],
      "execution_count": null,
      "outputs": [
        {
          "output_type": "execute_result",
          "data": {
            "text/plain": [
              "5"
            ]
          },
          "metadata": {
            "tags": []
          },
          "execution_count": 118
        }
      ]
    },
    {
      "cell_type": "code",
      "metadata": {
        "colab": {
          "base_uri": "https://localhost:8080/"
        },
        "id": "vHSartW09MXO",
        "outputId": "ef34c4ae-b8f6-4cdb-bf16-63e670f43a87"
      },
      "source": [
        "nodelayedcount=Flights1.loc[(Flights1['AIRLINE'] == 0) & (Flights1['ORIGIN_AIRPORT'] == 15) & (Flights1['DESTINATION_AIRPORT'] == 265) & (Flights1['Is_Delayed'] == 0)]['Is_Delayed'].count()\n",
        "nodelayedcount"
      ],
      "execution_count": null,
      "outputs": [
        {
          "output_type": "execute_result",
          "data": {
            "text/plain": [
              "42"
            ]
          },
          "metadata": {
            "tags": []
          },
          "execution_count": 119
        }
      ]
    },
    {
      "cell_type": "code",
      "metadata": {
        "colab": {
          "base_uri": "https://localhost:8080/",
          "height": 589
        },
        "id": "8evsCrUy9QL_",
        "outputId": "f364f5c9-99b3-4a04-a47d-0d3e3468655b"
      },
      "source": [
        "axis = plt.subplots(figsize=(10,14))\n",
        "Name = ['Delayed','Not Delayed']\n",
        "values = [(delayedcount/totalcount)*100,(nodelayedcount/totalcount)*100]\n",
        "\n",
        "plt.pie(values,labels=Name,autopct='%5.0f%%')\n",
        "plt.show() \n",
        "# plt.pie(size,labels=Name,autopct='%5.0f%%')\n",
        "# plt.show()"
      ],
      "execution_count": null,
      "outputs": [
        {
          "output_type": "display_data",
          "data": {
            "image/png": "[encoded data removed]",
            "text/plain": [
              "<Figure size 720x1008 with 1 Axes>"
            ]
          },
          "metadata": {
            "tags": []
          }
        }
      ]
    },
    {
      "cell_type": "code",
      "metadata": {
        "colab": {
          "base_uri": "https://localhost:8080/",
          "height": 682
        },
        "id": "6NB88advGsmN",
        "outputId": "ceb28d11-20d6-4f21-c4c2-165dcb1f387b"
      },
      "source": [
        "Flights1 = Flights.drop(['Org_Airport_Name','Origin_city','Dest_Airport_Name','Destination_city','TAXI_IN','TAXI_OUT','DIVERTED','SCHEDULED_TIME'],axis = 1)\n",
        "Flights1['Is_Delayed'] = np.where(Flights1['ARRIVAL_DELAY']<=0, 0,1)\n",
        "Flights1.loc[(Flights1['Is_Delayed'] == 1) &  (Flights1['DEPARTURE_DELAY'] <0)].sort_values(by=['DEPARTURE_DELAY'])[:10]"
      ],
      "execution_count": null,
      "outputs": [
        {
          "output_type": "execute_result",
          "data": {
            "text/html": [
              "<div>\n",
              "<style scoped>\n",
              "    .dataframe tbody tr th:only-of-type {\n",
              "        vertical-align: middle;\n",
              "    }\n",
              "\n",
              "    .dataframe tbody tr th {\n",
              "        vertical-align: top;\n",
              "    }\n",
              "\n",
              "    .dataframe thead th {\n",
              "        text-align: right;\n",
              "    }\n",
              "</style>\n",
              "<table border=\"1\" class=\"dataframe\">\n",
              "  <thead>\n",
              "    <tr style=\"text-align: right;\">\n",
              "      <th></th>\n",
              "      <th>AIRLINE</th>\n",
              "      <th>ORIGIN_AIRPORT</th>\n",
              "      <th>DESTINATION_AIRPORT</th>\n",
              "      <th>DISTANCE</th>\n",
              "      <th>Actual_Departure</th>\n",
              "      <th>Scheduled_Departure</th>\n",
              "      <th>DEPARTURE_DELAY</th>\n",
              "      <th>Actual_Arrival</th>\n",
              "      <th>Scheduled_Arrival</th>\n",
              "      <th>ARRIVAL_DELAY</th>\n",
              "      <th>ELAPSED_TIME</th>\n",
              "      <th>AIR_TIME</th>\n",
              "      <th>Is_Delayed</th>\n",
              "    </tr>\n",
              "  </thead>\n",
              "  <tbody>\n",
              "    <tr>\n",
              "      <th>31440</th>\n",
              "      <td>Atlantic Southeast Airlines</td>\n",
              "      <td>XNA</td>\n",
              "      <td>IAH</td>\n",
              "      <td>438</td>\n",
              "      <td>17:40:00</td>\n",
              "      <td>18:00:00</td>\n",
              "      <td>-20.0</td>\n",
              "      <td>19:52:00</td>\n",
              "      <td>19:46:00</td>\n",
              "      <td>6.0</td>\n",
              "      <td>132.0</td>\n",
              "      <td>82.0</td>\n",
              "      <td>1</td>\n",
              "    </tr>\n",
              "    <tr>\n",
              "      <th>46067</th>\n",
              "      <td>JetBlue Airways</td>\n",
              "      <td>DCA</td>\n",
              "      <td>CHS</td>\n",
              "      <td>444</td>\n",
              "      <td>11:48:00</td>\n",
              "      <td>12:05:00</td>\n",
              "      <td>-17.0</td>\n",
              "      <td>13:49:00</td>\n",
              "      <td>13:48:00</td>\n",
              "      <td>1.0</td>\n",
              "      <td>121.0</td>\n",
              "      <td>72.0</td>\n",
              "      <td>1</td>\n",
              "    </tr>\n",
              "    <tr>\n",
              "      <th>15498</th>\n",
              "      <td>Alaska Airlines Inc.</td>\n",
              "      <td>SAN</td>\n",
              "      <td>SLC</td>\n",
              "      <td>626</td>\n",
              "      <td>20:48:00</td>\n",
              "      <td>21:05:00</td>\n",
              "      <td>-17.0</td>\n",
              "      <td>00:07:00</td>\n",
              "      <td>23:57:00</td>\n",
              "      <td>10.0</td>\n",
              "      <td>139.0</td>\n",
              "      <td>97.0</td>\n",
              "      <td>1</td>\n",
              "    </tr>\n",
              "    <tr>\n",
              "      <th>17918</th>\n",
              "      <td>American Airlines Inc.</td>\n",
              "      <td>JAC</td>\n",
              "      <td>DFW</td>\n",
              "      <td>1047</td>\n",
              "      <td>07:43:00</td>\n",
              "      <td>08:00:00</td>\n",
              "      <td>-17.0</td>\n",
              "      <td>12:11:00</td>\n",
              "      <td>12:00:00</td>\n",
              "      <td>11.0</td>\n",
              "      <td>208.0</td>\n",
              "      <td>138.0</td>\n",
              "      <td>1</td>\n",
              "    </tr>\n",
              "    <tr>\n",
              "      <th>7493</th>\n",
              "      <td>Skywest Airlines Inc.</td>\n",
              "      <td>SLC</td>\n",
              "      <td>LAX</td>\n",
              "      <td>590</td>\n",
              "      <td>07:08:00</td>\n",
              "      <td>07:25:00</td>\n",
              "      <td>-17.0</td>\n",
              "      <td>08:48:00</td>\n",
              "      <td>08:30:00</td>\n",
              "      <td>18.0</td>\n",
              "      <td>160.0</td>\n",
              "      <td>82.0</td>\n",
              "      <td>1</td>\n",
              "    </tr>\n",
              "    <tr>\n",
              "      <th>5597</th>\n",
              "      <td>American Eagle Airlines Inc.</td>\n",
              "      <td>HPN</td>\n",
              "      <td>ORD</td>\n",
              "      <td>738</td>\n",
              "      <td>18:14:00</td>\n",
              "      <td>18:30:00</td>\n",
              "      <td>-16.0</td>\n",
              "      <td>20:53:00</td>\n",
              "      <td>20:25:00</td>\n",
              "      <td>28.0</td>\n",
              "      <td>219.0</td>\n",
              "      <td>140.0</td>\n",
              "      <td>1</td>\n",
              "    </tr>\n",
              "    <tr>\n",
              "      <th>48376</th>\n",
              "      <td>Spirit Air Lines</td>\n",
              "      <td>MCO</td>\n",
              "      <td>ACY</td>\n",
              "      <td>852</td>\n",
              "      <td>10:26:00</td>\n",
              "      <td>10:42:00</td>\n",
              "      <td>-16.0</td>\n",
              "      <td>12:53:00</td>\n",
              "      <td>12:50:00</td>\n",
              "      <td>3.0</td>\n",
              "      <td>147.0</td>\n",
              "      <td>104.0</td>\n",
              "      <td>1</td>\n",
              "    </tr>\n",
              "    <tr>\n",
              "      <th>13443</th>\n",
              "      <td>Atlantic Southeast Airlines</td>\n",
              "      <td>XNA</td>\n",
              "      <td>DEN</td>\n",
              "      <td>616</td>\n",
              "      <td>07:45:00</td>\n",
              "      <td>08:00:00</td>\n",
              "      <td>-15.0</td>\n",
              "      <td>09:27:00</td>\n",
              "      <td>09:10:00</td>\n",
              "      <td>17.0</td>\n",
              "      <td>162.0</td>\n",
              "      <td>98.0</td>\n",
              "      <td>1</td>\n",
              "    </tr>\n",
              "    <tr>\n",
              "      <th>12246</th>\n",
              "      <td>Skywest Airlines Inc.</td>\n",
              "      <td>TUS</td>\n",
              "      <td>DEN</td>\n",
              "      <td>639</td>\n",
              "      <td>09:08:00</td>\n",
              "      <td>09:23:00</td>\n",
              "      <td>-15.0</td>\n",
              "      <td>11:25:00</td>\n",
              "      <td>11:20:00</td>\n",
              "      <td>5.0</td>\n",
              "      <td>137.0</td>\n",
              "      <td>91.0</td>\n",
              "      <td>1</td>\n",
              "    </tr>\n",
              "    <tr>\n",
              "      <th>13014</th>\n",
              "      <td>Atlantic Southeast Airlines</td>\n",
              "      <td>SDF</td>\n",
              "      <td>DEN</td>\n",
              "      <td>1024</td>\n",
              "      <td>09:05:00</td>\n",
              "      <td>09:19:00</td>\n",
              "      <td>-14.0</td>\n",
              "      <td>10:44:00</td>\n",
              "      <td>10:27:00</td>\n",
              "      <td>17.0</td>\n",
              "      <td>219.0</td>\n",
              "      <td>166.0</td>\n",
              "      <td>1</td>\n",
              "    </tr>\n",
              "  </tbody>\n",
              "</table>\n",
              "</div>"
            ],
            "text/plain": [
              "                            AIRLINE ORIGIN_AIRPORT  ... AIR_TIME  Is_Delayed\n",
              "31440   Atlantic Southeast Airlines            XNA  ...     82.0           1\n",
              "46067               JetBlue Airways            DCA  ...     72.0           1\n",
              "15498          Alaska Airlines Inc.            SAN  ...     97.0           1\n",
              "17918        American Airlines Inc.            JAC  ...    138.0           1\n",
              "7493          Skywest Airlines Inc.            SLC  ...     82.0           1\n",
              "5597   American Eagle Airlines Inc.            HPN  ...    140.0           1\n",
              "48376              Spirit Air Lines            MCO  ...    104.0           1\n",
              "13443   Atlantic Southeast Airlines            XNA  ...     98.0           1\n",
              "12246         Skywest Airlines Inc.            TUS  ...     91.0           1\n",
              "13014   Atlantic Southeast Airlines            SDF  ...    166.0           1\n",
              "\n",
              "[10 rows x 13 columns]"
            ]
          },
          "metadata": {
            "tags": []
          },
          "execution_count": 121
        }
      ]
    },
    {
      "cell_type": "code",
      "metadata": {
        "colab": {
          "base_uri": "https://localhost:8080/",
          "height": 582
        },
        "id": "SMzY9aCsIGNZ",
        "outputId": "4f68bb5f-8d9b-49e5-ab4f-28d66cc85ebb"
      },
      "source": [
        "Flights1.loc[(Flights1['Is_Delayed'] == 0) &  (Flights1['DEPARTURE_DELAY'] >0)].sort_values(by=['DEPARTURE_DELAY'])[-10:]"
      ],
      "execution_count": null,
      "outputs": [
        {
          "output_type": "execute_result",
          "data": {
            "text/html": [
              "<div>\n",
              "<style scoped>\n",
              "    .dataframe tbody tr th:only-of-type {\n",
              "        vertical-align: middle;\n",
              "    }\n",
              "\n",
              "    .dataframe tbody tr th {\n",
              "        vertical-align: top;\n",
              "    }\n",
              "\n",
              "    .dataframe thead th {\n",
              "        text-align: right;\n",
              "    }\n",
              "</style>\n",
              "<table border=\"1\" class=\"dataframe\">\n",
              "  <thead>\n",
              "    <tr style=\"text-align: right;\">\n",
              "      <th></th>\n",
              "      <th>AIRLINE</th>\n",
              "      <th>ORIGIN_AIRPORT</th>\n",
              "      <th>DESTINATION_AIRPORT</th>\n",
              "      <th>DISTANCE</th>\n",
              "      <th>Actual_Departure</th>\n",
              "      <th>Scheduled_Departure</th>\n",
              "      <th>DEPARTURE_DELAY</th>\n",
              "      <th>Actual_Arrival</th>\n",
              "      <th>Scheduled_Arrival</th>\n",
              "      <th>ARRIVAL_DELAY</th>\n",
              "      <th>ELAPSED_TIME</th>\n",
              "      <th>AIR_TIME</th>\n",
              "      <th>Is_Delayed</th>\n",
              "    </tr>\n",
              "  </thead>\n",
              "  <tbody>\n",
              "    <tr>\n",
              "      <th>37564</th>\n",
              "      <td>Southwest Airlines Co.</td>\n",
              "      <td>HOU</td>\n",
              "      <td>MDW</td>\n",
              "      <td>937</td>\n",
              "      <td>07:40:00</td>\n",
              "      <td>07:10:00</td>\n",
              "      <td>30.0</td>\n",
              "      <td>09:44:00</td>\n",
              "      <td>09:45:00</td>\n",
              "      <td>-1.0</td>\n",
              "      <td>124.0</td>\n",
              "      <td>111.0</td>\n",
              "      <td>0</td>\n",
              "    </tr>\n",
              "    <tr>\n",
              "      <th>10960</th>\n",
              "      <td>United Air Lines Inc.</td>\n",
              "      <td>IAH</td>\n",
              "      <td>SFO</td>\n",
              "      <td>1635</td>\n",
              "      <td>18:16:00</td>\n",
              "      <td>17:45:00</td>\n",
              "      <td>31.0</td>\n",
              "      <td>20:06:00</td>\n",
              "      <td>20:07:00</td>\n",
              "      <td>-1.0</td>\n",
              "      <td>230.0</td>\n",
              "      <td>207.0</td>\n",
              "      <td>0</td>\n",
              "    </tr>\n",
              "    <tr>\n",
              "      <th>38214</th>\n",
              "      <td>Delta Air Lines Inc.</td>\n",
              "      <td>LGA</td>\n",
              "      <td>PBI</td>\n",
              "      <td>1035</td>\n",
              "      <td>12:31:00</td>\n",
              "      <td>12:00:00</td>\n",
              "      <td>31.0</td>\n",
              "      <td>15:08:00</td>\n",
              "      <td>15:16:00</td>\n",
              "      <td>-8.0</td>\n",
              "      <td>157.0</td>\n",
              "      <td>140.0</td>\n",
              "      <td>0</td>\n",
              "    </tr>\n",
              "    <tr>\n",
              "      <th>8620</th>\n",
              "      <td>American Airlines Inc.</td>\n",
              "      <td>MIA</td>\n",
              "      <td>LAX</td>\n",
              "      <td>2342</td>\n",
              "      <td>20:32:00</td>\n",
              "      <td>20:00:00</td>\n",
              "      <td>32.0</td>\n",
              "      <td>22:53:00</td>\n",
              "      <td>22:53:00</td>\n",
              "      <td>0.0</td>\n",
              "      <td>321.0</td>\n",
              "      <td>298.0</td>\n",
              "      <td>0</td>\n",
              "    </tr>\n",
              "    <tr>\n",
              "      <th>10716</th>\n",
              "      <td>United Air Lines Inc.</td>\n",
              "      <td>ORD</td>\n",
              "      <td>SFO</td>\n",
              "      <td>1846</td>\n",
              "      <td>08:52:00</td>\n",
              "      <td>08:18:00</td>\n",
              "      <td>34.0</td>\n",
              "      <td>10:52:00</td>\n",
              "      <td>11:00:00</td>\n",
              "      <td>-8.0</td>\n",
              "      <td>240.0</td>\n",
              "      <td>212.0</td>\n",
              "      <td>0</td>\n",
              "    </tr>\n",
              "    <tr>\n",
              "      <th>29667</th>\n",
              "      <td>Delta Air Lines Inc.</td>\n",
              "      <td>ATL</td>\n",
              "      <td>TUS</td>\n",
              "      <td>1541</td>\n",
              "      <td>20:16:00</td>\n",
              "      <td>19:40:00</td>\n",
              "      <td>36.0</td>\n",
              "      <td>21:56:00</td>\n",
              "      <td>21:58:00</td>\n",
              "      <td>-2.0</td>\n",
              "      <td>220.0</td>\n",
              "      <td>205.0</td>\n",
              "      <td>0</td>\n",
              "    </tr>\n",
              "    <tr>\n",
              "      <th>11073</th>\n",
              "      <td>Skywest Airlines Inc.</td>\n",
              "      <td>AUS</td>\n",
              "      <td>SFO</td>\n",
              "      <td>1504</td>\n",
              "      <td>06:37:00</td>\n",
              "      <td>06:00:00</td>\n",
              "      <td>37.0</td>\n",
              "      <td>08:09:00</td>\n",
              "      <td>08:09:00</td>\n",
              "      <td>0.0</td>\n",
              "      <td>212.0</td>\n",
              "      <td>196.0</td>\n",
              "      <td>0</td>\n",
              "    </tr>\n",
              "    <tr>\n",
              "      <th>7657</th>\n",
              "      <td>United Air Lines Inc.</td>\n",
              "      <td>EWR</td>\n",
              "      <td>LAX</td>\n",
              "      <td>2454</td>\n",
              "      <td>19:37:00</td>\n",
              "      <td>19:00:00</td>\n",
              "      <td>37.0</td>\n",
              "      <td>22:28:00</td>\n",
              "      <td>22:30:00</td>\n",
              "      <td>-2.0</td>\n",
              "      <td>351.0</td>\n",
              "      <td>332.0</td>\n",
              "      <td>0</td>\n",
              "    </tr>\n",
              "    <tr>\n",
              "      <th>24634</th>\n",
              "      <td>Spirit Air Lines</td>\n",
              "      <td>LGA</td>\n",
              "      <td>FLL</td>\n",
              "      <td>1076</td>\n",
              "      <td>16:08:00</td>\n",
              "      <td>15:30:00</td>\n",
              "      <td>38.0</td>\n",
              "      <td>18:47:00</td>\n",
              "      <td>18:48:00</td>\n",
              "      <td>-1.0</td>\n",
              "      <td>159.0</td>\n",
              "      <td>143.0</td>\n",
              "      <td>0</td>\n",
              "    </tr>\n",
              "    <tr>\n",
              "      <th>13532</th>\n",
              "      <td>Delta Air Lines Inc.</td>\n",
              "      <td>MSP</td>\n",
              "      <td>ANC</td>\n",
              "      <td>2519</td>\n",
              "      <td>22:19:00</td>\n",
              "      <td>21:40:00</td>\n",
              "      <td>39.0</td>\n",
              "      <td>00:39:00</td>\n",
              "      <td>00:51:00</td>\n",
              "      <td>-12.0</td>\n",
              "      <td>320.0</td>\n",
              "      <td>306.0</td>\n",
              "      <td>0</td>\n",
              "    </tr>\n",
              "  </tbody>\n",
              "</table>\n",
              "</div>"
            ],
            "text/plain": [
              "                      AIRLINE ORIGIN_AIRPORT  ... AIR_TIME  Is_Delayed\n",
              "37564  Southwest Airlines Co.            HOU  ...    111.0           0\n",
              "10960   United Air Lines Inc.            IAH  ...    207.0           0\n",
              "38214    Delta Air Lines Inc.            LGA  ...    140.0           0\n",
              "8620   American Airlines Inc.            MIA  ...    298.0           0\n",
              "10716   United Air Lines Inc.            ORD  ...    212.0           0\n",
              "29667    Delta Air Lines Inc.            ATL  ...    205.0           0\n",
              "11073   Skywest Airlines Inc.            AUS  ...    196.0           0\n",
              "7657    United Air Lines Inc.            EWR  ...    332.0           0\n",
              "24634        Spirit Air Lines            LGA  ...    143.0           0\n",
              "13532    Delta Air Lines Inc.            MSP  ...    306.0           0\n",
              "\n",
              "[10 rows x 13 columns]"
            ]
          },
          "metadata": {
            "tags": []
          },
          "execution_count": 122
        }
      ]
    },
    {
      "cell_type": "code",
      "metadata": {
        "colab": {
          "base_uri": "https://localhost:8080/",
          "height": 439
        },
        "id": "XaiRzkv_OEje",
        "outputId": "ba31ed42-db29-4cae-b333-3c5284befab7"
      },
      "source": [
        "dfnew = pd.DataFrame(Flights1)\n",
        "\n",
        "corrMatrix = dfnew.corr()\n",
        "sns.heatmap(corrMatrix, annot=True)\n",
        "plt.show()\n",
        "Flights1.columns"
      ],
      "execution_count": null,
      "outputs": [
        {
          "output_type": "display_data",
          "data": {
            "image/png": "[encoded data removed]",
            "text/plain": [
              "<Figure size 432x288 with 2 Axes>"
            ]
          },
          "metadata": {
            "tags": [],
            "needs_background": "light"
          }
        },
        {
          "output_type": "execute_result",
          "data": {
            "text/plain": [
              "Index(['AIRLINE', 'ORIGIN_AIRPORT', 'DESTINATION_AIRPORT', 'DISTANCE',\n",
              "       'Actual_Departure', 'Scheduled_Departure', 'DEPARTURE_DELAY',\n",
              "       'Actual_Arrival', 'Scheduled_Arrival', 'ARRIVAL_DELAY', 'ELAPSED_TIME',\n",
              "       'AIR_TIME', 'Is_Delayed'],\n",
              "      dtype='object')"
            ]
          },
          "metadata": {
            "tags": []
          },
          "execution_count": 123
        }
      ]
    },
    {
      "cell_type": "markdown",
      "metadata": {
        "id": "wEV_ETzrEjeW"
      },
      "source": [
        "### Random Forest Regression"
      ]
    },
    {
      "cell_type": "code",
      "metadata": {
        "id": "pUzZkL_TElts"
      },
      "source": [
        "from sklearn.ensemble import RandomForestRegressor\n",
        "Rfc = RandomForestRegressor(random_state=2)\n",
        "from sklearn.metrics import mean_absolute_error,mean_squared_error,r2_score\n"
      ],
      "execution_count": null,
      "outputs": []
    },
    {
      "cell_type": "code",
      "metadata": {
        "id": "UYl8k0JJtEaj"
      },
      "source": [
        "Flights1 = Flights.drop(['Org_Airport_Name','Origin_city','Dest_Airport_Name','Destination_city'],axis = 1)"
      ],
      "execution_count": null,
      "outputs": []
    },
    {
      "cell_type": "code",
      "metadata": {
        "id": "jg2TRKq9tEau"
      },
      "source": [
        "Flights1['AIRLINE']= le.fit_transform(Flights1['AIRLINE'])\n",
        "Flights1['ORIGIN_AIRPORT'] = le.fit_transform(Flights1['ORIGIN_AIRPORT'])\n",
        "Flights1['DESTINATION_AIRPORT'] = le.fit_transform(Flights1['DESTINATION_AIRPORT'])"
      ],
      "execution_count": null,
      "outputs": []
    },
    {
      "cell_type": "code",
      "metadata": {
        "id": "5YgGWitjtEaw"
      },
      "source": [
        "Flights1 = Flights1.drop(['Scheduled_Departure','Scheduled_Arrival','Actual_Arrival','Actual_Departure','ELAPSED_TIME','DIVERTED','AIR_TIME','DISTANCE'], axis = 1)"
      ],
      "execution_count": null,
      "outputs": []
    },
    {
      "cell_type": "code",
      "metadata": {
        "colab": {
          "base_uri": "https://localhost:8080/",
          "height": 402
        },
        "id": "EM8_W-HcPQlA",
        "outputId": "b1380c5e-5e30-4445-8a06-e18d2a65114e"
      },
      "source": [
        "Flights1"
      ],
      "execution_count": null,
      "outputs": [
        {
          "output_type": "execute_result",
          "data": {
            "text/html": [
              "<div>\n",
              "<style scoped>\n",
              "    .dataframe tbody tr th:only-of-type {\n",
              "        vertical-align: middle;\n",
              "    }\n",
              "\n",
              "    .dataframe tbody tr th {\n",
              "        vertical-align: top;\n",
              "    }\n",
              "\n",
              "    .dataframe thead th {\n",
              "        text-align: right;\n",
              "    }\n",
              "</style>\n",
              "<table border=\"1\" class=\"dataframe\">\n",
              "  <thead>\n",
              "    <tr style=\"text-align: right;\">\n",
              "      <th></th>\n",
              "      <th>AIRLINE</th>\n",
              "      <th>ORIGIN_AIRPORT</th>\n",
              "      <th>DESTINATION_AIRPORT</th>\n",
              "      <th>DEPARTURE_DELAY</th>\n",
              "      <th>ARRIVAL_DELAY</th>\n",
              "      <th>SCHEDULED_TIME</th>\n",
              "      <th>TAXI_IN</th>\n",
              "      <th>TAXI_OUT</th>\n",
              "    </tr>\n",
              "  </thead>\n",
              "  <tbody>\n",
              "    <tr>\n",
              "      <th>0</th>\n",
              "      <td>0</td>\n",
              "      <td>15</td>\n",
              "      <td>265</td>\n",
              "      <td>-11.0</td>\n",
              "      <td>-22.0</td>\n",
              "      <td>205</td>\n",
              "      <td>4.0</td>\n",
              "      <td>21.0</td>\n",
              "    </tr>\n",
              "    <tr>\n",
              "      <th>1</th>\n",
              "      <td>0</td>\n",
              "      <td>15</td>\n",
              "      <td>265</td>\n",
              "      <td>-4.0</td>\n",
              "      <td>-14.0</td>\n",
              "      <td>204</td>\n",
              "      <td>4.0</td>\n",
              "      <td>17.0</td>\n",
              "    </tr>\n",
              "    <tr>\n",
              "      <th>2</th>\n",
              "      <td>0</td>\n",
              "      <td>15</td>\n",
              "      <td>265</td>\n",
              "      <td>-15.0</td>\n",
              "      <td>-35.0</td>\n",
              "      <td>218</td>\n",
              "      <td>11.0</td>\n",
              "      <td>17.0</td>\n",
              "    </tr>\n",
              "    <tr>\n",
              "      <th>3</th>\n",
              "      <td>0</td>\n",
              "      <td>15</td>\n",
              "      <td>265</td>\n",
              "      <td>-11.0</td>\n",
              "      <td>-12.0</td>\n",
              "      <td>200</td>\n",
              "      <td>8.0</td>\n",
              "      <td>15.0</td>\n",
              "    </tr>\n",
              "    <tr>\n",
              "      <th>4</th>\n",
              "      <td>0</td>\n",
              "      <td>15</td>\n",
              "      <td>265</td>\n",
              "      <td>-8.0</td>\n",
              "      <td>-14.0</td>\n",
              "      <td>205</td>\n",
              "      <td>4.0</td>\n",
              "      <td>16.0</td>\n",
              "    </tr>\n",
              "    <tr>\n",
              "      <th>...</th>\n",
              "      <td>...</td>\n",
              "      <td>...</td>\n",
              "      <td>...</td>\n",
              "      <td>...</td>\n",
              "      <td>...</td>\n",
              "      <td>...</td>\n",
              "      <td>...</td>\n",
              "      <td>...</td>\n",
              "    </tr>\n",
              "    <tr>\n",
              "      <th>48688</th>\n",
              "      <td>3</td>\n",
              "      <td>187</td>\n",
              "      <td>229</td>\n",
              "      <td>7.0</td>\n",
              "      <td>10.0</td>\n",
              "      <td>35</td>\n",
              "      <td>3.0</td>\n",
              "      <td>11.0</td>\n",
              "    </tr>\n",
              "    <tr>\n",
              "      <th>48689</th>\n",
              "      <td>3</td>\n",
              "      <td>187</td>\n",
              "      <td>229</td>\n",
              "      <td>-4.0</td>\n",
              "      <td>-10.0</td>\n",
              "      <td>35</td>\n",
              "      <td>3.0</td>\n",
              "      <td>5.0</td>\n",
              "    </tr>\n",
              "    <tr>\n",
              "      <th>48690</th>\n",
              "      <td>3</td>\n",
              "      <td>187</td>\n",
              "      <td>229</td>\n",
              "      <td>57.0</td>\n",
              "      <td>51.0</td>\n",
              "      <td>35</td>\n",
              "      <td>4.0</td>\n",
              "      <td>8.0</td>\n",
              "    </tr>\n",
              "    <tr>\n",
              "      <th>48691</th>\n",
              "      <td>3</td>\n",
              "      <td>187</td>\n",
              "      <td>229</td>\n",
              "      <td>176.0</td>\n",
              "      <td>175.0</td>\n",
              "      <td>35</td>\n",
              "      <td>4.0</td>\n",
              "      <td>9.0</td>\n",
              "    </tr>\n",
              "    <tr>\n",
              "      <th>48692</th>\n",
              "      <td>3</td>\n",
              "      <td>187</td>\n",
              "      <td>229</td>\n",
              "      <td>30.0</td>\n",
              "      <td>27.0</td>\n",
              "      <td>35</td>\n",
              "      <td>9.0</td>\n",
              "      <td>8.0</td>\n",
              "    </tr>\n",
              "  </tbody>\n",
              "</table>\n",
              "<p>48672 rows × 8 columns</p>\n",
              "</div>"
            ],
            "text/plain": [
              "       AIRLINE  ORIGIN_AIRPORT  ...  TAXI_IN  TAXI_OUT\n",
              "0            0              15  ...      4.0      21.0\n",
              "1            0              15  ...      4.0      17.0\n",
              "2            0              15  ...     11.0      17.0\n",
              "3            0              15  ...      8.0      15.0\n",
              "4            0              15  ...      4.0      16.0\n",
              "...        ...             ...  ...      ...       ...\n",
              "48688        3             187  ...      3.0      11.0\n",
              "48689        3             187  ...      3.0       5.0\n",
              "48690        3             187  ...      4.0       8.0\n",
              "48691        3             187  ...      4.0       9.0\n",
              "48692        3             187  ...      9.0       8.0\n",
              "\n",
              "[48672 rows x 8 columns]"
            ]
          },
          "metadata": {
            "tags": []
          },
          "execution_count": 128
        }
      ]
    },
    {
      "cell_type": "code",
      "metadata": {
        "colab": {
          "base_uri": "https://localhost:8080/"
        },
        "id": "KNrJs4JVEwHu",
        "outputId": "c686bc03-b26c-43b7-996b-09d95c7f09dd"
      },
      "source": [
        "X = Flights1.drop('ARRIVAL_DELAY',axis = 1)\n",
        "X.shape"
      ],
      "execution_count": null,
      "outputs": [
        {
          "output_type": "execute_result",
          "data": {
            "text/plain": [
              "(48672, 7)"
            ]
          },
          "metadata": {
            "tags": []
          },
          "execution_count": 129
        }
      ]
    },
    {
      "cell_type": "code",
      "metadata": {
        "colab": {
          "base_uri": "https://localhost:8080/"
        },
        "id": "DETc7wW_E8xw",
        "outputId": "c69ae9d8-ef61-4483-ee78-a0b90973766c"
      },
      "source": [
        "y = Flights1['ARRIVAL_DELAY']\n",
        "y.head()"
      ],
      "execution_count": null,
      "outputs": [
        {
          "output_type": "execute_result",
          "data": {
            "text/plain": [
              "0   -22.0\n",
              "1   -14.0\n",
              "2   -35.0\n",
              "3   -12.0\n",
              "4   -14.0\n",
              "Name: ARRIVAL_DELAY, dtype: float64"
            ]
          },
          "metadata": {
            "tags": []
          },
          "execution_count": 130
        }
      ]
    },
    {
      "cell_type": "code",
      "metadata": {
        "id": "ilB3AXD8Fbki"
      },
      "source": [
        "X_train,X_test,y_train,y_test = train_test_split(X,y,test_size=0.3)"
      ],
      "execution_count": null,
      "outputs": []
    },
    {
      "cell_type": "code",
      "metadata": {
        "colab": {
          "base_uri": "https://localhost:8080/",
          "height": 402
        },
        "id": "XtG0UX0GFdE-",
        "outputId": "5e1a6777-0bc0-4d8d-d7bc-7ad2c5142794"
      },
      "source": [
        "X_train"
      ],
      "execution_count": null,
      "outputs": [
        {
          "output_type": "execute_result",
          "data": {
            "text/html": [
              "<div>\n",
              "<style scoped>\n",
              "    .dataframe tbody tr th:only-of-type {\n",
              "        vertical-align: middle;\n",
              "    }\n",
              "\n",
              "    .dataframe tbody tr th {\n",
              "        vertical-align: top;\n",
              "    }\n",
              "\n",
              "    .dataframe thead th {\n",
              "        text-align: right;\n",
              "    }\n",
              "</style>\n",
              "<table border=\"1\" class=\"dataframe\">\n",
              "  <thead>\n",
              "    <tr style=\"text-align: right;\">\n",
              "      <th></th>\n",
              "      <th>AIRLINE</th>\n",
              "      <th>ORIGIN_AIRPORT</th>\n",
              "      <th>DESTINATION_AIRPORT</th>\n",
              "      <th>DEPARTURE_DELAY</th>\n",
              "      <th>SCHEDULED_TIME</th>\n",
              "      <th>TAXI_IN</th>\n",
              "      <th>TAXI_OUT</th>\n",
              "    </tr>\n",
              "  </thead>\n",
              "  <tbody>\n",
              "    <tr>\n",
              "      <th>47516</th>\n",
              "      <td>3</td>\n",
              "      <td>141</td>\n",
              "      <td>49</td>\n",
              "      <td>1.0</td>\n",
              "      <td>91</td>\n",
              "      <td>4.0</td>\n",
              "      <td>25.0</td>\n",
              "    </tr>\n",
              "    <tr>\n",
              "      <th>15814</th>\n",
              "      <td>4</td>\n",
              "      <td>18</td>\n",
              "      <td>274</td>\n",
              "      <td>-1.0</td>\n",
              "      <td>262</td>\n",
              "      <td>5.0</td>\n",
              "      <td>20.0</td>\n",
              "    </tr>\n",
              "    <tr>\n",
              "      <th>41596</th>\n",
              "      <td>9</td>\n",
              "      <td>173</td>\n",
              "      <td>135</td>\n",
              "      <td>-5.0</td>\n",
              "      <td>255</td>\n",
              "      <td>4.0</td>\n",
              "      <td>25.0</td>\n",
              "    </tr>\n",
              "    <tr>\n",
              "      <th>12733</th>\n",
              "      <td>5</td>\n",
              "      <td>195</td>\n",
              "      <td>81</td>\n",
              "      <td>36.0</td>\n",
              "      <td>161</td>\n",
              "      <td>13.0</td>\n",
              "      <td>9.0</td>\n",
              "    </tr>\n",
              "    <tr>\n",
              "      <th>36963</th>\n",
              "      <td>9</td>\n",
              "      <td>167</td>\n",
              "      <td>185</td>\n",
              "      <td>6.0</td>\n",
              "      <td>240</td>\n",
              "      <td>8.0</td>\n",
              "      <td>14.0</td>\n",
              "    </tr>\n",
              "    <tr>\n",
              "      <th>...</th>\n",
              "      <td>...</td>\n",
              "      <td>...</td>\n",
              "      <td>...</td>\n",
              "      <td>...</td>\n",
              "      <td>...</td>\n",
              "      <td>...</td>\n",
              "      <td>...</td>\n",
              "    </tr>\n",
              "    <tr>\n",
              "      <th>24365</th>\n",
              "      <td>9</td>\n",
              "      <td>47</td>\n",
              "      <td>108</td>\n",
              "      <td>2.0</td>\n",
              "      <td>155</td>\n",
              "      <td>4.0</td>\n",
              "      <td>16.0</td>\n",
              "    </tr>\n",
              "    <tr>\n",
              "      <th>30802</th>\n",
              "      <td>3</td>\n",
              "      <td>295</td>\n",
              "      <td>142</td>\n",
              "      <td>29.0</td>\n",
              "      <td>97</td>\n",
              "      <td>9.0</td>\n",
              "      <td>14.0</td>\n",
              "    </tr>\n",
              "    <tr>\n",
              "      <th>25628</th>\n",
              "      <td>9</td>\n",
              "      <td>186</td>\n",
              "      <td>88</td>\n",
              "      <td>5.0</td>\n",
              "      <td>70</td>\n",
              "      <td>4.0</td>\n",
              "      <td>8.0</td>\n",
              "    </tr>\n",
              "    <tr>\n",
              "      <th>19345</th>\n",
              "      <td>12</td>\n",
              "      <td>167</td>\n",
              "      <td>100</td>\n",
              "      <td>-1.0</td>\n",
              "      <td>310</td>\n",
              "      <td>12.0</td>\n",
              "      <td>17.0</td>\n",
              "    </tr>\n",
              "    <tr>\n",
              "      <th>29789</th>\n",
              "      <td>9</td>\n",
              "      <td>80</td>\n",
              "      <td>182</td>\n",
              "      <td>-3.0</td>\n",
              "      <td>180</td>\n",
              "      <td>6.0</td>\n",
              "      <td>9.0</td>\n",
              "    </tr>\n",
              "  </tbody>\n",
              "</table>\n",
              "<p>34070 rows × 7 columns</p>\n",
              "</div>"
            ],
            "text/plain": [
              "       AIRLINE  ORIGIN_AIRPORT  ...  TAXI_IN  TAXI_OUT\n",
              "47516        3             141  ...      4.0      25.0\n",
              "15814        4              18  ...      5.0      20.0\n",
              "41596        9             173  ...      4.0      25.0\n",
              "12733        5             195  ...     13.0       9.0\n",
              "36963        9             167  ...      8.0      14.0\n",
              "...        ...             ...  ...      ...       ...\n",
              "24365        9              47  ...      4.0      16.0\n",
              "30802        3             295  ...      9.0      14.0\n",
              "25628        9             186  ...      4.0       8.0\n",
              "19345       12             167  ...     12.0      17.0\n",
              "29789        9              80  ...      6.0       9.0\n",
              "\n",
              "[34070 rows x 7 columns]"
            ]
          },
          "metadata": {
            "tags": []
          },
          "execution_count": 132
        }
      ]
    },
    {
      "cell_type": "code",
      "metadata": {
        "id": "GYbAOSDyFeY3"
      },
      "source": [
        "sc1=StandardScaler()\n",
        "X_train_sc=sc1.fit_transform(X_train)\n",
        "X_test_sc=sc1.transform(X_test)\n",
        "X_val=np.array([X.iloc[0]])\n",
        "X_val_sc=sc1.fit_transform(X_val)"
      ],
      "execution_count": null,
      "outputs": []
    },
    {
      "cell_type": "code",
      "metadata": {
        "colab": {
          "base_uri": "https://localhost:8080/",
          "height": 402
        },
        "id": "sOUJ0lmmPi4j",
        "outputId": "d19b0ac4-16e4-4d8a-9947-e31455bff57c"
      },
      "source": [
        "X_test"
      ],
      "execution_count": null,
      "outputs": [
        {
          "output_type": "execute_result",
          "data": {
            "text/html": [
              "<div>\n",
              "<style scoped>\n",
              "    .dataframe tbody tr th:only-of-type {\n",
              "        vertical-align: middle;\n",
              "    }\n",
              "\n",
              "    .dataframe tbody tr th {\n",
              "        vertical-align: top;\n",
              "    }\n",
              "\n",
              "    .dataframe thead th {\n",
              "        text-align: right;\n",
              "    }\n",
              "</style>\n",
              "<table border=\"1\" class=\"dataframe\">\n",
              "  <thead>\n",
              "    <tr style=\"text-align: right;\">\n",
              "      <th></th>\n",
              "      <th>AIRLINE</th>\n",
              "      <th>ORIGIN_AIRPORT</th>\n",
              "      <th>DESTINATION_AIRPORT</th>\n",
              "      <th>DEPARTURE_DELAY</th>\n",
              "      <th>SCHEDULED_TIME</th>\n",
              "      <th>TAXI_IN</th>\n",
              "      <th>TAXI_OUT</th>\n",
              "    </tr>\n",
              "  </thead>\n",
              "  <tbody>\n",
              "    <tr>\n",
              "      <th>26020</th>\n",
              "      <td>1</td>\n",
              "      <td>82</td>\n",
              "      <td>35</td>\n",
              "      <td>38.0</td>\n",
              "      <td>205</td>\n",
              "      <td>6.0</td>\n",
              "      <td>20.0</td>\n",
              "    </tr>\n",
              "    <tr>\n",
              "      <th>39019</th>\n",
              "      <td>9</td>\n",
              "      <td>208</td>\n",
              "      <td>33</td>\n",
              "      <td>5.0</td>\n",
              "      <td>85</td>\n",
              "      <td>6.0</td>\n",
              "      <td>16.0</td>\n",
              "    </tr>\n",
              "    <tr>\n",
              "      <th>45170</th>\n",
              "      <td>9</td>\n",
              "      <td>47</td>\n",
              "      <td>155</td>\n",
              "      <td>37.0</td>\n",
              "      <td>125</td>\n",
              "      <td>4.0</td>\n",
              "      <td>8.0</td>\n",
              "    </tr>\n",
              "    <tr>\n",
              "      <th>42933</th>\n",
              "      <td>2</td>\n",
              "      <td>33</td>\n",
              "      <td>172</td>\n",
              "      <td>-4.0</td>\n",
              "      <td>120</td>\n",
              "      <td>5.0</td>\n",
              "      <td>10.0</td>\n",
              "    </tr>\n",
              "    <tr>\n",
              "      <th>3311</th>\n",
              "      <td>6</td>\n",
              "      <td>175</td>\n",
              "      <td>133</td>\n",
              "      <td>-7.0</td>\n",
              "      <td>32</td>\n",
              "      <td>6.0</td>\n",
              "      <td>6.0</td>\n",
              "    </tr>\n",
              "    <tr>\n",
              "      <th>...</th>\n",
              "      <td>...</td>\n",
              "      <td>...</td>\n",
              "      <td>...</td>\n",
              "      <td>...</td>\n",
              "      <td>...</td>\n",
              "      <td>...</td>\n",
              "      <td>...</td>\n",
              "    </tr>\n",
              "    <tr>\n",
              "      <th>44202</th>\n",
              "      <td>8</td>\n",
              "      <td>81</td>\n",
              "      <td>57</td>\n",
              "      <td>25.0</td>\n",
              "      <td>110</td>\n",
              "      <td>3.0</td>\n",
              "      <td>12.0</td>\n",
              "    </tr>\n",
              "    <tr>\n",
              "      <th>9189</th>\n",
              "      <td>4</td>\n",
              "      <td>115</td>\n",
              "      <td>206</td>\n",
              "      <td>3.0</td>\n",
              "      <td>176</td>\n",
              "      <td>4.0</td>\n",
              "      <td>13.0</td>\n",
              "    </tr>\n",
              "    <tr>\n",
              "      <th>29433</th>\n",
              "      <td>3</td>\n",
              "      <td>10</td>\n",
              "      <td>18</td>\n",
              "      <td>-10.0</td>\n",
              "      <td>95</td>\n",
              "      <td>6.0</td>\n",
              "      <td>9.0</td>\n",
              "    </tr>\n",
              "    <tr>\n",
              "      <th>24007</th>\n",
              "      <td>0</td>\n",
              "      <td>257</td>\n",
              "      <td>174</td>\n",
              "      <td>5.0</td>\n",
              "      <td>382</td>\n",
              "      <td>6.0</td>\n",
              "      <td>19.0</td>\n",
              "    </tr>\n",
              "    <tr>\n",
              "      <th>43895</th>\n",
              "      <td>3</td>\n",
              "      <td>218</td>\n",
              "      <td>110</td>\n",
              "      <td>24.0</td>\n",
              "      <td>102</td>\n",
              "      <td>5.0</td>\n",
              "      <td>21.0</td>\n",
              "    </tr>\n",
              "  </tbody>\n",
              "</table>\n",
              "<p>14602 rows × 7 columns</p>\n",
              "</div>"
            ],
            "text/plain": [
              "       AIRLINE  ORIGIN_AIRPORT  ...  TAXI_IN  TAXI_OUT\n",
              "26020        1              82  ...      6.0      20.0\n",
              "39019        9             208  ...      6.0      16.0\n",
              "45170        9              47  ...      4.0       8.0\n",
              "42933        2              33  ...      5.0      10.0\n",
              "3311         6             175  ...      6.0       6.0\n",
              "...        ...             ...  ...      ...       ...\n",
              "44202        8              81  ...      3.0      12.0\n",
              "9189         4             115  ...      4.0      13.0\n",
              "29433        3              10  ...      6.0       9.0\n",
              "24007        0             257  ...      6.0      19.0\n",
              "43895        3             218  ...      5.0      21.0\n",
              "\n",
              "[14602 rows x 7 columns]"
            ]
          },
          "metadata": {
            "tags": []
          },
          "execution_count": 134
        }
      ]
    },
    {
      "cell_type": "code",
      "metadata": {
        "id": "44vmFsPiFgvF",
        "colab": {
          "base_uri": "https://localhost:8080/"
        },
        "outputId": "25f4b5a0-e826-444b-eaf9-686ab1c7b036"
      },
      "source": [
        "predictRfc=Rfc.fit(X_train,y_train)\n",
        "predictedValues = predictRfc.predict(X_test)\n",
        "print ('MAE:' ,  mean_absolute_error(y_test, predictedValues))\n",
        "print ('MSE:' , mean_squared_error(y_test, predictedValues))\n",
        "print('RMSE:' , np.sqrt(mean_squared_error(y_test, predictedValues)))\n",
        "print ('R2:' , r2_score(y_test, predictedValues))"
      ],
      "execution_count": null,
      "outputs": [
        {
          "output_type": "stream",
          "text": [
            "MAE: 6.991747795474853\n",
            "MSE: 101.94080236485043\n",
            "RMSE: 10.096573793364284\n",
            "R2: 0.9439299848036636\n"
          ],
          "name": "stdout"
        }
      ]
    },
    {
      "cell_type": "code",
      "metadata": {
        "colab": {
          "base_uri": "https://localhost:8080/",
          "height": 279
        },
        "id": "SvsO7AE_FiH6",
        "outputId": "3a447a28-a1b1-4fe5-fff8-5092369d20ad"
      },
      "source": [
        "#import matplotlib.pyplot as plt\n",
        "fig, ax = plt.subplots()\n",
        "ax.scatter(y_test, predictedValues)\n",
        "ax.plot([y.min(), y.max()], [y.min(), y.max()], 'k--', lw=4)\n",
        "ax.set_xlabel('Actual')\n",
        "ax.set_ylabel('Predicted')\n",
        "plt.show() "
      ],
      "execution_count": null,
      "outputs": [
        {
          "output_type": "display_data",
          "data": {
            "image/png": "[encoded data removed]",
            "text/plain": [
              "<Figure size 432x288 with 1 Axes>"
            ]
          },
          "metadata": {
            "tags": [],
            "needs_background": "light"
          }
        }
      ]
    },
    {
      "cell_type": "code",
      "metadata": {
        "colab": {
          "base_uri": "https://localhost:8080/",
          "height": 402
        },
        "id": "tP6OkaCtGU3a",
        "outputId": "1d8d219d-95da-460a-b7e0-998d9ea11c18"
      },
      "source": [
        "df = pd.DataFrame({'Actual': y_test, 'Predicted': predictedValues})\n",
        "df"
      ],
      "execution_count": null,
      "outputs": [
        {
          "output_type": "execute_result",
          "data": {
            "text/html": [
              "<div>\n",
              "<style scoped>\n",
              "    .dataframe tbody tr th:only-of-type {\n",
              "        vertical-align: middle;\n",
              "    }\n",
              "\n",
              "    .dataframe tbody tr th {\n",
              "        vertical-align: top;\n",
              "    }\n",
              "\n",
              "    .dataframe thead th {\n",
              "        text-align: right;\n",
              "    }\n",
              "</style>\n",
              "<table border=\"1\" class=\"dataframe\">\n",
              "  <thead>\n",
              "    <tr style=\"text-align: right;\">\n",
              "      <th></th>\n",
              "      <th>Actual</th>\n",
              "      <th>Predicted</th>\n",
              "    </tr>\n",
              "  </thead>\n",
              "  <tbody>\n",
              "    <tr>\n",
              "      <th>26020</th>\n",
              "      <td>27.0</td>\n",
              "      <td>29.76</td>\n",
              "    </tr>\n",
              "    <tr>\n",
              "      <th>39019</th>\n",
              "      <td>6.0</td>\n",
              "      <td>3.09</td>\n",
              "    </tr>\n",
              "    <tr>\n",
              "      <th>45170</th>\n",
              "      <td>27.0</td>\n",
              "      <td>28.28</td>\n",
              "    </tr>\n",
              "    <tr>\n",
              "      <th>42933</th>\n",
              "      <td>-13.0</td>\n",
              "      <td>-17.16</td>\n",
              "    </tr>\n",
              "    <tr>\n",
              "      <th>3311</th>\n",
              "      <td>-9.0</td>\n",
              "      <td>-5.25</td>\n",
              "    </tr>\n",
              "    <tr>\n",
              "      <th>...</th>\n",
              "      <td>...</td>\n",
              "      <td>...</td>\n",
              "    </tr>\n",
              "    <tr>\n",
              "      <th>44202</th>\n",
              "      <td>11.0</td>\n",
              "      <td>11.89</td>\n",
              "    </tr>\n",
              "    <tr>\n",
              "      <th>9189</th>\n",
              "      <td>-15.0</td>\n",
              "      <td>-8.06</td>\n",
              "    </tr>\n",
              "    <tr>\n",
              "      <th>29433</th>\n",
              "      <td>-16.0</td>\n",
              "      <td>-19.84</td>\n",
              "    </tr>\n",
              "    <tr>\n",
              "      <th>24007</th>\n",
              "      <td>7.0</td>\n",
              "      <td>3.68</td>\n",
              "    </tr>\n",
              "    <tr>\n",
              "      <th>43895</th>\n",
              "      <td>25.0</td>\n",
              "      <td>23.58</td>\n",
              "    </tr>\n",
              "  </tbody>\n",
              "</table>\n",
              "<p>14602 rows × 2 columns</p>\n",
              "</div>"
            ],
            "text/plain": [
              "       Actual  Predicted\n",
              "26020    27.0      29.76\n",
              "39019     6.0       3.09\n",
              "45170    27.0      28.28\n",
              "42933   -13.0     -17.16\n",
              "3311     -9.0      -5.25\n",
              "...       ...        ...\n",
              "44202    11.0      11.89\n",
              "9189    -15.0      -8.06\n",
              "29433   -16.0     -19.84\n",
              "24007     7.0       3.68\n",
              "43895    25.0      23.58\n",
              "\n",
              "[14602 rows x 2 columns]"
            ]
          },
          "metadata": {
            "tags": []
          },
          "execution_count": 137
        }
      ]
    },
    {
      "cell_type": "code",
      "metadata": {
        "colab": {
          "base_uri": "https://localhost:8080/"
        },
        "id": "IHS7_eT9GZUb",
        "outputId": "e554b8ce-c75c-4c5d-dd66-4e6900f28c1b"
      },
      "source": [
        "Rfc.score(X_test, y_test)"
      ],
      "execution_count": null,
      "outputs": [
        {
          "output_type": "execute_result",
          "data": {
            "text/plain": [
              "0.9439299848036636"
            ]
          },
          "metadata": {
            "tags": []
          },
          "execution_count": 138
        }
      ]
    },
    {
      "cell_type": "code",
      "metadata": {
        "colab": {
          "base_uri": "https://localhost:8080/",
          "height": 402
        },
        "id": "-VhYTehIGvOV",
        "outputId": "7dba4ca0-94d9-40f7-aa0f-d03fcb525a82"
      },
      "source": [
        "X_test"
      ],
      "execution_count": null,
      "outputs": [
        {
          "output_type": "execute_result",
          "data": {
            "text/html": [
              "<div>\n",
              "<style scoped>\n",
              "    .dataframe tbody tr th:only-of-type {\n",
              "        vertical-align: middle;\n",
              "    }\n",
              "\n",
              "    .dataframe tbody tr th {\n",
              "        vertical-align: top;\n",
              "    }\n",
              "\n",
              "    .dataframe thead th {\n",
              "        text-align: right;\n",
              "    }\n",
              "</style>\n",
              "<table border=\"1\" class=\"dataframe\">\n",
              "  <thead>\n",
              "    <tr style=\"text-align: right;\">\n",
              "      <th></th>\n",
              "      <th>AIRLINE</th>\n",
              "      <th>ORIGIN_AIRPORT</th>\n",
              "      <th>DESTINATION_AIRPORT</th>\n",
              "      <th>DEPARTURE_DELAY</th>\n",
              "      <th>SCHEDULED_TIME</th>\n",
              "      <th>TAXI_IN</th>\n",
              "      <th>TAXI_OUT</th>\n",
              "    </tr>\n",
              "  </thead>\n",
              "  <tbody>\n",
              "    <tr>\n",
              "      <th>26020</th>\n",
              "      <td>1</td>\n",
              "      <td>82</td>\n",
              "      <td>35</td>\n",
              "      <td>38.0</td>\n",
              "      <td>205</td>\n",
              "      <td>6.0</td>\n",
              "      <td>20.0</td>\n",
              "    </tr>\n",
              "    <tr>\n",
              "      <th>39019</th>\n",
              "      <td>9</td>\n",
              "      <td>208</td>\n",
              "      <td>33</td>\n",
              "      <td>5.0</td>\n",
              "      <td>85</td>\n",
              "      <td>6.0</td>\n",
              "      <td>16.0</td>\n",
              "    </tr>\n",
              "    <tr>\n",
              "      <th>45170</th>\n",
              "      <td>9</td>\n",
              "      <td>47</td>\n",
              "      <td>155</td>\n",
              "      <td>37.0</td>\n",
              "      <td>125</td>\n",
              "      <td>4.0</td>\n",
              "      <td>8.0</td>\n",
              "    </tr>\n",
              "    <tr>\n",
              "      <th>42933</th>\n",
              "      <td>2</td>\n",
              "      <td>33</td>\n",
              "      <td>172</td>\n",
              "      <td>-4.0</td>\n",
              "      <td>120</td>\n",
              "      <td>5.0</td>\n",
              "      <td>10.0</td>\n",
              "    </tr>\n",
              "    <tr>\n",
              "      <th>3311</th>\n",
              "      <td>6</td>\n",
              "      <td>175</td>\n",
              "      <td>133</td>\n",
              "      <td>-7.0</td>\n",
              "      <td>32</td>\n",
              "      <td>6.0</td>\n",
              "      <td>6.0</td>\n",
              "    </tr>\n",
              "    <tr>\n",
              "      <th>...</th>\n",
              "      <td>...</td>\n",
              "      <td>...</td>\n",
              "      <td>...</td>\n",
              "      <td>...</td>\n",
              "      <td>...</td>\n",
              "      <td>...</td>\n",
              "      <td>...</td>\n",
              "    </tr>\n",
              "    <tr>\n",
              "      <th>44202</th>\n",
              "      <td>8</td>\n",
              "      <td>81</td>\n",
              "      <td>57</td>\n",
              "      <td>25.0</td>\n",
              "      <td>110</td>\n",
              "      <td>3.0</td>\n",
              "      <td>12.0</td>\n",
              "    </tr>\n",
              "    <tr>\n",
              "      <th>9189</th>\n",
              "      <td>4</td>\n",
              "      <td>115</td>\n",
              "      <td>206</td>\n",
              "      <td>3.0</td>\n",
              "      <td>176</td>\n",
              "      <td>4.0</td>\n",
              "      <td>13.0</td>\n",
              "    </tr>\n",
              "    <tr>\n",
              "      <th>29433</th>\n",
              "      <td>3</td>\n",
              "      <td>10</td>\n",
              "      <td>18</td>\n",
              "      <td>-10.0</td>\n",
              "      <td>95</td>\n",
              "      <td>6.0</td>\n",
              "      <td>9.0</td>\n",
              "    </tr>\n",
              "    <tr>\n",
              "      <th>24007</th>\n",
              "      <td>0</td>\n",
              "      <td>257</td>\n",
              "      <td>174</td>\n",
              "      <td>5.0</td>\n",
              "      <td>382</td>\n",
              "      <td>6.0</td>\n",
              "      <td>19.0</td>\n",
              "    </tr>\n",
              "    <tr>\n",
              "      <th>43895</th>\n",
              "      <td>3</td>\n",
              "      <td>218</td>\n",
              "      <td>110</td>\n",
              "      <td>24.0</td>\n",
              "      <td>102</td>\n",
              "      <td>5.0</td>\n",
              "      <td>21.0</td>\n",
              "    </tr>\n",
              "  </tbody>\n",
              "</table>\n",
              "<p>14602 rows × 7 columns</p>\n",
              "</div>"
            ],
            "text/plain": [
              "       AIRLINE  ORIGIN_AIRPORT  ...  TAXI_IN  TAXI_OUT\n",
              "26020        1              82  ...      6.0      20.0\n",
              "39019        9             208  ...      6.0      16.0\n",
              "45170        9              47  ...      4.0       8.0\n",
              "42933        2              33  ...      5.0      10.0\n",
              "3311         6             175  ...      6.0       6.0\n",
              "...        ...             ...  ...      ...       ...\n",
              "44202        8              81  ...      3.0      12.0\n",
              "9189         4             115  ...      4.0      13.0\n",
              "29433        3              10  ...      6.0       9.0\n",
              "24007        0             257  ...      6.0      19.0\n",
              "43895        3             218  ...      5.0      21.0\n",
              "\n",
              "[14602 rows x 7 columns]"
            ]
          },
          "metadata": {
            "tags": []
          },
          "execution_count": 139
        }
      ]
    },
    {
      "cell_type": "code",
      "metadata": {
        "id": "ge2uqymPw6wG",
        "colab": {
          "base_uri": "https://localhost:8080/"
        },
        "outputId": "0816567c-1b49-4be4-d88d-1408173bbe81"
      },
      "source": [
        "X_val=np.array([[9,88,227,10.0,270,8.0,45.0]])\n",
        "X_val"
      ],
      "execution_count": null,
      "outputs": [
        {
          "output_type": "execute_result",
          "data": {
            "text/plain": [
              "array([[  9.,  88., 227.,  10., 270.,   8.,  45.]])"
            ]
          },
          "metadata": {
            "tags": []
          },
          "execution_count": 140
        }
      ]
    },
    {
      "cell_type": "code",
      "metadata": {
        "id": "zGm-RfStOY3A"
      },
      "source": [
        "y_val=predictRfc.predict(X_val)"
      ],
      "execution_count": null,
      "outputs": []
    },
    {
      "cell_type": "code",
      "metadata": {
        "colab": {
          "base_uri": "https://localhost:8080/"
        },
        "id": "cZZHMmyFRnrg",
        "outputId": "10eaf6e0-060c-4ed2-e586-6e74478ec791"
      },
      "source": [
        "y_val"
      ],
      "execution_count": null,
      "outputs": [
        {
          "output_type": "execute_result",
          "data": {
            "text/plain": [
              "array([25.18])"
            ]
          },
          "metadata": {
            "tags": []
          },
          "execution_count": 142
        }
      ]
    },
    {
      "cell_type": "code",
      "metadata": {
        "id": "bxYz4nUESTp2"
      },
      "source": [
        ""
      ],
      "execution_count": null,
      "outputs": []
    },
    {
      "cell_type": "markdown",
      "metadata": {
        "id": "l4FaY4CejdfZ"
      },
      "source": [
        "### Applying Decision Tree Regressor"
      ]
    },
    {
      "cell_type": "code",
      "metadata": {
        "id": "nMXgC-caSdMZ"
      },
      "source": [
        ""
      ],
      "execution_count": null,
      "outputs": []
    },
    {
      "cell_type": "code",
      "metadata": {
        "colab": {
          "base_uri": "https://localhost:8080/"
        },
        "id": "bp3ObnuVFZCG",
        "outputId": "fe7aa89f-2535-4f82-b2bd-10c85c89fecb"
      },
      "source": [
        "from sklearn.tree import DecisionTreeRegressor\n",
        "Dtc = DecisionTreeRegressor(random_state = 2)\n",
        "\n",
        "fitResultdtc = Dtc.fit(X_train,y_train)\n",
        "predictedValues = fitResultdtc.predict(X_test)\n",
        "print ('MAE:' ,  mean_absolute_error(y_test, predictedValues))\n",
        "print ('MSE:' , mean_squared_error(y_test, predictedValues))\n",
        "print('RMSE:' , np.sqrt(mean_squared_error(y_test, predictedValues)))\n",
        "print ('R2:' , r2_score(y_test, predictedValues))"
      ],
      "execution_count": null,
      "outputs": [
        {
          "output_type": "stream",
          "text": [
            "MAE: 10.155492398301602\n",
            "MSE: 193.93704629502807\n",
            "RMSE: 13.926128187512424\n",
            "R2: 0.8933297278358069\n"
          ],
          "name": "stdout"
        }
      ]
    },
    {
      "cell_type": "code",
      "metadata": {
        "colab": {
          "base_uri": "https://localhost:8080/",
          "height": 279
        },
        "id": "1up9BB9cDD9T",
        "outputId": "d13d352a-b2e1-43d9-b49c-ea3cd9ddc2bc"
      },
      "source": [
        "#import matplotlib.pyplot as plt\n",
        "fig, ax = plt.subplots()\n",
        "ax.scatter(y_test, predictedValues)\n",
        "ax.plot([y.min(), y.max()], [y.min(), y.max()], 'k--', lw=4)\n",
        "ax.set_xlabel('Actual')\n",
        "ax.set_ylabel('Predicted')\n",
        "plt.show() "
      ],
      "execution_count": null,
      "outputs": [
        {
          "output_type": "display_data",
          "data": {
            "image/png": "[encoded data removed]",
            "text/plain": [
              "<Figure size 432x288 with 1 Axes>"
            ]
          },
          "metadata": {
            "tags": [],
            "needs_background": "light"
          }
        }
      ]
    },
    {
      "cell_type": "code",
      "metadata": {
        "colab": {
          "base_uri": "https://localhost:8080/",
          "height": 402
        },
        "id": "vdhhOFAq-Z6u",
        "outputId": "0167b85d-7dca-4ac7-d261-0559d82113fb"
      },
      "source": [
        "df = pd.DataFrame({'Actual': y_test, 'Predicted': predictedValues})\n",
        "df"
      ],
      "execution_count": null,
      "outputs": [
        {
          "output_type": "execute_result",
          "data": {
            "text/html": [
              "<div>\n",
              "<style scoped>\n",
              "    .dataframe tbody tr th:only-of-type {\n",
              "        vertical-align: middle;\n",
              "    }\n",
              "\n",
              "    .dataframe tbody tr th {\n",
              "        vertical-align: top;\n",
              "    }\n",
              "\n",
              "    .dataframe thead th {\n",
              "        text-align: right;\n",
              "    }\n",
              "</style>\n",
              "<table border=\"1\" class=\"dataframe\">\n",
              "  <thead>\n",
              "    <tr style=\"text-align: right;\">\n",
              "      <th></th>\n",
              "      <th>Actual</th>\n",
              "      <th>Predicted</th>\n",
              "    </tr>\n",
              "  </thead>\n",
              "  <tbody>\n",
              "    <tr>\n",
              "      <th>26020</th>\n",
              "      <td>27.0</td>\n",
              "      <td>53.0</td>\n",
              "    </tr>\n",
              "    <tr>\n",
              "      <th>39019</th>\n",
              "      <td>6.0</td>\n",
              "      <td>27.0</td>\n",
              "    </tr>\n",
              "    <tr>\n",
              "      <th>45170</th>\n",
              "      <td>27.0</td>\n",
              "      <td>22.0</td>\n",
              "    </tr>\n",
              "    <tr>\n",
              "      <th>42933</th>\n",
              "      <td>-13.0</td>\n",
              "      <td>-31.0</td>\n",
              "    </tr>\n",
              "    <tr>\n",
              "      <th>3311</th>\n",
              "      <td>-9.0</td>\n",
              "      <td>-6.0</td>\n",
              "    </tr>\n",
              "    <tr>\n",
              "      <th>...</th>\n",
              "      <td>...</td>\n",
              "      <td>...</td>\n",
              "    </tr>\n",
              "    <tr>\n",
              "      <th>44202</th>\n",
              "      <td>11.0</td>\n",
              "      <td>22.0</td>\n",
              "    </tr>\n",
              "    <tr>\n",
              "      <th>9189</th>\n",
              "      <td>-15.0</td>\n",
              "      <td>3.0</td>\n",
              "    </tr>\n",
              "    <tr>\n",
              "      <th>29433</th>\n",
              "      <td>-16.0</td>\n",
              "      <td>-17.0</td>\n",
              "    </tr>\n",
              "    <tr>\n",
              "      <th>24007</th>\n",
              "      <td>7.0</td>\n",
              "      <td>1.0</td>\n",
              "    </tr>\n",
              "    <tr>\n",
              "      <th>43895</th>\n",
              "      <td>25.0</td>\n",
              "      <td>37.0</td>\n",
              "    </tr>\n",
              "  </tbody>\n",
              "</table>\n",
              "<p>14602 rows × 2 columns</p>\n",
              "</div>"
            ],
            "text/plain": [
              "       Actual  Predicted\n",
              "26020    27.0       53.0\n",
              "39019     6.0       27.0\n",
              "45170    27.0       22.0\n",
              "42933   -13.0      -31.0\n",
              "3311     -9.0       -6.0\n",
              "...       ...        ...\n",
              "44202    11.0       22.0\n",
              "9189    -15.0        3.0\n",
              "29433   -16.0      -17.0\n",
              "24007     7.0        1.0\n",
              "43895    25.0       37.0\n",
              "\n",
              "[14602 rows x 2 columns]"
            ]
          },
          "metadata": {
            "tags": []
          },
          "execution_count": 145
        }
      ]
    },
    {
      "cell_type": "code",
      "metadata": {
        "colab": {
          "base_uri": "https://localhost:8080/"
        },
        "id": "4pe-kdV3xBoZ",
        "outputId": "3fd8cbaa-c999-4f2b-dae5-817328be1540"
      },
      "source": [
        "Dtc.score(X_test, y_test)"
      ],
      "execution_count": null,
      "outputs": [
        {
          "output_type": "execute_result",
          "data": {
            "text/plain": [
              "0.8933297278358069"
            ]
          },
          "metadata": {
            "tags": []
          },
          "execution_count": 146
        }
      ]
    },
    {
      "cell_type": "code",
      "metadata": {
        "colab": {
          "base_uri": "https://localhost:8080/"
        },
        "id": "YauzRKbNR2Og",
        "outputId": "fd1acc38-786d-430f-a107-79efafd3da30"
      },
      "source": [
        "X_val=np.array([[9,88,227,10.0,270,8.0,45.0]])\n",
        "X_val"
      ],
      "execution_count": null,
      "outputs": [
        {
          "output_type": "execute_result",
          "data": {
            "text/plain": [
              "array([[  9.,  88., 227.,  10., 270.,   8.,  45.]])"
            ]
          },
          "metadata": {
            "tags": []
          },
          "execution_count": 147
        }
      ]
    },
    {
      "cell_type": "code",
      "metadata": {
        "colab": {
          "base_uri": "https://localhost:8080/"
        },
        "id": "8enaBqwwR5P1",
        "outputId": "de911cc2-039b-4715-b049-971803b170f6"
      },
      "source": [
        "y_val= fitResultdtc.predict(X_val)\n",
        "y_val"
      ],
      "execution_count": null,
      "outputs": [
        {
          "output_type": "execute_result",
          "data": {
            "text/plain": [
              "array([25.])"
            ]
          },
          "metadata": {
            "tags": []
          },
          "execution_count": 148
        }
      ]
    },
    {
      "cell_type": "code",
      "metadata": {
        "id": "wooy5lySDcAH"
      },
      "source": [
        ""
      ],
      "execution_count": null,
      "outputs": []
    },
    {
      "cell_type": "markdown",
      "metadata": {
        "id": "Kzny6Vmulr5X"
      },
      "source": [
        "### XGBoost Regresion"
      ]
    },
    {
      "cell_type": "code",
      "metadata": {
        "colab": {
          "base_uri": "https://localhost:8080/"
        },
        "id": "olpZz5TsNkIf",
        "outputId": "05dfd056-cf74-498d-a6ec-3a1f7b587f57"
      },
      "source": [
        "import xgboost as xg \n",
        "from sklearn.model_selection import train_test_split \n",
        "from sklearn.metrics import mean_squared_error as MSE \n",
        "xgb_r = xg.XGBRegressor(objective ='reg:linear', \n",
        "                  n_estimators = 1000) \n",
        "xgb_r.fit(X_train, y_train) \n"
      ],
      "execution_count": null,
      "outputs": [
        {
          "output_type": "stream",
          "text": [
            "[15:42:40] WARNING: /workspace/src/objective/regression_obj.cu:152: reg:linear is now deprecated in favor of reg:squarederror.\n"
          ],
          "name": "stdout"
        },
        {
          "output_type": "execute_result",
          "data": {
            "text/plain": [
              "XGBRegressor(base_score=0.5, booster='gbtree', colsample_bylevel=1,\n",
              "             colsample_bynode=1, colsample_bytree=1, gamma=0,\n",
              "             importance_type='gain', learning_rate=0.1, max_delta_step=0,\n",
              "             max_depth=3, min_child_weight=1, missing=None, n_estimators=1000,\n",
              "             n_jobs=1, nthread=None, objective='reg:linear', random_state=0,\n",
              "             reg_alpha=0, reg_lambda=1, scale_pos_weight=1, seed=None,\n",
              "             silent=None, subsample=1, verbosity=1)"
            ]
          },
          "metadata": {
            "tags": []
          },
          "execution_count": 149
        }
      ]
    },
    {
      "cell_type": "code",
      "metadata": {
        "colab": {
          "base_uri": "https://localhost:8080/",
          "height": 279
        },
        "id": "_SKf46icNkIo",
        "outputId": "664064a5-fbd6-46a7-ed16-1396bd8ebc5a"
      },
      "source": [
        "#import matplotlib.pyplot as plt\n",
        "fig, ax = plt.subplots()\n",
        "ax.scatter(y_test, predictedValues)\n",
        "ax.plot([y.min(), y.max()], [y.min(), y.max()], 'k--', lw=4)\n",
        "ax.set_xlabel('Actual')\n",
        "ax.set_ylabel('Predicted')\n",
        "plt.show() "
      ],
      "execution_count": null,
      "outputs": [
        {
          "output_type": "display_data",
          "data": {
            "image/png": "[encoded data removed]",
            "text/plain": [
              "<Figure size 432x288 with 1 Axes>"
            ]
          },
          "metadata": {
            "tags": [],
            "needs_background": "light"
          }
        }
      ]
    },
    {
      "cell_type": "code",
      "metadata": {
        "colab": {
          "base_uri": "https://localhost:8080/",
          "height": 402
        },
        "id": "qbmI1w0ANkIo",
        "outputId": "31f919f1-1f32-48fa-a0c7-3a79ad7baef2"
      },
      "source": [
        "df = pd.DataFrame({'Actual': y_test, 'Predicted': predictedValues})\n",
        "df"
      ],
      "execution_count": null,
      "outputs": [
        {
          "output_type": "execute_result",
          "data": {
            "text/html": [
              "<div>\n",
              "<style scoped>\n",
              "    .dataframe tbody tr th:only-of-type {\n",
              "        vertical-align: middle;\n",
              "    }\n",
              "\n",
              "    .dataframe tbody tr th {\n",
              "        vertical-align: top;\n",
              "    }\n",
              "\n",
              "    .dataframe thead th {\n",
              "        text-align: right;\n",
              "    }\n",
              "</style>\n",
              "<table border=\"1\" class=\"dataframe\">\n",
              "  <thead>\n",
              "    <tr style=\"text-align: right;\">\n",
              "      <th></th>\n",
              "      <th>Actual</th>\n",
              "      <th>Predicted</th>\n",
              "    </tr>\n",
              "  </thead>\n",
              "  <tbody>\n",
              "    <tr>\n",
              "      <th>26020</th>\n",
              "      <td>27.0</td>\n",
              "      <td>53.0</td>\n",
              "    </tr>\n",
              "    <tr>\n",
              "      <th>39019</th>\n",
              "      <td>6.0</td>\n",
              "      <td>27.0</td>\n",
              "    </tr>\n",
              "    <tr>\n",
              "      <th>45170</th>\n",
              "      <td>27.0</td>\n",
              "      <td>22.0</td>\n",
              "    </tr>\n",
              "    <tr>\n",
              "      <th>42933</th>\n",
              "      <td>-13.0</td>\n",
              "      <td>-31.0</td>\n",
              "    </tr>\n",
              "    <tr>\n",
              "      <th>3311</th>\n",
              "      <td>-9.0</td>\n",
              "      <td>-6.0</td>\n",
              "    </tr>\n",
              "    <tr>\n",
              "      <th>...</th>\n",
              "      <td>...</td>\n",
              "      <td>...</td>\n",
              "    </tr>\n",
              "    <tr>\n",
              "      <th>44202</th>\n",
              "      <td>11.0</td>\n",
              "      <td>22.0</td>\n",
              "    </tr>\n",
              "    <tr>\n",
              "      <th>9189</th>\n",
              "      <td>-15.0</td>\n",
              "      <td>3.0</td>\n",
              "    </tr>\n",
              "    <tr>\n",
              "      <th>29433</th>\n",
              "      <td>-16.0</td>\n",
              "      <td>-17.0</td>\n",
              "    </tr>\n",
              "    <tr>\n",
              "      <th>24007</th>\n",
              "      <td>7.0</td>\n",
              "      <td>1.0</td>\n",
              "    </tr>\n",
              "    <tr>\n",
              "      <th>43895</th>\n",
              "      <td>25.0</td>\n",
              "      <td>37.0</td>\n",
              "    </tr>\n",
              "  </tbody>\n",
              "</table>\n",
              "<p>14602 rows × 2 columns</p>\n",
              "</div>"
            ],
            "text/plain": [
              "       Actual  Predicted\n",
              "26020    27.0       53.0\n",
              "39019     6.0       27.0\n",
              "45170    27.0       22.0\n",
              "42933   -13.0      -31.0\n",
              "3311     -9.0       -6.0\n",
              "...       ...        ...\n",
              "44202    11.0       22.0\n",
              "9189    -15.0        3.0\n",
              "29433   -16.0      -17.0\n",
              "24007     7.0        1.0\n",
              "43895    25.0       37.0\n",
              "\n",
              "[14602 rows x 2 columns]"
            ]
          },
          "metadata": {
            "tags": []
          },
          "execution_count": 151
        }
      ]
    },
    {
      "cell_type": "code",
      "metadata": {
        "colab": {
          "base_uri": "https://localhost:8080/"
        },
        "id": "xNEf8A6yNkIo",
        "outputId": "d4c21798-6deb-4e0a-9899-b5b3eb067e21"
      },
      "source": [
        "xgb_r.score(X_test, y_test)"
      ],
      "execution_count": null,
      "outputs": [
        {
          "output_type": "execute_result",
          "data": {
            "text/plain": [
              "0.9597135660046675"
            ]
          },
          "metadata": {
            "tags": []
          },
          "execution_count": 152
        }
      ]
    },
    {
      "cell_type": "code",
      "metadata": {
        "id": "TnksLEe6Ubcx",
        "colab": {
          "base_uri": "https://localhost:8080/"
        },
        "outputId": "cdcd4c7d-8232-4471-8d87-85e3806edeba"
      },
      "source": [
        "predictedValues = xgb_r.predict(X_test) \n",
        "print ('MAE:' ,  mean_absolute_error(y_test, predictedValues))\n",
        "print ('MSE:' , mean_squared_error(y_test, predictedValues))\n",
        "print('RMSE:' , np.sqrt(mean_squared_error(y_test, predictedValues)))\n",
        "print ('R2:' , r2_score(y_test, predictedValues))"
      ],
      "execution_count": null,
      "outputs": [
        {
          "output_type": "stream",
          "text": [
            "MAE: 5.916799657774402\n",
            "MSE: 73.24469935530024\n",
            "RMSE: 8.55831171173966\n",
            "R2: 0.9597135660046676\n"
          ],
          "name": "stdout"
        }
      ]
    },
    {
      "cell_type": "code",
      "metadata": {
        "colab": {
          "base_uri": "https://localhost:8080/"
        },
        "id": "Ya2yvgo2NkIp",
        "outputId": "2f17a919-6dae-4f24-9baa-bd916fc94aa0"
      },
      "source": [
        "X_val=np.array([[9,88,227,10.0,270,8.0,45.0]])\n",
        "X_val"
      ],
      "execution_count": null,
      "outputs": [
        {
          "output_type": "execute_result",
          "data": {
            "text/plain": [
              "array([[  9.,  88., 227.,  10., 270.,   8.,  45.]])"
            ]
          },
          "metadata": {
            "tags": []
          },
          "execution_count": 154
        }
      ]
    },
    {
      "cell_type": "code",
      "metadata": {
        "colab": {
          "base_uri": "https://localhost:8080/"
        },
        "id": "ssTN4oADNkIp",
        "outputId": "be57889d-e996-4a98-9c93-ae1b2240cc4d"
      },
      "source": [
        "y_val= fitResultdtc.predict(X_val)\n",
        "y_val"
      ],
      "execution_count": null,
      "outputs": [
        {
          "output_type": "execute_result",
          "data": {
            "text/plain": [
              "array([25.])"
            ]
          },
          "metadata": {
            "tags": []
          },
          "execution_count": 155
        }
      ]
    },
    {
      "cell_type": "markdown",
      "metadata": {
        "id": "0O88chTjNaOe"
      },
      "source": [
        "Functions"
      ]
    },
    {
      "cell_type": "code",
      "metadata": {
        "colab": {
          "base_uri": "https://localhost:8080/"
        },
        "id": "CLEo7U-ttJ1F",
        "outputId": "3c2d9e37-adf9-4e2a-8a4a-15020dcb70c6"
      },
      "source": [
        "from sklearn.externals import joblib  \n",
        "from sklearn.preprocessing import LabelEncoder\n",
        "flightsinfo = pd.read_csv(\"drive/My Drive/flights.csv\",nrows=50000)\n",
        "airport = pd.read_csv('drive/My Drive/airports.csv')\n",
        "airlines = pd.read_csv('drive/My Drive/airlines.csv')\n",
        "from xgboost import XGBClassifier\n",
        "classifierXGB = XGBClassifier(n_estimators=1000)\n",
        "le = LabelEncoder()\n",
        "flights=flightsinfo\n",
        "Flights1 = flightsinfo\n",
        "Flights1=flightsinfo.drop(['YEAR','MONTH','DAY','DAY_OF_WEEK','TAIL_NUMBER','DEPARTURE_TIME','WHEELS_OFF','WHEELS_ON','SCHEDULED_ARRIVAL','ARRIVAL_TIME','CANCELLATION_REASON','AIR_SYSTEM_DELAY','SECURITY_DELAY','AIRLINE_DELAY','LATE_AIRCRAFT_DELAY','WEATHER_DELAY'], axis = 1)\n",
        "Flights1['Is_Delayed'] = np.where(Flights1['ARRIVAL_DELAY']<=0, 0,1)\n",
        "Flights2=Flights1\n",
        "airlines_dict = dict(zip(airlines['IATA_CODE'],airlines['AIRLINE']))\n",
        "airport_dict = dict(zip(airport['IATA_CODE'],airport['AIRPORT']))\n",
        "Flights1 = Flights1.dropna(subset = ['TAXI_IN','ARRIVAL_DELAY'])\n",
        "X= Flights1.drop(['ELAPSED_TIME','DIVERTED','SCHEDULED_DEPARTURE','CANCELLED','FLIGHT_NUMBER','Is_Delayed','TAXI_IN'], axis = 1)\n",
        "Flights1['DESC_AIRLINE'] = flightsinfo['AIRLINE'].apply(lambda x: airlines_dict[x])\n",
        "Flights2['DESC_AIRLINE'] = flightsinfo['AIRLINE'].apply(lambda x: airlines_dict[x])\n",
        "Flights1['Is_Delayed'] = np.where(Flights1['ARRIVAL_DELAY']<=0, 0,1)\n",
        "X['AIRLINE']= le.fit_transform(X['AIRLINE'])\n",
        "mapping = dict(zip(le.classes_, range(len(le.classes_))))\n",
        "X['ORIGIN_AIRPORT'] = le.fit_transform(X['ORIGIN_AIRPORT'])\n",
        "mapping = dict(zip(le.classes_, range(len(le.classes_))))\n",
        "X['DESTINATION_AIRPORT'] = le.fit_transform(X['DESTINATION_AIRPORT'])\n",
        "print(mapping['SEA'])\n",
        "# X=X.drop(['ARRIVAL_DELAY'])\n",
        "X = X.drop(['ARRIVAL_DELAY'],axis = 1)\n",
        "y = Flights1['Is_Delayed']\n",
        "classifierXGB.fit(X,y)\n",
        "# print(X.columns)\n",
        "joblib.dump(classifierXGB, 'drive/My Drive/xgbmodel.pkl') \n"
      ],
      "execution_count": null,
      "outputs": [
        {
          "output_type": "stream",
          "text": [
            "/usr/local/lib/python3.7/dist-packages/sklearn/externals/joblib/__init__.py:15: FutureWarning: sklearn.externals.joblib is deprecated in 0.21 and will be removed in 0.23. Please import this functionality directly from joblib, which can be installed with: pip install joblib. If this warning is raised when loading pickled models, you may need to re-serialize those models with scikit-learn 0.21+.\n",
            "  warnings.warn(msg, category=FutureWarning)\n",
            "/usr/local/lib/python3.7/dist-packages/ipykernel_launcher.py:18: SettingWithCopyWarning: \n",
            "A value is trying to be set on a copy of a slice from a DataFrame.\n",
            "Try using .loc[row_indexer,col_indexer] = value instead\n",
            "\n",
            "See the caveats in the documentation: https://pandas.pydata.org/pandas-docs/stable/user_guide/indexing.html#returning-a-view-versus-a-copy\n",
            "/usr/local/lib/python3.7/dist-packages/ipykernel_launcher.py:20: SettingWithCopyWarning: \n",
            "A value is trying to be set on a copy of a slice from a DataFrame.\n",
            "Try using .loc[row_indexer,col_indexer] = value instead\n",
            "\n",
            "See the caveats in the documentation: https://pandas.pydata.org/pandas-docs/stable/user_guide/indexing.html#returning-a-view-versus-a-copy\n"
          ],
          "name": "stderr"
        },
        {
          "output_type": "stream",
          "text": [
            "268\n"
          ],
          "name": "stdout"
        },
        {
          "output_type": "execute_result",
          "data": {
            "text/plain": [
              "['drive/My Drive/xgbmodel.pkl']"
            ]
          },
          "metadata": {
            "tags": []
          },
          "execution_count": 156
        }
      ]
    },
    {
      "cell_type": "code",
      "metadata": {
        "colab": {
          "base_uri": "https://localhost:8080/"
        },
        "id": "vmXhiZ7PXeOh",
        "outputId": "43dd35ba-05e0-4184-8f17-6c3cce641608"
      },
      "source": [
        "from sklearn.externals import joblib  \n",
        "from xgboost import XGBClassifier\n",
        "from sklearn.preprocessing import LabelEncoder\n",
        "classifierXGB = XGBClassifier(n_estimators=1000)\n",
        "def recommend(src,dest):\n",
        "  flightsinfo = pd.read_csv(\"drive/My Drive/flights.csv\",nrows=200000)\n",
        "  airport = pd.read_csv('drive/My Drive/airports.csv')\n",
        "  airlines = pd.read_csv('drive/My Drive/airlines.csv')\n",
        "  flights=flightsinfo\n",
        "  Flights1 = flightsinfo\n",
        "  Flights1=flightsinfo.drop(['YEAR','MONTH','DAY','DAY_OF_WEEK','TAIL_NUMBER','DEPARTURE_TIME','WHEELS_OFF','WHEELS_ON','SCHEDULED_ARRIVAL','ARRIVAL_TIME','CANCELLATION_REASON','AIR_SYSTEM_DELAY','SECURITY_DELAY','AIRLINE_DELAY','LATE_AIRCRAFT_DELAY','WEATHER_DELAY'], axis = 1)\n",
        "  Flights1['Is_Delayed'] = np.where(Flights1['ARRIVAL_DELAY']<=0, 0,1)\n",
        "  Flights2=Flights1\n",
        "  Flights1=Flights1.loc[(Flights1['ORIGIN_AIRPORT'] == src)  | (Flights1['DESTINATION_AIRPORT'] == dest)]\n",
        "  Flights2=Flights2.loc[(Flights2['ORIGIN_AIRPORT'] == src)  & (Flights2['DESTINATION_AIRPORT'] == dest)]\n",
        "  airlines_dict = dict(zip(airlines['IATA_CODE'],airlines['AIRLINE']))\n",
        "  airport_dict = dict(zip(airport['IATA_CODE'],airport['AIRPORT']))\n",
        "  Flights1 = Flights1.dropna(subset = ['TAXI_IN','ARRIVAL_DELAY'])\n",
        "  X= Flights1.drop(['ELAPSED_TIME','DIVERTED','SCHEDULED_DEPARTURE','CANCELLED','FLIGHT_NUMBER','Is_Delayed','TAXI_IN'], axis = 1)\n",
        "  Flights1['DESC_AIRLINE'] = flightsinfo['AIRLINE'].apply(lambda x: airlines_dict[x])\n",
        "  Flights2['DESC_AIRLINE'] = flightsinfo['AIRLINE'].apply(lambda x: airlines_dict[x])\n",
        "  Flights1['Is_Delayed'] = np.where(Flights1['ARRIVAL_DELAY']<=0, 0,1)\n",
        "  Flights2 = Flights2.dropna(subset = ['TAXI_IN','ARRIVAL_DELAY'])\n",
        "  X['AIRLINE']= le.fit_transform(X['AIRLINE'])\n",
        "  mapping = dict(zip(le.classes_, range(len(le.classes_))))\n",
        "  # print(mapping['AS'])\n",
        "  X['ORIGIN_AIRPORT'] = le.fit_transform(X['ORIGIN_AIRPORT'])\n",
        "  mapping = dict(zip(le.classes_, range(len(le.classes_))))\n",
        "  srcno=mapping[src]\n",
        "  X['DESTINATION_AIRPORT'] = le.fit_transform(X['DESTINATION_AIRPORT'])\n",
        "  X = X.drop(['ARRIVAL_DELAY'],axis = 1)\n",
        "  mapping = dict(zip(le.classes_, range(len(le.classes_))))\n",
        "  destno=mapping[dest]\n",
        "  y = Flights1['Is_Delayed']\n",
        "  X_test=X.loc[(X['ORIGIN_AIRPORT'] == srcno)  & (X['DESTINATION_AIRPORT'] == destno)]\n",
        "  # return X_test\n",
        "  xgb_from_joblib = joblib.load('drive/My Drive/xgbmodel_new.pkl')   \n",
        "  y_pred=xgb_from_joblib.predict(X_test)\n",
        "  Flights2['delayed']=y_pred\n",
        "  Flights2=Flights2.loc[(Flights2['delayed'] == 0)]\n",
        "  rank_airlines = pd.DataFrame(Flights2.groupby('DESC_AIRLINE').count()['SCHEDULED_DEPARTURE'])\n",
        "  rank_airlines['CANCELLED']=Flights2.groupby('DESC_AIRLINE').sum()['CANCELLED']\n",
        "  rank_airlines['OPERATED']=rank_airlines['SCHEDULED_DEPARTURE']-rank_airlines['CANCELLED']\n",
        "  rank_airlines['RATIO_OP_SCH']=rank_airlines['OPERATED']/rank_airlines['SCHEDULED_DEPARTURE']\n",
        "  rank_airlines.drop(rank_airlines.columns[[0,1,2]],axis=1,inplace=True)\n",
        "  Flights2['FLIGHT_SPEED'] = 60*Flights2['DISTANCE']/Flights2['AIR_TIME']\n",
        "  rank_airlines['FLIGHT_SPEED'] = Flights2.groupby('DESC_AIRLINE')['FLIGHT_SPEED'].mean()\n",
        "  Flights2.groupby('DESC_AIRLINE')[['ARRIVAL_DELAY','DEPARTURE_DELAY']].mean()\n",
        "  rank_airlines['ARRIVAL_DELAY']= Flights2.groupby('DESC_AIRLINE')['ARRIVAL_DELAY'].mean()\n",
        "  rank_airlines['ARRIVAL_DELAY']=rank_airlines['ARRIVAL_DELAY'].apply(lambda x:x/60) \n",
        "  rank_airlines['FLIGHTS_VOLUME'] = Flights2.groupby('DESC_AIRLINE')['FLIGHT_NUMBER'].count()\n",
        "  total = rank_airlines['FLIGHTS_VOLUME'].sum()\n",
        "  rank_airlines['FLIGHTS_VOLUME'] = rank_airlines['FLIGHTS_VOLUME'].apply(lambda x:(x/float(total))) \n",
        "  for i in rank_airlines.columns:\n",
        "      a = rank_airlines.RATIO_OP_SCH*rank_airlines.FLIGHT_SPEED*rank_airlines.FLIGHTS_VOLUME\n",
        "      b = rank_airlines.ARRIVAL_DELAY\n",
        "      rank_airlines['SCORE'] = a/(1+b)\n",
        "      rank_airlines.sort_values(['SCORE'],ascending=False,inplace=True)\n",
        "  # for i in range(len(rank_airlines)):print(rank_airlines.index[i])\n",
        "  return rank_airlines['SCORE']\n",
        "recommend('ANC','SEA')"
      ],
      "execution_count": null,
      "outputs": [
        {
          "output_type": "execute_result",
          "data": {
            "text/plain": [
              "DESC_AIRLINE\n",
              "Alaska Airlines Inc.    527.376795\n",
              "Delta Air Lines Inc.    143.598629\n",
              "Name: SCORE, dtype: float64"
            ]
          },
          "metadata": {
            "tags": []
          },
          "execution_count": 180
        }
      ]
    },
    {
      "cell_type": "code",
      "metadata": {
        "colab": {
          "base_uri": "https://localhost:8080/",
          "height": 589
        },
        "id": "UIQSGNSeiuQJ",
        "outputId": "91b58bb9-2ad0-4b21-9702-5e9067fb9c7e"
      },
      "source": [
        "def percentageofdelay(src,dest,airlinesname):\n",
        "  flightsinfo = pd.read_csv(\"drive/My Drive/flights.csv\",nrows=200000)\n",
        "  airport = pd.read_csv('drive/My Drive/airports.csv')\n",
        "  airlines = pd.read_csv('drive/My Drive/airlines.csv')\n",
        "  flights=flightsinfo\n",
        "  Flights1 = flightsinfo\n",
        "  Flights1=flightsinfo.drop(['YEAR','MONTH','DAY','DAY_OF_WEEK','TAIL_NUMBER','DEPARTURE_TIME','WHEELS_OFF','WHEELS_ON','SCHEDULED_ARRIVAL','ARRIVAL_TIME','CANCELLATION_REASON','AIR_SYSTEM_DELAY','SECURITY_DELAY','AIRLINE_DELAY','LATE_AIRCRAFT_DELAY','WEATHER_DELAY'], axis = 1)\n",
        "  # Flights1['Is_Delayed'] = np.where(Flights1['ARRIVAL_DELAY']<=0, 0,1)\n",
        "  Flights1=Flights1.loc[(Flights1['ORIGIN_AIRPORT'] == src)  & (Flights1['DESTINATION_AIRPORT'] == dest)  & (Flights1['AIRLINE'] == airlinesname)]\n",
        "  Flights1['AIRLINE']= le.fit_transform(Flights1['AIRLINE'])\n",
        "  mapping = dict(zip(le.classes_, range(len(le.classes_))))\n",
        "  Flights1['ORIGIN_AIRPORT'] = le.fit_transform(Flights1['ORIGIN_AIRPORT'])\n",
        "  mapping = dict(zip(le.classes_, range(len(le.classes_))))\n",
        "  srcno=mapping[src]\n",
        "  Flights1['DESTINATION_AIRPORT'] = le.fit_transform(Flights1['DESTINATION_AIRPORT'])\n",
        "  Flights1 = Flights1.drop(['ARRIVAL_DELAY'],axis = 1)\n",
        "  X_test=Flights1.drop(['ELAPSED_TIME','DIVERTED','SCHEDULED_DEPARTURE','CANCELLED','FLIGHT_NUMBER','TAXI_IN'], axis = 1)\n",
        "  # return X_test\n",
        "  xgb_from_joblib = joblib.load('drive/My Drive/xgbmodel_new.pkl')   \n",
        "  y_pred=xgb_from_joblib.predict(X_test)\n",
        "  Flights1['Is_Delayed']=y_pred\n",
        "  totalcount=Flights1['Is_Delayed'].count()\n",
        "  delayedcount=Flights1.loc[(Flights1['Is_Delayed'] == 1)]['Is_Delayed'].count()\n",
        "  nodelayedcount=Flights1.loc[(Flights1['Is_Delayed'] == 0)]['Is_Delayed'].count()\n",
        "  axis = plt.subplots(figsize=(10,14))\n",
        "  Name = ['Delayed','Not Delayed']\n",
        "  values = [(delayedcount/totalcount)*100,(nodelayedcount/totalcount)*100]\n",
        "  plt.pie(values,labels=Name,autopct='%5.0f%%')\n",
        "  plt.savefig('drive/My Drive/foo.png')\n",
        "  return plt.show()\n",
        "percentageofdelay('SFO','DFW','UA')"
      ],
      "execution_count": null,
      "outputs": [
        {
          "output_type": "display_data",
          "data": {
            "image/png": "[encoded data removed]",
            "text/plain": [
              "<Figure size 720x1008 with 1 Axes>"
            ]
          },
          "metadata": {
            "tags": []
          }
        }
      ]
    },
    {
      "cell_type": "code",
      "metadata": {
        "id": "Yv3ragJNj7bw",
        "colab": {
          "base_uri": "https://localhost:8080/"
        },
        "outputId": "23c76b99-7235-412d-aa06-d56462888c63"
      },
      "source": [
        "def dornot_result(airlines_name,origin_airport,dest_airport,distance,departure_delay,scheduled_time,airtime,taxi_out):\n",
        "  xgb_from_joblib = joblib.load('drive/My Drive/xgbmodel.pkl')  \n",
        "  data = [[airlines_name,origin_airport,dest_airport,departure_delay,taxi_out,scheduled_time,airtime,distance]]\n",
        "  df_final = pd.DataFrame(data,columns=['AIRLINE','ORIGIN_AIRPORT','DESTINATION_AIRPORT','DEPARTURE_DELAY','TAXI_OUT','SCHEDULED_TIME','AIR_TIME','DISTANCE'])\n",
        "  y_final_val=xgb_from_joblib.predict(df_final)\n",
        "  return y_final_val\n",
        "dornot_result(0,15,265,1448,-11.0,205,169.0,21.0)"
      ],
      "execution_count": null,
      "outputs": [
        {
          "output_type": "execute_result",
          "data": {
            "text/plain": [
              "array([0])"
            ]
          },
          "metadata": {
            "tags": []
          },
          "execution_count": 159
        }
      ]
    },
    {
      "cell_type": "code",
      "metadata": {
        "id": "N0f4ais9whKT",
        "colab": {
          "base_uri": "https://localhost:8080/"
        },
        "outputId": "2f853bb0-dbe1-4e1e-df2d-1e837dba8b45"
      },
      "source": [
        "import datetime, warnings, scipy \n",
        "import pandas as pd\n",
        "import numpy as np\n",
        "import seaborn as sns\n",
        "import matplotlib.pyplot as plt\n",
        "from xgboost import XGBClassifier\n",
        "from sklearn.preprocessing import LabelEncoder\n",
        "import pickle\n",
        "import joblib  \n",
        "flightsinfo = pd.read_csv(\"drive/My Drive/flights.csv\",nrows=200000)\n",
        "airport = pd.read_csv('drive/My Drive/airports.csv')\n",
        "airlines = pd.read_csv('drive/My Drive/airlines.csv')\n",
        "classifierXGB = XGBClassifier(n_estimators=1000)\n",
        "le = LabelEncoder()\n",
        "flights=flightsinfo\n",
        "Flights1 = flightsinfo\n",
        "Flights1=flightsinfo.drop(['YEAR','MONTH','DAY','DAY_OF_WEEK','TAIL_NUMBER','DEPARTURE_TIME','WHEELS_OFF','WHEELS_ON','SCHEDULED_ARRIVAL','ARRIVAL_TIME','CANCELLATION_REASON','AIR_SYSTEM_DELAY','SECURITY_DELAY','AIRLINE_DELAY','LATE_AIRCRAFT_DELAY','WEATHER_DELAY'], axis = 1)\n",
        "Flights1['Is_Delayed'] = np.where(Flights1['ARRIVAL_DELAY']<=0, 0,1)\n",
        "Flights2=Flights1\n",
        "airlines_dict = dict(zip(airlines['IATA_CODE'],airlines['AIRLINE']))\n",
        "airport_dict = dict(zip(airport['IATA_CODE'],airport['AIRPORT']))\n",
        "Flights1 = Flights1.dropna(subset = ['TAXI_IN','ARRIVAL_DELAY'])\n",
        "X= Flights1.drop(['ELAPSED_TIME','DIVERTED','SCHEDULED_DEPARTURE','CANCELLED','FLIGHT_NUMBER','Is_Delayed','TAXI_IN'], axis = 1)\n",
        "Flights1['DESC_AIRLINE'] = flightsinfo['AIRLINE'].apply(lambda x: airlines_dict[x])\n",
        "Flights2['DESC_AIRLINE'] = flightsinfo['AIRLINE'].apply(lambda x: airlines_dict[x])\n",
        "Flights1['Is_Delayed'] = np.where(Flights1['ARRIVAL_DELAY']<=0, 0,1)\n",
        "X['AIRLINE']= le.fit_transform(X['AIRLINE'])\n",
        "mapping = dict(zip(le.classes_, range(len(le.classes_))))\n",
        "X = X.drop(['ARRIVAL_DELAY'],axis = 1)\n",
        "# print(mapping['AS'])\n",
        "X['ORIGIN_AIRPORT'] = le.fit_transform(X['ORIGIN_AIRPORT'])\n",
        "mapping = dict(zip(le.classes_, range(len(le.classes_))))\n",
        "# print(mapping['LAX'])\n",
        "X['DESTINATION_AIRPORT'] = le.fit_transform(X['DESTINATION_AIRPORT'])\n",
        "mapping = dict(zip(le.classes_, range(len(le.classes_))))\n",
        "y = Flights1['Is_Delayed']\n",
        "classifierXGB.fit(X,y)\n",
        "joblib.dump(classifierXGB, 'drive/My Drive/xgbmodel_new.pkl') \n",
        "\n",
        "\n"
      ],
      "execution_count": null,
      "outputs": [
        {
          "output_type": "stream",
          "text": [
            "/usr/local/lib/python3.7/dist-packages/ipykernel_launcher.py:24: SettingWithCopyWarning: \n",
            "A value is trying to be set on a copy of a slice from a DataFrame.\n",
            "Try using .loc[row_indexer,col_indexer] = value instead\n",
            "\n",
            "See the caveats in the documentation: https://pandas.pydata.org/pandas-docs/stable/user_guide/indexing.html#returning-a-view-versus-a-copy\n",
            "/usr/local/lib/python3.7/dist-packages/ipykernel_launcher.py:26: SettingWithCopyWarning: \n",
            "A value is trying to be set on a copy of a slice from a DataFrame.\n",
            "Try using .loc[row_indexer,col_indexer] = value instead\n",
            "\n",
            "See the caveats in the documentation: https://pandas.pydata.org/pandas-docs/stable/user_guide/indexing.html#returning-a-view-versus-a-copy\n"
          ],
          "name": "stderr"
        },
        {
          "output_type": "execute_result",
          "data": {
            "text/plain": [
              "['drive/My Drive/xgbmodel_new.pkl']"
            ]
          },
          "metadata": {
            "tags": []
          },
          "execution_count": 173
        }
      ]
    },
    {
      "cell_type": "code",
      "metadata": {
        "id": "W3_ypH6AoIaN"
      },
      "source": [
        ""
      ],
      "execution_count": null,
      "outputs": []
    }
  ]
}